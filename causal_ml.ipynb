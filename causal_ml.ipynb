{
 "cells": [
  {
   "cell_type": "code",
   "execution_count": 1,
   "metadata": {
    "colab": {
     "base_uri": "https://localhost:8080/"
    },
    "id": "tT7wkV2O1KZL",
    "outputId": "d71f3007-5a7b-49e4-b094-c612c71993c9"
   },
   "outputs": [
    {
     "name": "stdout",
     "output_type": "stream",
     "text": [
      "Collecting recommenders\n",
      "  Downloading recommenders-1.1.1-py3-none-any.whl (339 kB)\n",
      "\u001b[K     |████████████████████████████████| 339 kB 2.5 MB/s eta 0:00:01\n",
      "\u001b[?25hCollecting nltk<4,>=3.4\n",
      "  Using cached nltk-3.7-py3-none-any.whl (1.5 MB)\n",
      "Requirement already satisfied: numpy>=1.19 in /Users/zeba/opt/anaconda3/envs/dl_env/lib/python3.8/site-packages (from recommenders) (1.21.4)\n",
      "Collecting transformers<5,>=2.5.0\n",
      "  Downloading transformers-4.25.1-py3-none-any.whl (5.8 MB)\n",
      "\u001b[K     |████████████████████████████████| 5.8 MB 14.8 MB/s eta 0:00:01\n",
      "\u001b[?25hCollecting pyyaml<6,>=5.4.1\n",
      "  Downloading PyYAML-5.4.1-cp38-cp38-macosx_10_9_x86_64.whl (253 kB)\n",
      "\u001b[K     |████████████████████████████████| 253 kB 47.6 MB/s eta 0:00:01\n",
      "\u001b[?25hRequirement already satisfied: seaborn<1,>=0.8.1 in /Users/zeba/opt/anaconda3/envs/dl_env/lib/python3.8/site-packages (from recommenders) (0.11.2)\n",
      "Collecting scikit-surprise>=1.0.6\n",
      "  Downloading scikit-surprise-1.1.3.tar.gz (771 kB)\n",
      "\u001b[K     |████████████████████████████████| 771 kB 22.2 MB/s eta 0:00:01\n",
      "\u001b[?25hCollecting cornac<2,>=1.1.2\n",
      "  Downloading cornac-1.14.2-cp38-cp38-macosx_10_14_x86_64.whl (3.0 MB)\n",
      "\u001b[K     |████████████████████████████████| 3.0 MB 116 kB/s eta 0:00:01\n",
      "\u001b[?25hRequirement already satisfied: tqdm<5,>=4.31.1 in /Users/zeba/opt/anaconda3/envs/dl_env/lib/python3.8/site-packages (from recommenders) (4.64.0)\n",
      "Requirement already satisfied: scipy<2,>=1.0.0 in /Users/zeba/opt/anaconda3/envs/dl_env/lib/python3.8/site-packages (from recommenders) (1.7.3)\n",
      "Collecting pandera[strategies]>=0.6.5\n",
      "  Downloading pandera-0.13.4-py3-none-any.whl (122 kB)\n",
      "\u001b[K     |████████████████████████████████| 122 kB 31.0 MB/s eta 0:00:01\n",
      "\u001b[?25hCollecting lightfm<2,>=1.15\n",
      "  Downloading lightfm-1.16.tar.gz (310 kB)\n",
      "\u001b[K     |████████████████████████████████| 310 kB 27.9 MB/s eta 0:00:01\n",
      "\u001b[?25hRequirement already satisfied: jinja2<3.1,>=2 in /Users/zeba/opt/anaconda3/envs/dl_env/lib/python3.8/site-packages (from recommenders) (3.0.3)\n",
      "Requirement already satisfied: matplotlib<4,>=2.2.2 in /Users/zeba/opt/anaconda3/envs/dl_env/lib/python3.8/site-packages (from recommenders) (3.5.1)\n",
      "Collecting numba<1,>=0.38.1\n",
      "  Downloading numba-0.56.4-cp38-cp38-macosx_10_14_x86_64.whl (2.4 MB)\n",
      "\u001b[K     |████████████████████████████████| 2.4 MB 58.4 MB/s eta 0:00:01\n",
      "\u001b[?25hCollecting lightgbm>=2.2.1\n",
      "  Downloading lightgbm-3.3.3-py3-none-macosx_10_15_x86_64.macosx_11_6_x86_64.macosx_12_0_x86_64.whl (1.3 MB)\n",
      "\u001b[K     |████████████████████████████████| 1.3 MB 20.7 MB/s eta 0:00:01\n",
      "\u001b[?25hCollecting category-encoders<2,>=1.3.0\n",
      "  Downloading category_encoders-1.3.0-py2.py3-none-any.whl (61 kB)\n",
      "\u001b[K     |████████████████████████████████| 61 kB 6.2 MB/s  eta 0:00:01\n",
      "\u001b[?25hRequirement already satisfied: scikit-learn<1.0.3,>=0.22.1 in /Users/zeba/opt/anaconda3/envs/dl_env/lib/python3.8/site-packages (from recommenders) (1.0.2)\n",
      "Requirement already satisfied: pandas<2,>1.0.3 in /Users/zeba/opt/anaconda3/envs/dl_env/lib/python3.8/site-packages (from recommenders) (1.4.3)\n",
      "Collecting retrying>=1.3.3\n",
      "  Downloading retrying-1.3.4-py3-none-any.whl (11 kB)\n",
      "Requirement already satisfied: requests<3,>=2.0.0 in /Users/zeba/opt/anaconda3/envs/dl_env/lib/python3.8/site-packages (from recommenders) (2.28.1)\n",
      "Collecting bottleneck<2,>=1.2.1\n",
      "  Downloading Bottleneck-1.3.5-cp38-cp38-macosx_10_9_x86_64.whl (118 kB)\n",
      "\u001b[K     |████████████████████████████████| 118 kB 26.2 MB/s eta 0:00:01\n",
      "\u001b[?25hCollecting memory-profiler<1,>=0.54.0\n",
      "  Downloading memory_profiler-0.61.0-py3-none-any.whl (31 kB)\n",
      "Collecting statsmodels>=0.6.1\n",
      "  Downloading statsmodels-0.13.5-cp38-cp38-macosx_10_9_x86_64.whl (9.6 MB)\n",
      "\u001b[K     |████████████████████████████████| 9.6 MB 70.9 MB/s eta 0:00:01\n",
      "\u001b[?25hCollecting patsy>=0.4.1\n",
      "  Downloading patsy-0.5.3-py2.py3-none-any.whl (233 kB)\n",
      "\u001b[K     |████████████████████████████████| 233 kB 22.6 MB/s eta 0:00:01\n",
      "\u001b[?25hCollecting powerlaw\n",
      "  Downloading powerlaw-1.5-py3-none-any.whl (24 kB)\n",
      "Requirement already satisfied: MarkupSafe>=2.0 in /Users/zeba/opt/anaconda3/envs/dl_env/lib/python3.8/site-packages (from jinja2<3.1,>=2->recommenders) (2.0.1)\n",
      "Requirement already satisfied: wheel in /Users/zeba/opt/anaconda3/envs/dl_env/lib/python3.8/site-packages (from lightgbm>=2.2.1->recommenders) (0.37.0)\n",
      "Requirement already satisfied: pillow>=6.2.0 in /Users/zeba/opt/anaconda3/envs/dl_env/lib/python3.8/site-packages (from matplotlib<4,>=2.2.2->recommenders) (8.4.0)\n",
      "Requirement already satisfied: python-dateutil>=2.7 in /Users/zeba/opt/anaconda3/envs/dl_env/lib/python3.8/site-packages (from matplotlib<4,>=2.2.2->recommenders) (2.8.2)\n",
      "Requirement already satisfied: cycler>=0.10 in /Users/zeba/opt/anaconda3/envs/dl_env/lib/python3.8/site-packages (from matplotlib<4,>=2.2.2->recommenders) (0.11.0)\n",
      "Requirement already satisfied: kiwisolver>=1.0.1 in /Users/zeba/opt/anaconda3/envs/dl_env/lib/python3.8/site-packages (from matplotlib<4,>=2.2.2->recommenders) (1.3.2)\n",
      "Requirement already satisfied: pyparsing>=2.2.1 in /Users/zeba/opt/anaconda3/envs/dl_env/lib/python3.8/site-packages (from matplotlib<4,>=2.2.2->recommenders) (3.0.6)\n",
      "Requirement already satisfied: packaging>=20.0 in /Users/zeba/opt/anaconda3/envs/dl_env/lib/python3.8/site-packages (from matplotlib<4,>=2.2.2->recommenders) (21.3)\n",
      "Requirement already satisfied: fonttools>=4.22.0 in /Users/zeba/opt/anaconda3/envs/dl_env/lib/python3.8/site-packages (from matplotlib<4,>=2.2.2->recommenders) (4.28.5)\n",
      "Collecting psutil\n",
      "  Downloading psutil-5.9.4-cp36-abi3-macosx_10_9_x86_64.whl (243 kB)\n",
      "\u001b[K     |████████████████████████████████| 243 kB 26.4 MB/s eta 0:00:01\n",
      "\u001b[?25hRequirement already satisfied: joblib in /Users/zeba/opt/anaconda3/envs/dl_env/lib/python3.8/site-packages (from nltk<4,>=3.4->recommenders) (1.1.0)\n",
      "Collecting click\n",
      "  Using cached click-8.1.3-py3-none-any.whl (96 kB)\n",
      "Collecting regex>=2021.8.3\n",
      "  Using cached regex-2022.10.31-cp38-cp38-macosx_10_9_x86_64.whl (294 kB)\n",
      "Collecting llvmlite<0.40,>=0.39.0dev0\n",
      "  Downloading llvmlite-0.39.1-cp38-cp38-macosx_10_9_x86_64.whl (25.5 MB)\n",
      "\u001b[K     |████████████████████████████████| 25.5 MB 70.2 MB/s eta 0:00:01\n",
      "\u001b[?25hRequirement already satisfied: setuptools in /Users/zeba/opt/anaconda3/envs/dl_env/lib/python3.8/site-packages (from numba<1,>=0.38.1->recommenders) (58.0.4)\n",
      "Requirement already satisfied: importlib-metadata in /Users/zeba/opt/anaconda3/envs/dl_env/lib/python3.8/site-packages (from numba<1,>=0.38.1->recommenders) (4.12.0)\n",
      "Requirement already satisfied: pytz>=2020.1 in /Users/zeba/opt/anaconda3/envs/dl_env/lib/python3.8/site-packages (from pandas<2,>1.0.3->recommenders) (2022.1)\n",
      "Collecting wrapt\n",
      "  Downloading wrapt-1.14.1-cp38-cp38-macosx_10_9_x86_64.whl (35 kB)\n",
      "Collecting pydantic\n",
      "  Downloading pydantic-1.10.2-cp38-cp38-macosx_10_9_x86_64.whl (3.1 MB)\n",
      "\u001b[K     |████████████████████████████████| 3.1 MB 27.9 MB/s eta 0:00:01\n",
      "\u001b[?25hCollecting typing-inspect>=0.6.0\n",
      "  Downloading typing_inspect-0.8.0-py3-none-any.whl (8.7 kB)\n",
      "Collecting hypothesis>=5.41.1\n",
      "  Downloading hypothesis-6.60.0-py3-none-any.whl (398 kB)\n",
      "\u001b[K     |████████████████████████████████| 398 kB 57.5 MB/s eta 0:00:01\n",
      "\u001b[?25hRequirement already satisfied: attrs>=19.2.0 in /Users/zeba/opt/anaconda3/envs/dl_env/lib/python3.8/site-packages (from hypothesis>=5.41.1->pandera[strategies]>=0.6.5->recommenders) (21.2.0)\n",
      "Collecting sortedcontainers<3.0.0,>=2.1.0\n",
      "  Downloading sortedcontainers-2.4.0-py2.py3-none-any.whl (29 kB)\n",
      "Collecting exceptiongroup>=1.0.0\n",
      "  Downloading exceptiongroup-1.0.4-py3-none-any.whl (14 kB)\n",
      "Requirement already satisfied: six in /Users/zeba/opt/anaconda3/envs/dl_env/lib/python3.8/site-packages (from patsy>=0.4.1->category-encoders<2,>=1.3.0->recommenders) (1.16.0)\n",
      "Requirement already satisfied: certifi>=2017.4.17 in /Users/zeba/opt/anaconda3/envs/dl_env/lib/python3.8/site-packages (from requests<3,>=2.0.0->recommenders) (2021.10.8)\n",
      "Requirement already satisfied: urllib3<1.27,>=1.21.1 in /Users/zeba/opt/anaconda3/envs/dl_env/lib/python3.8/site-packages (from requests<3,>=2.0.0->recommenders) (1.26.9)\n",
      "Requirement already satisfied: charset-normalizer<3,>=2 in /Users/zeba/opt/anaconda3/envs/dl_env/lib/python3.8/site-packages (from requests<3,>=2.0.0->recommenders) (2.1.0)\n",
      "Requirement already satisfied: idna<4,>=2.5 in /Users/zeba/opt/anaconda3/envs/dl_env/lib/python3.8/site-packages (from requests<3,>=2.0.0->recommenders) (3.3)\n"
     ]
    },
    {
     "name": "stdout",
     "output_type": "stream",
     "text": [
      "Requirement already satisfied: threadpoolctl>=2.0.0 in /Users/zeba/opt/anaconda3/envs/dl_env/lib/python3.8/site-packages (from scikit-learn<1.0.3,>=0.22.1->recommenders) (3.0.0)\n",
      "Collecting tokenizers!=0.11.3,<0.14,>=0.11.1\n",
      "  Downloading tokenizers-0.13.2-cp38-cp38-macosx_10_11_x86_64.whl (3.8 MB)\n",
      "\u001b[K     |████████████████████████████████| 3.8 MB 62.9 MB/s eta 0:00:01\n",
      "\u001b[?25hCollecting huggingface-hub<1.0,>=0.10.0\n",
      "  Downloading huggingface_hub-0.11.1-py3-none-any.whl (182 kB)\n",
      "\u001b[K     |████████████████████████████████| 182 kB 1.1 MB/s eta 0:00:01\n",
      "\u001b[?25hCollecting filelock\n",
      "  Downloading filelock-3.8.2-py3-none-any.whl (10 kB)\n",
      "Requirement already satisfied: typing-extensions>=3.7.4.3 in /Users/zeba/opt/anaconda3/envs/dl_env/lib/python3.8/site-packages (from huggingface-hub<1.0,>=0.10.0->transformers<5,>=2.5.0->recommenders) (4.0.0)\n",
      "Collecting mypy-extensions>=0.3.0\n",
      "  Using cached mypy_extensions-0.4.3-py2.py3-none-any.whl (4.5 kB)\n",
      "Requirement already satisfied: zipp>=0.5 in /Users/zeba/opt/anaconda3/envs/dl_env/lib/python3.8/site-packages (from importlib-metadata->numba<1,>=0.38.1->recommenders) (3.6.0)\n",
      "Collecting mpmath\n",
      "  Downloading mpmath-1.2.1-py3-none-any.whl (532 kB)\n",
      "\u001b[K     |████████████████████████████████| 532 kB 36.1 MB/s eta 0:00:01\n",
      "\u001b[?25hCollecting typing-extensions>=3.7.4.3\n",
      "  Using cached typing_extensions-4.4.0-py3-none-any.whl (26 kB)\n",
      "Building wheels for collected packages: lightfm, scikit-surprise\n",
      "  Building wheel for lightfm (setup.py) ... \u001b[?25ldone\n",
      "\u001b[?25h  Created wheel for lightfm: filename=lightfm-1.16-cp38-cp38-macosx_10_9_x86_64.whl size=446310 sha256=03910d0f07dbba4f5ec2e50083a1fd24014c13d4f0e5fe2fbc061df629215332\n",
      "  Stored in directory: /Users/zeba/Library/Caches/pip/wheels/ec/bb/51/9c487d021c1373b691d13cadca0b65b6852627b1f3f43550fa\n",
      "  Building wheel for scikit-surprise (setup.py) ... \u001b[?25ldone\n",
      "\u001b[?25h  Created wheel for scikit-surprise: filename=scikit_surprise-1.1.3-cp38-cp38-macosx_10_9_x86_64.whl size=1180300 sha256=850ff5ee74a293a874f797ab14e0d26b62f70e76b9b25080fe9015540ce4f53d\n",
      "  Stored in directory: /Users/zeba/Library/Caches/pip/wheels/af/db/86/2c18183a80ba05da35bf0fb7417aac5cddbd93bcb1b92fd3ea\n",
      "Successfully built lightfm scikit-surprise\n",
      "Installing collected packages: typing-extensions, mypy-extensions, wrapt, typing-inspect, sortedcontainers, pyyaml, pydantic, patsy, mpmath, filelock, exceptiongroup, tokenizers, statsmodels, regex, psutil, powerlaw, pandera, llvmlite, hypothesis, huggingface-hub, click, transformers, scikit-surprise, retrying, numba, nltk, memory-profiler, lightgbm, lightfm, cornac, category-encoders, bottleneck, recommenders\n",
      "  Attempting uninstall: typing-extensions\n",
      "    Found existing installation: typing-extensions 4.0.0\n",
      "    Uninstalling typing-extensions-4.0.0:\n",
      "      Successfully uninstalled typing-extensions-4.0.0\n",
      "Successfully installed bottleneck-1.3.5 category-encoders-1.3.0 click-8.1.3 cornac-1.14.2 exceptiongroup-1.0.4 filelock-3.8.2 huggingface-hub-0.11.1 hypothesis-6.60.0 lightfm-1.16 lightgbm-3.3.3 llvmlite-0.39.1 memory-profiler-0.61.0 mpmath-1.2.1 mypy-extensions-0.4.3 nltk-3.7 numba-0.56.4 pandera-0.13.4 patsy-0.5.3 powerlaw-1.5 psutil-5.9.4 pydantic-1.10.2 pyyaml-5.4.1 recommenders-1.1.1 regex-2022.10.31 retrying-1.3.4 scikit-surprise-1.1.3 sortedcontainers-2.4.0 statsmodels-0.13.5 tokenizers-0.13.2 transformers-4.25.1 typing-extensions-4.4.0 typing-inspect-0.8.0 wrapt-1.14.1\n"
     ]
    }
   ],
   "source": [
    "!pip install recommenders"
   ]
  },
  {
   "cell_type": "code",
   "execution_count": 2,
   "metadata": {
    "id": "LqVXO52J3kKe"
   },
   "outputs": [],
   "source": [
    "import os\n",
    "\n",
    "from recommenders.models.newsrec.newsrec_utils import get_mind_data_set\n",
    "from recommenders.models.deeprec.deeprec_utils import download_deeprec_resources\n",
    "from tempfile import TemporaryDirectory"
   ]
  },
  {
   "cell_type": "code",
   "execution_count": 3,
   "metadata": {
    "id": "eDw4wtRv8v5z"
   },
   "outputs": [],
   "source": [
    "MIND_VERSION = 'demo'"
   ]
  },
  {
   "cell_type": "code",
   "execution_count": 4,
   "metadata": {
    "id": "bqUuFTLa6Oom"
   },
   "outputs": [],
   "source": [
    "mind_url, mind_train_dataset, mind_dev_dataset, mind_utils = get_mind_data_set(MIND_VERSION)"
   ]
  },
  {
   "cell_type": "code",
   "execution_count": 5,
   "metadata": {
    "colab": {
     "base_uri": "https://localhost:8080/"
    },
    "id": "RCbeZO6c7Gzx",
    "outputId": "a9c56d70-949f-4742-8457-b991c50ca24d"
   },
   "outputs": [
    {
     "name": "stderr",
     "output_type": "stream",
     "text": [
      "100%|█████████████████████████████████████| 17.0k/17.0k [00:10<00:00, 1.67kKB/s]\n",
      "100%|█████████████████████████████████████| 9.84k/9.84k [00:03<00:00, 2.65kKB/s]\n"
     ]
    }
   ],
   "source": [
    "tmpdir = TemporaryDirectory()\n",
    "data_path = tmpdir.name\n",
    "\n",
    "train_news_file = os.path.join(data_path, 'train', r'news.tsv')\n",
    "train_behaviors_file = os.path.join(data_path, 'train', r'behaviors.tsv')\n",
    "\n",
    "valid_news_file = os.path.join(data_path, 'valid', r'news.tsv')\n",
    "valid_behaviors_file = os.path.join(data_path, 'valid', r'behaviors.tsv')\n",
    "\n",
    "if not os.path.exists(train_news_file):\n",
    "    download_deeprec_resources(mind_url, os.path.join(data_path, 'train'), mind_train_dataset)\n",
    "    \n",
    "if not os.path.exists(valid_news_file):\n",
    "    download_deeprec_resources(mind_url, \\\n",
    "                               os.path.join(data_path, 'valid'), mind_dev_dataset)"
   ]
  },
  {
   "cell_type": "code",
   "execution_count": 7,
   "metadata": {
    "id": "M-vfEiWo9yvP"
   },
   "outputs": [],
   "source": [
    "import pandas as pd\n",
    "\n",
    "behaviors_col_names = ['ImpressionID', 'UserID', 'Time', 'History', 'Impressions']\n",
    "\n",
    "train_data = pd.read_table(train_behaviors_file, header=None, names=behaviors_col_names)\n",
    "valid_data = pd.read_table(valid_behaviors_file, header=None, names=behaviors_col_names)\n",
    "\n",
    "def data_to_recommended_and_selected(dataframe: pd.DataFrame, user_col: str = 'UserID', interactions_col: str = 'Impressions'):\n",
    "    data = list()\n",
    "    items = set()\n",
    "    for user, user_interactions in zip(dataframe[user_col].values, dataframe[interactions_col].values):\n",
    "        \n",
    "        # Interações são da forma noticia_id-clicado, exemplo: N23699-0 N21291-0 N1901-1 N27292-0 N17443-0\n",
    "\n",
    "        R = [interaction.split('-')[0] for interaction in user_interactions.split()] \n",
    "        S = [interaction.split('-')[0] for interaction in user_interactions.split() if interaction[-1] == '1']\n",
    "        \n",
    "        items.update(R)\n",
    "\n",
    "        data.append((user, ' '.join(R), ' '.join(S)))\n",
    "\n",
    "    return pd.DataFrame(data, columns=['UserID', 'R', 'S']), items\n",
    "\n",
    "train_data, train_items = data_to_recommended_and_selected(train_data)\n",
    "valid_data, valid_items = data_to_recommended_and_selected(valid_data)"
   ]
  },
  {
   "cell_type": "code",
   "execution_count": 8,
   "metadata": {
    "colab": {
     "base_uri": "https://localhost:8080/",
     "height": 424
    },
    "id": "t09cL0DkCdsP",
    "outputId": "e2d04188-7325-4d80-a7c7-58b36a25da58"
   },
   "outputs": [
    {
     "data": {
      "text/html": [
       "<div>\n",
       "<style scoped>\n",
       "    .dataframe tbody tr th:only-of-type {\n",
       "        vertical-align: middle;\n",
       "    }\n",
       "\n",
       "    .dataframe tbody tr th {\n",
       "        vertical-align: top;\n",
       "    }\n",
       "\n",
       "    .dataframe thead th {\n",
       "        text-align: right;\n",
       "    }\n",
       "</style>\n",
       "<table border=\"1\" class=\"dataframe\">\n",
       "  <thead>\n",
       "    <tr style=\"text-align: right;\">\n",
       "      <th></th>\n",
       "      <th>UserID</th>\n",
       "      <th>R</th>\n",
       "      <th>S</th>\n",
       "    </tr>\n",
       "  </thead>\n",
       "  <tbody>\n",
       "    <tr>\n",
       "      <th>0</th>\n",
       "      <td>U82271</td>\n",
       "      <td>N13390 N7180 N20785 N6937 N15776 N25810 N20820...</td>\n",
       "      <td>N15368</td>\n",
       "    </tr>\n",
       "    <tr>\n",
       "      <th>1</th>\n",
       "      <td>U84185</td>\n",
       "      <td>N13089 N18101 N1248 N26273 N12770 N1132 N13649</td>\n",
       "      <td>N12770</td>\n",
       "    </tr>\n",
       "    <tr>\n",
       "      <th>2</th>\n",
       "      <td>U11552</td>\n",
       "      <td>N18390 N10537 N23967</td>\n",
       "      <td>N23967</td>\n",
       "    </tr>\n",
       "    <tr>\n",
       "      <th>3</th>\n",
       "      <td>U68381</td>\n",
       "      <td>N15660 N18609 N2831 N5677 N19010 N1502 N19215 ...</td>\n",
       "      <td>N18390</td>\n",
       "    </tr>\n",
       "    <tr>\n",
       "      <th>4</th>\n",
       "      <td>U52303</td>\n",
       "      <td>N15645 N7911</td>\n",
       "      <td>N7911</td>\n",
       "    </tr>\n",
       "    <tr>\n",
       "      <th>...</th>\n",
       "      <td>...</td>\n",
       "      <td>...</td>\n",
       "      <td>...</td>\n",
       "    </tr>\n",
       "    <tr>\n",
       "      <th>22029</th>\n",
       "      <td>U69508</td>\n",
       "      <td>N16297 N15645 N20630 N10602 N27294 N24649 N129...</td>\n",
       "      <td>N9916</td>\n",
       "    </tr>\n",
       "    <tr>\n",
       "      <th>22030</th>\n",
       "      <td>U79085</td>\n",
       "      <td>N27355 N9809 N20882 N8787 N25926 N3864 N15163 ...</td>\n",
       "      <td>N13282</td>\n",
       "    </tr>\n",
       "    <tr>\n",
       "      <th>22031</th>\n",
       "      <td>U46989</td>\n",
       "      <td>N13316 N23592 N10240 N1994 N26998 N17157 N1324...</td>\n",
       "      <td>N13247</td>\n",
       "    </tr>\n",
       "    <tr>\n",
       "      <th>22032</th>\n",
       "      <td>U49050</td>\n",
       "      <td>N23982 N17424 N17157 N4324 N22216 N14332 N6221...</td>\n",
       "      <td>N13557 N7050 N18892</td>\n",
       "    </tr>\n",
       "    <tr>\n",
       "      <th>22033</th>\n",
       "      <td>U6774</td>\n",
       "      <td>N5109 N7452 N13064 N26428 N22785 N23921 N27197...</td>\n",
       "      <td>N4326</td>\n",
       "    </tr>\n",
       "  </tbody>\n",
       "</table>\n",
       "<p>22034 rows × 3 columns</p>\n",
       "</div>"
      ],
      "text/plain": [
       "       UserID                                                  R  \\\n",
       "0      U82271  N13390 N7180 N20785 N6937 N15776 N25810 N20820...   \n",
       "1      U84185     N13089 N18101 N1248 N26273 N12770 N1132 N13649   \n",
       "2      U11552                               N18390 N10537 N23967   \n",
       "3      U68381  N15660 N18609 N2831 N5677 N19010 N1502 N19215 ...   \n",
       "4      U52303                                       N15645 N7911   \n",
       "...       ...                                                ...   \n",
       "22029  U69508  N16297 N15645 N20630 N10602 N27294 N24649 N129...   \n",
       "22030  U79085  N27355 N9809 N20882 N8787 N25926 N3864 N15163 ...   \n",
       "22031  U46989  N13316 N23592 N10240 N1994 N26998 N17157 N1324...   \n",
       "22032  U49050  N23982 N17424 N17157 N4324 N22216 N14332 N6221...   \n",
       "22033   U6774  N5109 N7452 N13064 N26428 N22785 N23921 N27197...   \n",
       "\n",
       "                         S  \n",
       "0                   N15368  \n",
       "1                   N12770  \n",
       "2                   N23967  \n",
       "3                   N18390  \n",
       "4                    N7911  \n",
       "...                    ...  \n",
       "22029                N9916  \n",
       "22030               N13282  \n",
       "22031               N13247  \n",
       "22032  N13557 N7050 N18892  \n",
       "22033                N4326  \n",
       "\n",
       "[22034 rows x 3 columns]"
      ]
     },
     "execution_count": 8,
     "metadata": {},
     "output_type": "execute_result"
    }
   ],
   "source": [
    "train_data"
   ]
  },
  {
   "cell_type": "markdown",
   "metadata": {},
   "source": [
    "# MIND Small"
   ]
  },
  {
   "cell_type": "code",
   "execution_count": null,
   "metadata": {},
   "outputs": [],
   "source": [
    "import pandas as pd\n"
   ]
  },
  {
   "cell_type": "code",
   "execution_count": 26,
   "metadata": {},
   "outputs": [],
   "source": [
    "data_path = '../MIND-small'\n",
    "\n",
    "train_news_file = os.path.join(data_path, 'train', r'news.tsv')\n",
    "train_behaviors_file = os.path.join(data_path, 'train', r'behaviors.tsv')\n",
    "\n",
    "valid_news_file = os.path.join(data_path, 'dev', r'news.tsv')\n",
    "valid_behaviors_file = os.path.join(data_path, 'dev', r'behaviors.tsv')"
   ]
  },
  {
   "cell_type": "code",
   "execution_count": 27,
   "metadata": {},
   "outputs": [],
   "source": [
    "behaviors_col_names = ['ImpressionID', 'UserID', 'Time', 'History', 'Impressions']\n",
    "\n",
    "train_data = pd.read_table(train_behaviors_file, header=None, names=behaviors_col_names)\n",
    "valid_data = pd.read_table(valid_behaviors_file, header=None, names=behaviors_col_names)\n",
    "\n",
    "def data_to_recommended_and_selected(dataframe: pd.DataFrame, user_col: str = 'UserID', interactions_col: str = 'Impressions'):\n",
    "    data = list()\n",
    "    items = set()\n",
    "    for user, user_interactions in zip(dataframe[user_col].values, dataframe[interactions_col].values):\n",
    "        \n",
    "        # Interações são da forma noticia_id-clicado, exemplo: N23699-0 N21291-0 N1901-1 N27292-0 N17443-0\n",
    "\n",
    "        R = [interaction.split('-')[0] for interaction in user_interactions.split()] \n",
    "        S = [interaction.split('-')[0] for interaction in user_interactions.split() if interaction[-1] == '1']\n",
    "        \n",
    "        items.update(R)\n",
    "\n",
    "        data.append((user, ' '.join(R), ' '.join(S)))\n",
    "\n",
    "    return pd.DataFrame(data, columns=['UserID', 'R', 'S']), items\n",
    "\n",
    "train_data, train_items = data_to_recommended_and_selected(train_data)\n",
    "valid_data, valid_items = data_to_recommended_and_selected(valid_data)"
   ]
  },
  {
   "cell_type": "code",
   "execution_count": 43,
   "metadata": {},
   "outputs": [
    {
     "data": {
      "text/plain": [
       "<AxesSubplot:ylabel='Frequency'>"
      ]
     },
     "execution_count": 43,
     "metadata": {},
     "output_type": "execute_result"
    },
    {
     "data": {
      "image/png": "[encoded data removed]",
      "text/plain": [
       "<Figure size 432x288 with 1 Axes>"
      ]
     },
     "metadata": {
      "needs_background": "light"
     },
     "output_type": "display_data"
    }
   ],
   "source": [
    "train_data['R'].apply(lambda x: len(x.split(' '))).plot.hist(bins=100)"
   ]
  },
  {
   "cell_type": "code",
   "execution_count": 52,
   "metadata": {},
   "outputs": [
    {
     "data": {
      "text/plain": [
       "<AxesSubplot:ylabel='Frequency'>"
      ]
     },
     "execution_count": 52,
     "metadata": {},
     "output_type": "execute_result"
    },
    {
     "data": {
      "image/png": "[encoded data removed]",
      "text/plain": [
       "<Figure size 432x288 with 1 Axes>"
      ]
     },
     "metadata": {
      "needs_background": "light"
     },
     "output_type": "display_data"
    }
   ],
   "source": [
    "tst_s = train_data['R'].apply(lambda x: len(x.split(' ')))\n",
    "tst_s[tst_s <= 10].plot.hist()"
   ]
  },
  {
   "cell_type": "code",
   "execution_count": 41,
   "metadata": {},
   "outputs": [
    {
     "data": {
      "text/plain": [
       "<AxesSubplot:ylabel='Frequency'>"
      ]
     },
     "execution_count": 41,
     "metadata": {},
     "output_type": "execute_result"
    },
    {
     "data": {
      "image/png": "[encoded data removed]",
      "text/plain": [
       "<Figure size 432x288 with 1 Axes>"
      ]
     },
     "metadata": {
      "needs_background": "light"
     },
     "output_type": "display_data"
    }
   ],
   "source": [
    "train_data['S'].apply(lambda x: len(x.split(' '))).plot.hist(bins=50)"
   ]
  },
  {
   "cell_type": "code",
   "execution_count": 42,
   "metadata": {},
   "outputs": [
    {
     "data": {
      "text/plain": [
       "count    149116.000000\n",
       "mean          1.506827\n",
       "std           1.153562\n",
       "min           1.000000\n",
       "25%           1.000000\n",
       "50%           1.000000\n",
       "75%           2.000000\n",
       "max          35.000000\n",
       "Name: S, dtype: float64"
      ]
     },
     "execution_count": 42,
     "metadata": {},
     "output_type": "execute_result"
    }
   ],
   "source": [
    "train_data['S'].apply(lambda x: len(x.split(' '))).describe()"
   ]
  },
  {
   "cell_type": "code",
   "execution_count": null,
   "metadata": {},
   "outputs": [],
   "source": [
    "def reduce_imp_logs(df, R_len):\n",
    "    \"\"\"\n",
    "    Pega um dataset com colunas: ['UserID', 'R', 'S']\n",
    "    E reduz para que R contenha no máximo R_len itens, contendo os \n",
    "    itens escolhidos em S.\n",
    "    \"\"\"\n",
    "    "
   ]
  },
  {
   "cell_type": "code",
   "execution_count": 44,
   "metadata": {},
   "outputs": [
    {
     "data": {
      "text/plain": [
       "Index(['UserID', 'R', 'S'], dtype='object')"
      ]
     },
     "execution_count": 44,
     "metadata": {},
     "output_type": "execute_result"
    }
   ],
   "source": [
    "train_data.columns"
   ]
  },
  {
   "cell_type": "markdown",
   "metadata": {
    "id": "nka72RoX8w2Z"
   },
   "source": [
    "# $P_S$\n",
    "- Criar o modelo pytorch\n",
    "- Entender como computar a função de perda e treinar\n",
    "\n",
    "Talvez usar máscara para dizer quais elementos estão em R e S.\n",
    "\n",
    "Camada de embedding:\n",
    "- Transformar itens e usuários em indices inteiros.\n",
    "\n",
    "\n",
    "Loss:\n",
    "- Entrada: \n",
    "    - batch com saídas da rede\n",
    "    - Mascara target => indica quais elementos de K estão na mascara.\n",
    "- Reduce => media => é a nivel de batch\n",
    "- Produto interno saída x mascara e soma.\n",
    "\n",
    "\n",
    "Possíveis jeitos de passar as entradas:\n",
    "- 1:\n",
    "    - X: NxK: \n",
    "    - y: NxK: mascara. 1 se item foi escolhido e 0 cc.\n",
    "- 2:\n",
    "    - Dataset cospe dicionarios {u, r, s} ou tuplas (u, r, s)\n",
    "    - collate_fn junta essas entradas em um tensor com padding.\n",
    "\n",
    "\n",
    "Tomar cuidado para não maximizar uma função que é de minimizar ou o contrário.\n",
    "\n",
    "\n",
    "Checar tamanho de K\n"
   ]
  },
  {
   "cell_type": "code",
   "execution_count": 11,
   "metadata": {
    "id": "4B2wBzkT-IOn"
   },
   "outputs": [
    {
     "name": "stderr",
     "output_type": "stream",
     "text": [
      "/Users/zeba/opt/anaconda3/envs/dl_env/lib/python3.8/site-packages/tqdm/auto.py:22: TqdmWarning: IProgress not found. Please update jupyter and ipywidgets. See https://ipywidgets.readthedocs.io/en/stable/user_install.html\n",
      "  from .autonotebook import tqdm as notebook_tqdm\n"
     ]
    }
   ],
   "source": [
    "import torch\n",
    "import torch.nn as nn\n",
    "import torch.nn.functional as F\n",
    "\n",
    "from torch.utils.data import Dataset, DataLoader"
   ]
  },
  {
   "cell_type": "code",
   "execution_count": 61,
   "metadata": {
    "id": "_GSuBtEHIZBP"
   },
   "outputs": [],
   "source": [
    "class MIND_dataset(Dataset):\n",
    "    def gen_code_dict(self, code_l):\n",
    "        code_d = {}\n",
    "        i = 1 # 0 eh PADDING\n",
    "        for code in set(code_l):\n",
    "            code_d[code] = i\n",
    "            i += 1\n",
    "        return code_d\n",
    "\n",
    "    def get_picked_inds(self, r, s):\n",
    "        ind_l = []\n",
    "        for picked_i in s:\n",
    "            for ind, i in enumerate(r):\n",
    "                if i == picked_i:\n",
    "                    ind_l.append(ind)\n",
    "                    break\n",
    "        return ind_l\n",
    "\n",
    "\n",
    "    def __init__(self, df):\n",
    "        super().__init__()\n",
    "        # Transformar os codigos de item e usuario em indices inteiros. 0 eh PADDING\n",
    "        self.user_d = self.gen_code_dict(list(df['UserID'].unique()))\n",
    "        self.item_d = self.gen_code_dict(\" \".join(df['R']).split(\" \"))\n",
    "\n",
    "        self.df = pd.DataFrame(index=df.index)\n",
    "        self.df['U'] = df['UserID'].apply(lambda x: self.user_d[x])\n",
    "        self.df['R'] = df['R'].apply(lambda x: [self.item_d[i] for i in x.split(' ')])\n",
    "        # S\n",
    "        self.df['S_picked'] = df['S'].apply(lambda x: [self.item_d[i] for i in x.split(' ')])\n",
    "        self.df['S'] = self.df.apply(lambda x: self.get_picked_inds(x['R'], x['S_picked']), axis=1)\n",
    "        \n",
    "    def __getitem__(self, idx):\n",
    "        '''\n",
    "        Retorna uma tupla com U, R e S\n",
    "        U => id do usuário\n",
    "        R => lista de ids de itens\n",
    "        S => lista de indices de R indicando quais itens foram escolhidos.\n",
    "        '''\n",
    "        return self.df['U'].iloc[idx], self.df['R'].iloc[idx], self.df['S'].iloc[idx]\n",
    "    \n",
    "    def __len__(self):\n",
    "        return len(self.df)\n",
    "\n",
    "    def get_n_users(self):\n",
    "        return len(self.user_d)+1\n",
    "\n",
    "    def get_n_items(self):\n",
    "        return len(self.item_d)+1\n",
    "\n",
    "def mind_collate_fn(data):\n",
    "    '''\n",
    "    Retorna tupla: u, r, r_mask, s\n",
    "    '''\n",
    "    batch_sz = len(data)\n",
    "    max_len = max([len(r) for _,r,_ in data])\n",
    "\n",
    "    u_batch = torch.zeros(batch_sz, 1, dtype=torch.long)\n",
    "    r_batch = torch.zeros(batch_sz, max_len, dtype=torch.long)\n",
    "    r_mask_batch = torch.zeros(batch_sz, max_len, dtype=torch.long)\n",
    "    s_batch = torch.zeros(batch_sz, max_len, dtype=torch.long)\n",
    "\n",
    "    for i, (u,r,s) in enumerate(data):\n",
    "        u_batch[i] = u\n",
    "        r_batch[i] = torch.LongTensor(r + [0]*(max_len-len(r)))\n",
    "        r_mask_batch[i] = torch.LongTensor([1]*len(r) + [0]*(max_len-len(r)))\n",
    "        s_batch[i] = torch.LongTensor([(1 if ind in s else 0) for ind in range(max_len)])\n",
    "    return u_batch, r_batch, r_mask_batch, s_batch"
   ]
  },
  {
   "cell_type": "code",
   "execution_count": 87,
   "metadata": {},
   "outputs": [],
   "source": [
    "import random\n",
    "class MIND_P_R_Dataset(Dataset):\n",
    "    def __init__(self, mind_ds, max_sampling_len):\n",
    "        \"\"\"\n",
    "        Retorna amostras com negative sampling.\n",
    "        mind_ds: MIND_Dataset\n",
    "        \"\"\"\n",
    "        super().__init__()\n",
    "        self.mind_ds = mind_ds\n",
    "        self.item_set = set(mind_ds.item_d.values())\n",
    "        self.max_sampling_len = max_sampling_len\n",
    "    \n",
    "    def __getitem__(self, idx):\n",
    "        '''\n",
    "        Retorna uma tupla com U, R_pos, R_neg\n",
    "        U => id do usuário\n",
    "        R_pos => lista de ids de itens em r para U amostrados\n",
    "        R_neg => lista de ids de itens não em r para U amostrados\n",
    "        '''\n",
    "        u,r,_ = self.mind_ds[idx]\n",
    "        pos_r = random.sample(r, min(self.max_sampling_len, len(r)))\n",
    "        neg_r = random.sample(self.item_set - set(r), len(pos_r))\n",
    "        return u, pos_r, neg_r\n",
    "    \n",
    "    def __len__(self):\n",
    "        return len(self.mind_ds)\n",
    "    \n",
    "def mind_p_r_collate_fn(data):\n",
    "    '''\n",
    "    Retorna tupla: u, pos_r, pos_r_mask, neg_r, neg_r_mask\n",
    "    '''\n",
    "    batch_sz = len(data)\n",
    "    pos_max_len = max([len(pos_r) for _,pos_r,_ in data])\n",
    "    neg_max_len = max([len(neg_r) for _,_,neg_r in data])\n",
    "\n",
    "    u_batch = torch.zeros(batch_sz, 1, dtype=torch.long)\n",
    "    pos_r_batch = torch.zeros(batch_sz, pos_max_len, dtype=torch.long)\n",
    "    pos_r_mask_batch = torch.zeros(batch_sz, pos_max_len, dtype=torch.long)\n",
    "    neg_r_batch = torch.zeros(batch_sz, neg_max_len, dtype=torch.long)\n",
    "    neg_r_mask_batch = torch.zeros(batch_sz, neg_max_len, dtype=torch.long)\n",
    "\n",
    "    for i, (u, pos_r, neg_r) in enumerate(data):\n",
    "        u_batch[i] = u\n",
    "        pos_r_batch[i] = torch.LongTensor(pos_r + [0]*(pos_max_len-len(pos_r)))\n",
    "        pos_r_mask_batch[i] = torch.LongTensor([1]*len(pos_r) + [0]*(pos_max_len-len(pos_r)))\n",
    "        neg_r_batch[i] = torch.LongTensor(neg_r + [0]*(neg_max_len-len(neg_r)))\n",
    "        neg_r_mask_batch[i] = torch.LongTensor([1]*len(neg_r) + [0]*(neg_max_len-len(neg_r)))\n",
    "        \n",
    "    return u_batch, pos_r_batch, pos_r_mask_batch, neg_r_batch, neg_r_mask_batch"
   ]
  },
  {
   "cell_type": "code",
   "execution_count": 124,
   "metadata": {
    "id": "BwatALeiYNHR"
   },
   "outputs": [],
   "source": [
    "class P_S_Network(nn.Module):\n",
    "    def __init__(self, n_users, n_itens, K):\n",
    "        super(P_S_Network, self).__init__()\n",
    "        self.user_emb = nn.Embedding(num_embeddings=n_users, embedding_dim=32, padding_idx=0)\n",
    "        self.item_emb = nn.Embedding(num_embeddings=n_itens, embedding_dim=32, padding_idx=0)\n",
    "        self.w = nn.Parameter(torch.randn(1, K))\n",
    "        self.K = K\n",
    "        \n",
    "    def forward(self, u, r, r_mask, s, beta):\n",
    "        \"\"\"\n",
    "        Entrada:\n",
    "            u: Indice do usuário\n",
    "                torch.LongTensor(batch_sz, 1)\n",
    "            r: Tensor de indices dos itens recomendados ao usuário\n",
    "                torch.LongTensor(batch_sz, max_len)\n",
    "            r_mask: Máscara binária indicando quais elementos de r não são padding\n",
    "                torch.LongTensor(batch_sz, max_len)\n",
    "            s: Máscara binária indicando quais elementos de r estão em s.\n",
    "                torch.LongTensor(batch_sz, max_len)\n",
    "            beta: Variavel exogena correspondente aos itens em r\n",
    "                torch.tensor(batch_sz, max_len)\n",
    "        \"\"\"\n",
    "        max_len = r.size(1)\n",
    "        w_mul = beta * (self.w[:,:max_len])\n",
    "\n",
    "        u_e = self.user_emb(u)\n",
    "        i_e = self.item_emb(r)\n",
    "        emb_sim = torch.bmm(u_e, i_e.permute(0,2,1)).squeeze()\n",
    "\n",
    "        return (w_mul + emb_sim) * r_mask\n",
    "\n",
    "def p_s_loss(out, s):\n",
    "    # Loss to be minimized\n",
    "    out_soft = F.log_softmax(out, dim=1)\n",
    "    return -(out_soft*s).sum()"
   ]
  },
  {
   "cell_type": "code",
   "execution_count": 125,
   "metadata": {},
   "outputs": [],
   "source": [
    "class P_R_Network(nn.Module):\n",
    "    def __init__(self, n_users, n_itens):\n",
    "        super(P_R_Network, self).__init__()\n",
    "        self.user_emb = nn.Embedding(num_embeddings=n_users, embedding_dim=32, padding_idx=0)\n",
    "        self.item_emb = nn.Embedding(num_embeddings=n_itens, embedding_dim=32, padding_idx=0)\n",
    "        self.w = nn.Parameter(torch.randn(1, n_itens))\n",
    "        \n",
    "    def forward(self, u, r, r_mask, alpha):\n",
    "        \"\"\"\n",
    "        Entrada:\n",
    "            u: Indice do usuário\n",
    "                torch.LongTensor(batch_sz, 1)\n",
    "            r: Tensor de indices dos itens recomendados ao usuário\n",
    "                torch.LongTensor(batch_sz, max_len)\n",
    "            r_mask: Máscara binária indicando quais elementos de r não são padding\n",
    "                torch.LongTensor(batch_sz, max_len)\n",
    "            alpha: Variavel exogena correspondente aos itens em r\n",
    "                torch.tensor(batch_sz, max_len)\n",
    "        \"\"\"\n",
    "        # Seleciona os w correspondentes aos itens em r\n",
    "        w_mul = alpha * (self.w[0,r])\n",
    "\n",
    "        u_e = self.user_emb(u)\n",
    "        i_e = self.item_emb(r)\n",
    "        emb_sim = torch.bmm(u_e, i_e.permute(0,2,1)).squeeze()\n",
    "\n",
    "        return (w_mul + emb_sim) * r_mask\n",
    "\n",
    "def p_r_loss(pos_scores, neg_scores):\n",
    "    \"\"\"\n",
    "    Negative sampling loss.\n",
    "    Entrada:\n",
    "        pos_scores: torch.tensor(batch_sz, pos_max_len)\n",
    "        neg_scores: torch.tensor(batch_sz, neg_max_len)\n",
    "    \"\"\"\n",
    "    # Loss to be minimized\n",
    "    pos_soft = F.logsigmoid(pos_scores).sum()\n",
    "    neg_soft = torch.log(1 - torch.sigmoid(neg_scores)).sum()\n",
    "    return -(pos_soft + neg_soft)"
   ]
  },
  {
   "cell_type": "code",
   "execution_count": 72,
   "metadata": {
    "id": "P-tpRf3vqBQi"
   },
   "outputs": [],
   "source": [
    "# Treinamento\n",
    "ps_train_ds = MIND_dataset(train_data)\n",
    "ps_train_dl = DataLoader(ps_train_ds, batch_size=16, shuffle=True, collate_fn=mind_collate_fn)\n",
    "ps_model = P_S_Network(ps_train_ds.get_n_users(), ps_train_ds.get_n_items(), 299)"
   ]
  },
  {
   "cell_type": "code",
   "execution_count": 104,
   "metadata": {},
   "outputs": [],
   "source": [
    "pr_train_ds = MIND_P_R_Dataset(ps_train_ds, 5)\n",
    "pr_train_dl = DataLoader(pr_train_ds, batch_size=16, shuffle=True, collate_fn=mind_p_r_collate_fn)\n",
    "pr_model = P_R_Network(ps_train_ds.get_n_users(), ps_train_ds.get_n_items())"
   ]
  },
  {
   "cell_type": "code",
   "execution_count": 105,
   "metadata": {
    "colab": {
     "base_uri": "https://localhost:8080/"
    },
    "id": "azvLFDWOtsv_",
    "outputId": "7fd3ef42-7251-4a68-c905-a9d723d1da24"
   },
   "outputs": [
    {
     "name": "stdout",
     "output_type": "stream",
     "text": [
      "w torch.Size([1, 299])\n",
      "user_emb.weight torch.Size([49146, 32])\n",
      "item_emb.weight torch.Size([20142, 32])\n",
      "w torch.Size([1, 20142])\n",
      "user_emb.weight torch.Size([49146, 32])\n",
      "item_emb.weight torch.Size([20142, 32])\n"
     ]
    }
   ],
   "source": [
    "# Parametros\n",
    "for name, param in ps_model.named_parameters():\n",
    "    if param.requires_grad:\n",
    "        print(name, param.data.size())\n",
    "        \n",
    "for name, param in pr_model.named_parameters():\n",
    "    if param.requires_grad:\n",
    "        print(name, param.data.size())"
   ]
  },
  {
   "cell_type": "code",
   "execution_count": 123,
   "metadata": {},
   "outputs": [
    {
     "data": {
      "text/plain": [
       "tensor(21.6023, grad_fn=<DivBackward0>)"
      ]
     },
     "execution_count": 123,
     "metadata": {},
     "output_type": "execute_result"
    }
   ],
   "source": [
    "u, pos_r, pos_r_mask, neg_r, neg_r_mask = next(iter(pr_train_dl))\n",
    "batch_sz = u.size(0)\n",
    "max_len = pos_r.size(1)\n",
    "alfa = torch.randn(batch_sz, max_len)\n",
    "pos_scores = pr_model(u, pos_r, pos_r_mask, alfa)\n",
    "alfa = torch.randn(batch_sz, max_len)\n",
    "neg_scores = pr_model(u, neg_r, neg_r_mask, alfa)\n",
    "p_r_loss(pos_scores, neg_scores) / batch_sz"
   ]
  },
  {
   "cell_type": "code",
   "execution_count": null,
   "metadata": {},
   "outputs": [],
   "source": []
  },
  {
   "cell_type": "code",
   "execution_count": null,
   "metadata": {},
   "outputs": [],
   "source": [
    "pos_soft = F.logsigmoid(pos_scores).sum()\n",
    "    neg_soft = torch.log(1 - torch.sigmoid(neg_scores)).sum()\n",
    "    return -(pos_soft + neg_soft)"
   ]
  },
  {
   "cell_type": "code",
   "execution_count": 116,
   "metadata": {},
   "outputs": [
    {
     "data": {
      "text/plain": [
       "tensor([[18470,  1047,  5929,  5948,   874],\n",
       "        [12410,  2895, 13140,   166, 15853],\n",
       "        [19990, 17013,  5143,  4546,  1573],\n",
       "        [14012, 16555,  3920, 19500, 14612],\n",
       "        [ 2616, 13666, 13064, 19902, 13071],\n",
       "        [18896,  5192, 14259, 17384,    50],\n",
       "        [13105,  7018, 19105, 12713, 10645],\n",
       "        [ 7851, 14923, 19274, 18719,  3024],\n",
       "        [13991,   478, 10220, 18162, 14662],\n",
       "        [14710,  9644,  2955, 19537,     0],\n",
       "        [12713,  7018, 10645, 19105, 11139],\n",
       "        [ 4319, 12672,  4124,  9849,  5409],\n",
       "        [ 8865, 12672,  1047,  9387,  5929],\n",
       "        [18131,  8692, 18705, 12260,  5278],\n",
       "        [  550,  8377,  2544, 15396, 13334],\n",
       "        [12262,  8825,     0,     0,     0]])"
      ]
     },
     "execution_count": 116,
     "metadata": {},
     "output_type": "execute_result"
    }
   ],
   "source": [
    "pos_r"
   ]
  },
  {
   "cell_type": "code",
   "execution_count": 108,
   "metadata": {},
   "outputs": [
    {
     "data": {
      "text/plain": [
       "tensor([[  1.2074,  -0.5089,  -0.0000,  -0.0000,  -0.0000],\n",
       "        [  4.0128,  -4.7473,   0.0000,   0.0000,   0.0000],\n",
       "        [ -1.0298,   8.1613,   1.4182,   0.0000,  -0.0000],\n",
       "        [ -7.5410,  -1.7691,  -3.3296,   9.7585,   0.1979],\n",
       "        [  4.0193, -10.4567,  -4.2358,  -7.6995,   7.7456],\n",
       "        [ -1.8540,   5.3697,   0.6600,   1.6147,   2.9689],\n",
       "        [ -1.1805, -11.8105,  -6.0497,   3.4694,  -0.0000],\n",
       "        [  0.2750,   7.8003,   1.1233,   5.2161,   4.4915],\n",
       "        [  0.7425,  -5.7278, -10.6576,  -4.0879,  -4.7902],\n",
       "        [  5.9512,   4.5628,   0.3146,  -9.9025,   9.5232],\n",
       "        [ -6.3497,  -0.8817,   0.5288,  -7.5186,   3.5902],\n",
       "        [  0.7068,  -1.1571,   6.3905,   6.3065,  -1.3323],\n",
       "        [ -4.8140,  -9.6811,  -0.0000,   0.0000,  -0.0000],\n",
       "        [ -8.4288,  -2.0560,   3.9346,  -3.5786,  -2.7435],\n",
       "        [ -8.0289,   1.4565,   6.9194,   4.4055,   1.4095],\n",
       "        [  4.1112,   1.0053,  -5.3769,   3.0345,  -2.7257]],\n",
       "       grad_fn=<MulBackward0>)"
      ]
     },
     "execution_count": 108,
     "metadata": {},
     "output_type": "execute_result"
    }
   ],
   "source": [
    "out"
   ]
  },
  {
   "cell_type": "code",
   "execution_count": 16,
   "metadata": {
    "id": "X86xMVg6shVK"
   },
   "outputs": [],
   "source": [
    "learning_rate = 1e-3\n",
    "epochs = 5\n",
    "loss_fn = p_s_loss\n",
    "optimizer = torch.optim.SGD(model.parameters(), lr=learning_rate)"
   ]
  },
  {
   "cell_type": "code",
   "execution_count": 17,
   "metadata": {
    "id": "RAvnmUFWvIRA"
   },
   "outputs": [],
   "source": [
    "def train_loop(dataloader, model, loss_fn, optimizer):\n",
    "    size = len(dataloader.dataset)\n",
    "    for batch, (u, r, r_mask, s) in enumerate(dataloader):\n",
    "        # Compute prediction and loss\n",
    "        out = model(u, r, r_mask, s)\n",
    "        loss = loss_fn(out, s)\n",
    "\n",
    "        # Backpropagation\n",
    "        optimizer.zero_grad()\n",
    "        loss.backward()\n",
    "        optimizer.step()\n",
    "\n",
    "        if batch % 100 == 0:\n",
    "            loss, current = loss.item(), batch * len(u)\n",
    "            print(f\"loss: {loss:>7f}  [{current:>5d}/{size:>5d}]\")\n",
    "\n",
    "def test_loop(dataloader, model, loss_fn):\n",
    "    size = len(dataloader.dataset)\n",
    "    num_batches = len(dataloader)\n",
    "    test_loss, correct = 0, 0\n",
    "\n",
    "    with torch.no_grad():\n",
    "        for u, r, r_mask, s in dataloader:\n",
    "            out = model(u, r, r_mask, s)\n",
    "            test_loss += loss_fn(out, s).item()\n",
    "\n",
    "    test_loss /= num_batches\n",
    "    print(f\"Test Error: Avg loss: {test_loss:>8f} \\n\")"
   ]
  },
  {
   "cell_type": "code",
   "execution_count": 18,
   "metadata": {
    "colab": {
     "base_uri": "https://localhost:8080/"
    },
    "id": "P2CMP244waVV",
    "outputId": "3e951ada-0274-48fe-a59f-4958cabdac32"
   },
   "outputs": [
    {
     "name": "stdout",
     "output_type": "stream",
     "text": [
      "loss: 297.512299  [    0/22034]\n",
      "loss: 384.248352  [ 1600/22034]\n",
      "loss: 287.911835  [ 3200/22034]\n",
      "loss: 275.203186  [ 4800/22034]\n",
      "loss: 216.667374  [ 6400/22034]\n",
      "loss: 182.541672  [ 8000/22034]\n",
      "loss: 365.021088  [ 9600/22034]\n",
      "loss: 442.850128  [11200/22034]\n",
      "loss: 257.252441  [12800/22034]\n",
      "loss: 373.058380  [14400/22034]\n",
      "loss: 235.978775  [16000/22034]\n",
      "loss: 264.465790  [17600/22034]\n",
      "loss: 305.053864  [19200/22034]\n",
      "loss: 474.685577  [20800/22034]\n"
     ]
    }
   ],
   "source": [
    "train_loop(train_dl, model, loss_fn, optimizer)"
   ]
  },
  {
   "cell_type": "code",
   "execution_count": 19,
   "metadata": {
    "colab": {
     "base_uri": "https://localhost:8080/"
    },
    "id": "cAGlU0PoxNuE",
    "outputId": "e2838fd4-46e6-403f-9da4-236eb14025eb"
   },
   "outputs": [
    {
     "name": "stdout",
     "output_type": "stream",
     "text": [
      "Test Error: Avg loss: 295.196239 \n",
      "\n"
     ]
    }
   ],
   "source": [
    "test_loop(train_dl, model, loss_fn)"
   ]
  },
  {
   "cell_type": "markdown",
   "metadata": {},
   "source": [
    "# A FAZER\n",
    "\n",
    "Pegar o dataset MIND SMALL\n",
    "\n",
    "- Checar se as listas de impressao sao geralmente escolhidas do inicio\n",
    "- Modificar modelo P_S.forward para receber beta como entrada. Ou criar um outro forward que pode ser usado com beta.\n",
    "- Documentar rapidamente as entradas e saidas. E checar a classe Dataset.\n",
    "- Implementar P_R\n",
    "    - Ter um método que recebe tau, para a política gaussiana\n",
    "- Treinar\n",
    "\n",
    "\n",
    "Reduzir o tamanho das imp_logs, opções:\n",
    "- Retirar todas que maiores que 5.\n",
    "- Truncar as listas em tamanho 5, retirando as que não possuem S nos 5 primeiros\n",
    "- Pegar os itens escolhidos e selecionar aleatoriamente mais outros para inteirar 5. Aleatorizar a ordem.\n",
    "- Dividir a lista em menores, o que pode significar reutilizar o S várias vezes.\n",
    "\n",
    "The negative samples are selected from the whole item set or the impression list. When optimizing 𝑝𝑹 and 𝑝𝑺 , we empirically set the learning rate as 0.001, and the user/item embedding sizes are both tunned in {16, 32, 64, 128, 256, 512}. The length of the impression list (i.e., |𝑹|) is set as 5, and the size of 𝑺 (i.e., 𝑘) is determined in {1, 2, 3}. The Gaussian policy is implemented as a two-layers fully- connected neural network, where the hidden dimension is searched in {16, 32, 64}.\n"
   ]
  },
  {
   "cell_type": "code",
   "execution_count": 201,
   "metadata": {
    "colab": {
     "base_uri": "https://localhost:8080/"
    },
    "id": "9ByaDqrYsRal",
    "outputId": "67e457c7-81fe-4e10-ef51-d84f1d9adfd7"
   },
   "outputs": [
    {
     "name": "stdout",
     "output_type": "stream",
     "text": [
      "tensor(-149.1762, grad_fn=<SumBackward0>)\n",
      "torch.Size([16, 115])\n"
     ]
    }
   ],
   "source": [
    "u, r, r_mask, s = next(iter(train_dl))\n",
    "out = model(u, r, r_mask, s)\n",
    "print(p_s_loss(out, s))\n",
    "print(out.size())"
   ]
  },
  {
   "cell_type": "code",
   "execution_count": 191,
   "metadata": {
    "colab": {
     "base_uri": "https://localhost:8080/"
    },
    "id": "jSc2wyFdigjd",
    "outputId": "bbbf8624-5dfa-4478-99b6-e0ab93685aa9"
   },
   "outputs": [
    {
     "data": {
      "text/plain": [
       "tensor(-0.4402)"
      ]
     },
     "execution_count": 191,
     "metadata": {},
     "output_type": "execute_result"
    }
   ],
   "source": [
    "out_t = torch.tensor([[1.0, 0], [2.0, 4]])\n",
    "s_t = torch.tensor([[1,0], [0,1]])\n",
    "p_s_loss(out_t, s_t)"
   ]
  },
  {
   "cell_type": "code",
   "execution_count": 170,
   "metadata": {
    "colab": {
     "base_uri": "https://localhost:8080/"
    },
    "id": "jAh02fnkhhNI",
    "outputId": "fd5ee098-1584-4813-d921-dfbfb7a926d8"
   },
   "outputs": [
    {
     "data": {
      "text/plain": [
       "tensor([[ 0.0000, -0.6370],\n",
       "        [-0.0000, -0.6111],\n",
       "        [ 0.0000,  0.9823]])"
      ]
     },
     "execution_count": 170,
     "metadata": {},
     "output_type": "execute_result"
    }
   ],
   "source": [
    "# t0 = torch.ones(1,2)\n",
    "t0 = torch.tensor([0,1]).unsqueeze(0)\n",
    "t1 = torch.randn(3,2)\n",
    "t0 * t1"
   ]
  },
  {
   "cell_type": "code",
   "execution_count": 168,
   "metadata": {
    "id": "xQmxgmLXeXB9"
   },
   "outputs": [],
   "source": [
    "t0 = torch.ones(2,1,2)\n",
    "t1 = torch.randn(2,4,2)"
   ]
  },
  {
   "cell_type": "code",
   "execution_count": 157,
   "metadata": {
    "colab": {
     "base_uri": "https://localhost:8080/"
    },
    "id": "xoNc5WkUfpXJ",
    "outputId": "fc3f4e93-8108-4d41-96d6-503a6eeee3e9"
   },
   "outputs": [
    {
     "data": {
      "text/plain": [
       "tensor([[[-0.3949,  1.1549],\n",
       "         [ 0.4328, -0.6927],\n",
       "         [-0.5959, -0.0395],\n",
       "         [-0.5348, -0.5522]],\n",
       "\n",
       "        [[-0.8738,  0.3709],\n",
       "         [ 0.7077, -0.7827],\n",
       "         [ 0.1552, -0.1263],\n",
       "         [-0.7885, -0.6894]]])"
      ]
     },
     "execution_count": 157,
     "metadata": {},
     "output_type": "execute_result"
    }
   ],
   "source": [
    "t1"
   ]
  },
  {
   "cell_type": "code",
   "execution_count": 158,
   "metadata": {
    "colab": {
     "base_uri": "https://localhost:8080/"
    },
    "id": "1oVOtv8LfYXE",
    "outputId": "929e2b6c-a3bd-4c8d-d7db-ca5d1fffc3c7"
   },
   "outputs": [
    {
     "data": {
      "text/plain": [
       "tensor([[ 0.7601, -0.2599, -0.6354, -1.0870],\n",
       "        [-0.5029, -0.0750,  0.0289, -1.4778]])"
      ]
     },
     "execution_count": 158,
     "metadata": {},
     "output_type": "execute_result"
    }
   ],
   "source": [
    "t1.sum(axis=2)"
   ]
  },
  {
   "cell_type": "code",
   "execution_count": 159,
   "metadata": {
    "colab": {
     "base_uri": "https://localhost:8080/"
    },
    "id": "Ozs-BXUIga0C",
    "outputId": "a0471d2a-e23d-4b0d-e5da-51abde8377a4"
   },
   "outputs": [
    {
     "data": {
      "text/plain": [
       "tensor([[[-0.3949,  0.4328, -0.5959, -0.5348],\n",
       "         [ 1.1549, -0.6927, -0.0395, -0.5522]],\n",
       "\n",
       "        [[-0.8738,  0.7077,  0.1552, -0.7885],\n",
       "         [ 0.3709, -0.7827, -0.1263, -0.6894]]])"
      ]
     },
     "execution_count": 159,
     "metadata": {},
     "output_type": "execute_result"
    }
   ],
   "source": [
    "t1.permute(0,2,1)"
   ]
  },
  {
   "cell_type": "code",
   "execution_count": 163,
   "metadata": {
    "colab": {
     "base_uri": "https://localhost:8080/"
    },
    "id": "aQZqhedSgTTd",
    "outputId": "aca5cb8a-d5b0-4617-91ee-8824c594fbc8"
   },
   "outputs": [
    {
     "data": {
      "text/plain": [
       "tensor([[[ 0.7601, -0.2599, -0.6354, -1.0870]],\n",
       "\n",
       "        [[-0.5029, -0.0750,  0.0289, -1.4778]]])"
      ]
     },
     "execution_count": 163,
     "metadata": {},
     "output_type": "execute_result"
    }
   ],
   "source": [
    "torch.bmm(t0, t1.permute(0,2,1))"
   ]
  },
  {
   "cell_type": "code",
   "execution_count": 162,
   "metadata": {
    "colab": {
     "base_uri": "https://localhost:8080/"
    },
    "id": "PVwDdDGYkaVv",
    "outputId": "c2e9bce9-b64c-4ad7-ec09-fcacb3f8064e"
   },
   "outputs": [
    {
     "data": {
      "text/plain": [
       "tensor([[ 0.7601, -0.2599, -0.6354, -1.0870],\n",
       "        [-0.5029, -0.0750,  0.0289, -1.4778]])"
      ]
     },
     "execution_count": 162,
     "metadata": {},
     "output_type": "execute_result"
    }
   ],
   "source": [
    "torch.bmm(t0, t1.permute(0,2,1)).squeeze()"
   ]
  },
  {
   "cell_type": "code",
   "execution_count": 31,
   "metadata": {
    "id": "kkxyB-3ZMmgd"
   },
   "outputs": [],
   "source": [
    "ds_tst = MIND_dataset(train_data)"
   ]
  },
  {
   "cell_type": "code",
   "execution_count": 35,
   "metadata": {},
   "outputs": [],
   "source": [
    "picked_l = []\n",
    "for i in range(len(ds_tst)):\n",
    "    picked_l += ds_tst[i][2]"
   ]
  },
  {
   "cell_type": "code",
   "execution_count": 38,
   "metadata": {},
   "outputs": [
    {
     "data": {
      "text/plain": [
       "<AxesSubplot:ylabel='Frequency'>"
      ]
     },
     "execution_count": 38,
     "metadata": {},
     "output_type": "execute_result"
    },
    {
     "data": {
      "image/png": "[encoded data removed]",
      "text/plain": [
       "<Figure size 432x288 with 1 Axes>"
      ]
     },
     "metadata": {
      "needs_background": "light"
     },
     "output_type": "display_data"
    }
   ],
   "source": [
    "pd.Series(picked_l).plot.hist(bins=100)"
   ]
  },
  {
   "cell_type": "code",
   "execution_count": 107,
   "metadata": {
    "id": "tVn5bur9QLEG"
   },
   "outputs": [],
   "source": [
    "dl_tst = DataLoader(ds_tst, batch_size=2, shuffle=False, collate_fn=mind_collate_fn)"
   ]
  },
  {
   "cell_type": "code",
   "execution_count": 175,
   "metadata": {
    "id": "rxxlarlgdNOi"
   },
   "outputs": [],
   "source": [
    "m_tst = P_S_Network(len(ds_tst.user_d)+1, len(ds_tst.item_d)+1, 100)"
   ]
  },
  {
   "cell_type": "code",
   "execution_count": 176,
   "metadata": {
    "colab": {
     "base_uri": "https://localhost:8080/"
    },
    "id": "SctLMgaBdg8u",
    "outputId": "d53d7b1b-07db-4719-b84a-2a9cc5836109"
   },
   "outputs": [
    {
     "name": "stdout",
     "output_type": "stream",
     "text": [
      "torch.Size([2, 1, 2])\n",
      "torch.Size([2, 87, 2])\n",
      "torch.Size([2, 87])\n"
     ]
    }
   ],
   "source": [
    "u, r, r_mask, s = next(iter(dl_tst))\n",
    "m_tst(u, r, r_mask, s)"
   ]
  },
  {
   "cell_type": "code",
   "execution_count": 27,
   "metadata": {
    "id": "pUfVhaBWALFm"
   },
   "outputs": [],
   "source": [
    "emb_tst = nn.Embedding(num_embeddings=4, embedding_dim=2)"
   ]
  },
  {
   "cell_type": "code",
   "execution_count": 85,
   "metadata": {
    "colab": {
     "base_uri": "https://localhost:8080/"
    },
    "id": "VCvXOioYUW85",
    "outputId": "09e04803-7908-4807-800f-9a14562ba00a"
   },
   "outputs": [
    {
     "data": {
      "text/plain": [
       "torch.Size([2, 1])"
      ]
     },
     "execution_count": 85,
     "metadata": {},
     "output_type": "execute_result"
    }
   ],
   "source": [
    "in_tst.size()"
   ]
  }
 ],
 "metadata": {
  "colab": {
   "provenance": []
  },
  "gpuClass": "standard",
  "kernelspec": {
   "display_name": "Python 3 (ipykernel)",
   "language": "python",
   "name": "python3"
  },
  "language_info": {
   "codemirror_mode": {
    "name": "ipython",
    "version": 3
   },
   "file_extension": ".py",
   "mimetype": "text/x-python",
   "name": "python",
   "nbconvert_exporter": "python",
   "pygments_lexer": "ipython3",
   "version": "3.8.12"
  }
 },
 "nbformat": 4,
 "nbformat_minor": 1
}
