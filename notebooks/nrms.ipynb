{
  "cells": [
    {
      "cell_type": "markdown",
      "source": [
        "Baseado em: https://github.com/microsoft/recommenders/blob/main/examples/00_quick_start/nrms_MIND.ipynb"
      ],
      "metadata": {
        "id": "y4FWQaHr6NWN"
      }
    },
    {
      "cell_type": "markdown",
      "metadata": {
        "id": "s1BM2uKjM-R3"
      },
      "source": [
        "<i>Copyright (c) Microsoft Corporation. All rights reserved.</i>\n",
        "\n",
        "<i>Licensed under the MIT License.</i>"
      ]
    },
    {
      "cell_type": "markdown",
      "metadata": {
        "id": "eMGgTRLDM-R5"
      },
      "source": [
        "# NRMS: Neural News Recommendation with Multi-Head Self-Attention\n",
        "NRMS \\[1\\] is a neural news recommendation approach with multi-head selfattention. The core of NRMS is a news encoder and a user encoder. In the newsencoder, a multi-head self-attentions is used to learn news representations from news titles by modeling the interactions between words. In the user encoder, we learn representations of users from their browsed news and use multihead self-attention to capture the relatedness between the news. Besides, we apply additive\n",
        "attention to learn more informative news and user representations by selecting important words and news.\n",
        "\n",
        "## Properties of NRMS:\n",
        "- NRMS is a content-based neural news recommendation approach.\n",
        "- It uses multi-self attention to learn news representations by modeling the iteractions between words and learn user representations by capturing the relationship between user browsed news.\n",
        "- NRMS uses additive attentions to learn informative news and user representations by selecting important words and news.\n",
        "\n",
        "## Data format:\n",
        "For quicker training and evaluaiton, we sample MINDdemo dataset of 5k users from [MIND small dataset](https://msnews.github.io/). The MINDdemo dataset has the same file format as MINDsmall and MINDlarge. If you want to try experiments on MINDsmall and MINDlarge, please change the dowload source. Select the MIND_type parameter from ['large', 'small', 'demo'] to choose dataset.\n",
        " \n",
        "**MINDdemo_train** is used for training, and **MINDdemo_dev** is used for evaluation. Training data and evaluation data are composed of a news file and a behaviors file. You can find more detailed data description in [MIND repo](https://github.com/msnews/msnews.github.io/blob/master/assets/doc/introduction.md)\n",
        "\n",
        "### news data\n",
        "This file contains news information including newsid, category, subcatgory, news title, news abstarct, news url and entities in news title, entities in news abstarct.\n",
        "One simple example: <br>\n",
        "\n",
        "`N46466\tlifestyle\tlifestyleroyals\tThe Brands Queen Elizabeth, Prince Charles, and Prince Philip Swear By\tShop the notebooks, jackets, and more that the royals can't live without.\thttps://www.msn.com/en-us/lifestyle/lifestyleroyals/the-brands-queen-elizabeth,-prince-charles,-and-prince-philip-swear-by/ss-AAGH0ET?ocid=chopendata\t[{\"Label\": \"Prince Philip, Duke of Edinburgh\", \"Type\": \"P\", \"WikidataId\": \"Q80976\", \"Confidence\": 1.0, \"OccurrenceOffsets\": [48], \"SurfaceForms\": [\"Prince Philip\"]}, {\"Label\": \"Charles, Prince of Wales\", \"Type\": \"P\", \"WikidataId\": \"Q43274\", \"Confidence\": 1.0, \"OccurrenceOffsets\": [28], \"SurfaceForms\": [\"Prince Charles\"]}, {\"Label\": \"Elizabeth II\", \"Type\": \"P\", \"WikidataId\": \"Q9682\", \"Confidence\": 0.97, \"OccurrenceOffsets\": [11], \"SurfaceForms\": [\"Queen Elizabeth\"]}]\t[]`\n",
        "<br>\n",
        "\n",
        "In general, each line in data file represents information of one piece of news: <br>\n",
        "\n",
        "`[News ID] [Category] [Subcategory] [News Title] [News Abstrct] [News Url] [Entities in News Title] [Entities in News Abstract] ...`\n",
        "\n",
        "<br>\n",
        "\n",
        "We generate a word_dict file to transform words in news title to word indexes, and a embedding matrix is initted from pretrained glove embeddings.\n",
        "\n",
        "### behaviors data\n",
        "One simple example: <br>\n",
        "`1\tU82271\t11/11/2019 3:28:58 PM\tN3130 N11621 N12917 N4574 N12140 N9748\tN13390-0 N7180-0 N20785-0 N6937-0 N15776-0 N25810-0 N20820-0 N6885-0 N27294-0 N18835-0 N16945-0 N7410-0 N23967-0 N22679-0 N20532-0 N26651-0 N22078-0 N4098-0 N16473-0 N13841-0 N15660-0 N25787-0 N2315-0 N1615-0 N9087-0 N23880-0 N3600-0 N24479-0 N22882-0 N26308-0 N13594-0 N2220-0 N28356-0 N17083-0 N21415-0 N18671-0 N9440-0 N17759-0 N10861-0 N21830-0 N8064-0 N5675-0 N15037-0 N26154-0 N15368-1 N481-0 N3256-0 N20663-0 N23940-0 N7654-0 N10729-0 N7090-0 N23596-0 N15901-0 N16348-0 N13645-0 N8124-0 N20094-0 N27774-0 N23011-0 N14832-0 N15971-0 N27729-0 N2167-0 N11186-0 N18390-0 N21328-0 N10992-0 N20122-0 N1958-0 N2004-0 N26156-0 N17632-0 N26146-0 N17322-0 N18403-0 N17397-0 N18215-0 N14475-0 N9781-0 N17958-0 N3370-0 N1127-0 N15525-0 N12657-0 N10537-0 N18224-0`\n",
        "<br>\n",
        "\n",
        "In general, each line in data file represents one instance of an impression. The format is like: <br>\n",
        "\n",
        "`[Impression ID] [User ID] [Impression Time] [User Click History] [Impression News]`\n",
        "\n",
        "<br>\n",
        "\n",
        "User Click History is the user historical clicked news before Impression Time. Impression News is the displayed news in an impression, which format is:<br>\n",
        "\n",
        "`[News ID 1]-[label1] ... [News ID n]-[labeln]`\n",
        "\n",
        "<br>\n",
        "Label represents whether the news is clicked by the user. All information of news in User Click History and Impression News can be found in news data file."
      ]
    },
    {
      "cell_type": "markdown",
      "metadata": {
        "id": "U2qeYtaFM-R7"
      },
      "source": [
        "## Global settings and imports"
      ]
    },
    {
      "cell_type": "code",
      "execution_count": null,
      "metadata": {
        "scrolled": false,
        "colab": {
          "base_uri": "https://localhost:8080/"
        },
        "id": "vMeY5tDHM-R8",
        "outputId": "ac90cb58-1d63-473a-e489-f4ded48d532e"
      },
      "outputs": [
        {
          "output_type": "stream",
          "name": "stdout",
          "text": [
            "Looking in indexes: https://pypi.org/simple, https://us-python.pkg.dev/colab-wheels/public/simple/\n",
            "Collecting recommenders\n",
            "  Downloading recommenders-1.1.1-py3-none-any.whl (339 kB)\n",
            "\u001b[K     |████████████████████████████████| 339 kB 5.1 MB/s \n",
            "\u001b[?25hCollecting lightfm<2,>=1.15\n",
            "  Downloading lightfm-1.16.tar.gz (310 kB)\n",
            "\u001b[K     |████████████████████████████████| 310 kB 95.0 MB/s \n",
            "\u001b[?25hCollecting category-encoders<2,>=1.3.0\n",
            "  Downloading category_encoders-1.3.0-py2.py3-none-any.whl (61 kB)\n",
            "\u001b[K     |████████████████████████████████| 61 kB 10.2 MB/s \n",
            "\u001b[?25hRequirement already satisfied: nltk<4,>=3.4 in /usr/local/lib/python3.8/dist-packages (from recommenders) (3.7)\n",
            "Collecting retrying>=1.3.3\n",
            "  Downloading retrying-1.3.4-py3-none-any.whl (11 kB)\n",
            "Requirement already satisfied: scikit-learn<1.0.3,>=0.22.1 in /usr/local/lib/python3.8/dist-packages (from recommenders) (1.0.2)\n",
            "Requirement already satisfied: seaborn<1,>=0.8.1 in /usr/local/lib/python3.8/dist-packages (from recommenders) (0.11.2)\n",
            "Requirement already satisfied: lightgbm>=2.2.1 in /usr/local/lib/python3.8/dist-packages (from recommenders) (2.2.3)\n",
            "Requirement already satisfied: numba<1,>=0.38.1 in /usr/local/lib/python3.8/dist-packages (from recommenders) (0.56.4)\n",
            "Collecting cornac<2,>=1.1.2\n",
            "  Downloading cornac-1.14.2-cp38-cp38-manylinux1_x86_64.whl (14.4 MB)\n",
            "\u001b[K     |████████████████████████████████| 14.4 MB 21.3 MB/s \n",
            "\u001b[?25hRequirement already satisfied: numpy>=1.19 in /usr/local/lib/python3.8/dist-packages (from recommenders) (1.21.6)\n",
            "Collecting transformers<5,>=2.5.0\n",
            "  Downloading transformers-4.25.1-py3-none-any.whl (5.8 MB)\n",
            "\u001b[K     |████████████████████████████████| 5.8 MB 80.5 MB/s \n",
            "\u001b[?25hRequirement already satisfied: matplotlib<4,>=2.2.2 in /usr/local/lib/python3.8/dist-packages (from recommenders) (3.2.2)\n",
            "Collecting bottleneck<2,>=1.2.1\n",
            "  Downloading Bottleneck-1.3.5-cp38-cp38-manylinux_2_5_x86_64.manylinux1_x86_64.manylinux_2_17_x86_64.manylinux2014_x86_64.whl (355 kB)\n",
            "\u001b[K     |████████████████████████████████| 355 kB 98.3 MB/s \n",
            "\u001b[?25hCollecting memory-profiler<1,>=0.54.0\n",
            "  Downloading memory_profiler-0.61.0-py3-none-any.whl (31 kB)\n",
            "Collecting pandera[strategies]>=0.6.5\n",
            "  Downloading pandera-0.13.4-py3-none-any.whl (122 kB)\n",
            "\u001b[K     |████████████████████████████████| 122 kB 96.2 MB/s \n",
            "\u001b[?25hRequirement already satisfied: jinja2<3.1,>=2 in /usr/local/lib/python3.8/dist-packages (from recommenders) (2.11.3)\n",
            "Requirement already satisfied: scipy<2,>=1.0.0 in /usr/local/lib/python3.8/dist-packages (from recommenders) (1.7.3)\n",
            "Requirement already satisfied: requests<3,>=2.0.0 in /usr/local/lib/python3.8/dist-packages (from recommenders) (2.23.0)\n",
            "Requirement already satisfied: tqdm<5,>=4.31.1 in /usr/local/lib/python3.8/dist-packages (from recommenders) (4.64.1)\n",
            "Requirement already satisfied: pandas<2,>1.0.3 in /usr/local/lib/python3.8/dist-packages (from recommenders) (1.3.5)\n",
            "Collecting scikit-surprise>=1.0.6\n",
            "  Downloading scikit-surprise-1.1.3.tar.gz (771 kB)\n",
            "\u001b[K     |████████████████████████████████| 771 kB 98.0 MB/s \n",
            "\u001b[?25hCollecting pyyaml<6,>=5.4.1\n",
            "  Downloading PyYAML-5.4.1-cp38-cp38-manylinux1_x86_64.whl (662 kB)\n",
            "\u001b[K     |████████████████████████████████| 662 kB 86.2 MB/s \n",
            "\u001b[?25hRequirement already satisfied: patsy>=0.4.1 in /usr/local/lib/python3.8/dist-packages (from category-encoders<2,>=1.3.0->recommenders) (0.5.3)\n",
            "Requirement already satisfied: statsmodels>=0.6.1 in /usr/local/lib/python3.8/dist-packages (from category-encoders<2,>=1.3.0->recommenders) (0.12.2)\n",
            "Collecting powerlaw\n",
            "  Downloading powerlaw-1.5-py3-none-any.whl (24 kB)\n",
            "Requirement already satisfied: MarkupSafe>=0.23 in /usr/local/lib/python3.8/dist-packages (from jinja2<3.1,>=2->recommenders) (2.0.1)\n",
            "Requirement already satisfied: python-dateutil>=2.1 in /usr/local/lib/python3.8/dist-packages (from matplotlib<4,>=2.2.2->recommenders) (2.8.2)\n",
            "Requirement already satisfied: kiwisolver>=1.0.1 in /usr/local/lib/python3.8/dist-packages (from matplotlib<4,>=2.2.2->recommenders) (1.4.4)\n",
            "Requirement already satisfied: pyparsing!=2.0.4,!=2.1.2,!=2.1.6,>=2.0.1 in /usr/local/lib/python3.8/dist-packages (from matplotlib<4,>=2.2.2->recommenders) (3.0.9)\n",
            "Requirement already satisfied: cycler>=0.10 in /usr/local/lib/python3.8/dist-packages (from matplotlib<4,>=2.2.2->recommenders) (0.11.0)\n",
            "Requirement already satisfied: psutil in /usr/local/lib/python3.8/dist-packages (from memory-profiler<1,>=0.54.0->recommenders) (5.4.8)\n",
            "Requirement already satisfied: joblib in /usr/local/lib/python3.8/dist-packages (from nltk<4,>=3.4->recommenders) (1.2.0)\n",
            "Requirement already satisfied: regex>=2021.8.3 in /usr/local/lib/python3.8/dist-packages (from nltk<4,>=3.4->recommenders) (2022.6.2)\n",
            "Requirement already satisfied: click in /usr/local/lib/python3.8/dist-packages (from nltk<4,>=3.4->recommenders) (7.1.2)\n",
            "Requirement already satisfied: llvmlite<0.40,>=0.39.0dev0 in /usr/local/lib/python3.8/dist-packages (from numba<1,>=0.38.1->recommenders) (0.39.1)\n",
            "Requirement already satisfied: setuptools in /usr/local/lib/python3.8/dist-packages (from numba<1,>=0.38.1->recommenders) (57.4.0)\n",
            "Requirement already satisfied: importlib-metadata in /usr/local/lib/python3.8/dist-packages (from numba<1,>=0.38.1->recommenders) (4.13.0)\n",
            "Requirement already satisfied: pytz>=2017.3 in /usr/local/lib/python3.8/dist-packages (from pandas<2,>1.0.3->recommenders) (2022.6)\n",
            "Requirement already satisfied: packaging>=20.0 in /usr/local/lib/python3.8/dist-packages (from pandera[strategies]>=0.6.5->recommenders) (21.3)\n",
            "Collecting typing-inspect>=0.6.0\n",
            "  Downloading typing_inspect-0.8.0-py3-none-any.whl (8.7 kB)\n",
            "Requirement already satisfied: pydantic in /usr/local/lib/python3.8/dist-packages (from pandera[strategies]>=0.6.5->recommenders) (1.10.2)\n",
            "Requirement already satisfied: wrapt in /usr/local/lib/python3.8/dist-packages (from pandera[strategies]>=0.6.5->recommenders) (1.14.1)\n",
            "Collecting hypothesis>=5.41.1\n",
            "  Downloading hypothesis-6.61.0-py3-none-any.whl (398 kB)\n",
            "\u001b[K     |████████████████████████████████| 398 kB 94.0 MB/s \n",
            "\u001b[?25hCollecting exceptiongroup>=1.0.0\n",
            "  Downloading exceptiongroup-1.0.4-py3-none-any.whl (14 kB)\n",
            "Requirement already satisfied: attrs>=19.2.0 in /usr/local/lib/python3.8/dist-packages (from hypothesis>=5.41.1->pandera[strategies]>=0.6.5->recommenders) (22.1.0)\n",
            "Requirement already satisfied: sortedcontainers<3.0.0,>=2.1.0 in /usr/local/lib/python3.8/dist-packages (from hypothesis>=5.41.1->pandera[strategies]>=0.6.5->recommenders) (2.4.0)\n",
            "Requirement already satisfied: six in /usr/local/lib/python3.8/dist-packages (from patsy>=0.4.1->category-encoders<2,>=1.3.0->recommenders) (1.15.0)\n",
            "Requirement already satisfied: idna<3,>=2.5 in /usr/local/lib/python3.8/dist-packages (from requests<3,>=2.0.0->recommenders) (2.10)\n",
            "Requirement already satisfied: certifi>=2017.4.17 in /usr/local/lib/python3.8/dist-packages (from requests<3,>=2.0.0->recommenders) (2022.9.24)\n",
            "Requirement already satisfied: urllib3!=1.25.0,!=1.25.1,<1.26,>=1.21.1 in /usr/local/lib/python3.8/dist-packages (from requests<3,>=2.0.0->recommenders) (1.24.3)\n",
            "Requirement already satisfied: chardet<4,>=3.0.2 in /usr/local/lib/python3.8/dist-packages (from requests<3,>=2.0.0->recommenders) (3.0.4)\n",
            "Requirement already satisfied: threadpoolctl>=2.0.0 in /usr/local/lib/python3.8/dist-packages (from scikit-learn<1.0.3,>=0.22.1->recommenders) (3.1.0)\n",
            "Requirement already satisfied: filelock in /usr/local/lib/python3.8/dist-packages (from transformers<5,>=2.5.0->recommenders) (3.8.0)\n",
            "Collecting tokenizers!=0.11.3,<0.14,>=0.11.1\n",
            "  Downloading tokenizers-0.13.2-cp38-cp38-manylinux_2_17_x86_64.manylinux2014_x86_64.whl (7.6 MB)\n",
            "\u001b[K     |████████████████████████████████| 7.6 MB 85.4 MB/s \n",
            "\u001b[?25hCollecting huggingface-hub<1.0,>=0.10.0\n",
            "  Downloading huggingface_hub-0.11.1-py3-none-any.whl (182 kB)\n",
            "\u001b[K     |████████████████████████████████| 182 kB 97.6 MB/s \n",
            "\u001b[?25hRequirement already satisfied: typing-extensions>=3.7.4.3 in /usr/local/lib/python3.8/dist-packages (from huggingface-hub<1.0,>=0.10.0->transformers<5,>=2.5.0->recommenders) (4.4.0)\n",
            "Collecting mypy-extensions>=0.3.0\n",
            "  Downloading mypy_extensions-0.4.3-py2.py3-none-any.whl (4.5 kB)\n",
            "Requirement already satisfied: zipp>=0.5 in /usr/local/lib/python3.8/dist-packages (from importlib-metadata->numba<1,>=0.38.1->recommenders) (3.11.0)\n",
            "Requirement already satisfied: mpmath in /usr/local/lib/python3.8/dist-packages (from powerlaw->cornac<2,>=1.1.2->recommenders) (1.2.1)\n",
            "Building wheels for collected packages: lightfm, scikit-surprise\n",
            "  Building wheel for lightfm (setup.py) ... \u001b[?25l\u001b[?25hdone\n",
            "  Created wheel for lightfm: filename=lightfm-1.16-cp38-cp38-linux_x86_64.whl size=747400 sha256=cd68a3866156714eabbc65add80ad03de76db9a8599d35bee0b78777c7a01ea0\n",
            "  Stored in directory: /root/.cache/pip/wheels/ec/bb/51/9c487d021c1373b691d13cadca0b65b6852627b1f3f43550fa\n",
            "  Building wheel for scikit-surprise (setup.py) ... \u001b[?25l\u001b[?25hdone\n",
            "  Created wheel for scikit-surprise: filename=scikit_surprise-1.1.3-cp38-cp38-linux_x86_64.whl size=2626464 sha256=f302c5c6506e666048fa714c0acda3b886668df74b7a95fecab6dc9e667e0fc1\n",
            "  Stored in directory: /root/.cache/pip/wheels/af/db/86/2c18183a80ba05da35bf0fb7417aac5cddbd93bcb1b92fd3ea\n",
            "Successfully built lightfm scikit-surprise\n",
            "Installing collected packages: mypy-extensions, typing-inspect, pyyaml, exceptiongroup, tokenizers, powerlaw, pandera, hypothesis, huggingface-hub, transformers, scikit-surprise, retrying, memory-profiler, lightfm, cornac, category-encoders, bottleneck, recommenders\n",
            "  Attempting uninstall: pyyaml\n",
            "    Found existing installation: PyYAML 6.0\n",
            "    Uninstalling PyYAML-6.0:\n",
            "      Successfully uninstalled PyYAML-6.0\n",
            "Successfully installed bottleneck-1.3.5 category-encoders-1.3.0 cornac-1.14.2 exceptiongroup-1.0.4 huggingface-hub-0.11.1 hypothesis-6.61.0 lightfm-1.16 memory-profiler-0.61.0 mypy-extensions-0.4.3 pandera-0.13.4 powerlaw-1.5 pyyaml-5.4.1 recommenders-1.1.1 retrying-1.3.4 scikit-surprise-1.1.3 tokenizers-0.13.2 transformers-4.25.1 typing-inspect-0.8.0\n",
            "Looking in indexes: https://pypi.org/simple, https://us-python.pkg.dev/colab-wheels/public/simple/\n",
            "Collecting scrapbook\n",
            "  Downloading scrapbook-0.5.0-py3-none-any.whl (34 kB)\n",
            "Requirement already satisfied: pyarrow in /usr/local/lib/python3.8/dist-packages (from scrapbook) (9.0.0)\n",
            "Requirement already satisfied: jsonschema in /usr/local/lib/python3.8/dist-packages (from scrapbook) (4.3.3)\n",
            "Requirement already satisfied: pandas in /usr/local/lib/python3.8/dist-packages (from scrapbook) (1.3.5)\n",
            "Requirement already satisfied: ipython in /usr/local/lib/python3.8/dist-packages (from scrapbook) (7.9.0)\n",
            "Collecting papermill\n",
            "  Downloading papermill-2.4.0-py3-none-any.whl (38 kB)\n",
            "Requirement already satisfied: traitlets>=4.2 in /usr/local/lib/python3.8/dist-packages (from ipython->scrapbook) (5.6.0)\n",
            "Requirement already satisfied: pexpect in /usr/local/lib/python3.8/dist-packages (from ipython->scrapbook) (4.8.0)\n",
            "Requirement already satisfied: decorator in /usr/local/lib/python3.8/dist-packages (from ipython->scrapbook) (4.4.2)\n",
            "Requirement already satisfied: prompt-toolkit<2.1.0,>=2.0.0 in /usr/local/lib/python3.8/dist-packages (from ipython->scrapbook) (2.0.10)\n",
            "Requirement already satisfied: pygments in /usr/local/lib/python3.8/dist-packages (from ipython->scrapbook) (2.6.1)\n",
            "Requirement already satisfied: pickleshare in /usr/local/lib/python3.8/dist-packages (from ipython->scrapbook) (0.7.5)\n",
            "Requirement already satisfied: setuptools>=18.5 in /usr/local/lib/python3.8/dist-packages (from ipython->scrapbook) (57.4.0)\n",
            "Collecting jedi>=0.10\n",
            "  Downloading jedi-0.18.2-py2.py3-none-any.whl (1.6 MB)\n",
            "\u001b[K     |████████████████████████████████| 1.6 MB 9.4 MB/s \n",
            "\u001b[?25hRequirement already satisfied: backcall in /usr/local/lib/python3.8/dist-packages (from ipython->scrapbook) (0.2.0)\n",
            "Requirement already satisfied: parso<0.9.0,>=0.8.0 in /usr/local/lib/python3.8/dist-packages (from jedi>=0.10->ipython->scrapbook) (0.8.3)\n",
            "Requirement already satisfied: six>=1.9.0 in /usr/local/lib/python3.8/dist-packages (from prompt-toolkit<2.1.0,>=2.0.0->ipython->scrapbook) (1.15.0)\n",
            "Requirement already satisfied: wcwidth in /usr/local/lib/python3.8/dist-packages (from prompt-toolkit<2.1.0,>=2.0.0->ipython->scrapbook) (0.2.5)\n",
            "Requirement already satisfied: importlib-resources>=1.4.0 in /usr/local/lib/python3.8/dist-packages (from jsonschema->scrapbook) (5.10.0)\n",
            "Requirement already satisfied: pyrsistent!=0.17.0,!=0.17.1,!=0.17.2,>=0.14.0 in /usr/local/lib/python3.8/dist-packages (from jsonschema->scrapbook) (0.19.2)\n",
            "Requirement already satisfied: attrs>=17.4.0 in /usr/local/lib/python3.8/dist-packages (from jsonschema->scrapbook) (22.1.0)\n",
            "Requirement already satisfied: zipp>=3.1.0 in /usr/local/lib/python3.8/dist-packages (from importlib-resources>=1.4.0->jsonschema->scrapbook) (3.11.0)\n",
            "Requirement already satisfied: pytz>=2017.3 in /usr/local/lib/python3.8/dist-packages (from pandas->scrapbook) (2022.6)\n",
            "Requirement already satisfied: python-dateutil>=2.7.3 in /usr/local/lib/python3.8/dist-packages (from pandas->scrapbook) (2.8.2)\n",
            "Requirement already satisfied: numpy>=1.17.3 in /usr/local/lib/python3.8/dist-packages (from pandas->scrapbook) (1.21.6)\n",
            "Requirement already satisfied: nbformat>=5.1.2 in /usr/local/lib/python3.8/dist-packages (from papermill->scrapbook) (5.7.0)\n",
            "Requirement already satisfied: pyyaml in /usr/local/lib/python3.8/dist-packages (from papermill->scrapbook) (5.4.1)\n",
            "Requirement already satisfied: click in /usr/local/lib/python3.8/dist-packages (from papermill->scrapbook) (7.1.2)\n",
            "Requirement already satisfied: entrypoints in /usr/local/lib/python3.8/dist-packages (from papermill->scrapbook) (0.4)\n",
            "Collecting ansiwrap\n",
            "  Downloading ansiwrap-0.8.4-py2.py3-none-any.whl (8.5 kB)\n",
            "Collecting nbclient>=0.2.0\n",
            "  Downloading nbclient-0.7.2-py3-none-any.whl (71 kB)\n",
            "\u001b[K     |████████████████████████████████| 71 kB 423 kB/s \n",
            "\u001b[?25hRequirement already satisfied: tenacity in /usr/local/lib/python3.8/dist-packages (from papermill->scrapbook) (8.1.0)\n",
            "Requirement already satisfied: requests in /usr/local/lib/python3.8/dist-packages (from papermill->scrapbook) (2.23.0)\n",
            "Requirement already satisfied: tqdm>=4.32.2 in /usr/local/lib/python3.8/dist-packages (from papermill->scrapbook) (4.64.1)\n",
            "Requirement already satisfied: jupyter-client>=6.1.12 in /usr/local/lib/python3.8/dist-packages (from nbclient>=0.2.0->papermill->scrapbook) (6.1.12)\n",
            "Requirement already satisfied: jupyter-core!=5.0.*,>=4.12 in /usr/local/lib/python3.8/dist-packages (from nbclient>=0.2.0->papermill->scrapbook) (5.1.0)\n",
            "Requirement already satisfied: pyzmq>=13 in /usr/local/lib/python3.8/dist-packages (from jupyter-client>=6.1.12->nbclient>=0.2.0->papermill->scrapbook) (23.2.1)\n",
            "Requirement already satisfied: tornado>=4.1 in /usr/local/lib/python3.8/dist-packages (from jupyter-client>=6.1.12->nbclient>=0.2.0->papermill->scrapbook) (6.0.4)\n",
            "Requirement already satisfied: platformdirs>=2.5 in /usr/local/lib/python3.8/dist-packages (from jupyter-core!=5.0.*,>=4.12->nbclient>=0.2.0->papermill->scrapbook) (2.5.4)\n",
            "Requirement already satisfied: fastjsonschema in /usr/local/lib/python3.8/dist-packages (from nbformat>=5.1.2->papermill->scrapbook) (2.16.2)\n",
            "Collecting textwrap3>=0.9.2\n",
            "  Downloading textwrap3-0.9.2-py2.py3-none-any.whl (12 kB)\n",
            "Requirement already satisfied: ptyprocess>=0.5 in /usr/local/lib/python3.8/dist-packages (from pexpect->ipython->scrapbook) (0.7.0)\n",
            "Requirement already satisfied: certifi>=2017.4.17 in /usr/local/lib/python3.8/dist-packages (from requests->papermill->scrapbook) (2022.9.24)\n",
            "Requirement already satisfied: chardet<4,>=3.0.2 in /usr/local/lib/python3.8/dist-packages (from requests->papermill->scrapbook) (3.0.4)\n",
            "Requirement already satisfied: urllib3!=1.25.0,!=1.25.1,<1.26,>=1.21.1 in /usr/local/lib/python3.8/dist-packages (from requests->papermill->scrapbook) (1.24.3)\n",
            "Requirement already satisfied: idna<3,>=2.5 in /usr/local/lib/python3.8/dist-packages (from requests->papermill->scrapbook) (2.10)\n",
            "Installing collected packages: textwrap3, nbclient, jedi, ansiwrap, papermill, scrapbook\n",
            "Successfully installed ansiwrap-0.8.4 jedi-0.18.2 nbclient-0.7.2 papermill-2.4.0 scrapbook-0.5.0 textwrap3-0.9.2\n",
            "System version: 3.8.16 (default, Dec  7 2022, 01:12:13) \n",
            "[GCC 7.5.0]\n",
            "Tensorflow version: 2.9.2\n"
          ]
        }
      ],
      "source": [
        "!pip install recommenders\n",
        "!pip install scrapbook\n",
        " \n",
        "import sys\n",
        "import os\n",
        "import numpy as np\n",
        "import zipfile\n",
        "from tqdm import tqdm\n",
        "import scrapbook as sb\n",
        "from tempfile import TemporaryDirectory\n",
        "import tensorflow as tf\n",
        "tf.get_logger().setLevel('ERROR') # only show error messages\n",
        "\n",
        "from recommenders.models.deeprec.deeprec_utils import download_deeprec_resources \n",
        "from recommenders.models.newsrec.newsrec_utils import prepare_hparams\n",
        "from recommenders.models.newsrec.models.nrms import NRMSModel\n",
        "from recommenders.models.newsrec.io.mind_iterator import MINDIterator\n",
        "from recommenders.models.newsrec.newsrec_utils import get_mind_data_set\n",
        "\n",
        "print(\"System version: {}\".format(sys.version))\n",
        "print(\"Tensorflow version: {}\".format(tf.__version__))\n"
      ]
    },
    {
      "cell_type": "markdown",
      "metadata": {
        "id": "T33dE0-dM-R9"
      },
      "source": [
        "## Prepare parameters"
      ]
    },
    {
      "cell_type": "code",
      "execution_count": null,
      "metadata": {
        "tags": [
          "parameters"
        ],
        "id": "oG2TjW47M-R-"
      },
      "outputs": [],
      "source": [
        "epochs = 5\n",
        "seed = 42\n",
        "batch_size = 32\n",
        "\n",
        "# Options: demo, small, large\n",
        "MIND_type = 'small'"
      ]
    },
    {
      "cell_type": "markdown",
      "metadata": {
        "id": "TPcD_ReOM-R-"
      },
      "source": [
        "## Download and load data"
      ]
    },
    {
      "cell_type": "code",
      "execution_count": null,
      "metadata": {
        "colab": {
          "base_uri": "https://localhost:8080/"
        },
        "id": "3S84PGKlM-R-",
        "outputId": "a84f0d0f-9698-4639-a05f-dc8047e10b27"
      },
      "outputs": [
        {
          "output_type": "stream",
          "name": "stderr",
          "text": [
            "100%|██████████| 51.7k/51.7k [00:03<00:00, 14.3kKB/s]\n",
            "100%|██████████| 30.2k/30.2k [00:02<00:00, 11.3kKB/s]\n",
            "100%|██████████| 152k/152k [00:02<00:00, 73.6kKB/s]\n"
          ]
        }
      ],
      "source": [
        "tmpdir = TemporaryDirectory()\n",
        "data_path = tmpdir.name\n",
        "\n",
        "train_news_file = os.path.join(data_path, 'train', r'news.tsv')\n",
        "train_behaviors_file = os.path.join(data_path, 'train', r'behaviors.tsv')\n",
        "valid_news_file = os.path.join(data_path, 'valid', r'news.tsv')\n",
        "valid_behaviors_file = os.path.join(data_path, 'valid', r'behaviors.tsv')\n",
        "wordEmb_file = os.path.join(data_path, \"utils\", \"embedding.npy\")\n",
        "userDict_file = os.path.join(data_path, \"utils\", \"uid2index.pkl\")\n",
        "wordDict_file = os.path.join(data_path, \"utils\", \"word_dict.pkl\")\n",
        "yaml_file = os.path.join(data_path, \"utils\", r'nrms.yaml')\n",
        "\n",
        "mind_url, mind_train_dataset, mind_dev_dataset, mind_utils = get_mind_data_set(MIND_type)\n",
        "\n",
        "if not os.path.exists(train_news_file):\n",
        "    download_deeprec_resources(mind_url, os.path.join(data_path, 'train'), mind_train_dataset)\n",
        "    \n",
        "if not os.path.exists(valid_news_file):\n",
        "    download_deeprec_resources(mind_url, \\\n",
        "                               os.path.join(data_path, 'valid'), mind_dev_dataset)\n",
        "if not os.path.exists(yaml_file):\n",
        "    download_deeprec_resources(r'https://recodatasets.z20.web.core.windows.net/newsrec/', \\\n",
        "                               os.path.join(data_path, 'utils'), mind_utils)"
      ]
    },
    {
      "cell_type": "markdown",
      "metadata": {
        "id": "1OsgTNZ7M-R-"
      },
      "source": [
        "## Create hyper-parameters"
      ]
    },
    {
      "cell_type": "code",
      "execution_count": null,
      "metadata": {
        "colab": {
          "base_uri": "https://localhost:8080/"
        },
        "id": "InznFAEpM-R_",
        "outputId": "1a11c239-2835-4e9d-b583-db1a5f261249"
      },
      "outputs": [
        {
          "output_type": "stream",
          "name": "stdout",
          "text": [
            "HParams object with values {'support_quick_scoring': True, 'dropout': 0.2, 'attention_hidden_dim': 200, 'head_num': 20, 'head_dim': 20, 'filter_num': 200, 'window_size': 3, 'vert_emb_dim': 100, 'subvert_emb_dim': 100, 'gru_unit': 400, 'type': 'ini', 'user_emb_dim': 50, 'learning_rate': 0.0001, 'optimizer': 'adam', 'epochs': 5, 'batch_size': 32, 'show_step': 10, 'title_size': 30, 'his_size': 50, 'data_format': 'news', 'npratio': 4, 'metrics': ['group_auc', 'mean_mrr', 'ndcg@5;10'], 'word_emb_dim': 300, 'model_type': 'nrms', 'loss': 'cross_entropy_loss', 'wordEmb_file': '/tmp/tmplzsqqmqc/utils/embedding.npy', 'wordDict_file': '/tmp/tmplzsqqmqc/utils/word_dict.pkl', 'userDict_file': '/tmp/tmplzsqqmqc/utils/uid2index.pkl'}\n"
          ]
        }
      ],
      "source": [
        "hparams = prepare_hparams(yaml_file, \n",
        "                          wordEmb_file=wordEmb_file,\n",
        "                          wordDict_file=wordDict_file, \n",
        "                          userDict_file=userDict_file,\n",
        "                          batch_size=batch_size,\n",
        "                          epochs=epochs,\n",
        "                          show_step=10)\n",
        "print(hparams)"
      ]
    },
    {
      "cell_type": "markdown",
      "metadata": {
        "id": "8kbGkpXNM-R_"
      },
      "source": [
        "## Train the NRMS model"
      ]
    },
    {
      "cell_type": "code",
      "execution_count": null,
      "metadata": {
        "id": "STTlMzzeM-R_"
      },
      "outputs": [],
      "source": [
        "iterator = MINDIterator"
      ]
    },
    {
      "cell_type": "code",
      "execution_count": null,
      "metadata": {
        "scrolled": true,
        "colab": {
          "base_uri": "https://localhost:8080/"
        },
        "id": "xYnm0Z4nM-R_",
        "outputId": "56e77bae-3c2a-48c2-9011-c75033e9d6fc"
      },
      "outputs": [
        {
          "output_type": "stream",
          "name": "stderr",
          "text": [
            "/usr/local/lib/python3.8/dist-packages/keras/optimizers/optimizer_v2/adam.py:110: UserWarning: The `lr` argument is deprecated, use `learning_rate` instead.\n",
            "  super(Adam, self).__init__(name, **kwargs)\n"
          ]
        }
      ],
      "source": [
        "model = NRMSModel(hparams, iterator, seed=seed)"
      ]
    },
    {
      "cell_type": "code",
      "source": [
        "counterfactual_file = 'counterfactual_behaviors.tsv'"
      ],
      "metadata": {
        "id": "pjkJ8WLYN_NH"
      },
      "execution_count": null,
      "outputs": []
    },
    {
      "cell_type": "code",
      "source": [
        "import pandas as pd\n",
        "\n",
        "counterfactual_train_data = pd.read_table(counterfactual_file)\n",
        "counterfactual_train_data"
      ],
      "metadata": {
        "colab": {
          "base_uri": "https://localhost:8080/",
          "height": 798
        },
        "id": "w33eJnSlOKDU",
        "outputId": "00d2f7d5-fe3e-41d7-f07b-bc7a87b7f377"
      },
      "execution_count": null,
      "outputs": [
        {
          "output_type": "execute_result",
          "data": {
            "text/plain": [
              "       156966  U32426  11/14/2019 11:00:18 AM  \\\n",
              "0      156967  U21312    11/9/2019 3:08:20 AM   \n",
              "1      156968  U21312   11/11/2019 6:38:48 AM   \n",
              "2      156969  U93847   11/11/2019 5:52:59 AM   \n",
              "3      156970  U93847   11/14/2019 6:13:29 AM   \n",
              "4      156971  U93847   11/11/2019 5:54:22 AM   \n",
              "...       ...     ...                     ...   \n",
              "32357  189324  U14379  11/12/2019 10:21:40 AM   \n",
              "32358  189325  U14379  11/12/2019 10:59:20 AM   \n",
              "32359  189326  U14379   11/11/2019 5:22:34 AM   \n",
              "32360  189327  U14379   11/12/2019 6:26:31 AM   \n",
              "32361  189328  U14379  11/11/2019 12:48:32 PM   \n",
              "\n",
              "      N1150 N55846 N13008 N59546 N18030 N46392 N58090 N55743 N57318 N13374 N306 N30160 N54655 N33096 N28088 N32004 N60702  \\\n",
              "0                            N38747 N62451 N39376 N46597                                                                    \n",
              "1                            N38747 N62451 N39376 N46597                                                                    \n",
              "2      N61826 N39993 N58226 N55920 N1267 N35129 N2753...                                                                    \n",
              "3      N61826 N39993 N58226 N55920 N1267 N35129 N2753...                                                                    \n",
              "4      N61826 N39993 N58226 N55920 N1267 N35129 N2753...                                                                    \n",
              "...                                                  ...                                                                    \n",
              "32357  N1569 N11071 N15254 N27448 N52677 N65066 N5518...                                                                    \n",
              "32358  N1569 N11071 N15254 N27448 N52677 N65066 N5518...                                                                    \n",
              "32359  N1569 N11071 N15254 N27448 N52677 N65066 N5518...                                                                    \n",
              "32360  N1569 N11071 N15254 N27448 N52677 N65066 N5518...                                                                    \n",
              "32361  N1569 N11071 N15254 N27448 N52677 N65066 N5518...                                                                    \n",
              "\n",
              "                                        N9506-0 N27838-0  \n",
              "0            N39720-0 N36448-0 N9620-0 N53748-1 N62797-0  \n",
              "1            N39720-0 N36448-0 N9620-0 N53748-1 N62797-0  \n",
              "2                    N35427-0 N38515-0 N57813-1 N44352-0  \n",
              "3                    N35427-0 N38515-0 N57813-1 N44352-0  \n",
              "4                    N35427-0 N38515-0 N57813-1 N44352-0  \n",
              "...                                                  ...  \n",
              "32357  N18251-1 N33600-0 N16026-1 N35125-1 N48295-0 N...  \n",
              "32358  N18251-1 N33600-0 N16026-1 N35125-1 N48295-0 N...  \n",
              "32359  N18251-1 N33600-0 N16026-1 N35125-1 N48295-0 N...  \n",
              "32360  N18251-1 N33600-0 N16026-1 N35125-1 N48295-0 N...  \n",
              "32361  N18251-1 N33600-0 N16026-1 N35125-1 N48295-0 N...  \n",
              "\n",
              "[32362 rows x 5 columns]"
            ],
            "text/html": [
              "\n",
              "  <div id=\"df-440f9a64-e295-46e1-8ce2-abbe15b7b7bb\">\n",
              "    <div class=\"colab-df-container\">\n",
              "      <div>\n",
              "<style scoped>\n",
              "    .dataframe tbody tr th:only-of-type {\n",
              "        vertical-align: middle;\n",
              "    }\n",
              "\n",
              "    .dataframe tbody tr th {\n",
              "        vertical-align: top;\n",
              "    }\n",
              "\n",
              "    .dataframe thead th {\n",
              "        text-align: right;\n",
              "    }\n",
              "</style>\n",
              "<table border=\"1\" class=\"dataframe\">\n",
              "  <thead>\n",
              "    <tr style=\"text-align: right;\">\n",
              "      <th></th>\n",
              "      <th>156966</th>\n",
              "      <th>U32426</th>\n",
              "      <th>11/14/2019 11:00:18 AM</th>\n",
              "      <th>N1150 N55846 N13008 N59546 N18030 N46392 N58090 N55743 N57318 N13374 N306 N30160 N54655 N33096 N28088 N32004 N60702</th>\n",
              "      <th>N9506-0 N27838-0</th>\n",
              "    </tr>\n",
              "  </thead>\n",
              "  <tbody>\n",
              "    <tr>\n",
              "      <th>0</th>\n",
              "      <td>156967</td>\n",
              "      <td>U21312</td>\n",
              "      <td>11/9/2019 3:08:20 AM</td>\n",
              "      <td>N38747 N62451 N39376 N46597</td>\n",
              "      <td>N39720-0 N36448-0 N9620-0 N53748-1 N62797-0</td>\n",
              "    </tr>\n",
              "    <tr>\n",
              "      <th>1</th>\n",
              "      <td>156968</td>\n",
              "      <td>U21312</td>\n",
              "      <td>11/11/2019 6:38:48 AM</td>\n",
              "      <td>N38747 N62451 N39376 N46597</td>\n",
              "      <td>N39720-0 N36448-0 N9620-0 N53748-1 N62797-0</td>\n",
              "    </tr>\n",
              "    <tr>\n",
              "      <th>2</th>\n",
              "      <td>156969</td>\n",
              "      <td>U93847</td>\n",
              "      <td>11/11/2019 5:52:59 AM</td>\n",
              "      <td>N61826 N39993 N58226 N55920 N1267 N35129 N2753...</td>\n",
              "      <td>N35427-0 N38515-0 N57813-1 N44352-0</td>\n",
              "    </tr>\n",
              "    <tr>\n",
              "      <th>3</th>\n",
              "      <td>156970</td>\n",
              "      <td>U93847</td>\n",
              "      <td>11/14/2019 6:13:29 AM</td>\n",
              "      <td>N61826 N39993 N58226 N55920 N1267 N35129 N2753...</td>\n",
              "      <td>N35427-0 N38515-0 N57813-1 N44352-0</td>\n",
              "    </tr>\n",
              "    <tr>\n",
              "      <th>4</th>\n",
              "      <td>156971</td>\n",
              "      <td>U93847</td>\n",
              "      <td>11/11/2019 5:54:22 AM</td>\n",
              "      <td>N61826 N39993 N58226 N55920 N1267 N35129 N2753...</td>\n",
              "      <td>N35427-0 N38515-0 N57813-1 N44352-0</td>\n",
              "    </tr>\n",
              "    <tr>\n",
              "      <th>...</th>\n",
              "      <td>...</td>\n",
              "      <td>...</td>\n",
              "      <td>...</td>\n",
              "      <td>...</td>\n",
              "      <td>...</td>\n",
              "    </tr>\n",
              "    <tr>\n",
              "      <th>32357</th>\n",
              "      <td>189324</td>\n",
              "      <td>U14379</td>\n",
              "      <td>11/12/2019 10:21:40 AM</td>\n",
              "      <td>N1569 N11071 N15254 N27448 N52677 N65066 N5518...</td>\n",
              "      <td>N18251-1 N33600-0 N16026-1 N35125-1 N48295-0 N...</td>\n",
              "    </tr>\n",
              "    <tr>\n",
              "      <th>32358</th>\n",
              "      <td>189325</td>\n",
              "      <td>U14379</td>\n",
              "      <td>11/12/2019 10:59:20 AM</td>\n",
              "      <td>N1569 N11071 N15254 N27448 N52677 N65066 N5518...</td>\n",
              "      <td>N18251-1 N33600-0 N16026-1 N35125-1 N48295-0 N...</td>\n",
              "    </tr>\n",
              "    <tr>\n",
              "      <th>32359</th>\n",
              "      <td>189326</td>\n",
              "      <td>U14379</td>\n",
              "      <td>11/11/2019 5:22:34 AM</td>\n",
              "      <td>N1569 N11071 N15254 N27448 N52677 N65066 N5518...</td>\n",
              "      <td>N18251-1 N33600-0 N16026-1 N35125-1 N48295-0 N...</td>\n",
              "    </tr>\n",
              "    <tr>\n",
              "      <th>32360</th>\n",
              "      <td>189327</td>\n",
              "      <td>U14379</td>\n",
              "      <td>11/12/2019 6:26:31 AM</td>\n",
              "      <td>N1569 N11071 N15254 N27448 N52677 N65066 N5518...</td>\n",
              "      <td>N18251-1 N33600-0 N16026-1 N35125-1 N48295-0 N...</td>\n",
              "    </tr>\n",
              "    <tr>\n",
              "      <th>32361</th>\n",
              "      <td>189328</td>\n",
              "      <td>U14379</td>\n",
              "      <td>11/11/2019 12:48:32 PM</td>\n",
              "      <td>N1569 N11071 N15254 N27448 N52677 N65066 N5518...</td>\n",
              "      <td>N18251-1 N33600-0 N16026-1 N35125-1 N48295-0 N...</td>\n",
              "    </tr>\n",
              "  </tbody>\n",
              "</table>\n",
              "<p>32362 rows × 5 columns</p>\n",
              "</div>\n",
              "      <button class=\"colab-df-convert\" onclick=\"convertToInteractive('df-440f9a64-e295-46e1-8ce2-abbe15b7b7bb')\"\n",
              "              title=\"Convert this dataframe to an interactive table.\"\n",
              "              style=\"display:none;\">\n",
              "        \n",
              "  <svg xmlns=\"http://www.w3.org/2000/svg\" height=\"24px\"viewBox=\"0 0 24 24\"\n",
              "       width=\"24px\">\n",
              "    <path d=\"M0 0h24v24H0V0z\" fill=\"none\"/>\n",
              "    <path d=\"M18.56 5.44l.94 2.06.94-2.06 2.06-.94-2.06-.94-.94-2.06-.94 2.06-2.06.94zm-11 1L8.5 8.5l.94-2.06 2.06-.94-2.06-.94L8.5 2.5l-.94 2.06-2.06.94zm10 10l.94 2.06.94-2.06 2.06-.94-2.06-.94-.94-2.06-.94 2.06-2.06.94z\"/><path d=\"M17.41 7.96l-1.37-1.37c-.4-.4-.92-.59-1.43-.59-.52 0-1.04.2-1.43.59L10.3 9.45l-7.72 7.72c-.78.78-.78 2.05 0 2.83L4 21.41c.39.39.9.59 1.41.59.51 0 1.02-.2 1.41-.59l7.78-7.78 2.81-2.81c.8-.78.8-2.07 0-2.86zM5.41 20L4 18.59l7.72-7.72 1.47 1.35L5.41 20z\"/>\n",
              "  </svg>\n",
              "      </button>\n",
              "      \n",
              "  <style>\n",
              "    .colab-df-container {\n",
              "      display:flex;\n",
              "      flex-wrap:wrap;\n",
              "      gap: 12px;\n",
              "    }\n",
              "\n",
              "    .colab-df-convert {\n",
              "      background-color: #E8F0FE;\n",
              "      border: none;\n",
              "      border-radius: 50%;\n",
              "      cursor: pointer;\n",
              "      display: none;\n",
              "      fill: #1967D2;\n",
              "      height: 32px;\n",
              "      padding: 0 0 0 0;\n",
              "      width: 32px;\n",
              "    }\n",
              "\n",
              "    .colab-df-convert:hover {\n",
              "      background-color: #E2EBFA;\n",
              "      box-shadow: 0px 1px 2px rgba(60, 64, 67, 0.3), 0px 1px 3px 1px rgba(60, 64, 67, 0.15);\n",
              "      fill: #174EA6;\n",
              "    }\n",
              "\n",
              "    [theme=dark] .colab-df-convert {\n",
              "      background-color: #3B4455;\n",
              "      fill: #D2E3FC;\n",
              "    }\n",
              "\n",
              "    [theme=dark] .colab-df-convert:hover {\n",
              "      background-color: #434B5C;\n",
              "      box-shadow: 0px 1px 3px 1px rgba(0, 0, 0, 0.15);\n",
              "      filter: drop-shadow(0px 1px 2px rgba(0, 0, 0, 0.3));\n",
              "      fill: #FFFFFF;\n",
              "    }\n",
              "  </style>\n",
              "\n",
              "      <script>\n",
              "        const buttonEl =\n",
              "          document.querySelector('#df-440f9a64-e295-46e1-8ce2-abbe15b7b7bb button.colab-df-convert');\n",
              "        buttonEl.style.display =\n",
              "          google.colab.kernel.accessAllowed ? 'block' : 'none';\n",
              "\n",
              "        async function convertToInteractive(key) {\n",
              "          const element = document.querySelector('#df-440f9a64-e295-46e1-8ce2-abbe15b7b7bb');\n",
              "          const dataTable =\n",
              "            await google.colab.kernel.invokeFunction('convertToInteractive',\n",
              "                                                     [key], {});\n",
              "          if (!dataTable) return;\n",
              "\n",
              "          const docLinkHtml = 'Like what you see? Visit the ' +\n",
              "            '<a target=\"_blank\" href=https://colab.research.google.com/notebooks/data_table.ipynb>data table notebook</a>'\n",
              "            + ' to learn more about interactive tables.';\n",
              "          element.innerHTML = '';\n",
              "          dataTable['output_type'] = 'display_data';\n",
              "          await google.colab.output.renderOutput(dataTable, element);\n",
              "          const docLink = document.createElement('div');\n",
              "          docLink.innerHTML = docLinkHtml;\n",
              "          element.appendChild(docLink);\n",
              "        }\n",
              "      </script>\n",
              "    </div>\n",
              "  </div>\n",
              "  "
            ]
          },
          "metadata": {},
          "execution_count": 9
        }
      ]
    },
    {
      "cell_type": "code",
      "source": [
        "factual_train_data = pd.read_table(train_behaviors_file)\n",
        "factual_train_data"
      ],
      "metadata": {
        "colab": {
          "base_uri": "https://localhost:8080/",
          "height": 659
        },
        "id": "pWTi2GLAReON",
        "outputId": "a331405e-5da5-44e0-ab66-f1e38596ff9d"
      },
      "execution_count": null,
      "outputs": [
        {
          "output_type": "execute_result",
          "data": {
            "text/plain": [
              "             1  U13740   11/11/2019 9:05:58 AM  \\\n",
              "0            2  U91836   11/12/2019 6:11:30 PM   \n",
              "1            3  U73700   11/14/2019 7:01:48 AM   \n",
              "2            4  U34670   11/11/2019 5:28:05 AM   \n",
              "3            5   U8125   11/12/2019 4:11:21 PM   \n",
              "4            6  U19739   11/11/2019 6:52:13 PM   \n",
              "...        ...     ...                     ...   \n",
              "156959  156961  U21593  11/14/2019 10:24:05 PM   \n",
              "156960  156962  U10123   11/13/2019 6:57:04 AM   \n",
              "156961  156963  U75630  11/14/2019 10:58:13 AM   \n",
              "156962  156964  U44625   11/13/2019 2:57:02 PM   \n",
              "156963  156965  U64800   11/14/2019 3:25:49 PM   \n",
              "\n",
              "       N55189 N42782 N34694 N45794 N18445 N63302 N10414 N19347 N31801  \\\n",
              "0       N31739 N6072 N63045 N23979 N35656 N43353 N8129...               \n",
              "1       N10732 N25792 N7563 N21087 N41087 N5445 N60384...               \n",
              "2       N45729 N2203 N871 N53880 N41375 N43142 N33013 ...               \n",
              "3                             N10078 N56514 N14904 N33740               \n",
              "4       N39074 N14343 N32607 N32320 N22007 N442 N19001...               \n",
              "...                                                   ...               \n",
              "156959  N7432 N58559 N1954 N43353 N14343 N13008 N28833...               \n",
              "156960  N9803 N104 N24462 N57318 N55743 N40526 N31726 ...               \n",
              "156961  N29898 N59704 N4408 N9803 N53644 N26103 N812 N...               \n",
              "156962  N4118 N47297 N3164 N43295 N6056 N38747 N42973 ...               \n",
              "156963                                      N22997 N48742               \n",
              "\n",
              "                                        N55689-1 N35729-0  \n",
              "0       N20678-0 N39317-0 N58114-0 N20495-0 N42977-0 N...  \n",
              "1       N50014-0 N23877-0 N35389-0 N49712-0 N16844-0 N...  \n",
              "2                     N35729-0 N33632-0 N49685-1 N27581-0  \n",
              "3       N39985-0 N36050-0 N16096-0 N8400-1 N22407-0 N6...  \n",
              "4             N21119-1 N53696-0 N33619-1 N25722-0 N2869-0  \n",
              "...                                                   ...  \n",
              "156959  N2235-0 N22975-0 N64037-0 N47652-0 N11378-0 N4...  \n",
              "156960  N3841-0 N61571-0 N58813-0 N28213-0 N4428-0 N25...  \n",
              "156961  N55913-0 N62318-0 N53515-0 N10960-0 N9135-0 N5...  \n",
              "156962  N6219-0 N3663-0 N31147-0 N58363-0 N4107-0 N457...  \n",
              "156963                N61233-0 N33828-1 N19661-0 N41934-0  \n",
              "\n",
              "[156964 rows x 5 columns]"
            ],
            "text/html": [
              "\n",
              "  <div id=\"df-b96380b1-4686-4df0-a616-cfc83e3b5583\">\n",
              "    <div class=\"colab-df-container\">\n",
              "      <div>\n",
              "<style scoped>\n",
              "    .dataframe tbody tr th:only-of-type {\n",
              "        vertical-align: middle;\n",
              "    }\n",
              "\n",
              "    .dataframe tbody tr th {\n",
              "        vertical-align: top;\n",
              "    }\n",
              "\n",
              "    .dataframe thead th {\n",
              "        text-align: right;\n",
              "    }\n",
              "</style>\n",
              "<table border=\"1\" class=\"dataframe\">\n",
              "  <thead>\n",
              "    <tr style=\"text-align: right;\">\n",
              "      <th></th>\n",
              "      <th>1</th>\n",
              "      <th>U13740</th>\n",
              "      <th>11/11/2019 9:05:58 AM</th>\n",
              "      <th>N55189 N42782 N34694 N45794 N18445 N63302 N10414 N19347 N31801</th>\n",
              "      <th>N55689-1 N35729-0</th>\n",
              "    </tr>\n",
              "  </thead>\n",
              "  <tbody>\n",
              "    <tr>\n",
              "      <th>0</th>\n",
              "      <td>2</td>\n",
              "      <td>U91836</td>\n",
              "      <td>11/12/2019 6:11:30 PM</td>\n",
              "      <td>N31739 N6072 N63045 N23979 N35656 N43353 N8129...</td>\n",
              "      <td>N20678-0 N39317-0 N58114-0 N20495-0 N42977-0 N...</td>\n",
              "    </tr>\n",
              "    <tr>\n",
              "      <th>1</th>\n",
              "      <td>3</td>\n",
              "      <td>U73700</td>\n",
              "      <td>11/14/2019 7:01:48 AM</td>\n",
              "      <td>N10732 N25792 N7563 N21087 N41087 N5445 N60384...</td>\n",
              "      <td>N50014-0 N23877-0 N35389-0 N49712-0 N16844-0 N...</td>\n",
              "    </tr>\n",
              "    <tr>\n",
              "      <th>2</th>\n",
              "      <td>4</td>\n",
              "      <td>U34670</td>\n",
              "      <td>11/11/2019 5:28:05 AM</td>\n",
              "      <td>N45729 N2203 N871 N53880 N41375 N43142 N33013 ...</td>\n",
              "      <td>N35729-0 N33632-0 N49685-1 N27581-0</td>\n",
              "    </tr>\n",
              "    <tr>\n",
              "      <th>3</th>\n",
              "      <td>5</td>\n",
              "      <td>U8125</td>\n",
              "      <td>11/12/2019 4:11:21 PM</td>\n",
              "      <td>N10078 N56514 N14904 N33740</td>\n",
              "      <td>N39985-0 N36050-0 N16096-0 N8400-1 N22407-0 N6...</td>\n",
              "    </tr>\n",
              "    <tr>\n",
              "      <th>4</th>\n",
              "      <td>6</td>\n",
              "      <td>U19739</td>\n",
              "      <td>11/11/2019 6:52:13 PM</td>\n",
              "      <td>N39074 N14343 N32607 N32320 N22007 N442 N19001...</td>\n",
              "      <td>N21119-1 N53696-0 N33619-1 N25722-0 N2869-0</td>\n",
              "    </tr>\n",
              "    <tr>\n",
              "      <th>...</th>\n",
              "      <td>...</td>\n",
              "      <td>...</td>\n",
              "      <td>...</td>\n",
              "      <td>...</td>\n",
              "      <td>...</td>\n",
              "    </tr>\n",
              "    <tr>\n",
              "      <th>156959</th>\n",
              "      <td>156961</td>\n",
              "      <td>U21593</td>\n",
              "      <td>11/14/2019 10:24:05 PM</td>\n",
              "      <td>N7432 N58559 N1954 N43353 N14343 N13008 N28833...</td>\n",
              "      <td>N2235-0 N22975-0 N64037-0 N47652-0 N11378-0 N4...</td>\n",
              "    </tr>\n",
              "    <tr>\n",
              "      <th>156960</th>\n",
              "      <td>156962</td>\n",
              "      <td>U10123</td>\n",
              "      <td>11/13/2019 6:57:04 AM</td>\n",
              "      <td>N9803 N104 N24462 N57318 N55743 N40526 N31726 ...</td>\n",
              "      <td>N3841-0 N61571-0 N58813-0 N28213-0 N4428-0 N25...</td>\n",
              "    </tr>\n",
              "    <tr>\n",
              "      <th>156961</th>\n",
              "      <td>156963</td>\n",
              "      <td>U75630</td>\n",
              "      <td>11/14/2019 10:58:13 AM</td>\n",
              "      <td>N29898 N59704 N4408 N9803 N53644 N26103 N812 N...</td>\n",
              "      <td>N55913-0 N62318-0 N53515-0 N10960-0 N9135-0 N5...</td>\n",
              "    </tr>\n",
              "    <tr>\n",
              "      <th>156962</th>\n",
              "      <td>156964</td>\n",
              "      <td>U44625</td>\n",
              "      <td>11/13/2019 2:57:02 PM</td>\n",
              "      <td>N4118 N47297 N3164 N43295 N6056 N38747 N42973 ...</td>\n",
              "      <td>N6219-0 N3663-0 N31147-0 N58363-0 N4107-0 N457...</td>\n",
              "    </tr>\n",
              "    <tr>\n",
              "      <th>156963</th>\n",
              "      <td>156965</td>\n",
              "      <td>U64800</td>\n",
              "      <td>11/14/2019 3:25:49 PM</td>\n",
              "      <td>N22997 N48742</td>\n",
              "      <td>N61233-0 N33828-1 N19661-0 N41934-0</td>\n",
              "    </tr>\n",
              "  </tbody>\n",
              "</table>\n",
              "<p>156964 rows × 5 columns</p>\n",
              "</div>\n",
              "      <button class=\"colab-df-convert\" onclick=\"convertToInteractive('df-b96380b1-4686-4df0-a616-cfc83e3b5583')\"\n",
              "              title=\"Convert this dataframe to an interactive table.\"\n",
              "              style=\"display:none;\">\n",
              "        \n",
              "  <svg xmlns=\"http://www.w3.org/2000/svg\" height=\"24px\"viewBox=\"0 0 24 24\"\n",
              "       width=\"24px\">\n",
              "    <path d=\"M0 0h24v24H0V0z\" fill=\"none\"/>\n",
              "    <path d=\"M18.56 5.44l.94 2.06.94-2.06 2.06-.94-2.06-.94-.94-2.06-.94 2.06-2.06.94zm-11 1L8.5 8.5l.94-2.06 2.06-.94-2.06-.94L8.5 2.5l-.94 2.06-2.06.94zm10 10l.94 2.06.94-2.06 2.06-.94-2.06-.94-.94-2.06-.94 2.06-2.06.94z\"/><path d=\"M17.41 7.96l-1.37-1.37c-.4-.4-.92-.59-1.43-.59-.52 0-1.04.2-1.43.59L10.3 9.45l-7.72 7.72c-.78.78-.78 2.05 0 2.83L4 21.41c.39.39.9.59 1.41.59.51 0 1.02-.2 1.41-.59l7.78-7.78 2.81-2.81c.8-.78.8-2.07 0-2.86zM5.41 20L4 18.59l7.72-7.72 1.47 1.35L5.41 20z\"/>\n",
              "  </svg>\n",
              "      </button>\n",
              "      \n",
              "  <style>\n",
              "    .colab-df-container {\n",
              "      display:flex;\n",
              "      flex-wrap:wrap;\n",
              "      gap: 12px;\n",
              "    }\n",
              "\n",
              "    .colab-df-convert {\n",
              "      background-color: #E8F0FE;\n",
              "      border: none;\n",
              "      border-radius: 50%;\n",
              "      cursor: pointer;\n",
              "      display: none;\n",
              "      fill: #1967D2;\n",
              "      height: 32px;\n",
              "      padding: 0 0 0 0;\n",
              "      width: 32px;\n",
              "    }\n",
              "\n",
              "    .colab-df-convert:hover {\n",
              "      background-color: #E2EBFA;\n",
              "      box-shadow: 0px 1px 2px rgba(60, 64, 67, 0.3), 0px 1px 3px 1px rgba(60, 64, 67, 0.15);\n",
              "      fill: #174EA6;\n",
              "    }\n",
              "\n",
              "    [theme=dark] .colab-df-convert {\n",
              "      background-color: #3B4455;\n",
              "      fill: #D2E3FC;\n",
              "    }\n",
              "\n",
              "    [theme=dark] .colab-df-convert:hover {\n",
              "      background-color: #434B5C;\n",
              "      box-shadow: 0px 1px 3px 1px rgba(0, 0, 0, 0.15);\n",
              "      filter: drop-shadow(0px 1px 2px rgba(0, 0, 0, 0.3));\n",
              "      fill: #FFFFFF;\n",
              "    }\n",
              "  </style>\n",
              "\n",
              "      <script>\n",
              "        const buttonEl =\n",
              "          document.querySelector('#df-b96380b1-4686-4df0-a616-cfc83e3b5583 button.colab-df-convert');\n",
              "        buttonEl.style.display =\n",
              "          google.colab.kernel.accessAllowed ? 'block' : 'none';\n",
              "\n",
              "        async function convertToInteractive(key) {\n",
              "          const element = document.querySelector('#df-b96380b1-4686-4df0-a616-cfc83e3b5583');\n",
              "          const dataTable =\n",
              "            await google.colab.kernel.invokeFunction('convertToInteractive',\n",
              "                                                     [key], {});\n",
              "          if (!dataTable) return;\n",
              "\n",
              "          const docLinkHtml = 'Like what you see? Visit the ' +\n",
              "            '<a target=\"_blank\" href=https://colab.research.google.com/notebooks/data_table.ipynb>data table notebook</a>'\n",
              "            + ' to learn more about interactive tables.';\n",
              "          element.innerHTML = '';\n",
              "          dataTable['output_type'] = 'display_data';\n",
              "          await google.colab.output.renderOutput(dataTable, element);\n",
              "          const docLink = document.createElement('div');\n",
              "          docLink.innerHTML = docLinkHtml;\n",
              "          element.appendChild(docLink);\n",
              "        }\n",
              "      </script>\n",
              "    </div>\n",
              "  </div>\n",
              "  "
            ]
          },
          "metadata": {},
          "execution_count": 10
        }
      ]
    },
    {
      "cell_type": "code",
      "source": [
        "with open(train_behaviors_file) as f:\n",
        "    factual_lines = f.readlines()\n",
        "\n",
        "with open(counterfactual_file) as f:\n",
        "    counterfactual_lines = f.readlines()\n",
        "\n",
        "factual_with_counterfactual_file = 'factual_with_counterfactual.tsv'\n",
        "with open(factual_with_counterfactual_file, 'w') as f:\n",
        "    factual_with_counterfactual_lines = factual_lines + counterfactual_lines\n",
        "    for line in factual_with_counterfactual_lines:\n",
        "        f.write(line)"
      ],
      "metadata": {
        "id": "-zWSWS0jRm8n"
      },
      "execution_count": null,
      "outputs": []
    },
    {
      "cell_type": "code",
      "source": [
        "pd.read_table(factual_with_counterfactual_file)"
      ],
      "metadata": {
        "colab": {
          "base_uri": "https://localhost:8080/",
          "height": 659
        },
        "id": "UNXmCO6hTqMP",
        "outputId": "d24926af-0cb1-42ff-f43d-bcbcd1f70c96"
      },
      "execution_count": null,
      "outputs": [
        {
          "output_type": "execute_result",
          "data": {
            "text/plain": [
              "             1  U13740   11/11/2019 9:05:58 AM  \\\n",
              "0            2  U91836   11/12/2019 6:11:30 PM   \n",
              "1            3  U73700   11/14/2019 7:01:48 AM   \n",
              "2            4  U34670   11/11/2019 5:28:05 AM   \n",
              "3            5   U8125   11/12/2019 4:11:21 PM   \n",
              "4            6  U19739   11/11/2019 6:52:13 PM   \n",
              "...        ...     ...                     ...   \n",
              "189322  189324  U14379  11/12/2019 10:21:40 AM   \n",
              "189323  189325  U14379  11/12/2019 10:59:20 AM   \n",
              "189324  189326  U14379   11/11/2019 5:22:34 AM   \n",
              "189325  189327  U14379   11/12/2019 6:26:31 AM   \n",
              "189326  189328  U14379  11/11/2019 12:48:32 PM   \n",
              "\n",
              "       N55189 N42782 N34694 N45794 N18445 N63302 N10414 N19347 N31801  \\\n",
              "0       N31739 N6072 N63045 N23979 N35656 N43353 N8129...               \n",
              "1       N10732 N25792 N7563 N21087 N41087 N5445 N60384...               \n",
              "2       N45729 N2203 N871 N53880 N41375 N43142 N33013 ...               \n",
              "3                             N10078 N56514 N14904 N33740               \n",
              "4       N39074 N14343 N32607 N32320 N22007 N442 N19001...               \n",
              "...                                                   ...               \n",
              "189322  N1569 N11071 N15254 N27448 N52677 N65066 N5518...               \n",
              "189323  N1569 N11071 N15254 N27448 N52677 N65066 N5518...               \n",
              "189324  N1569 N11071 N15254 N27448 N52677 N65066 N5518...               \n",
              "189325  N1569 N11071 N15254 N27448 N52677 N65066 N5518...               \n",
              "189326  N1569 N11071 N15254 N27448 N52677 N65066 N5518...               \n",
              "\n",
              "                                        N55689-1 N35729-0  \n",
              "0       N20678-0 N39317-0 N58114-0 N20495-0 N42977-0 N...  \n",
              "1       N50014-0 N23877-0 N35389-0 N49712-0 N16844-0 N...  \n",
              "2                     N35729-0 N33632-0 N49685-1 N27581-0  \n",
              "3       N39985-0 N36050-0 N16096-0 N8400-1 N22407-0 N6...  \n",
              "4             N21119-1 N53696-0 N33619-1 N25722-0 N2869-0  \n",
              "...                                                   ...  \n",
              "189322  N18251-1 N33600-0 N16026-1 N35125-1 N48295-0 N...  \n",
              "189323  N18251-1 N33600-0 N16026-1 N35125-1 N48295-0 N...  \n",
              "189324  N18251-1 N33600-0 N16026-1 N35125-1 N48295-0 N...  \n",
              "189325  N18251-1 N33600-0 N16026-1 N35125-1 N48295-0 N...  \n",
              "189326  N18251-1 N33600-0 N16026-1 N35125-1 N48295-0 N...  \n",
              "\n",
              "[189327 rows x 5 columns]"
            ],
            "text/html": [
              "\n",
              "  <div id=\"df-d563c6ba-cf56-4827-b929-f705e18da021\">\n",
              "    <div class=\"colab-df-container\">\n",
              "      <div>\n",
              "<style scoped>\n",
              "    .dataframe tbody tr th:only-of-type {\n",
              "        vertical-align: middle;\n",
              "    }\n",
              "\n",
              "    .dataframe tbody tr th {\n",
              "        vertical-align: top;\n",
              "    }\n",
              "\n",
              "    .dataframe thead th {\n",
              "        text-align: right;\n",
              "    }\n",
              "</style>\n",
              "<table border=\"1\" class=\"dataframe\">\n",
              "  <thead>\n",
              "    <tr style=\"text-align: right;\">\n",
              "      <th></th>\n",
              "      <th>1</th>\n",
              "      <th>U13740</th>\n",
              "      <th>11/11/2019 9:05:58 AM</th>\n",
              "      <th>N55189 N42782 N34694 N45794 N18445 N63302 N10414 N19347 N31801</th>\n",
              "      <th>N55689-1 N35729-0</th>\n",
              "    </tr>\n",
              "  </thead>\n",
              "  <tbody>\n",
              "    <tr>\n",
              "      <th>0</th>\n",
              "      <td>2</td>\n",
              "      <td>U91836</td>\n",
              "      <td>11/12/2019 6:11:30 PM</td>\n",
              "      <td>N31739 N6072 N63045 N23979 N35656 N43353 N8129...</td>\n",
              "      <td>N20678-0 N39317-0 N58114-0 N20495-0 N42977-0 N...</td>\n",
              "    </tr>\n",
              "    <tr>\n",
              "      <th>1</th>\n",
              "      <td>3</td>\n",
              "      <td>U73700</td>\n",
              "      <td>11/14/2019 7:01:48 AM</td>\n",
              "      <td>N10732 N25792 N7563 N21087 N41087 N5445 N60384...</td>\n",
              "      <td>N50014-0 N23877-0 N35389-0 N49712-0 N16844-0 N...</td>\n",
              "    </tr>\n",
              "    <tr>\n",
              "      <th>2</th>\n",
              "      <td>4</td>\n",
              "      <td>U34670</td>\n",
              "      <td>11/11/2019 5:28:05 AM</td>\n",
              "      <td>N45729 N2203 N871 N53880 N41375 N43142 N33013 ...</td>\n",
              "      <td>N35729-0 N33632-0 N49685-1 N27581-0</td>\n",
              "    </tr>\n",
              "    <tr>\n",
              "      <th>3</th>\n",
              "      <td>5</td>\n",
              "      <td>U8125</td>\n",
              "      <td>11/12/2019 4:11:21 PM</td>\n",
              "      <td>N10078 N56514 N14904 N33740</td>\n",
              "      <td>N39985-0 N36050-0 N16096-0 N8400-1 N22407-0 N6...</td>\n",
              "    </tr>\n",
              "    <tr>\n",
              "      <th>4</th>\n",
              "      <td>6</td>\n",
              "      <td>U19739</td>\n",
              "      <td>11/11/2019 6:52:13 PM</td>\n",
              "      <td>N39074 N14343 N32607 N32320 N22007 N442 N19001...</td>\n",
              "      <td>N21119-1 N53696-0 N33619-1 N25722-0 N2869-0</td>\n",
              "    </tr>\n",
              "    <tr>\n",
              "      <th>...</th>\n",
              "      <td>...</td>\n",
              "      <td>...</td>\n",
              "      <td>...</td>\n",
              "      <td>...</td>\n",
              "      <td>...</td>\n",
              "    </tr>\n",
              "    <tr>\n",
              "      <th>189322</th>\n",
              "      <td>189324</td>\n",
              "      <td>U14379</td>\n",
              "      <td>11/12/2019 10:21:40 AM</td>\n",
              "      <td>N1569 N11071 N15254 N27448 N52677 N65066 N5518...</td>\n",
              "      <td>N18251-1 N33600-0 N16026-1 N35125-1 N48295-0 N...</td>\n",
              "    </tr>\n",
              "    <tr>\n",
              "      <th>189323</th>\n",
              "      <td>189325</td>\n",
              "      <td>U14379</td>\n",
              "      <td>11/12/2019 10:59:20 AM</td>\n",
              "      <td>N1569 N11071 N15254 N27448 N52677 N65066 N5518...</td>\n",
              "      <td>N18251-1 N33600-0 N16026-1 N35125-1 N48295-0 N...</td>\n",
              "    </tr>\n",
              "    <tr>\n",
              "      <th>189324</th>\n",
              "      <td>189326</td>\n",
              "      <td>U14379</td>\n",
              "      <td>11/11/2019 5:22:34 AM</td>\n",
              "      <td>N1569 N11071 N15254 N27448 N52677 N65066 N5518...</td>\n",
              "      <td>N18251-1 N33600-0 N16026-1 N35125-1 N48295-0 N...</td>\n",
              "    </tr>\n",
              "    <tr>\n",
              "      <th>189325</th>\n",
              "      <td>189327</td>\n",
              "      <td>U14379</td>\n",
              "      <td>11/12/2019 6:26:31 AM</td>\n",
              "      <td>N1569 N11071 N15254 N27448 N52677 N65066 N5518...</td>\n",
              "      <td>N18251-1 N33600-0 N16026-1 N35125-1 N48295-0 N...</td>\n",
              "    </tr>\n",
              "    <tr>\n",
              "      <th>189326</th>\n",
              "      <td>189328</td>\n",
              "      <td>U14379</td>\n",
              "      <td>11/11/2019 12:48:32 PM</td>\n",
              "      <td>N1569 N11071 N15254 N27448 N52677 N65066 N5518...</td>\n",
              "      <td>N18251-1 N33600-0 N16026-1 N35125-1 N48295-0 N...</td>\n",
              "    </tr>\n",
              "  </tbody>\n",
              "</table>\n",
              "<p>189327 rows × 5 columns</p>\n",
              "</div>\n",
              "      <button class=\"colab-df-convert\" onclick=\"convertToInteractive('df-d563c6ba-cf56-4827-b929-f705e18da021')\"\n",
              "              title=\"Convert this dataframe to an interactive table.\"\n",
              "              style=\"display:none;\">\n",
              "        \n",
              "  <svg xmlns=\"http://www.w3.org/2000/svg\" height=\"24px\"viewBox=\"0 0 24 24\"\n",
              "       width=\"24px\">\n",
              "    <path d=\"M0 0h24v24H0V0z\" fill=\"none\"/>\n",
              "    <path d=\"M18.56 5.44l.94 2.06.94-2.06 2.06-.94-2.06-.94-.94-2.06-.94 2.06-2.06.94zm-11 1L8.5 8.5l.94-2.06 2.06-.94-2.06-.94L8.5 2.5l-.94 2.06-2.06.94zm10 10l.94 2.06.94-2.06 2.06-.94-2.06-.94-.94-2.06-.94 2.06-2.06.94z\"/><path d=\"M17.41 7.96l-1.37-1.37c-.4-.4-.92-.59-1.43-.59-.52 0-1.04.2-1.43.59L10.3 9.45l-7.72 7.72c-.78.78-.78 2.05 0 2.83L4 21.41c.39.39.9.59 1.41.59.51 0 1.02-.2 1.41-.59l7.78-7.78 2.81-2.81c.8-.78.8-2.07 0-2.86zM5.41 20L4 18.59l7.72-7.72 1.47 1.35L5.41 20z\"/>\n",
              "  </svg>\n",
              "      </button>\n",
              "      \n",
              "  <style>\n",
              "    .colab-df-container {\n",
              "      display:flex;\n",
              "      flex-wrap:wrap;\n",
              "      gap: 12px;\n",
              "    }\n",
              "\n",
              "    .colab-df-convert {\n",
              "      background-color: #E8F0FE;\n",
              "      border: none;\n",
              "      border-radius: 50%;\n",
              "      cursor: pointer;\n",
              "      display: none;\n",
              "      fill: #1967D2;\n",
              "      height: 32px;\n",
              "      padding: 0 0 0 0;\n",
              "      width: 32px;\n",
              "    }\n",
              "\n",
              "    .colab-df-convert:hover {\n",
              "      background-color: #E2EBFA;\n",
              "      box-shadow: 0px 1px 2px rgba(60, 64, 67, 0.3), 0px 1px 3px 1px rgba(60, 64, 67, 0.15);\n",
              "      fill: #174EA6;\n",
              "    }\n",
              "\n",
              "    [theme=dark] .colab-df-convert {\n",
              "      background-color: #3B4455;\n",
              "      fill: #D2E3FC;\n",
              "    }\n",
              "\n",
              "    [theme=dark] .colab-df-convert:hover {\n",
              "      background-color: #434B5C;\n",
              "      box-shadow: 0px 1px 3px 1px rgba(0, 0, 0, 0.15);\n",
              "      filter: drop-shadow(0px 1px 2px rgba(0, 0, 0, 0.3));\n",
              "      fill: #FFFFFF;\n",
              "    }\n",
              "  </style>\n",
              "\n",
              "      <script>\n",
              "        const buttonEl =\n",
              "          document.querySelector('#df-d563c6ba-cf56-4827-b929-f705e18da021 button.colab-df-convert');\n",
              "        buttonEl.style.display =\n",
              "          google.colab.kernel.accessAllowed ? 'block' : 'none';\n",
              "\n",
              "        async function convertToInteractive(key) {\n",
              "          const element = document.querySelector('#df-d563c6ba-cf56-4827-b929-f705e18da021');\n",
              "          const dataTable =\n",
              "            await google.colab.kernel.invokeFunction('convertToInteractive',\n",
              "                                                     [key], {});\n",
              "          if (!dataTable) return;\n",
              "\n",
              "          const docLinkHtml = 'Like what you see? Visit the ' +\n",
              "            '<a target=\"_blank\" href=https://colab.research.google.com/notebooks/data_table.ipynb>data table notebook</a>'\n",
              "            + ' to learn more about interactive tables.';\n",
              "          element.innerHTML = '';\n",
              "          dataTable['output_type'] = 'display_data';\n",
              "          await google.colab.output.renderOutput(dataTable, element);\n",
              "          const docLink = document.createElement('div');\n",
              "          docLink.innerHTML = docLinkHtml;\n",
              "          element.appendChild(docLink);\n",
              "        }\n",
              "      </script>\n",
              "    </div>\n",
              "  </div>\n",
              "  "
            ]
          },
          "metadata": {},
          "execution_count": 12
        }
      ]
    },
    {
      "cell_type": "code",
      "execution_count": null,
      "metadata": {
        "colab": {
          "base_uri": "https://localhost:8080/"
        },
        "id": "-u6cPxpPM-SA",
        "outputId": "618bb6e0-d964-4b35-8e1a-1d4d941d759a"
      },
      "outputs": [
        {
          "output_type": "stream",
          "name": "stderr",
          "text": [
            "/usr/local/lib/python3.8/dist-packages/keras/optimizers/optimizer_v2/adam.py:110: UserWarning: The `lr` argument is deprecated, use `learning_rate` instead.\n",
            "  super(Adam, self).__init__(name, **kwargs)\n",
            "step 2790 , total_loss: 0.7206, data_loss: 0.8887: : 2794it [05:13,  8.90it/s]\n",
            "0it [00:00, ?it/s]/usr/local/lib/python3.8/dist-packages/keras/engine/training_v1.py:2067: UserWarning: `Model.state_updates` will be removed in a future version. This property should not be used in TensorFlow 2.0, as `updates` are applied automatically.\n",
            "  updates=self.state_updates,\n",
            "1326it [00:02, 533.10it/s]\n",
            "2286it [00:18, 120.77it/s]\n",
            "73152it [00:09, 7669.14it/s]\n"
          ]
        },
        {
          "output_type": "stream",
          "name": "stdout",
          "text": [
            "at epoch 1\n",
            "train info: logloss loss:0.7205041050777617\n",
            "eval info: group_auc:0.4906, mean_mrr:0.2094, ndcg@10:0.2748, ndcg@5:0.2077\n",
            "at epoch 1 , train time: 313.8 eval time: 94.7\n"
          ]
        },
        {
          "output_type": "stream",
          "name": "stderr",
          "text": [
            "step 2790 , total_loss: 0.5918, data_loss: 0.7462: : 2794it [05:07,  9.10it/s]\n",
            "1326it [00:01, 851.40it/s]\n",
            "2286it [00:14, 152.47it/s]\n",
            "73152it [00:09, 7556.62it/s]\n"
          ]
        },
        {
          "output_type": "stream",
          "name": "stdout",
          "text": [
            "at epoch 2\n",
            "train info: logloss loss:0.5917865971233975\n",
            "eval info: group_auc:0.4849, mean_mrr:0.2091, ndcg@10:0.2749, ndcg@5:0.2104\n",
            "at epoch 2 , train time: 307.1 eval time: 90.3\n"
          ]
        },
        {
          "output_type": "stream",
          "name": "stderr",
          "text": [
            "step 2790 , total_loss: 0.4727, data_loss: 0.2915: : 2794it [05:07,  9.09it/s]\n",
            "1326it [00:01, 898.25it/s]\n",
            "2286it [00:14, 153.05it/s]\n",
            "73152it [00:09, 7707.42it/s]\n"
          ]
        },
        {
          "output_type": "stream",
          "name": "stdout",
          "text": [
            "at epoch 3\n",
            "train info: logloss loss:0.4725730330725582\n",
            "eval info: group_auc:0.4909, mean_mrr:0.2131, ndcg@10:0.2788, ndcg@5:0.2155\n",
            "at epoch 3 , train time: 307.2 eval time: 89.6\n"
          ]
        },
        {
          "output_type": "stream",
          "name": "stderr",
          "text": [
            "step 2790 , total_loss: 0.3410, data_loss: 0.0676: : 2794it [05:07,  9.09it/s]\n",
            "1326it [00:01, 879.41it/s]\n",
            "2286it [00:15, 152.30it/s]\n",
            "73152it [00:09, 7600.90it/s]\n"
          ]
        },
        {
          "output_type": "stream",
          "name": "stdout",
          "text": [
            "at epoch 4\n",
            "train info: logloss loss:0.34104173585041364\n",
            "eval info: group_auc:0.4907, mean_mrr:0.211, ndcg@10:0.277, ndcg@5:0.2136\n",
            "at epoch 4 , train time: 307.4 eval time: 90.0\n"
          ]
        },
        {
          "output_type": "stream",
          "name": "stderr",
          "text": [
            "step 2790 , total_loss: 0.2461, data_loss: 0.1773: : 2794it [05:07,  9.10it/s]\n",
            "1326it [00:01, 899.89it/s]\n",
            "2286it [00:14, 153.01it/s]\n",
            "73152it [00:09, 7691.15it/s]\n"
          ]
        },
        {
          "output_type": "stream",
          "name": "stdout",
          "text": [
            "at epoch 5\n",
            "train info: logloss loss:0.24601239433282762\n",
            "eval info: group_auc:0.4994, mean_mrr:0.2154, ndcg@10:0.2831, ndcg@5:0.2192\n",
            "at epoch 5 , train time: 307.2 eval time: 89.8\n",
            "CPU times: user 17min 10s, sys: 9min 47s, total: 26min 57s\n",
            "Wall time: 33min 18s\n"
          ]
        },
        {
          "output_type": "execute_result",
          "data": {
            "text/plain": [
              "<recommenders.models.newsrec.models.nrms.NRMSModel at 0x7fb2c23c2a30>"
            ]
          },
          "metadata": {},
          "execution_count": 13
        }
      ],
      "source": [
        "%%time\n",
        "model = NRMSModel(hparams, iterator, seed=seed)\n",
        "model.fit(train_news_file, counterfactual_file, valid_news_file, valid_behaviors_file)"
      ]
    },
    {
      "cell_type": "code",
      "source": [
        "%%time\n",
        "model = NRMSModel(hparams, iterator, seed=seed)\n",
        "model.fit(train_news_file, factual_with_counterfactual_file, valid_news_file, valid_behaviors_file)"
      ],
      "metadata": {
        "colab": {
          "base_uri": "https://localhost:8080/"
        },
        "id": "OwQkjzBzzuKo",
        "outputId": "93057242-55a6-46b3-b241-920dbe37df50"
      },
      "execution_count": null,
      "outputs": [
        {
          "output_type": "stream",
          "name": "stderr",
          "text": [
            "/usr/local/lib/python3.8/dist-packages/keras/optimizers/optimizer_v2/adam.py:110: UserWarning: The `lr` argument is deprecated, use `learning_rate` instead.\n",
            "  super(Adam, self).__init__(name, **kwargs)\n",
            "step 10180 , total_loss: 1.2096, data_loss: 1.2624: : 10180it [18:51,  9.00it/s]\n",
            "0it [00:00, ?it/s]/usr/local/lib/python3.8/dist-packages/keras/engine/training_v1.py:2067: UserWarning: `Model.state_updates` will be removed in a future version. This property should not be used in TensorFlow 2.0, as `updates` are applied automatically.\n",
            "  updates=self.state_updates,\n",
            "1326it [00:02, 489.20it/s]\n",
            "2286it [00:18, 122.62it/s]\n",
            "73152it [00:09, 7717.43it/s]\n"
          ]
        },
        {
          "output_type": "stream",
          "name": "stdout",
          "text": [
            "at epoch 1\n",
            "train info: logloss loss:1.209552888566361\n",
            "eval info: group_auc:0.6257, mean_mrr:0.2832, ndcg@10:0.3739, ndcg@5:0.3089\n",
            "at epoch 1 , train time: 1131.4 eval time: 95.0\n"
          ]
        },
        {
          "output_type": "stream",
          "name": "stderr",
          "text": [
            "step 10180 , total_loss: 1.1079, data_loss: 1.2139: : 10180it [18:39,  9.09it/s]\n",
            "1326it [00:01, 869.76it/s]\n",
            "2286it [00:15, 151.60it/s]\n",
            "73152it [00:09, 7708.87it/s]\n"
          ]
        },
        {
          "output_type": "stream",
          "name": "stdout",
          "text": [
            "at epoch 2\n",
            "train info: logloss loss:1.1078636948860934\n",
            "eval info: group_auc:0.6284, mean_mrr:0.2901, ndcg@10:0.381, ndcg@5:0.3171\n",
            "at epoch 2 , train time: 1120.0 eval time: 90.5\n"
          ]
        },
        {
          "output_type": "stream",
          "name": "stderr",
          "text": [
            "step 10180 , total_loss: 1.0567, data_loss: 1.6724: : 10180it [18:39,  9.09it/s]\n",
            "1326it [00:01, 884.62it/s]\n",
            "2286it [00:15, 151.81it/s]\n",
            "73152it [00:09, 7647.39it/s]\n"
          ]
        },
        {
          "output_type": "stream",
          "name": "stdout",
          "text": [
            "at epoch 3\n",
            "train info: logloss loss:1.0567065000358404\n",
            "eval info: group_auc:0.635, mean_mrr:0.2976, ndcg@10:0.3891, ndcg@5:0.327\n",
            "at epoch 3 , train time: 1119.8 eval time: 90.4\n"
          ]
        },
        {
          "output_type": "stream",
          "name": "stderr",
          "text": [
            "step 10180 , total_loss: 1.0157, data_loss: 0.7851: : 10180it [18:39,  9.09it/s]\n",
            "1326it [00:01, 880.22it/s]\n",
            "2286it [00:15, 151.81it/s]\n",
            "73152it [00:09, 7769.94it/s]\n"
          ]
        },
        {
          "output_type": "stream",
          "name": "stdout",
          "text": [
            "at epoch 4\n",
            "train info: logloss loss:1.015690651402785\n",
            "eval info: group_auc:0.6376, mean_mrr:0.2987, ndcg@10:0.3896, ndcg@5:0.3259\n",
            "at epoch 4 , train time: 1119.7 eval time: 90.2\n"
          ]
        },
        {
          "output_type": "stream",
          "name": "stderr",
          "text": [
            "step 10180 , total_loss: 0.9794, data_loss: 1.5101: : 10180it [18:40,  9.09it/s]\n",
            "1326it [00:01, 871.62it/s]\n",
            "2286it [00:14, 152.48it/s]\n",
            "73152it [00:09, 7692.04it/s]\n"
          ]
        },
        {
          "output_type": "stream",
          "name": "stdout",
          "text": [
            "at epoch 5\n",
            "train info: logloss loss:0.9793790151202257\n",
            "eval info: group_auc:0.6387, mean_mrr:0.2994, ndcg@10:0.3902, ndcg@5:0.3269\n",
            "at epoch 5 , train time: 1120.3 eval time: 90.3\n",
            "CPU times: user 40min 47s, sys: 14min 20s, total: 55min 8s\n",
            "Wall time: 1h 41min 9s\n"
          ]
        },
        {
          "output_type": "execute_result",
          "data": {
            "text/plain": [
              "<recommenders.models.newsrec.models.nrms.NRMSModel at 0x7fb1cfbc4ac0>"
            ]
          },
          "metadata": {},
          "execution_count": 14
        }
      ]
    },
    {
      "cell_type": "code",
      "source": [
        "hparams"
      ],
      "metadata": {
        "id": "BqTBLRQHHkw0",
        "colab": {
          "base_uri": "https://localhost:8080/"
        },
        "outputId": "a031195d-e256-48fc-c749-c2ab415a3b14"
      },
      "execution_count": null,
      "outputs": [
        {
          "output_type": "execute_result",
          "data": {
            "text/plain": [
              "HParams object with values {'support_quick_scoring': True, 'dropout': 0.2, 'attention_hidden_dim': 200, 'head_num': 20, 'head_dim': 20, 'filter_num': 200, 'window_size': 3, 'vert_emb_dim': 100, 'subvert_emb_dim': 100, 'gru_unit': 400, 'type': 'ini', 'user_emb_dim': 50, 'learning_rate': 0.0001, 'optimizer': 'adam', 'epochs': 5, 'batch_size': 32, 'show_step': 10, 'title_size': 30, 'his_size': 50, 'data_format': 'news', 'npratio': 4, 'metrics': ['group_auc', 'mean_mrr', 'ndcg@5;10'], 'word_emb_dim': 300, 'model_type': 'nrms', 'loss': 'cross_entropy_loss', 'wordEmb_file': '/tmp/tmplzsqqmqc/utils/embedding.npy', 'wordDict_file': '/tmp/tmplzsqqmqc/utils/word_dict.pkl', 'userDict_file': '/tmp/tmplzsqqmqc/utils/uid2index.pkl'}"
            ]
          },
          "metadata": {},
          "execution_count": 15
        }
      ]
    },
    {
      "cell_type": "code",
      "execution_count": null,
      "metadata": {
        "id": "Yj25ajVnM-SA"
      },
      "outputs": [],
      "source": [
        "%%time\n",
        "res_syn = model.run_eval(valid_news_file, valid_behaviors_file)\n",
        "print(res_syn)\n"
      ]
    },
    {
      "cell_type": "code",
      "execution_count": null,
      "metadata": {
        "id": "0wPTJ-ZGM-SA"
      },
      "outputs": [],
      "source": [
        "sb.glue(\"res_syn\", res_syn)"
      ]
    },
    {
      "cell_type": "markdown",
      "metadata": {
        "id": "9fn3nSAxM-SA"
      },
      "source": [
        "## Save the model"
      ]
    },
    {
      "cell_type": "code",
      "execution_count": null,
      "metadata": {
        "id": "sH2tOTA-M-SB"
      },
      "outputs": [],
      "source": [
        "model_path = os.path.join(data_path, \"model\")\n",
        "os.makedirs(model_path, exist_ok=True)\n",
        "\n",
        "model.model.save_weights(os.path.join(model_path, \"nrms_ckpt\"))"
      ]
    },
    {
      "cell_type": "markdown",
      "metadata": {
        "id": "I0wO6xheM-SB"
      },
      "source": [
        "## Output Predcition File\n",
        "This code segment is used to generate the prediction.zip file, which is in the same format in [MIND Competition Submission Tutorial](https://competitions.codalab.org/competitions/24122#learn_the_details-submission-guidelines).\n",
        "\n",
        "Please change the `MIND_type` parameter to `large` if you want to submit your prediction to [MIND Competition](https://msnews.github.io/competition.html)."
      ]
    },
    {
      "cell_type": "code",
      "execution_count": null,
      "metadata": {
        "id": "aIiGEmHpM-SB",
        "outputId": "18d9a94f-c03e-4bda-851c-3050121887b5"
      },
      "outputs": [
        {
          "name": "stderr",
          "output_type": "stream",
          "text": [
            "586it [00:01, 399.64it/s]\n",
            "236it [00:03, 67.94it/s]\n",
            "7538it [00:00, 8052.34it/s]\n"
          ]
        }
      ],
      "source": [
        "group_impr_indexes, group_labels, group_preds = model.run_fast_eval(valid_news_file, valid_behaviors_file)"
      ]
    },
    {
      "cell_type": "code",
      "execution_count": null,
      "metadata": {
        "id": "TL5N-H-4M-SB",
        "outputId": "1b2f3064-16b8-4069-8296-83c256bcd1e5"
      },
      "outputs": [
        {
          "name": "stderr",
          "output_type": "stream",
          "text": [
            "7538it [00:00, 35200.73it/s]\n"
          ]
        }
      ],
      "source": [
        "with open(os.path.join(data_path, 'prediction.txt'), 'w') as f:\n",
        "    for impr_index, preds in tqdm(zip(group_impr_indexes, group_preds)):\n",
        "        impr_index += 1\n",
        "        pred_rank = (np.argsort(np.argsort(preds)[::-1]) + 1).tolist()\n",
        "        pred_rank = '[' + ','.join([str(i) for i in pred_rank]) + ']'\n",
        "        f.write(' '.join([str(impr_index), pred_rank])+ '\\n')"
      ]
    },
    {
      "cell_type": "code",
      "execution_count": null,
      "metadata": {
        "id": "cWz6TkQpM-SB"
      },
      "outputs": [],
      "source": [
        "f = zipfile.ZipFile(os.path.join(data_path, 'prediction.zip'), 'w', zipfile.ZIP_DEFLATED)\n",
        "f.write(os.path.join(data_path, 'prediction.txt'), arcname='prediction.txt')\n",
        "f.close()"
      ]
    },
    {
      "cell_type": "markdown",
      "metadata": {
        "id": "BkxzLjpQM-SC"
      },
      "source": [
        "## Reference\n",
        "\\[1\\] Wu et al. \"Neural News Recommendation with Multi-Head Self-Attention.\" in Proceedings of the 2019 Conference on Empirical Methods in Natural Language Processing and the 9th International Joint Conference on Natural Language Processing (EMNLP-IJCNLP)<br>\n",
        "\\[2\\] Wu, Fangzhao, et al. \"MIND: A Large-scale Dataset for News Recommendation\" Proceedings of the 58th Annual Meeting of the Association for Computational Linguistics. https://msnews.github.io/competition.html <br>\n",
        "\\[3\\] GloVe: Global Vectors for Word Representation. https://nlp.stanford.edu/projects/glove/"
      ]
    }
  ],
  "metadata": {
    "celltoolbar": "Tags",
    "interpreter": {
      "hash": "3a9a0c422ff9f08d62211b9648017c63b0a26d2c935edc37ebb8453675d13bb5"
    },
    "kernelspec": {
      "display_name": "Python 3.7.11 64-bit ('tf2': conda)",
      "name": "python3"
    },
    "language_info": {
      "codemirror_mode": {
        "name": "ipython",
        "version": 3
      },
      "file_extension": ".py",
      "mimetype": "text/x-python",
      "name": "python",
      "nbconvert_exporter": "python",
      "pygments_lexer": "ipython3",
      "version": "3.7.11"
    },
    "colab": {
      "provenance": []
    },
    "accelerator": "GPU",
    "gpuClass": "premium"
  },
  "nbformat": 4,
  "nbformat_minor": 0
}