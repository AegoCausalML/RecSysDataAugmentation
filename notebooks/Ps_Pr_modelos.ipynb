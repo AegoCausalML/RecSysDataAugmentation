{
 "cells": [
  {
   "cell_type": "code",
   "execution_count": 1,
   "metadata": {
    "colab": {
     "base_uri": "https://localhost:8080/"
    },
    "id": "tT7wkV2O1KZL",
    "outputId": "d71f3007-5a7b-49e4-b094-c612c71993c9"
   },
   "outputs": [
    {
     "name": "stdout",
     "output_type": "stream",
     "text": [
      "Collecting recommenders\n",
      "  Downloading recommenders-1.1.1-py3-none-any.whl (339 kB)\n",
      "\u001b[K     |████████████████████████████████| 339 kB 2.5 MB/s eta 0:00:01\n",
      "\u001b[?25hCollecting nltk<4,>=3.4\n",
      "  Using cached nltk-3.7-py3-none-any.whl (1.5 MB)\n",
      "Requirement already satisfied: numpy>=1.19 in /Users/zeba/opt/anaconda3/envs/dl_env/lib/python3.8/site-packages (from recommenders) (1.21.4)\n",
      "Collecting transformers<5,>=2.5.0\n",
      "  Downloading transformers-4.25.1-py3-none-any.whl (5.8 MB)\n",
      "\u001b[K     |████████████████████████████████| 5.8 MB 14.8 MB/s eta 0:00:01\n",
      "\u001b[?25hCollecting pyyaml<6,>=5.4.1\n",
      "  Downloading PyYAML-5.4.1-cp38-cp38-macosx_10_9_x86_64.whl (253 kB)\n",
      "\u001b[K     |████████████████████████████████| 253 kB 47.6 MB/s eta 0:00:01\n",
      "\u001b[?25hRequirement already satisfied: seaborn<1,>=0.8.1 in /Users/zeba/opt/anaconda3/envs/dl_env/lib/python3.8/site-packages (from recommenders) (0.11.2)\n",
      "Collecting scikit-surprise>=1.0.6\n",
      "  Downloading scikit-surprise-1.1.3.tar.gz (771 kB)\n",
      "\u001b[K     |████████████████████████████████| 771 kB 22.2 MB/s eta 0:00:01\n",
      "\u001b[?25hCollecting cornac<2,>=1.1.2\n",
      "  Downloading cornac-1.14.2-cp38-cp38-macosx_10_14_x86_64.whl (3.0 MB)\n",
      "\u001b[K     |████████████████████████████████| 3.0 MB 116 kB/s eta 0:00:01\n",
      "\u001b[?25hRequirement already satisfied: tqdm<5,>=4.31.1 in /Users/zeba/opt/anaconda3/envs/dl_env/lib/python3.8/site-packages (from recommenders) (4.64.0)\n",
      "Requirement already satisfied: scipy<2,>=1.0.0 in /Users/zeba/opt/anaconda3/envs/dl_env/lib/python3.8/site-packages (from recommenders) (1.7.3)\n",
      "Collecting pandera[strategies]>=0.6.5\n",
      "  Downloading pandera-0.13.4-py3-none-any.whl (122 kB)\n",
      "\u001b[K     |████████████████████████████████| 122 kB 31.0 MB/s eta 0:00:01\n",
      "\u001b[?25hCollecting lightfm<2,>=1.15\n",
      "  Downloading lightfm-1.16.tar.gz (310 kB)\n",
      "\u001b[K     |████████████████████████████████| 310 kB 27.9 MB/s eta 0:00:01\n",
      "\u001b[?25hRequirement already satisfied: jinja2<3.1,>=2 in /Users/zeba/opt/anaconda3/envs/dl_env/lib/python3.8/site-packages (from recommenders) (3.0.3)\n",
      "Requirement already satisfied: matplotlib<4,>=2.2.2 in /Users/zeba/opt/anaconda3/envs/dl_env/lib/python3.8/site-packages (from recommenders) (3.5.1)\n",
      "Collecting numba<1,>=0.38.1\n",
      "  Downloading numba-0.56.4-cp38-cp38-macosx_10_14_x86_64.whl (2.4 MB)\n",
      "\u001b[K     |████████████████████████████████| 2.4 MB 58.4 MB/s eta 0:00:01\n",
      "\u001b[?25hCollecting lightgbm>=2.2.1\n",
      "  Downloading lightgbm-3.3.3-py3-none-macosx_10_15_x86_64.macosx_11_6_x86_64.macosx_12_0_x86_64.whl (1.3 MB)\n",
      "\u001b[K     |████████████████████████████████| 1.3 MB 20.7 MB/s eta 0:00:01\n",
      "\u001b[?25hCollecting category-encoders<2,>=1.3.0\n",
      "  Downloading category_encoders-1.3.0-py2.py3-none-any.whl (61 kB)\n",
      "\u001b[K     |████████████████████████████████| 61 kB 6.2 MB/s  eta 0:00:01\n",
      "\u001b[?25hRequirement already satisfied: scikit-learn<1.0.3,>=0.22.1 in /Users/zeba/opt/anaconda3/envs/dl_env/lib/python3.8/site-packages (from recommenders) (1.0.2)\n",
      "Requirement already satisfied: pandas<2,>1.0.3 in /Users/zeba/opt/anaconda3/envs/dl_env/lib/python3.8/site-packages (from recommenders) (1.4.3)\n",
      "Collecting retrying>=1.3.3\n",
      "  Downloading retrying-1.3.4-py3-none-any.whl (11 kB)\n",
      "Requirement already satisfied: requests<3,>=2.0.0 in /Users/zeba/opt/anaconda3/envs/dl_env/lib/python3.8/site-packages (from recommenders) (2.28.1)\n",
      "Collecting bottleneck<2,>=1.2.1\n",
      "  Downloading Bottleneck-1.3.5-cp38-cp38-macosx_10_9_x86_64.whl (118 kB)\n",
      "\u001b[K     |████████████████████████████████| 118 kB 26.2 MB/s eta 0:00:01\n",
      "\u001b[?25hCollecting memory-profiler<1,>=0.54.0\n",
      "  Downloading memory_profiler-0.61.0-py3-none-any.whl (31 kB)\n",
      "Collecting statsmodels>=0.6.1\n",
      "  Downloading statsmodels-0.13.5-cp38-cp38-macosx_10_9_x86_64.whl (9.6 MB)\n",
      "\u001b[K     |████████████████████████████████| 9.6 MB 70.9 MB/s eta 0:00:01\n",
      "\u001b[?25hCollecting patsy>=0.4.1\n",
      "  Downloading patsy-0.5.3-py2.py3-none-any.whl (233 kB)\n",
      "\u001b[K     |████████████████████████████████| 233 kB 22.6 MB/s eta 0:00:01\n",
      "\u001b[?25hCollecting powerlaw\n",
      "  Downloading powerlaw-1.5-py3-none-any.whl (24 kB)\n",
      "Requirement already satisfied: MarkupSafe>=2.0 in /Users/zeba/opt/anaconda3/envs/dl_env/lib/python3.8/site-packages (from jinja2<3.1,>=2->recommenders) (2.0.1)\n",
      "Requirement already satisfied: wheel in /Users/zeba/opt/anaconda3/envs/dl_env/lib/python3.8/site-packages (from lightgbm>=2.2.1->recommenders) (0.37.0)\n",
      "Requirement already satisfied: pillow>=6.2.0 in /Users/zeba/opt/anaconda3/envs/dl_env/lib/python3.8/site-packages (from matplotlib<4,>=2.2.2->recommenders) (8.4.0)\n",
      "Requirement already satisfied: python-dateutil>=2.7 in /Users/zeba/opt/anaconda3/envs/dl_env/lib/python3.8/site-packages (from matplotlib<4,>=2.2.2->recommenders) (2.8.2)\n",
      "Requirement already satisfied: cycler>=0.10 in /Users/zeba/opt/anaconda3/envs/dl_env/lib/python3.8/site-packages (from matplotlib<4,>=2.2.2->recommenders) (0.11.0)\n",
      "Requirement already satisfied: kiwisolver>=1.0.1 in /Users/zeba/opt/anaconda3/envs/dl_env/lib/python3.8/site-packages (from matplotlib<4,>=2.2.2->recommenders) (1.3.2)\n",
      "Requirement already satisfied: pyparsing>=2.2.1 in /Users/zeba/opt/anaconda3/envs/dl_env/lib/python3.8/site-packages (from matplotlib<4,>=2.2.2->recommenders) (3.0.6)\n",
      "Requirement already satisfied: packaging>=20.0 in /Users/zeba/opt/anaconda3/envs/dl_env/lib/python3.8/site-packages (from matplotlib<4,>=2.2.2->recommenders) (21.3)\n",
      "Requirement already satisfied: fonttools>=4.22.0 in /Users/zeba/opt/anaconda3/envs/dl_env/lib/python3.8/site-packages (from matplotlib<4,>=2.2.2->recommenders) (4.28.5)\n",
      "Collecting psutil\n",
      "  Downloading psutil-5.9.4-cp36-abi3-macosx_10_9_x86_64.whl (243 kB)\n",
      "\u001b[K     |████████████████████████████████| 243 kB 26.4 MB/s eta 0:00:01\n",
      "\u001b[?25hRequirement already satisfied: joblib in /Users/zeba/opt/anaconda3/envs/dl_env/lib/python3.8/site-packages (from nltk<4,>=3.4->recommenders) (1.1.0)\n",
      "Collecting click\n",
      "  Using cached click-8.1.3-py3-none-any.whl (96 kB)\n",
      "Collecting regex>=2021.8.3\n",
      "  Using cached regex-2022.10.31-cp38-cp38-macosx_10_9_x86_64.whl (294 kB)\n",
      "Collecting llvmlite<0.40,>=0.39.0dev0\n",
      "  Downloading llvmlite-0.39.1-cp38-cp38-macosx_10_9_x86_64.whl (25.5 MB)\n",
      "\u001b[K     |████████████████████████████████| 25.5 MB 70.2 MB/s eta 0:00:01\n",
      "\u001b[?25hRequirement already satisfied: setuptools in /Users/zeba/opt/anaconda3/envs/dl_env/lib/python3.8/site-packages (from numba<1,>=0.38.1->recommenders) (58.0.4)\n",
      "Requirement already satisfied: importlib-metadata in /Users/zeba/opt/anaconda3/envs/dl_env/lib/python3.8/site-packages (from numba<1,>=0.38.1->recommenders) (4.12.0)\n",
      "Requirement already satisfied: pytz>=2020.1 in /Users/zeba/opt/anaconda3/envs/dl_env/lib/python3.8/site-packages (from pandas<2,>1.0.3->recommenders) (2022.1)\n",
      "Collecting wrapt\n",
      "  Downloading wrapt-1.14.1-cp38-cp38-macosx_10_9_x86_64.whl (35 kB)\n",
      "Collecting pydantic\n",
      "  Downloading pydantic-1.10.2-cp38-cp38-macosx_10_9_x86_64.whl (3.1 MB)\n",
      "\u001b[K     |████████████████████████████████| 3.1 MB 27.9 MB/s eta 0:00:01\n",
      "\u001b[?25hCollecting typing-inspect>=0.6.0\n",
      "  Downloading typing_inspect-0.8.0-py3-none-any.whl (8.7 kB)\n",
      "Collecting hypothesis>=5.41.1\n",
      "  Downloading hypothesis-6.60.0-py3-none-any.whl (398 kB)\n",
      "\u001b[K     |████████████████████████████████| 398 kB 57.5 MB/s eta 0:00:01\n",
      "\u001b[?25hRequirement already satisfied: attrs>=19.2.0 in /Users/zeba/opt/anaconda3/envs/dl_env/lib/python3.8/site-packages (from hypothesis>=5.41.1->pandera[strategies]>=0.6.5->recommenders) (21.2.0)\n",
      "Collecting sortedcontainers<3.0.0,>=2.1.0\n",
      "  Downloading sortedcontainers-2.4.0-py2.py3-none-any.whl (29 kB)\n",
      "Collecting exceptiongroup>=1.0.0\n",
      "  Downloading exceptiongroup-1.0.4-py3-none-any.whl (14 kB)\n",
      "Requirement already satisfied: six in /Users/zeba/opt/anaconda3/envs/dl_env/lib/python3.8/site-packages (from patsy>=0.4.1->category-encoders<2,>=1.3.0->recommenders) (1.16.0)\n",
      "Requirement already satisfied: certifi>=2017.4.17 in /Users/zeba/opt/anaconda3/envs/dl_env/lib/python3.8/site-packages (from requests<3,>=2.0.0->recommenders) (2021.10.8)\n",
      "Requirement already satisfied: urllib3<1.27,>=1.21.1 in /Users/zeba/opt/anaconda3/envs/dl_env/lib/python3.8/site-packages (from requests<3,>=2.0.0->recommenders) (1.26.9)\n",
      "Requirement already satisfied: charset-normalizer<3,>=2 in /Users/zeba/opt/anaconda3/envs/dl_env/lib/python3.8/site-packages (from requests<3,>=2.0.0->recommenders) (2.1.0)\n",
      "Requirement already satisfied: idna<4,>=2.5 in /Users/zeba/opt/anaconda3/envs/dl_env/lib/python3.8/site-packages (from requests<3,>=2.0.0->recommenders) (3.3)\n"
     ]
    },
    {
     "name": "stdout",
     "output_type": "stream",
     "text": [
      "Requirement already satisfied: threadpoolctl>=2.0.0 in /Users/zeba/opt/anaconda3/envs/dl_env/lib/python3.8/site-packages (from scikit-learn<1.0.3,>=0.22.1->recommenders) (3.0.0)\n",
      "Collecting tokenizers!=0.11.3,<0.14,>=0.11.1\n",
      "  Downloading tokenizers-0.13.2-cp38-cp38-macosx_10_11_x86_64.whl (3.8 MB)\n",
      "\u001b[K     |████████████████████████████████| 3.8 MB 62.9 MB/s eta 0:00:01\n",
      "\u001b[?25hCollecting huggingface-hub<1.0,>=0.10.0\n",
      "  Downloading huggingface_hub-0.11.1-py3-none-any.whl (182 kB)\n",
      "\u001b[K     |████████████████████████████████| 182 kB 1.1 MB/s eta 0:00:01\n",
      "\u001b[?25hCollecting filelock\n",
      "  Downloading filelock-3.8.2-py3-none-any.whl (10 kB)\n",
      "Requirement already satisfied: typing-extensions>=3.7.4.3 in /Users/zeba/opt/anaconda3/envs/dl_env/lib/python3.8/site-packages (from huggingface-hub<1.0,>=0.10.0->transformers<5,>=2.5.0->recommenders) (4.0.0)\n",
      "Collecting mypy-extensions>=0.3.0\n",
      "  Using cached mypy_extensions-0.4.3-py2.py3-none-any.whl (4.5 kB)\n",
      "Requirement already satisfied: zipp>=0.5 in /Users/zeba/opt/anaconda3/envs/dl_env/lib/python3.8/site-packages (from importlib-metadata->numba<1,>=0.38.1->recommenders) (3.6.0)\n",
      "Collecting mpmath\n",
      "  Downloading mpmath-1.2.1-py3-none-any.whl (532 kB)\n",
      "\u001b[K     |████████████████████████████████| 532 kB 36.1 MB/s eta 0:00:01\n",
      "\u001b[?25hCollecting typing-extensions>=3.7.4.3\n",
      "  Using cached typing_extensions-4.4.0-py3-none-any.whl (26 kB)\n",
      "Building wheels for collected packages: lightfm, scikit-surprise\n",
      "  Building wheel for lightfm (setup.py) ... \u001b[?25ldone\n",
      "\u001b[?25h  Created wheel for lightfm: filename=lightfm-1.16-cp38-cp38-macosx_10_9_x86_64.whl size=446310 sha256=03910d0f07dbba4f5ec2e50083a1fd24014c13d4f0e5fe2fbc061df629215332\n",
      "  Stored in directory: /Users/zeba/Library/Caches/pip/wheels/ec/bb/51/9c487d021c1373b691d13cadca0b65b6852627b1f3f43550fa\n",
      "  Building wheel for scikit-surprise (setup.py) ... \u001b[?25ldone\n",
      "\u001b[?25h  Created wheel for scikit-surprise: filename=scikit_surprise-1.1.3-cp38-cp38-macosx_10_9_x86_64.whl size=1180300 sha256=850ff5ee74a293a874f797ab14e0d26b62f70e76b9b25080fe9015540ce4f53d\n",
      "  Stored in directory: /Users/zeba/Library/Caches/pip/wheels/af/db/86/2c18183a80ba05da35bf0fb7417aac5cddbd93bcb1b92fd3ea\n",
      "Successfully built lightfm scikit-surprise\n",
      "Installing collected packages: typing-extensions, mypy-extensions, wrapt, typing-inspect, sortedcontainers, pyyaml, pydantic, patsy, mpmath, filelock, exceptiongroup, tokenizers, statsmodels, regex, psutil, powerlaw, pandera, llvmlite, hypothesis, huggingface-hub, click, transformers, scikit-surprise, retrying, numba, nltk, memory-profiler, lightgbm, lightfm, cornac, category-encoders, bottleneck, recommenders\n",
      "  Attempting uninstall: typing-extensions\n",
      "    Found existing installation: typing-extensions 4.0.0\n",
      "    Uninstalling typing-extensions-4.0.0:\n",
      "      Successfully uninstalled typing-extensions-4.0.0\n",
      "Successfully installed bottleneck-1.3.5 category-encoders-1.3.0 click-8.1.3 cornac-1.14.2 exceptiongroup-1.0.4 filelock-3.8.2 huggingface-hub-0.11.1 hypothesis-6.60.0 lightfm-1.16 lightgbm-3.3.3 llvmlite-0.39.1 memory-profiler-0.61.0 mpmath-1.2.1 mypy-extensions-0.4.3 nltk-3.7 numba-0.56.4 pandera-0.13.4 patsy-0.5.3 powerlaw-1.5 psutil-5.9.4 pydantic-1.10.2 pyyaml-5.4.1 recommenders-1.1.1 regex-2022.10.31 retrying-1.3.4 scikit-surprise-1.1.3 sortedcontainers-2.4.0 statsmodels-0.13.5 tokenizers-0.13.2 transformers-4.25.1 typing-extensions-4.4.0 typing-inspect-0.8.0 wrapt-1.14.1\n"
     ]
    }
   ],
   "source": [
    "!pip install recommenders"
   ]
  },
  {
   "cell_type": "code",
   "execution_count": 2,
   "metadata": {
    "id": "LqVXO52J3kKe"
   },
   "outputs": [],
   "source": [
    "import os\n",
    "\n",
    "from recommenders.models.newsrec.newsrec_utils import get_mind_data_set\n",
    "from recommenders.models.deeprec.deeprec_utils import download_deeprec_resources\n",
    "from tempfile import TemporaryDirectory"
   ]
  },
  {
   "cell_type": "code",
   "execution_count": 3,
   "metadata": {
    "id": "eDw4wtRv8v5z"
   },
   "outputs": [],
   "source": [
    "MIND_VERSION = 'demo'"
   ]
  },
  {
   "cell_type": "code",
   "execution_count": 4,
   "metadata": {
    "id": "bqUuFTLa6Oom"
   },
   "outputs": [],
   "source": [
    "mind_url, mind_train_dataset, mind_dev_dataset, mind_utils = get_mind_data_set(MIND_VERSION)"
   ]
  },
  {
   "cell_type": "code",
   "execution_count": 5,
   "metadata": {
    "colab": {
     "base_uri": "https://localhost:8080/"
    },
    "id": "RCbeZO6c7Gzx",
    "outputId": "a9c56d70-949f-4742-8457-b991c50ca24d"
   },
   "outputs": [
    {
     "name": "stderr",
     "output_type": "stream",
     "text": [
      "100%|█████████████████████████████████████| 17.0k/17.0k [00:10<00:00, 1.67kKB/s]\n",
      "100%|█████████████████████████████████████| 9.84k/9.84k [00:03<00:00, 2.65kKB/s]\n"
     ]
    }
   ],
   "source": [
    "tmpdir = TemporaryDirectory()\n",
    "data_path = tmpdir.name\n",
    "\n",
    "train_news_file = os.path.join(data_path, 'train', r'news.tsv')\n",
    "train_behaviors_file = os.path.join(data_path, 'train', r'behaviors.tsv')\n",
    "\n",
    "valid_news_file = os.path.join(data_path, 'valid', r'news.tsv')\n",
    "valid_behaviors_file = os.path.join(data_path, 'valid', r'behaviors.tsv')\n",
    "\n",
    "if not os.path.exists(train_news_file):\n",
    "    download_deeprec_resources(mind_url, os.path.join(data_path, 'train'), mind_train_dataset)\n",
    "    \n",
    "if not os.path.exists(valid_news_file):\n",
    "    download_deeprec_resources(mind_url, \\\n",
    "                               os.path.join(data_path, 'valid'), mind_dev_dataset)"
   ]
  },
  {
   "cell_type": "code",
   "execution_count": 7,
   "metadata": {
    "id": "M-vfEiWo9yvP"
   },
   "outputs": [],
   "source": [
    "import pandas as pd\n",
    "\n",
    "behaviors_col_names = ['ImpressionID', 'UserID', 'Time', 'History', 'Impressions']\n",
    "\n",
    "train_data = pd.read_table(train_behaviors_file, header=None, names=behaviors_col_names)\n",
    "valid_data = pd.read_table(valid_behaviors_file, header=None, names=behaviors_col_names)\n",
    "\n",
    "def data_to_recommended_and_selected(dataframe: pd.DataFrame, user_col: str = 'UserID', interactions_col: str = 'Impressions'):\n",
    "    data = list()\n",
    "    items = set()\n",
    "    for user, user_interactions in zip(dataframe[user_col].values, dataframe[interactions_col].values):\n",
    "        \n",
    "        # Interações são da forma noticia_id-clicado, exemplo: N23699-0 N21291-0 N1901-1 N27292-0 N17443-0\n",
    "\n",
    "        R = [interaction.split('-')[0] for interaction in user_interactions.split()] \n",
    "        S = [interaction.split('-')[0] for interaction in user_interactions.split() if interaction[-1] == '1']\n",
    "        \n",
    "        items.update(R)\n",
    "\n",
    "        data.append((user, ' '.join(R), ' '.join(S)))\n",
    "\n",
    "    return pd.DataFrame(data, columns=['UserID', 'R', 'S']), items\n",
    "\n",
    "train_data, train_items = data_to_recommended_and_selected(train_data)\n",
    "valid_data, valid_items = data_to_recommended_and_selected(valid_data)"
   ]
  },
  {
   "cell_type": "code",
   "execution_count": 8,
   "metadata": {
    "colab": {
     "base_uri": "https://localhost:8080/",
     "height": 424
    },
    "id": "t09cL0DkCdsP",
    "outputId": "e2d04188-7325-4d80-a7c7-58b36a25da58"
   },
   "outputs": [
    {
     "data": {
      "text/html": [
       "<div>\n",
       "<style scoped>\n",
       "    .dataframe tbody tr th:only-of-type {\n",
       "        vertical-align: middle;\n",
       "    }\n",
       "\n",
       "    .dataframe tbody tr th {\n",
       "        vertical-align: top;\n",
       "    }\n",
       "\n",
       "    .dataframe thead th {\n",
       "        text-align: right;\n",
       "    }\n",
       "</style>\n",
       "<table border=\"1\" class=\"dataframe\">\n",
       "  <thead>\n",
       "    <tr style=\"text-align: right;\">\n",
       "      <th></th>\n",
       "      <th>UserID</th>\n",
       "      <th>R</th>\n",
       "      <th>S</th>\n",
       "    </tr>\n",
       "  </thead>\n",
       "  <tbody>\n",
       "    <tr>\n",
       "      <th>0</th>\n",
       "      <td>U82271</td>\n",
       "      <td>N13390 N7180 N20785 N6937 N15776 N25810 N20820...</td>\n",
       "      <td>N15368</td>\n",
       "    </tr>\n",
       "    <tr>\n",
       "      <th>1</th>\n",
       "      <td>U84185</td>\n",
       "      <td>N13089 N18101 N1248 N26273 N12770 N1132 N13649</td>\n",
       "      <td>N12770</td>\n",
       "    </tr>\n",
       "    <tr>\n",
       "      <th>2</th>\n",
       "      <td>U11552</td>\n",
       "      <td>N18390 N10537 N23967</td>\n",
       "      <td>N23967</td>\n",
       "    </tr>\n",
       "    <tr>\n",
       "      <th>3</th>\n",
       "      <td>U68381</td>\n",
       "      <td>N15660 N18609 N2831 N5677 N19010 N1502 N19215 ...</td>\n",
       "      <td>N18390</td>\n",
       "    </tr>\n",
       "    <tr>\n",
       "      <th>4</th>\n",
       "      <td>U52303</td>\n",
       "      <td>N15645 N7911</td>\n",
       "      <td>N7911</td>\n",
       "    </tr>\n",
       "    <tr>\n",
       "      <th>...</th>\n",
       "      <td>...</td>\n",
       "      <td>...</td>\n",
       "      <td>...</td>\n",
       "    </tr>\n",
       "    <tr>\n",
       "      <th>22029</th>\n",
       "      <td>U69508</td>\n",
       "      <td>N16297 N15645 N20630 N10602 N27294 N24649 N129...</td>\n",
       "      <td>N9916</td>\n",
       "    </tr>\n",
       "    <tr>\n",
       "      <th>22030</th>\n",
       "      <td>U79085</td>\n",
       "      <td>N27355 N9809 N20882 N8787 N25926 N3864 N15163 ...</td>\n",
       "      <td>N13282</td>\n",
       "    </tr>\n",
       "    <tr>\n",
       "      <th>22031</th>\n",
       "      <td>U46989</td>\n",
       "      <td>N13316 N23592 N10240 N1994 N26998 N17157 N1324...</td>\n",
       "      <td>N13247</td>\n",
       "    </tr>\n",
       "    <tr>\n",
       "      <th>22032</th>\n",
       "      <td>U49050</td>\n",
       "      <td>N23982 N17424 N17157 N4324 N22216 N14332 N6221...</td>\n",
       "      <td>N13557 N7050 N18892</td>\n",
       "    </tr>\n",
       "    <tr>\n",
       "      <th>22033</th>\n",
       "      <td>U6774</td>\n",
       "      <td>N5109 N7452 N13064 N26428 N22785 N23921 N27197...</td>\n",
       "      <td>N4326</td>\n",
       "    </tr>\n",
       "  </tbody>\n",
       "</table>\n",
       "<p>22034 rows × 3 columns</p>\n",
       "</div>"
      ],
      "text/plain": [
       "       UserID                                                  R  \\\n",
       "0      U82271  N13390 N7180 N20785 N6937 N15776 N25810 N20820...   \n",
       "1      U84185     N13089 N18101 N1248 N26273 N12770 N1132 N13649   \n",
       "2      U11552                               N18390 N10537 N23967   \n",
       "3      U68381  N15660 N18609 N2831 N5677 N19010 N1502 N19215 ...   \n",
       "4      U52303                                       N15645 N7911   \n",
       "...       ...                                                ...   \n",
       "22029  U69508  N16297 N15645 N20630 N10602 N27294 N24649 N129...   \n",
       "22030  U79085  N27355 N9809 N20882 N8787 N25926 N3864 N15163 ...   \n",
       "22031  U46989  N13316 N23592 N10240 N1994 N26998 N17157 N1324...   \n",
       "22032  U49050  N23982 N17424 N17157 N4324 N22216 N14332 N6221...   \n",
       "22033   U6774  N5109 N7452 N13064 N26428 N22785 N23921 N27197...   \n",
       "\n",
       "                         S  \n",
       "0                   N15368  \n",
       "1                   N12770  \n",
       "2                   N23967  \n",
       "3                   N18390  \n",
       "4                    N7911  \n",
       "...                    ...  \n",
       "22029                N9916  \n",
       "22030               N13282  \n",
       "22031               N13247  \n",
       "22032  N13557 N7050 N18892  \n",
       "22033                N4326  \n",
       "\n",
       "[22034 rows x 3 columns]"
      ]
     },
     "execution_count": 8,
     "metadata": {},
     "output_type": "execute_result"
    }
   ],
   "source": [
    "train_data"
   ]
  },
  {
   "cell_type": "code",
   "execution_count": 322,
   "metadata": {},
   "outputs": [
    {
     "data": {
      "text/plain": [
       "1.5068268998631937"
      ]
     },
     "execution_count": 322,
     "metadata": {},
     "output_type": "execute_result"
    }
   ],
   "source": [
    "train_data['S'].apply(lambda x: len(x.split())).mean()"
   ]
  },
  {
   "cell_type": "markdown",
   "metadata": {},
   "source": [
    "# MIND Small"
   ]
  },
  {
   "cell_type": "code",
   "execution_count": null,
   "metadata": {},
   "outputs": [],
   "source": [
    "import pandas as pd"
   ]
  },
  {
   "cell_type": "code",
   "execution_count": 26,
   "metadata": {},
   "outputs": [],
   "source": [
    "data_path = '../MIND-small'\n",
    "\n",
    "train_news_file = os.path.join(data_path, 'train', r'news.tsv')\n",
    "train_behaviors_file = os.path.join(data_path, 'train', r'behaviors.tsv')\n",
    "\n",
    "valid_news_file = os.path.join(data_path, 'dev', r'news.tsv')\n",
    "valid_behaviors_file = os.path.join(data_path, 'dev', r'behaviors.tsv')"
   ]
  },
  {
   "cell_type": "code",
   "execution_count": 27,
   "metadata": {},
   "outputs": [],
   "source": [
    "behaviors_col_names = ['ImpressionID', 'UserID', 'Time', 'History', 'Impressions']\n",
    "\n",
    "train_data = pd.read_table(train_behaviors_file, header=None, names=behaviors_col_names)\n",
    "valid_data = pd.read_table(valid_behaviors_file, header=None, names=behaviors_col_names)\n",
    "\n",
    "def data_to_recommended_and_selected(dataframe: pd.DataFrame, user_col: str = 'UserID', interactions_col: str = 'Impressions'):\n",
    "    data = list()\n",
    "    items = set()\n",
    "    for user, user_interactions in zip(dataframe[user_col].values, dataframe[interactions_col].values):\n",
    "        \n",
    "        # Interações são da forma noticia_id-clicado, exemplo: N23699-0 N21291-0 N1901-1 N27292-0 N17443-0\n",
    "\n",
    "        R = [interaction.split('-')[0] for interaction in user_interactions.split()] \n",
    "        S = [interaction.split('-')[0] for interaction in user_interactions.split() if interaction[-1] == '1']\n",
    "        \n",
    "        items.update(R)\n",
    "\n",
    "        data.append((user, ' '.join(R), ' '.join(S)))\n",
    "\n",
    "    return pd.DataFrame(data, columns=['UserID', 'R', 'S']), items\n",
    "\n",
    "train_data, train_items = data_to_recommended_and_selected(train_data)\n",
    "valid_data, valid_items = data_to_recommended_and_selected(valid_data)"
   ]
  },
  {
   "cell_type": "code",
   "execution_count": 43,
   "metadata": {},
   "outputs": [
    {
     "data": {
      "text/plain": [
       "<AxesSubplot:ylabel='Frequency'>"
      ]
     },
     "execution_count": 43,
     "metadata": {},
     "output_type": "execute_result"
    },
    {
     "data": {
      "image/png": "[encoded data removed]",
      "text/plain": [
       "<Figure size 432x288 with 1 Axes>"
      ]
     },
     "metadata": {
      "needs_background": "light"
     },
     "output_type": "display_data"
    }
   ],
   "source": [
    "train_data['R'].apply(lambda x: len(x.split(' '))).plot.hist(bins=100)"
   ]
  },
  {
   "cell_type": "code",
   "execution_count": 320,
   "metadata": {},
   "outputs": [
    {
     "data": {
      "text/plain": [
       "<AxesSubplot:ylabel='Frequency'>"
      ]
     },
     "execution_count": 320,
     "metadata": {},
     "output_type": "execute_result"
    },
    {
     "data": {
      "image/png": "[encoded data removed]",
      "text/plain": [
       "<Figure size 432x288 with 1 Axes>"
      ]
     },
     "metadata": {
      "needs_background": "light"
     },
     "output_type": "display_data"
    }
   ],
   "source": [
    "tst_s = train_data['R'].apply(lambda x: len(x.split(' ')))\n",
    "tst_s[tst_s <= 5].plot.hist()"
   ]
  },
  {
   "cell_type": "code",
   "execution_count": 317,
   "metadata": {},
   "outputs": [
    {
     "data": {
      "text/plain": [
       "22528"
      ]
     },
     "execution_count": 317,
     "metadata": {},
     "output_type": "execute_result"
    }
   ],
   "source": [
    "len(tst_s[tst_s <= 5])"
   ]
  },
  {
   "cell_type": "code",
   "execution_count": 41,
   "metadata": {},
   "outputs": [
    {
     "data": {
      "text/plain": [
       "<AxesSubplot:ylabel='Frequency'>"
      ]
     },
     "execution_count": 41,
     "metadata": {},
     "output_type": "execute_result"
    },
    {
     "data": {
      "image/png": "[encoded data removed]",
      "text/plain": [
       "<Figure size 432x288 with 1 Axes>"
      ]
     },
     "metadata": {
      "needs_background": "light"
     },
     "output_type": "display_data"
    }
   ],
   "source": [
    "train_data['S'].apply(lambda x: len(x.split(' '))).plot.hist(bins=50)"
   ]
  },
  {
   "cell_type": "code",
   "execution_count": 42,
   "metadata": {},
   "outputs": [
    {
     "data": {
      "text/plain": [
       "count    149116.000000\n",
       "mean          1.506827\n",
       "std           1.153562\n",
       "min           1.000000\n",
       "25%           1.000000\n",
       "50%           1.000000\n",
       "75%           2.000000\n",
       "max          35.000000\n",
       "Name: S, dtype: float64"
      ]
     },
     "execution_count": 42,
     "metadata": {},
     "output_type": "execute_result"
    }
   ],
   "source": [
    "train_data['S'].apply(lambda x: len(x.split(' '))).describe()"
   ]
  },
  {
   "cell_type": "markdown",
   "metadata": {
    "id": "nka72RoX8w2Z"
   },
   "source": [
    "# $P_S$ TEst\n",
    "- Criar o modelo pytorch\n",
    "- Entender como computar a função de perda e treinar\n",
    "\n",
    "Talvez usar máscara para dizer quais elementos estão em R e S.\n",
    "\n",
    "Camada de embedding:\n",
    "- Transformar itens e usuários em indices inteiros.\n",
    "\n",
    "\n",
    "Loss:\n",
    "- Entrada: \n",
    "    - batch com saídas da rede\n",
    "    - Mascara target => indica quais elementos de K estão na mascara.\n",
    "- Reduce => media => é a nivel de batch\n",
    "- Produto interno saída x mascara e soma.\n",
    "\n",
    "\n",
    "Possíveis jeitos de passar as entradas:\n",
    "- 1:\n",
    "    - X: NxK: \n",
    "    - y: NxK: mascara. 1 se item foi escolhido e 0 cc.\n",
    "- 2:\n",
    "    - Dataset cospe dicionarios {u, r, s} ou tuplas (u, r, s)\n",
    "    - collate_fn junta essas entradas em um tensor com padding.\n",
    "\n",
    "\n",
    "Tomar cuidado para não maximizar uma função que é de minimizar ou o contrário.\n",
    "\n",
    "\n",
    "Checar tamanho de K\n"
   ]
  },
  {
   "cell_type": "code",
   "execution_count": 252,
   "metadata": {
    "id": "4B2wBzkT-IOn"
   },
   "outputs": [],
   "source": [
    "import time\n",
    "\n",
    "import torch\n",
    "import torch.nn as nn\n",
    "import torch.nn.functional as F\n",
    "\n",
    "from torch.utils.data import Dataset, DataLoader"
   ]
  },
  {
   "cell_type": "code",
   "execution_count": 139,
   "metadata": {
    "id": "_GSuBtEHIZBP"
   },
   "outputs": [],
   "source": [
    "def gen_code_dict(code_l):\n",
    "    #gen_code_dict(list(df['UserID'].unique()))\n",
    "    #gen_code_dict(\" \".join(df['R']).split(\" \"))\n",
    "    code_d = {}\n",
    "    i = 1 # 0 eh PADDING\n",
    "    for code in set(code_l):\n",
    "        code_d[code] = i\n",
    "        i += 1\n",
    "    return code_d\n",
    "    \n",
    "class MIND_dataset(Dataset):\n",
    "    def get_picked_inds(self, r, s):\n",
    "        ind_l = []\n",
    "        for picked_i in s:\n",
    "            for ind, i in enumerate(r):\n",
    "                if i == picked_i:\n",
    "                    ind_l.append(ind)\n",
    "                    break\n",
    "        return ind_l\n",
    "\n",
    "\n",
    "    def __init__(self, df, user_d, item_d):\n",
    "        \"\"\"\n",
    "        Recebe um DataFrame com as colunas ['UserID', 'R', 'S']\n",
    "        UserID: ids de usuario\n",
    "        R: listas de ids de itens recomendados a U\n",
    "        S: listas de ids de itens de R escolhidos por U\n",
    "        \n",
    "        user_d: dicionario que mapeia de id de usuário para numero inteiro, sendo que 0 é PAD\n",
    "        item_d: dicionario que mapeia de id de item para numero inteiro, sendo que 0 é PAD\n",
    "        \"\"\"\n",
    "        super().__init__()\n",
    "        # Transformar os codigos de item e usuario em indices inteiros. 0 eh PADDING\n",
    "        self.user_d = user_d\n",
    "        self.item_d = item_d\n",
    "\n",
    "        self.df = pd.DataFrame(index=df.index)\n",
    "        self.df['U'] = df['UserID'].apply(lambda x: self.user_d[x])\n",
    "        self.df['R'] = df['R'].apply(lambda x: [self.item_d[i] for i in x.split(' ')])\n",
    "        # S\n",
    "        self.df['S_picked'] = df['S'].apply(lambda x: [self.item_d[i] for i in x.split(' ')])\n",
    "        self.df['S'] = self.df.apply(lambda x: self.get_picked_inds(x['R'], x['S_picked']), axis=1)\n",
    "        \n",
    "    def __getitem__(self, idx):\n",
    "        '''\n",
    "        Retorna uma tupla com U, R e S\n",
    "        U => id do usuário\n",
    "        R => lista de ids de itens\n",
    "        S => lista de indices de R indicando quais itens foram escolhidos.\n",
    "        '''\n",
    "        return self.df['U'].iloc[idx], self.df['R'].iloc[idx], self.df['S'].iloc[idx]\n",
    "    \n",
    "    def __len__(self):\n",
    "        return len(self.df)\n",
    "\n",
    "    def get_n_users(self):\n",
    "        return len(self.user_d)+1\n",
    "\n",
    "    def get_n_items(self):\n",
    "        return len(self.item_d)+1\n",
    "\n",
    "def mind_collate_fn(data):\n",
    "    '''\n",
    "    Retorna tupla: u, r, r_mask, s\n",
    "    '''\n",
    "    batch_sz = len(data)\n",
    "    max_len = max([len(r) for _,r,_ in data])\n",
    "\n",
    "    u_batch = torch.zeros(batch_sz, 1, dtype=torch.long)\n",
    "    r_batch = torch.zeros(batch_sz, max_len, dtype=torch.long)\n",
    "    r_mask_batch = torch.zeros(batch_sz, max_len, dtype=torch.long)\n",
    "    s_batch = torch.zeros(batch_sz, max_len, dtype=torch.long)\n",
    "\n",
    "    for i, (u,r,s) in enumerate(data):\n",
    "        u_batch[i] = u\n",
    "        r_batch[i] = torch.LongTensor(r + [0]*(max_len-len(r)))\n",
    "        r_mask_batch[i] = torch.LongTensor([1]*len(r) + [0]*(max_len-len(r)))\n",
    "        s_batch[i] = torch.LongTensor([(1 if ind in s else 0) for ind in range(max_len)])\n",
    "    return u_batch, r_batch, r_mask_batch, s_batch"
   ]
  },
  {
   "cell_type": "code",
   "execution_count": 87,
   "metadata": {},
   "outputs": [],
   "source": [
    "import random\n",
    "class MIND_P_R_Dataset(Dataset):\n",
    "    def __init__(self, mind_ds, max_sampling_len):\n",
    "        \"\"\"\n",
    "        Retorna amostras com negative sampling.\n",
    "        mind_ds: MIND_Dataset\n",
    "        \"\"\"\n",
    "        super().__init__()\n",
    "        self.mind_ds = mind_ds\n",
    "        self.item_set = set(mind_ds.item_d.values())\n",
    "        self.max_sampling_len = max_sampling_len\n",
    "    \n",
    "    def __getitem__(self, idx):\n",
    "        '''\n",
    "        Retorna uma tupla com U, R_pos, R_neg\n",
    "        U => id do usuário\n",
    "        R_pos => lista de ids de itens em r para U amostrados\n",
    "        R_neg => lista de ids de itens não em r para U amostrados\n",
    "        '''\n",
    "        u,r,_ = self.mind_ds[idx]\n",
    "        pos_r = random.sample(r, min(self.max_sampling_len, len(r)))\n",
    "        neg_r = random.sample(self.item_set - set(r), len(pos_r))\n",
    "        return u, pos_r, neg_r\n",
    "    \n",
    "    def __len__(self):\n",
    "        return len(self.mind_ds)\n",
    "    \n",
    "def mind_p_r_collate_fn(data):\n",
    "    '''\n",
    "    Retorna tupla: u, pos_r, pos_r_mask, neg_r, neg_r_mask\n",
    "    '''\n",
    "    batch_sz = len(data)\n",
    "    pos_max_len = max([len(pos_r) for _,pos_r,_ in data])\n",
    "    neg_max_len = max([len(neg_r) for _,_,neg_r in data])\n",
    "\n",
    "    u_batch = torch.zeros(batch_sz, 1, dtype=torch.long)\n",
    "    pos_r_batch = torch.zeros(batch_sz, pos_max_len, dtype=torch.long)\n",
    "    pos_r_mask_batch = torch.zeros(batch_sz, pos_max_len, dtype=torch.long)\n",
    "    neg_r_batch = torch.zeros(batch_sz, neg_max_len, dtype=torch.long)\n",
    "    neg_r_mask_batch = torch.zeros(batch_sz, neg_max_len, dtype=torch.long)\n",
    "\n",
    "    for i, (u, pos_r, neg_r) in enumerate(data):\n",
    "        u_batch[i] = u\n",
    "        pos_r_batch[i] = torch.LongTensor(pos_r + [0]*(pos_max_len-len(pos_r)))\n",
    "        pos_r_mask_batch[i] = torch.LongTensor([1]*len(pos_r) + [0]*(pos_max_len-len(pos_r)))\n",
    "        neg_r_batch[i] = torch.LongTensor(neg_r + [0]*(neg_max_len-len(neg_r)))\n",
    "        neg_r_mask_batch[i] = torch.LongTensor([1]*len(neg_r) + [0]*(neg_max_len-len(neg_r)))\n",
    "        \n",
    "    return u_batch, pos_r_batch, pos_r_mask_batch, neg_r_batch, neg_r_mask_batch"
   ]
  },
  {
   "cell_type": "code",
   "execution_count": 217,
   "metadata": {
    "id": "BwatALeiYNHR"
   },
   "outputs": [],
   "source": [
    "class P_S_Network(nn.Module):\n",
    "    def __init__(self, n_users, n_itens, K, emb_dim=32):\n",
    "        super(P_S_Network, self).__init__()\n",
    "        self.user_emb = nn.Embedding(num_embeddings=n_users, embedding_dim=emb_dim, padding_idx=0)\n",
    "        self.item_emb = nn.Embedding(num_embeddings=n_itens, embedding_dim=emb_dim, padding_idx=0)\n",
    "        self.w = nn.Parameter(torch.randn(1, K))\n",
    "        self.K = K\n",
    "        \n",
    "    def forward(self, u, r, r_mask, s, beta):\n",
    "        \"\"\"\n",
    "        Entrada:\n",
    "            u: Indice do usuário\n",
    "                torch.LongTensor(batch_sz, 1)\n",
    "            r: Tensor de indices dos itens recomendados ao usuário\n",
    "                torch.LongTensor(batch_sz, max_len)\n",
    "            r_mask: Máscara binária indicando quais elementos de r não são padding\n",
    "                torch.LongTensor(batch_sz, max_len)\n",
    "            s: Máscara binária indicando quais elementos de r estão em s.\n",
    "                torch.LongTensor(batch_sz, max_len)\n",
    "            beta: Variavel exogena correspondente aos itens em r\n",
    "                torch.tensor(batch_sz, max_len)\n",
    "        \"\"\"\n",
    "        max_len = r.size(1)\n",
    "        w_mul = beta * (self.w[:,:max_len])\n",
    "\n",
    "        u_e = self.user_emb(u)\n",
    "        i_e = self.item_emb(r)\n",
    "        emb_sim = torch.bmm(u_e, i_e.permute(0,2,1)).squeeze()\n",
    "\n",
    "        return (w_mul + emb_sim) * r_mask\n",
    "\n",
    "def p_s_loss(out, s):\n",
    "    # Loss to be minimized\n",
    "    out_soft = F.log_softmax(out, dim=1)\n",
    "    return -(out_soft*s).sum()"
   ]
  },
  {
   "cell_type": "code",
   "execution_count": 218,
   "metadata": {},
   "outputs": [],
   "source": [
    "class P_R_Network(nn.Module):\n",
    "    def __init__(self, n_users, n_itens, emb_dim=32):\n",
    "        super(P_R_Network, self).__init__()\n",
    "        self.user_emb = nn.Embedding(num_embeddings=n_users, embedding_dim=emb_dim, padding_idx=0)\n",
    "        self.item_emb = nn.Embedding(num_embeddings=n_itens, embedding_dim=emb_dim, padding_idx=0)\n",
    "        self.w = nn.Parameter(torch.randn(1, n_itens))\n",
    "        \n",
    "    def forward(self, u, r, r_mask, alpha):\n",
    "        \"\"\"\n",
    "        Entrada:\n",
    "            u: Indice do usuário\n",
    "                torch.LongTensor(batch_sz, 1)\n",
    "            r: Tensor de indices dos itens recomendados ao usuário\n",
    "                torch.LongTensor(batch_sz, max_len)\n",
    "            r_mask: Máscara binária indicando quais elementos de r não são padding\n",
    "                torch.LongTensor(batch_sz, max_len)\n",
    "            alpha: Variavel exogena correspondente aos itens em r\n",
    "                torch.tensor(batch_sz, max_len)\n",
    "        \"\"\"\n",
    "        # Seleciona os w correspondentes aos itens em r\n",
    "        w_mul = alpha * (self.w[0,r])\n",
    "\n",
    "        u_e = self.user_emb(u)\n",
    "        i_e = self.item_emb(r)\n",
    "        emb_sim = torch.bmm(u_e, i_e.permute(0,2,1)).squeeze()\n",
    "\n",
    "        return (w_mul + emb_sim) * r_mask\n",
    "\n",
    "def p_r_loss(pos_scores, neg_scores):\n",
    "    \"\"\"\n",
    "    Negative sampling loss.\n",
    "    Entrada:\n",
    "        pos_scores: torch.tensor(batch_sz, pos_max_len)\n",
    "        neg_scores: torch.tensor(batch_sz, neg_max_len)\n",
    "    \"\"\"\n",
    "    # Loss to be minimized\n",
    "    eps=1e-7\n",
    "    pos_soft = F.logsigmoid(pos_scores).sum()\n",
    "    neg_soft = torch.log(eps + 1 - torch.sigmoid(neg_scores)).sum()\n",
    "    return -(pos_soft + neg_soft)"
   ]
  },
  {
   "cell_type": "code",
   "execution_count": 293,
   "metadata": {
    "id": "RAvnmUFWvIRA"
   },
   "outputs": [],
   "source": [
    "def ps_train_loop(dataloader, model, loss_fn, optimizer, device):\n",
    "    agg_loss = 0.0\n",
    "    size = len(dataloader.dataset)\n",
    "    for batch, (u, r, r_mask, s) in enumerate(dataloader):\n",
    "        u, r, r_mask, s = u.to(device), r.to(device), r_mask.to(device), s.to(device)\n",
    "        \n",
    "        batch_sz = u.size(0)\n",
    "        max_len = r.size(1)\n",
    "        beta = torch.randn(batch_sz, max_len).to(device)\n",
    "        out = model(u, r, r_mask, s, beta)\n",
    "        loss = loss_fn(out, s)\n",
    "\n",
    "        # Backpropagation\n",
    "        optimizer.zero_grad()\n",
    "        loss.backward()\n",
    "        optimizer.step()\n",
    "        \n",
    "        agg_loss += loss.item()\n",
    "        if batch % (len(dataloader)//10) == 0:\n",
    "            loss, current = loss.item() / batch_sz, batch * len(u)\n",
    "            print(f\"loss: {loss:>7f}  [{current:>5d}/{size:>5d}]\")\n",
    "    return agg_loss / size\n",
    "\n",
    "def ps_test_loop(dataloader, model, loss_fn, device):\n",
    "    size = len(dataloader.dataset)\n",
    "    num_batches = len(dataloader)\n",
    "    test_loss, correct = 0, 0\n",
    "\n",
    "    with torch.no_grad():\n",
    "        for u, r, r_mask, s in dataloader:\n",
    "            u, r, r_mask, s = u.to(device), r.to(device), r_mask.to(device), s.to(device)\n",
    "            \n",
    "            batch_sz = u.size(0)\n",
    "            max_len = r.size(1)\n",
    "            beta = torch.randn(batch_sz, max_len).to(device)\n",
    "            out = model(u, r, r_mask, s, beta)\n",
    "            test_loss += loss_fn(out, s).item() / batch_sz\n",
    "\n",
    "    test_loss /= num_batches\n",
    "    print(f\"Test Error: Avg loss: {test_loss:>8f} \\n\")\n",
    "    return test_loss"
   ]
  },
  {
   "cell_type": "code",
   "execution_count": 294,
   "metadata": {},
   "outputs": [],
   "source": [
    "def pr_train_loop(dataloader, model, loss_fn, optimizer, device):\n",
    "    agg_loss = 0.0\n",
    "    size = len(dataloader.dataset)\n",
    "    for batch, (u, pos_r, pos_r_mask, neg_r, neg_r_mask) in enumerate(dataloader):\n",
    "        u, pos_r, pos_r_mask, neg_r, neg_r_mask = u.to(device), pos_r.to(device), pos_r_mask.to(device), neg_r.to(device), neg_r_mask.to(device)\n",
    "        batch_sz = u.size(0)\n",
    "        pos_max_len = pos_r.size(1)\n",
    "        neg_max_len = neg_r.size(1)\n",
    "        \n",
    "        pos_alpha = torch.randn(batch_sz, pos_max_len).to(device)\n",
    "        pos_scores = model(u, pos_r, pos_r_mask, pos_alpha)\n",
    "        \n",
    "        neg_alpha = torch.randn(batch_sz, neg_max_len).to(device)\n",
    "        neg_scores = model(u, neg_r, neg_r_mask, neg_alpha)\n",
    "        \n",
    "        loss = loss_fn(pos_scores, neg_scores)\n",
    "\n",
    "        # Backpropagation\n",
    "        optimizer.zero_grad()\n",
    "        loss.backward()\n",
    "        optimizer.step()\n",
    "        \n",
    "        agg_loss += loss.item()\n",
    "        if batch % (len(dataloader)//10) == 0:\n",
    "            loss, current = loss.item() / batch_sz, batch * len(u)\n",
    "            print(f\"loss: {loss:>7f}  [{current:>5d}/{size:>5d}]\")\n",
    "    return agg_loss / size\n",
    "\n",
    "def pr_test_loop(dataloader, model, loss_fn, device):\n",
    "    size = len(dataloader.dataset)\n",
    "    num_batches = len(dataloader)\n",
    "    test_loss, correct = 0, 0\n",
    "\n",
    "    with torch.no_grad():\n",
    "        for u, pos_r, pos_r_mask, neg_r, neg_r_mask in dataloader:\n",
    "            u, pos_r, pos_r_mask, neg_r, neg_r_mask = u.to(device), pos_r.to(device), pos_r_mask.to(device), neg_r.to(device), neg_r_mask.to(device)\n",
    "            batch_sz = u.size(0)\n",
    "            pos_max_len = pos_r.size(1)\n",
    "            neg_max_len = neg_r.size(1)\n",
    "        \n",
    "            pos_alpha = torch.randn(batch_sz, pos_max_len).to(device)\n",
    "            pos_scores = model(u, pos_r, pos_r_mask, pos_alpha)\n",
    "        \n",
    "            neg_alpha = torch.randn(batch_sz, neg_max_len).to(device)\n",
    "            neg_scores = model(u, neg_r, neg_r_mask, neg_alpha)\n",
    "            \n",
    "            test_loss += loss_fn(pos_scores, neg_scores).item() / batch_sz\n",
    "\n",
    "    test_loss /= num_batches\n",
    "    print(f\"Test Error: Avg loss: {test_loss:>8f} \\n\")\n",
    "    return test_loss"
   ]
  },
  {
   "cell_type": "markdown",
   "metadata": {},
   "source": [
    "# Treinamento"
   ]
  },
  {
   "cell_type": "code",
   "execution_count": 173,
   "metadata": {},
   "outputs": [
    {
     "name": "stdout",
     "output_type": "stream",
     "text": [
      "Treino :  134204\n",
      "Val :  12799\n"
     ]
    }
   ],
   "source": [
    "# Pre-processamento\n",
    "df_ids = list(range(len(train_data)))\n",
    "random.shuffle(df_ids)\n",
    "train_ids = df_ids[:int(len(train_data)*0.9)]\n",
    "val_ids = df_ids[int(len(train_data)*0.9):]\n",
    "\n",
    "train_df = train_data.iloc[train_ids]\n",
    "val_df = train_data.iloc[val_ids]\n",
    "\n",
    "user_d = gen_code_dict(list(train_df['UserID'].unique()))\n",
    "item_d = gen_code_dict(\" \".join(train_df['R']).split(\" \"))\n",
    "\n",
    "item_check_s = val_df.apply(lambda x: x['R'].split() + x['S'].split(), axis=1).apply(lambda l: all([ i in item_d for i in l]))\n",
    "user_check_s = val_df['UserID'].apply(lambda x: x in user_d)\n",
    "val_df = val_df[item_check_s & user_check_s]\n",
    "print('Treino : ', len(train_df))\n",
    "print('Val : ', len(val_df))"
   ]
  },
  {
   "cell_type": "code",
   "execution_count": 305,
   "metadata": {},
   "outputs": [],
   "source": [
    "# Salvar datasets\n",
    "train_df.to_csv('train_df.csv', index=False)\n",
    "val_df.to_csv('val_df.csv', index=False)\n",
    "\n",
    "# Salvar os dicts de usuario e item\n",
    "pd.DataFrame({'code':user_d.keys(), 'indice':user_d.values()}).to_csv('user_d.csv', index=False)\n",
    "pd.DataFrame({'code':item_d.keys(), 'indice':item_d.values()}).to_csv('item_d.csv', index=False)\n"
   ]
  },
  {
   "cell_type": "code",
   "execution_count": 221,
   "metadata": {},
   "outputs": [],
   "source": [
    "# Datasets\n",
    "batch_size = 32\n",
    "p_r_max_sampling_len = 5\n",
    "\n",
    "ps_train_ds = MIND_dataset(train_df, user_d, item_d)\n",
    "ps_train_dl = DataLoader(ps_train_ds, batch_size=batch_size, shuffle=True, collate_fn=mind_collate_fn)\n",
    "\n",
    "ps_val_ds = MIND_dataset(val_df, user_d, item_d)\n",
    "ps_val_dl = DataLoader(ps_val_ds, batch_size=batch_size, shuffle=True, collate_fn=mind_collate_fn)\n",
    "\n",
    "\n",
    "pr_train_ds = MIND_P_R_Dataset(ps_train_ds, p_r_max_sampling_len)\n",
    "pr_train_dl = DataLoader(pr_train_ds, batch_size=batch_size, shuffle=True, collate_fn=mind_p_r_collate_fn)\n",
    "\n",
    "pr_val_ds = MIND_P_R_Dataset(ps_val_ds, p_r_max_sampling_len)\n",
    "pr_val_dl = DataLoader(pr_val_ds, batch_size=batch_size, shuffle=True, collate_fn=mind_p_r_collate_fn)"
   ]
  },
  {
   "cell_type": "code",
   "execution_count": 277,
   "metadata": {},
   "outputs": [
    {
     "name": "stdout",
     "output_type": "stream",
     "text": [
      "cpu\n"
     ]
    }
   ],
   "source": [
    "device = torch.device(\"cuda:0\" if torch.cuda.is_available() else \"cpu\")\n",
    "print(device)"
   ]
  },
  {
   "cell_type": "markdown",
   "metadata": {},
   "source": [
    "## $P_R$"
   ]
  },
  {
   "cell_type": "code",
   "execution_count": 336,
   "metadata": {},
   "outputs": [
    {
     "name": "stdout",
     "output_type": "stream",
     "text": [
      "P_R:\n",
      "w torch.Size([1, 19762])\n",
      "Cuda =  False\n",
      "user_emb.weight torch.Size([47372, 2])\n",
      "Cuda =  False\n",
      "item_emb.weight torch.Size([19762, 2])\n",
      "Cuda =  False\n"
     ]
    }
   ],
   "source": [
    "pr_model = P_R_Network(len(user_d)+1, len(item_d)+1, emb_dim=2)\n",
    "pr_model = pr_model.to(device)\n",
    "print('P_R:')     \n",
    "for name, param in pr_model.named_parameters():\n",
    "    if param.requires_grad:\n",
    "        print(name, param.data.size())\n",
    "        print('Cuda = ', param.is_cuda)"
   ]
  },
  {
   "cell_type": "code",
   "execution_count": 337,
   "metadata": {},
   "outputs": [],
   "source": [
    "pr_save_path = 'pr_model.pth'\n",
    "pr_loss_save_path = 'pr_loss.csv'\n",
    "pr_loss_d = {'epoch': [], 'train':[], 'val':[]}\n",
    "learning_rate = 1e-3\n",
    "pr_optimizer = torch.optim.Adam(pr_model.parameters(), lr=learning_rate)"
   ]
  },
  {
   "cell_type": "code",
   "execution_count": 338,
   "metadata": {
    "scrolled": true
   },
   "outputs": [
    {
     "name": "stdout",
     "output_type": "stream",
     "text": [
      "Epoch 1\n",
      "-------------------------------\n",
      "loss: 9.355070  [    0/134204]\n",
      "loss: 9.482059  [13408/134204]\n",
      "loss: 9.389542  [26816/134204]\n",
      "loss: 9.793705  [40224/134204]\n",
      "loss: 9.110896  [53632/134204]\n",
      "loss: 10.155113  [67040/134204]\n",
      "loss: 9.484844  [80448/134204]\n",
      "loss: 8.386406  [93856/134204]\n",
      "loss: 8.924614  [107264/134204]\n",
      "loss: 9.012129  [120672/134204]\n",
      "loss: 8.797543  [134080/134204]\n",
      "Test Error: Avg loss: 8.616940 \n",
      "\n",
      "--- 88.94117093086243 seconds ---\n",
      "Epoch 2\n",
      "-------------------------------\n",
      "loss: 9.412569  [    0/134204]\n",
      "loss: 8.852114  [13408/134204]\n",
      "loss: 8.083759  [26816/134204]\n",
      "loss: 8.635399  [40224/134204]\n",
      "loss: 8.233234  [53632/134204]\n",
      "loss: 8.452292  [67040/134204]\n",
      "loss: 8.128329  [80448/134204]\n",
      "loss: 8.070176  [93856/134204]\n",
      "loss: 7.965114  [107264/134204]\n",
      "loss: 8.370430  [120672/134204]\n",
      "loss: 7.398675  [134080/134204]\n",
      "Test Error: Avg loss: 8.134155 \n",
      "\n",
      "--- 85.39404511451721 seconds ---\n",
      "Epoch 3\n",
      "-------------------------------\n",
      "loss: 8.203048  [    0/134204]\n",
      "loss: 7.533294  [13408/134204]\n",
      "loss: 7.957581  [26816/134204]\n",
      "loss: 8.072546  [40224/134204]\n",
      "loss: 8.103197  [53632/134204]\n",
      "loss: 7.884388  [67040/134204]\n",
      "loss: 8.350918  [80448/134204]\n",
      "loss: 8.462980  [93856/134204]\n",
      "loss: 7.841672  [107264/134204]\n",
      "loss: 8.245352  [120672/134204]\n",
      "loss: 7.873806  [134080/134204]\n",
      "Test Error: Avg loss: 7.870715 \n",
      "\n",
      "--- 78.94145202636719 seconds ---\n",
      "Epoch 4\n",
      "-------------------------------\n",
      "loss: 7.471215  [    0/134204]\n",
      "loss: 7.335553  [13408/134204]\n",
      "loss: 8.007563  [26816/134204]\n",
      "loss: 8.416792  [40224/134204]\n",
      "loss: 7.570370  [53632/134204]\n",
      "loss: 7.575103  [67040/134204]\n",
      "loss: 8.145279  [80448/134204]\n",
      "loss: 7.085332  [93856/134204]\n",
      "loss: 7.860312  [107264/134204]\n",
      "loss: 7.670529  [120672/134204]\n",
      "loss: 7.639612  [134080/134204]\n",
      "Test Error: Avg loss: 7.670546 \n",
      "\n",
      "--- 77.85371804237366 seconds ---\n",
      "Epoch 5\n",
      "-------------------------------\n",
      "loss: 7.669178  [    0/134204]\n",
      "loss: 7.207778  [13408/134204]\n",
      "loss: 7.571055  [26816/134204]\n",
      "loss: 7.594728  [40224/134204]\n",
      "loss: 7.910523  [53632/134204]\n",
      "loss: 7.536243  [67040/134204]\n",
      "loss: 7.715219  [80448/134204]\n",
      "loss: 7.411932  [93856/134204]\n",
      "loss: 7.966048  [107264/134204]\n",
      "loss: 7.965070  [120672/134204]\n",
      "loss: 7.399878  [134080/134204]\n",
      "Test Error: Avg loss: 7.507830 \n",
      "\n",
      "--- 76.97288775444031 seconds ---\n",
      "Epoch 6\n",
      "-------------------------------\n",
      "loss: 7.235309  [    0/134204]\n",
      "loss: 7.829960  [13408/134204]\n",
      "loss: 7.021985  [26816/134204]\n",
      "loss: 7.532796  [40224/134204]\n",
      "loss: 7.577772  [53632/134204]\n",
      "loss: 7.287948  [67040/134204]\n",
      "loss: 7.268386  [80448/134204]\n",
      "loss: 7.117677  [93856/134204]\n",
      "loss: 7.103156  [107264/134204]\n",
      "loss: 7.466716  [120672/134204]\n",
      "loss: 7.429911  [134080/134204]\n",
      "Test Error: Avg loss: 7.408789 \n",
      "\n",
      "--- 78.85080981254578 seconds ---\n",
      "Epoch 7\n",
      "-------------------------------\n",
      "loss: 7.345809  [    0/134204]\n",
      "loss: 7.251628  [13408/134204]\n",
      "loss: 7.534608  [26816/134204]\n",
      "loss: 7.404195  [40224/134204]\n",
      "loss: 7.074533  [53632/134204]\n",
      "loss: 7.156498  [67040/134204]\n",
      "loss: 7.226697  [80448/134204]\n",
      "loss: 7.364018  [93856/134204]\n",
      "loss: 7.642364  [107264/134204]\n",
      "loss: 7.624748  [120672/134204]\n",
      "loss: 7.501606  [134080/134204]\n",
      "Test Error: Avg loss: 7.325394 \n",
      "\n",
      "--- 77.89629912376404 seconds ---\n",
      "Epoch 8\n",
      "-------------------------------\n",
      "loss: 7.425810  [    0/134204]\n",
      "loss: 7.445790  [13408/134204]\n",
      "loss: 7.263282  [26816/134204]\n",
      "loss: 7.429904  [40224/134204]\n"
     ]
    },
    {
     "ename": "KeyboardInterrupt",
     "evalue": "",
     "output_type": "error",
     "traceback": [
      "\u001b[0;31m---------------------------------------------------------------------------\u001b[0m",
      "\u001b[0;31mKeyboardInterrupt\u001b[0m                         Traceback (most recent call last)",
      "\u001b[0;32m/var/folders/2y/kyv2hdc1433f67fbbd7zm9zr0000gn/T/ipykernel_44627/795268556.py\u001b[0m in \u001b[0;36m<module>\u001b[0;34m\u001b[0m\n\u001b[1;32m      5\u001b[0m     \u001b[0mstart_time\u001b[0m \u001b[0;34m=\u001b[0m \u001b[0mtime\u001b[0m\u001b[0;34m.\u001b[0m\u001b[0mtime\u001b[0m\u001b[0;34m(\u001b[0m\u001b[0;34m)\u001b[0m\u001b[0;34m\u001b[0m\u001b[0;34m\u001b[0m\u001b[0m\n\u001b[1;32m      6\u001b[0m     \u001b[0mprint\u001b[0m\u001b[0;34m(\u001b[0m\u001b[0;34mf\"Epoch {epoch_n+1}\\n-------------------------------\"\u001b[0m\u001b[0;34m)\u001b[0m\u001b[0;34m\u001b[0m\u001b[0;34m\u001b[0m\u001b[0m\n\u001b[0;32m----> 7\u001b[0;31m     \u001b[0mtrain_loss\u001b[0m \u001b[0;34m=\u001b[0m \u001b[0mpr_train_loop\u001b[0m\u001b[0;34m(\u001b[0m\u001b[0mpr_train_dl\u001b[0m\u001b[0;34m,\u001b[0m \u001b[0mpr_model\u001b[0m\u001b[0;34m,\u001b[0m \u001b[0mp_r_loss\u001b[0m\u001b[0;34m,\u001b[0m \u001b[0mpr_optimizer\u001b[0m\u001b[0;34m,\u001b[0m \u001b[0mdevice\u001b[0m\u001b[0;34m)\u001b[0m\u001b[0;34m\u001b[0m\u001b[0;34m\u001b[0m\u001b[0m\n\u001b[0m\u001b[1;32m      8\u001b[0m     \u001b[0mval_loss\u001b[0m \u001b[0;34m=\u001b[0m \u001b[0mpr_test_loop\u001b[0m\u001b[0;34m(\u001b[0m\u001b[0mpr_val_dl\u001b[0m\u001b[0;34m,\u001b[0m \u001b[0mpr_model\u001b[0m\u001b[0;34m,\u001b[0m \u001b[0mp_r_loss\u001b[0m\u001b[0;34m,\u001b[0m \u001b[0mdevice\u001b[0m\u001b[0;34m)\u001b[0m\u001b[0;34m\u001b[0m\u001b[0;34m\u001b[0m\u001b[0m\n\u001b[1;32m      9\u001b[0m     \u001b[0mprint\u001b[0m\u001b[0;34m(\u001b[0m\u001b[0;34m\"--- %s seconds ---\"\u001b[0m \u001b[0;34m%\u001b[0m \u001b[0;34m(\u001b[0m\u001b[0mtime\u001b[0m\u001b[0;34m.\u001b[0m\u001b[0mtime\u001b[0m\u001b[0;34m(\u001b[0m\u001b[0;34m)\u001b[0m \u001b[0;34m-\u001b[0m \u001b[0mstart_time\u001b[0m\u001b[0;34m)\u001b[0m\u001b[0;34m)\u001b[0m\u001b[0;34m\u001b[0m\u001b[0;34m\u001b[0m\u001b[0m\n",
      "\u001b[0;32m/var/folders/2y/kyv2hdc1433f67fbbd7zm9zr0000gn/T/ipykernel_44627/2424618608.py\u001b[0m in \u001b[0;36mpr_train_loop\u001b[0;34m(dataloader, model, loss_fn, optimizer, device)\u001b[0m\n\u001b[1;32m      2\u001b[0m     \u001b[0magg_loss\u001b[0m \u001b[0;34m=\u001b[0m \u001b[0;36m0.0\u001b[0m\u001b[0;34m\u001b[0m\u001b[0;34m\u001b[0m\u001b[0m\n\u001b[1;32m      3\u001b[0m     \u001b[0msize\u001b[0m \u001b[0;34m=\u001b[0m \u001b[0mlen\u001b[0m\u001b[0;34m(\u001b[0m\u001b[0mdataloader\u001b[0m\u001b[0;34m.\u001b[0m\u001b[0mdataset\u001b[0m\u001b[0;34m)\u001b[0m\u001b[0;34m\u001b[0m\u001b[0;34m\u001b[0m\u001b[0m\n\u001b[0;32m----> 4\u001b[0;31m     \u001b[0;32mfor\u001b[0m \u001b[0mbatch\u001b[0m\u001b[0;34m,\u001b[0m \u001b[0;34m(\u001b[0m\u001b[0mu\u001b[0m\u001b[0;34m,\u001b[0m \u001b[0mpos_r\u001b[0m\u001b[0;34m,\u001b[0m \u001b[0mpos_r_mask\u001b[0m\u001b[0;34m,\u001b[0m \u001b[0mneg_r\u001b[0m\u001b[0;34m,\u001b[0m \u001b[0mneg_r_mask\u001b[0m\u001b[0;34m)\u001b[0m \u001b[0;32min\u001b[0m \u001b[0menumerate\u001b[0m\u001b[0;34m(\u001b[0m\u001b[0mdataloader\u001b[0m\u001b[0;34m)\u001b[0m\u001b[0;34m:\u001b[0m\u001b[0;34m\u001b[0m\u001b[0;34m\u001b[0m\u001b[0m\n\u001b[0m\u001b[1;32m      5\u001b[0m         \u001b[0mu\u001b[0m\u001b[0;34m,\u001b[0m \u001b[0mpos_r\u001b[0m\u001b[0;34m,\u001b[0m \u001b[0mpos_r_mask\u001b[0m\u001b[0;34m,\u001b[0m \u001b[0mneg_r\u001b[0m\u001b[0;34m,\u001b[0m \u001b[0mneg_r_mask\u001b[0m \u001b[0;34m=\u001b[0m \u001b[0mu\u001b[0m\u001b[0;34m.\u001b[0m\u001b[0mto\u001b[0m\u001b[0;34m(\u001b[0m\u001b[0mdevice\u001b[0m\u001b[0;34m)\u001b[0m\u001b[0;34m,\u001b[0m \u001b[0mpos_r\u001b[0m\u001b[0;34m.\u001b[0m\u001b[0mto\u001b[0m\u001b[0;34m(\u001b[0m\u001b[0mdevice\u001b[0m\u001b[0;34m)\u001b[0m\u001b[0;34m,\u001b[0m \u001b[0mpos_r_mask\u001b[0m\u001b[0;34m.\u001b[0m\u001b[0mto\u001b[0m\u001b[0;34m(\u001b[0m\u001b[0mdevice\u001b[0m\u001b[0;34m)\u001b[0m\u001b[0;34m,\u001b[0m \u001b[0mneg_r\u001b[0m\u001b[0;34m.\u001b[0m\u001b[0mto\u001b[0m\u001b[0;34m(\u001b[0m\u001b[0mdevice\u001b[0m\u001b[0;34m)\u001b[0m\u001b[0;34m,\u001b[0m \u001b[0mneg_r_mask\u001b[0m\u001b[0;34m.\u001b[0m\u001b[0mto\u001b[0m\u001b[0;34m(\u001b[0m\u001b[0mdevice\u001b[0m\u001b[0;34m)\u001b[0m\u001b[0;34m\u001b[0m\u001b[0;34m\u001b[0m\u001b[0m\n\u001b[1;32m      6\u001b[0m         \u001b[0mbatch_sz\u001b[0m \u001b[0;34m=\u001b[0m \u001b[0mu\u001b[0m\u001b[0;34m.\u001b[0m\u001b[0msize\u001b[0m\u001b[0;34m(\u001b[0m\u001b[0;36m0\u001b[0m\u001b[0;34m)\u001b[0m\u001b[0;34m\u001b[0m\u001b[0;34m\u001b[0m\u001b[0m\n",
      "\u001b[0;32m~/opt/anaconda3/envs/dl_env/lib/python3.8/site-packages/torch/utils/data/dataloader.py\u001b[0m in \u001b[0;36m__next__\u001b[0;34m(self)\u001b[0m\n\u001b[1;32m    519\u001b[0m             \u001b[0;32mif\u001b[0m \u001b[0mself\u001b[0m\u001b[0;34m.\u001b[0m\u001b[0m_sampler_iter\u001b[0m \u001b[0;32mis\u001b[0m \u001b[0;32mNone\u001b[0m\u001b[0;34m:\u001b[0m\u001b[0;34m\u001b[0m\u001b[0;34m\u001b[0m\u001b[0m\n\u001b[1;32m    520\u001b[0m                 \u001b[0mself\u001b[0m\u001b[0;34m.\u001b[0m\u001b[0m_reset\u001b[0m\u001b[0;34m(\u001b[0m\u001b[0;34m)\u001b[0m\u001b[0;34m\u001b[0m\u001b[0;34m\u001b[0m\u001b[0m\n\u001b[0;32m--> 521\u001b[0;31m             \u001b[0mdata\u001b[0m \u001b[0;34m=\u001b[0m \u001b[0mself\u001b[0m\u001b[0;34m.\u001b[0m\u001b[0m_next_data\u001b[0m\u001b[0;34m(\u001b[0m\u001b[0;34m)\u001b[0m\u001b[0;34m\u001b[0m\u001b[0;34m\u001b[0m\u001b[0m\n\u001b[0m\u001b[1;32m    522\u001b[0m             \u001b[0mself\u001b[0m\u001b[0;34m.\u001b[0m\u001b[0m_num_yielded\u001b[0m \u001b[0;34m+=\u001b[0m \u001b[0;36m1\u001b[0m\u001b[0;34m\u001b[0m\u001b[0;34m\u001b[0m\u001b[0m\n\u001b[1;32m    523\u001b[0m             \u001b[0;32mif\u001b[0m \u001b[0mself\u001b[0m\u001b[0;34m.\u001b[0m\u001b[0m_dataset_kind\u001b[0m \u001b[0;34m==\u001b[0m \u001b[0m_DatasetKind\u001b[0m\u001b[0;34m.\u001b[0m\u001b[0mIterable\u001b[0m \u001b[0;32mand\u001b[0m\u001b[0;31m \u001b[0m\u001b[0;31m\\\u001b[0m\u001b[0;34m\u001b[0m\u001b[0;34m\u001b[0m\u001b[0m\n",
      "\u001b[0;32m~/opt/anaconda3/envs/dl_env/lib/python3.8/site-packages/torch/utils/data/dataloader.py\u001b[0m in \u001b[0;36m_next_data\u001b[0;34m(self)\u001b[0m\n\u001b[1;32m    559\u001b[0m     \u001b[0;32mdef\u001b[0m \u001b[0m_next_data\u001b[0m\u001b[0;34m(\u001b[0m\u001b[0mself\u001b[0m\u001b[0;34m)\u001b[0m\u001b[0;34m:\u001b[0m\u001b[0;34m\u001b[0m\u001b[0;34m\u001b[0m\u001b[0m\n\u001b[1;32m    560\u001b[0m         \u001b[0mindex\u001b[0m \u001b[0;34m=\u001b[0m \u001b[0mself\u001b[0m\u001b[0;34m.\u001b[0m\u001b[0m_next_index\u001b[0m\u001b[0;34m(\u001b[0m\u001b[0;34m)\u001b[0m  \u001b[0;31m# may raise StopIteration\u001b[0m\u001b[0;34m\u001b[0m\u001b[0;34m\u001b[0m\u001b[0m\n\u001b[0;32m--> 561\u001b[0;31m         \u001b[0mdata\u001b[0m \u001b[0;34m=\u001b[0m \u001b[0mself\u001b[0m\u001b[0;34m.\u001b[0m\u001b[0m_dataset_fetcher\u001b[0m\u001b[0;34m.\u001b[0m\u001b[0mfetch\u001b[0m\u001b[0;34m(\u001b[0m\u001b[0mindex\u001b[0m\u001b[0;34m)\u001b[0m  \u001b[0;31m# may raise StopIteration\u001b[0m\u001b[0;34m\u001b[0m\u001b[0;34m\u001b[0m\u001b[0m\n\u001b[0m\u001b[1;32m    562\u001b[0m         \u001b[0;32mif\u001b[0m \u001b[0mself\u001b[0m\u001b[0;34m.\u001b[0m\u001b[0m_pin_memory\u001b[0m\u001b[0;34m:\u001b[0m\u001b[0;34m\u001b[0m\u001b[0;34m\u001b[0m\u001b[0m\n\u001b[1;32m    563\u001b[0m             \u001b[0mdata\u001b[0m \u001b[0;34m=\u001b[0m \u001b[0m_utils\u001b[0m\u001b[0;34m.\u001b[0m\u001b[0mpin_memory\u001b[0m\u001b[0;34m.\u001b[0m\u001b[0mpin_memory\u001b[0m\u001b[0;34m(\u001b[0m\u001b[0mdata\u001b[0m\u001b[0;34m)\u001b[0m\u001b[0;34m\u001b[0m\u001b[0;34m\u001b[0m\u001b[0m\n",
      "\u001b[0;32m~/opt/anaconda3/envs/dl_env/lib/python3.8/site-packages/torch/utils/data/_utils/fetch.py\u001b[0m in \u001b[0;36mfetch\u001b[0;34m(self, possibly_batched_index)\u001b[0m\n\u001b[1;32m     47\u001b[0m     \u001b[0;32mdef\u001b[0m \u001b[0mfetch\u001b[0m\u001b[0;34m(\u001b[0m\u001b[0mself\u001b[0m\u001b[0;34m,\u001b[0m \u001b[0mpossibly_batched_index\u001b[0m\u001b[0;34m)\u001b[0m\u001b[0;34m:\u001b[0m\u001b[0;34m\u001b[0m\u001b[0;34m\u001b[0m\u001b[0m\n\u001b[1;32m     48\u001b[0m         \u001b[0;32mif\u001b[0m \u001b[0mself\u001b[0m\u001b[0;34m.\u001b[0m\u001b[0mauto_collation\u001b[0m\u001b[0;34m:\u001b[0m\u001b[0;34m\u001b[0m\u001b[0;34m\u001b[0m\u001b[0m\n\u001b[0;32m---> 49\u001b[0;31m             \u001b[0mdata\u001b[0m \u001b[0;34m=\u001b[0m \u001b[0;34m[\u001b[0m\u001b[0mself\u001b[0m\u001b[0;34m.\u001b[0m\u001b[0mdataset\u001b[0m\u001b[0;34m[\u001b[0m\u001b[0midx\u001b[0m\u001b[0;34m]\u001b[0m \u001b[0;32mfor\u001b[0m \u001b[0midx\u001b[0m \u001b[0;32min\u001b[0m \u001b[0mpossibly_batched_index\u001b[0m\u001b[0;34m]\u001b[0m\u001b[0;34m\u001b[0m\u001b[0;34m\u001b[0m\u001b[0m\n\u001b[0m\u001b[1;32m     50\u001b[0m         \u001b[0;32melse\u001b[0m\u001b[0;34m:\u001b[0m\u001b[0;34m\u001b[0m\u001b[0;34m\u001b[0m\u001b[0m\n\u001b[1;32m     51\u001b[0m             \u001b[0mdata\u001b[0m \u001b[0;34m=\u001b[0m \u001b[0mself\u001b[0m\u001b[0;34m.\u001b[0m\u001b[0mdataset\u001b[0m\u001b[0;34m[\u001b[0m\u001b[0mpossibly_batched_index\u001b[0m\u001b[0;34m]\u001b[0m\u001b[0;34m\u001b[0m\u001b[0;34m\u001b[0m\u001b[0m\n",
      "\u001b[0;32m~/opt/anaconda3/envs/dl_env/lib/python3.8/site-packages/torch/utils/data/_utils/fetch.py\u001b[0m in \u001b[0;36m<listcomp>\u001b[0;34m(.0)\u001b[0m\n\u001b[1;32m     47\u001b[0m     \u001b[0;32mdef\u001b[0m \u001b[0mfetch\u001b[0m\u001b[0;34m(\u001b[0m\u001b[0mself\u001b[0m\u001b[0;34m,\u001b[0m \u001b[0mpossibly_batched_index\u001b[0m\u001b[0;34m)\u001b[0m\u001b[0;34m:\u001b[0m\u001b[0;34m\u001b[0m\u001b[0;34m\u001b[0m\u001b[0m\n\u001b[1;32m     48\u001b[0m         \u001b[0;32mif\u001b[0m \u001b[0mself\u001b[0m\u001b[0;34m.\u001b[0m\u001b[0mauto_collation\u001b[0m\u001b[0;34m:\u001b[0m\u001b[0;34m\u001b[0m\u001b[0;34m\u001b[0m\u001b[0m\n\u001b[0;32m---> 49\u001b[0;31m             \u001b[0mdata\u001b[0m \u001b[0;34m=\u001b[0m \u001b[0;34m[\u001b[0m\u001b[0mself\u001b[0m\u001b[0;34m.\u001b[0m\u001b[0mdataset\u001b[0m\u001b[0;34m[\u001b[0m\u001b[0midx\u001b[0m\u001b[0;34m]\u001b[0m \u001b[0;32mfor\u001b[0m \u001b[0midx\u001b[0m \u001b[0;32min\u001b[0m \u001b[0mpossibly_batched_index\u001b[0m\u001b[0;34m]\u001b[0m\u001b[0;34m\u001b[0m\u001b[0;34m\u001b[0m\u001b[0m\n\u001b[0m\u001b[1;32m     50\u001b[0m         \u001b[0;32melse\u001b[0m\u001b[0;34m:\u001b[0m\u001b[0;34m\u001b[0m\u001b[0;34m\u001b[0m\u001b[0m\n\u001b[1;32m     51\u001b[0m             \u001b[0mdata\u001b[0m \u001b[0;34m=\u001b[0m \u001b[0mself\u001b[0m\u001b[0;34m.\u001b[0m\u001b[0mdataset\u001b[0m\u001b[0;34m[\u001b[0m\u001b[0mpossibly_batched_index\u001b[0m\u001b[0;34m]\u001b[0m\u001b[0;34m\u001b[0m\u001b[0;34m\u001b[0m\u001b[0m\n",
      "\u001b[0;32m/var/folders/2y/kyv2hdc1433f67fbbd7zm9zr0000gn/T/ipykernel_44627/1543202309.py\u001b[0m in \u001b[0;36m__getitem__\u001b[0;34m(self, idx)\u001b[0m\n\u001b[1;32m     20\u001b[0m         \u001b[0mu\u001b[0m\u001b[0;34m,\u001b[0m\u001b[0mr\u001b[0m\u001b[0;34m,\u001b[0m\u001b[0m_\u001b[0m \u001b[0;34m=\u001b[0m \u001b[0mself\u001b[0m\u001b[0;34m.\u001b[0m\u001b[0mmind_ds\u001b[0m\u001b[0;34m[\u001b[0m\u001b[0midx\u001b[0m\u001b[0;34m]\u001b[0m\u001b[0;34m\u001b[0m\u001b[0;34m\u001b[0m\u001b[0m\n\u001b[1;32m     21\u001b[0m         \u001b[0mpos_r\u001b[0m \u001b[0;34m=\u001b[0m \u001b[0mrandom\u001b[0m\u001b[0;34m.\u001b[0m\u001b[0msample\u001b[0m\u001b[0;34m(\u001b[0m\u001b[0mr\u001b[0m\u001b[0;34m,\u001b[0m \u001b[0mmin\u001b[0m\u001b[0;34m(\u001b[0m\u001b[0mself\u001b[0m\u001b[0;34m.\u001b[0m\u001b[0mmax_sampling_len\u001b[0m\u001b[0;34m,\u001b[0m \u001b[0mlen\u001b[0m\u001b[0;34m(\u001b[0m\u001b[0mr\u001b[0m\u001b[0;34m)\u001b[0m\u001b[0;34m)\u001b[0m\u001b[0;34m)\u001b[0m\u001b[0;34m\u001b[0m\u001b[0;34m\u001b[0m\u001b[0m\n\u001b[0;32m---> 22\u001b[0;31m         \u001b[0mneg_r\u001b[0m \u001b[0;34m=\u001b[0m \u001b[0mrandom\u001b[0m\u001b[0;34m.\u001b[0m\u001b[0msample\u001b[0m\u001b[0;34m(\u001b[0m\u001b[0mself\u001b[0m\u001b[0;34m.\u001b[0m\u001b[0mitem_set\u001b[0m \u001b[0;34m-\u001b[0m \u001b[0mset\u001b[0m\u001b[0;34m(\u001b[0m\u001b[0mr\u001b[0m\u001b[0;34m)\u001b[0m\u001b[0;34m,\u001b[0m \u001b[0mlen\u001b[0m\u001b[0;34m(\u001b[0m\u001b[0mpos_r\u001b[0m\u001b[0;34m)\u001b[0m\u001b[0;34m)\u001b[0m\u001b[0;34m\u001b[0m\u001b[0;34m\u001b[0m\u001b[0m\n\u001b[0m\u001b[1;32m     23\u001b[0m         \u001b[0;32mreturn\u001b[0m \u001b[0mu\u001b[0m\u001b[0;34m,\u001b[0m \u001b[0mpos_r\u001b[0m\u001b[0;34m,\u001b[0m \u001b[0mneg_r\u001b[0m\u001b[0;34m\u001b[0m\u001b[0;34m\u001b[0m\u001b[0m\n\u001b[1;32m     24\u001b[0m \u001b[0;34m\u001b[0m\u001b[0m\n",
      "\u001b[0;32m~/opt/anaconda3/envs/dl_env/lib/python3.8/random.py\u001b[0m in \u001b[0;36msample\u001b[0;34m(self, population, k)\u001b[0m\n\u001b[1;32m    355\u001b[0m \u001b[0;34m\u001b[0m\u001b[0m\n\u001b[1;32m    356\u001b[0m         \u001b[0;32mif\u001b[0m \u001b[0misinstance\u001b[0m\u001b[0;34m(\u001b[0m\u001b[0mpopulation\u001b[0m\u001b[0;34m,\u001b[0m \u001b[0m_Set\u001b[0m\u001b[0;34m)\u001b[0m\u001b[0;34m:\u001b[0m\u001b[0;34m\u001b[0m\u001b[0;34m\u001b[0m\u001b[0m\n\u001b[0;32m--> 357\u001b[0;31m             \u001b[0mpopulation\u001b[0m \u001b[0;34m=\u001b[0m \u001b[0mtuple\u001b[0m\u001b[0;34m(\u001b[0m\u001b[0mpopulation\u001b[0m\u001b[0;34m)\u001b[0m\u001b[0;34m\u001b[0m\u001b[0;34m\u001b[0m\u001b[0m\n\u001b[0m\u001b[1;32m    358\u001b[0m         \u001b[0;32mif\u001b[0m \u001b[0;32mnot\u001b[0m \u001b[0misinstance\u001b[0m\u001b[0;34m(\u001b[0m\u001b[0mpopulation\u001b[0m\u001b[0;34m,\u001b[0m \u001b[0m_Sequence\u001b[0m\u001b[0;34m)\u001b[0m\u001b[0;34m:\u001b[0m\u001b[0;34m\u001b[0m\u001b[0;34m\u001b[0m\u001b[0m\n\u001b[1;32m    359\u001b[0m             \u001b[0;32mraise\u001b[0m \u001b[0mTypeError\u001b[0m\u001b[0;34m(\u001b[0m\u001b[0;34m\"Population must be a sequence or set.  For dicts, use list(d).\"\u001b[0m\u001b[0;34m)\u001b[0m\u001b[0;34m\u001b[0m\u001b[0;34m\u001b[0m\u001b[0m\n",
      "\u001b[0;31mKeyboardInterrupt\u001b[0m: "
     ]
    }
   ],
   "source": [
    "start_epoch = 0\n",
    "end_epoch = 100\n",
    "\n",
    "for epoch_n in range(start_epoch, end_epoch):\n",
    "    start_time = time.time()\n",
    "    print(f\"Epoch {epoch_n+1}\\n-------------------------------\")\n",
    "    train_loss = pr_train_loop(pr_train_dl, pr_model, p_r_loss, pr_optimizer, device)\n",
    "    val_loss = pr_test_loop(pr_val_dl, pr_model, p_r_loss, device)\n",
    "    print(\"--- %s seconds ---\" % (time.time() - start_time))\n",
    "    \n",
    "    pr_loss_d['epoch'].append(epoch_n)\n",
    "    pr_loss_d['train'].append(train_loss)\n",
    "    pr_loss_d['val'].append(val_loss)\n",
    "    if epoch_n % 3 == 0:\n",
    "        torch.save(pr_model.state_dict(), pr_save_path)\n",
    "        pd.DataFrame(pr_loss_d).to_csv(pr_loss_save_path, index=False)\n",
    "torch.save(pr_model.state_dict(), pr_save_path)\n",
    "pd.DataFrame(pr_loss_d).to_csv(pr_loss_save_path, index=False)"
   ]
  },
  {
   "cell_type": "code",
   "execution_count": 339,
   "metadata": {},
   "outputs": [],
   "source": [
    "torch.save(pr_model.state_dict(), pr_save_path)"
   ]
  },
  {
   "cell_type": "code",
   "execution_count": 282,
   "metadata": {},
   "outputs": [
    {
     "data": {
      "text/plain": [
       "<All keys matched successfully>"
      ]
     },
     "execution_count": 282,
     "metadata": {},
     "output_type": "execute_result"
    }
   ],
   "source": [
    "loaded_pr_model = P_R_Network(len(user_d)+1, len(item_d)+1)\n",
    "loaded_pr_model.load_state_dict(torch.load(pr_save_path))"
   ]
  },
  {
   "cell_type": "code",
   "execution_count": null,
   "metadata": {},
   "outputs": [],
   "source": []
  },
  {
   "cell_type": "markdown",
   "metadata": {},
   "source": [
    "## $P_S$"
   ]
  },
  {
   "cell_type": "code",
   "execution_count": 329,
   "metadata": {},
   "outputs": [
    {
     "name": "stdout",
     "output_type": "stream",
     "text": [
      "P_S:\n",
      "w torch.Size([1, 299])\n",
      "Cuda =  False\n",
      "user_emb.weight torch.Size([47372, 2])\n",
      "Cuda =  False\n",
      "item_emb.weight torch.Size([19762, 2])\n",
      "Cuda =  False\n"
     ]
    }
   ],
   "source": [
    "ps_model = P_S_Network(len(user_d)+1, len(item_d)+1, 299, emb_dim=2)\n",
    "ps_model = ps_model.to(device)\n",
    "# Parametros\n",
    "print('P_S:')\n",
    "for name, param in ps_model.named_parameters():\n",
    "    if param.requires_grad:\n",
    "        print(name, param.data.size())\n",
    "        print('Cuda = ', param.is_cuda)"
   ]
  },
  {
   "cell_type": "code",
   "execution_count": 330,
   "metadata": {},
   "outputs": [],
   "source": [
    "ps_save_path = 'ps_model.pth'\n",
    "ps_loss_save_path = 'ps_loss.csv'\n",
    "ps_loss_d = {'epoch': [], 'train':[], 'val':[]}"
   ]
  },
  {
   "cell_type": "code",
   "execution_count": 331,
   "metadata": {},
   "outputs": [],
   "source": [
    "learning_rate = 1e-3\n",
    "ps_optimizer = torch.optim.Adam(ps_model.parameters(), lr=learning_rate)"
   ]
  },
  {
   "cell_type": "code",
   "execution_count": 332,
   "metadata": {
    "scrolled": true
   },
   "outputs": [
    {
     "name": "stdout",
     "output_type": "stream",
     "text": [
      "Epoch 1\n",
      "-------------------------------\n",
      "loss: 8.110305  [    0/134204]\n",
      "loss: 8.644269  [13408/134204]\n",
      "loss: 9.303308  [26816/134204]\n",
      "loss: 11.695631  [40224/134204]\n",
      "loss: 6.665462  [53632/134204]\n",
      "loss: 8.635054  [67040/134204]\n",
      "loss: 8.467722  [80448/134204]\n",
      "loss: 8.168361  [93856/134204]\n",
      "loss: 6.936198  [107264/134204]\n",
      "loss: 8.996063  [120672/134204]\n",
      "loss: 6.380520  [134080/134204]\n",
      "Test Error: Avg loss: 8.030035 \n",
      "\n",
      "--- 21.246030807495117 seconds ---\n",
      "Epoch 2\n",
      "-------------------------------\n",
      "loss: 5.973269  [    0/134204]\n",
      "loss: 7.819653  [13408/134204]\n",
      "loss: 7.993382  [26816/134204]\n",
      "loss: 8.186760  [40224/134204]\n",
      "loss: 7.592505  [53632/134204]\n",
      "loss: 9.469425  [67040/134204]\n",
      "loss: 8.610830  [80448/134204]\n",
      "loss: 7.682830  [93856/134204]\n",
      "loss: 7.398804  [107264/134204]\n",
      "loss: 6.987427  [120672/134204]\n",
      "loss: 10.432972  [134080/134204]\n",
      "Test Error: Avg loss: 7.860832 \n",
      "\n",
      "--- 24.433345079421997 seconds ---\n",
      "Epoch 3\n",
      "-------------------------------\n",
      "loss: 9.469077  [    0/134204]\n",
      "loss: 7.841794  [13408/134204]\n",
      "loss: 5.515489  [26816/134204]\n",
      "loss: 9.877042  [40224/134204]\n",
      "loss: 7.138339  [53632/134204]\n",
      "loss: 8.221999  [67040/134204]\n",
      "loss: 6.863219  [80448/134204]\n",
      "loss: 8.650542  [93856/134204]\n",
      "loss: 9.227267  [107264/134204]\n",
      "loss: 5.206595  [120672/134204]\n",
      "loss: 7.744493  [134080/134204]\n",
      "Test Error: Avg loss: 7.760604 \n",
      "\n",
      "--- 22.432518005371094 seconds ---\n",
      "Epoch 4\n",
      "-------------------------------\n",
      "loss: 7.033858  [    0/134204]\n",
      "loss: 6.527201  [13408/134204]\n",
      "loss: 7.393858  [26816/134204]\n",
      "loss: 7.273911  [40224/134204]\n",
      "loss: 6.607041  [53632/134204]\n",
      "loss: 7.777387  [67040/134204]\n",
      "loss: 9.068916  [80448/134204]\n",
      "loss: 5.543942  [93856/134204]\n",
      "loss: 5.207983  [107264/134204]\n",
      "loss: 7.289143  [120672/134204]\n",
      "loss: 7.023345  [134080/134204]\n",
      "Test Error: Avg loss: 7.750618 \n",
      "\n",
      "--- 25.292683124542236 seconds ---\n",
      "Epoch 5\n",
      "-------------------------------\n",
      "loss: 5.704933  [    0/134204]\n",
      "loss: 7.523475  [13408/134204]\n",
      "loss: 7.388028  [26816/134204]\n",
      "loss: 9.148671  [40224/134204]\n",
      "loss: 8.019925  [53632/134204]\n",
      "loss: 5.909533  [67040/134204]\n",
      "loss: 6.454585  [80448/134204]\n",
      "loss: 9.434891  [93856/134204]\n",
      "loss: 7.753967  [107264/134204]\n",
      "loss: 6.506070  [120672/134204]\n",
      "loss: 5.617479  [134080/134204]\n",
      "Test Error: Avg loss: 7.721191 \n",
      "\n",
      "--- 23.564894199371338 seconds ---\n",
      "Epoch 6\n",
      "-------------------------------\n",
      "loss: 7.468351  [    0/134204]\n",
      "loss: 8.331456  [13408/134204]\n",
      "loss: 6.241323  [26816/134204]\n",
      "loss: 6.246277  [40224/134204]\n",
      "loss: 8.188228  [53632/134204]\n",
      "loss: 6.162911  [67040/134204]\n",
      "loss: 6.730896  [80448/134204]\n",
      "loss: 7.985889  [93856/134204]\n",
      "loss: 8.395851  [107264/134204]\n",
      "loss: 9.345083  [120672/134204]\n",
      "loss: 6.490865  [134080/134204]\n",
      "Test Error: Avg loss: 7.720556 \n",
      "\n",
      "--- 23.818522930145264 seconds ---\n",
      "Epoch 7\n",
      "-------------------------------\n",
      "loss: 8.313675  [    0/134204]\n",
      "loss: 7.463723  [13408/134204]\n",
      "loss: 7.447154  [26816/134204]\n",
      "loss: 9.970358  [40224/134204]\n",
      "loss: 6.879455  [53632/134204]\n",
      "loss: 7.997367  [67040/134204]\n",
      "loss: 7.912810  [80448/134204]\n",
      "loss: 5.448525  [93856/134204]\n",
      "loss: 7.750719  [107264/134204]\n",
      "loss: 6.617584  [120672/134204]\n",
      "loss: 7.500450  [134080/134204]\n",
      "Test Error: Avg loss: 7.709639 \n",
      "\n",
      "--- 22.903228282928467 seconds ---\n",
      "Epoch 8\n",
      "-------------------------------\n",
      "loss: 7.673610  [    0/134204]\n",
      "loss: 7.873296  [13408/134204]\n",
      "loss: 6.094587  [26816/134204]\n",
      "loss: 7.232470  [40224/134204]\n",
      "loss: 5.385234  [53632/134204]\n",
      "loss: 6.892939  [67040/134204]\n",
      "loss: 5.816458  [80448/134204]\n",
      "loss: 7.560177  [93856/134204]\n",
      "loss: 7.824846  [107264/134204]\n",
      "loss: 7.513380  [120672/134204]\n",
      "loss: 7.383659  [134080/134204]\n",
      "Test Error: Avg loss: 7.711804 \n",
      "\n",
      "--- 23.73694634437561 seconds ---\n",
      "Epoch 9\n",
      "-------------------------------\n",
      "loss: 7.298140  [    0/134204]\n",
      "loss: 7.061231  [13408/134204]\n",
      "loss: 8.500722  [26816/134204]\n",
      "loss: 6.535095  [40224/134204]\n",
      "loss: 12.070209  [53632/134204]\n",
      "loss: 8.855700  [67040/134204]\n",
      "loss: 9.292211  [80448/134204]\n",
      "loss: 7.746260  [93856/134204]\n",
      "loss: 5.552468  [107264/134204]\n",
      "loss: 6.195360  [120672/134204]\n",
      "loss: 5.436878  [134080/134204]\n",
      "Test Error: Avg loss: 7.700505 \n",
      "\n",
      "--- 23.270663022994995 seconds ---\n",
      "Epoch 10\n",
      "-------------------------------\n",
      "loss: 6.797544  [    0/134204]\n",
      "loss: 9.590756  [13408/134204]\n",
      "loss: 6.382887  [26816/134204]\n",
      "loss: 8.891727  [40224/134204]\n",
      "loss: 6.923250  [53632/134204]\n",
      "loss: 6.391721  [67040/134204]\n",
      "loss: 6.404046  [80448/134204]\n",
      "loss: 6.270312  [93856/134204]\n",
      "loss: 8.144661  [107264/134204]\n",
      "loss: 7.483461  [120672/134204]\n",
      "loss: 7.638015  [134080/134204]\n",
      "Test Error: Avg loss: 7.688588 \n",
      "\n",
      "--- 21.773770093917847 seconds ---\n",
      "Epoch 11\n",
      "-------------------------------\n",
      "loss: 6.645521  [    0/134204]\n",
      "loss: 7.045266  [13408/134204]\n",
      "loss: 7.977003  [26816/134204]\n",
      "loss: 5.058735  [40224/134204]\n",
      "loss: 6.384621  [53632/134204]\n",
      "loss: 8.363499  [67040/134204]\n",
      "loss: 9.096792  [80448/134204]\n",
      "loss: 7.498627  [93856/134204]\n",
      "loss: 8.179829  [107264/134204]\n",
      "loss: 6.467761  [120672/134204]\n",
      "loss: 6.889215  [134080/134204]\n",
      "Test Error: Avg loss: 7.672589 \n",
      "\n",
      "--- 22.700326919555664 seconds ---\n",
      "Epoch 12\n",
      "-------------------------------\n",
      "loss: 7.251445  [    0/134204]\n",
      "loss: 6.829753  [13408/134204]\n",
      "loss: 6.848849  [26816/134204]\n",
      "loss: 5.529368  [40224/134204]\n",
      "loss: 6.783274  [53632/134204]\n",
      "loss: 8.555781  [67040/134204]\n",
      "loss: 8.064452  [80448/134204]\n",
      "loss: 7.593215  [93856/134204]\n",
      "loss: 7.787518  [107264/134204]\n",
      "loss: 7.497513  [120672/134204]\n",
      "loss: 6.495928  [134080/134204]\n",
      "Test Error: Avg loss: 7.662706 \n",
      "\n",
      "--- 23.083508253097534 seconds ---\n",
      "Epoch 13\n",
      "-------------------------------\n",
      "loss: 6.405540  [    0/134204]\n",
      "loss: 7.085655  [13408/134204]\n",
      "loss: 6.743312  [26816/134204]\n",
      "loss: 6.361060  [40224/134204]\n",
      "loss: 4.914557  [53632/134204]\n",
      "loss: 8.779932  [67040/134204]\n",
      "loss: 7.006460  [80448/134204]\n",
      "loss: 6.694485  [93856/134204]\n",
      "loss: 6.008847  [107264/134204]\n",
      "loss: 6.040838  [120672/134204]\n",
      "loss: 8.720141  [134080/134204]\n",
      "Test Error: Avg loss: 7.638575 \n",
      "\n",
      "--- 24.421455144882202 seconds ---\n",
      "Epoch 14\n",
      "-------------------------------\n",
      "loss: 5.749507  [    0/134204]\n",
      "loss: 5.729705  [13408/134204]\n",
      "loss: 5.489899  [26816/134204]\n",
      "loss: 6.218156  [40224/134204]\n",
      "loss: 6.036471  [53632/134204]\n",
      "loss: 7.436643  [67040/134204]\n",
      "loss: 6.112236  [80448/134204]\n",
      "loss: 7.212400  [93856/134204]\n",
      "loss: 7.958619  [107264/134204]\n",
      "loss: 6.802999  [120672/134204]\n",
      "loss: 6.648107  [134080/134204]\n",
      "Test Error: Avg loss: 7.591777 \n",
      "\n",
      "--- 23.090735912322998 seconds ---\n",
      "Epoch 15\n",
      "-------------------------------\n",
      "loss: 6.293776  [    0/134204]\n",
      "loss: 5.920116  [13408/134204]\n",
      "loss: 5.266090  [26816/134204]\n",
      "loss: 8.581572  [40224/134204]\n",
      "loss: 7.966247  [53632/134204]\n",
      "loss: 7.439024  [67040/134204]\n",
      "loss: 5.122210  [80448/134204]\n",
      "loss: 7.133816  [93856/134204]\n",
      "loss: 6.472944  [107264/134204]\n",
      "loss: 7.381456  [120672/134204]\n",
      "loss: 5.064163  [134080/134204]\n",
      "Test Error: Avg loss: 7.559934 \n",
      "\n",
      "--- 24.69939923286438 seconds ---\n",
      "Epoch 16\n",
      "-------------------------------\n",
      "loss: 7.935681  [    0/134204]\n",
      "loss: 7.679442  [13408/134204]\n",
      "loss: 7.015979  [26816/134204]\n",
      "loss: 5.860999  [40224/134204]\n",
      "loss: 7.199180  [53632/134204]\n",
      "loss: 6.549110  [67040/134204]\n",
      "loss: 5.517090  [80448/134204]\n",
      "loss: 5.546653  [93856/134204]\n",
      "loss: 6.632987  [107264/134204]\n",
      "loss: 7.341692  [120672/134204]\n",
      "loss: 5.400275  [134080/134204]\n",
      "Test Error: Avg loss: 7.517198 \n",
      "\n",
      "--- 23.652818202972412 seconds ---\n",
      "Epoch 17\n",
      "-------------------------------\n",
      "loss: 5.594552  [    0/134204]\n",
      "loss: 5.877046  [13408/134204]\n",
      "loss: 5.589941  [26816/134204]\n",
      "loss: 8.511514  [40224/134204]\n",
      "loss: 9.052742  [53632/134204]\n",
      "loss: 8.078637  [67040/134204]\n",
      "loss: 5.004688  [80448/134204]\n",
      "loss: 7.273790  [93856/134204]\n",
      "loss: 7.561630  [107264/134204]\n",
      "loss: 6.448040  [120672/134204]\n",
      "loss: 4.907686  [134080/134204]\n",
      "Test Error: Avg loss: 7.469901 \n",
      "\n",
      "--- 25.284928798675537 seconds ---\n",
      "Epoch 18\n",
      "-------------------------------\n",
      "loss: 6.803025  [    0/134204]\n",
      "loss: 8.000554  [13408/134204]\n",
      "loss: 7.754890  [26816/134204]\n",
      "loss: 5.904470  [40224/134204]\n",
      "loss: 4.776018  [53632/134204]\n",
      "loss: 7.975696  [67040/134204]\n",
      "loss: 5.603939  [80448/134204]\n",
      "loss: 6.009465  [93856/134204]\n",
      "loss: 7.006840  [107264/134204]\n",
      "loss: 7.025083  [120672/134204]\n",
      "loss: 6.043629  [134080/134204]\n",
      "Test Error: Avg loss: 7.413844 \n",
      "\n",
      "--- 25.992777109146118 seconds ---\n",
      "Epoch 19\n",
      "-------------------------------\n",
      "loss: 4.957160  [    0/134204]\n"
     ]
    },
    {
     "name": "stdout",
     "output_type": "stream",
     "text": [
      "loss: 7.273869  [13408/134204]\n",
      "loss: 4.805532  [26816/134204]\n",
      "loss: 5.614279  [40224/134204]\n",
      "loss: 6.731812  [53632/134204]\n",
      "loss: 8.938831  [67040/134204]\n",
      "loss: 5.361399  [80448/134204]\n",
      "loss: 4.477597  [93856/134204]\n",
      "loss: 7.022297  [107264/134204]\n",
      "loss: 6.460247  [120672/134204]\n",
      "loss: 7.137022  [134080/134204]\n",
      "Test Error: Avg loss: 7.353835 \n",
      "\n",
      "--- 23.387728929519653 seconds ---\n",
      "Epoch 20\n",
      "-------------------------------\n",
      "loss: 5.690172  [    0/134204]\n",
      "loss: 5.459897  [13408/134204]\n",
      "loss: 8.454627  [26816/134204]\n",
      "loss: 6.682551  [40224/134204]\n",
      "loss: 7.139656  [53632/134204]\n",
      "loss: 5.057953  [67040/134204]\n",
      "loss: 7.213307  [80448/134204]\n",
      "loss: 5.382449  [93856/134204]\n",
      "loss: 6.232112  [107264/134204]\n",
      "loss: 5.833234  [120672/134204]\n",
      "loss: 4.754478  [134080/134204]\n",
      "Test Error: Avg loss: 7.308398 \n",
      "\n",
      "--- 21.397932052612305 seconds ---\n",
      "Epoch 21\n",
      "-------------------------------\n",
      "loss: 7.997679  [    0/134204]\n",
      "loss: 6.251961  [13408/134204]\n",
      "loss: 8.244716  [26816/134204]\n",
      "loss: 6.898548  [40224/134204]\n",
      "loss: 7.485888  [53632/134204]\n",
      "loss: 6.350505  [67040/134204]\n",
      "loss: 7.404263  [80448/134204]\n",
      "loss: 5.160291  [93856/134204]\n",
      "loss: 4.693030  [107264/134204]\n",
      "loss: 7.015823  [120672/134204]\n",
      "loss: 6.924737  [134080/134204]\n",
      "Test Error: Avg loss: 7.239930 \n",
      "\n",
      "--- 22.717400789260864 seconds ---\n",
      "Epoch 22\n",
      "-------------------------------\n",
      "loss: 5.899665  [    0/134204]\n",
      "loss: 6.731177  [13408/134204]\n",
      "loss: 5.866205  [26816/134204]\n",
      "loss: 5.033856  [40224/134204]\n",
      "loss: 7.128865  [53632/134204]\n",
      "loss: 5.001117  [67040/134204]\n",
      "loss: 7.560059  [80448/134204]\n",
      "loss: 5.561999  [93856/134204]\n",
      "loss: 5.742987  [107264/134204]\n",
      "loss: 6.201154  [120672/134204]\n",
      "loss: 5.766662  [134080/134204]\n",
      "Test Error: Avg loss: 7.182238 \n",
      "\n",
      "--- 21.71663212776184 seconds ---\n",
      "Epoch 23\n",
      "-------------------------------\n",
      "loss: 8.712084  [    0/134204]\n",
      "loss: 5.325058  [13408/134204]\n",
      "loss: 5.009077  [26816/134204]\n",
      "loss: 5.443114  [40224/134204]\n",
      "loss: 5.262550  [53632/134204]\n",
      "loss: 5.639158  [67040/134204]\n",
      "loss: 7.072893  [80448/134204]\n",
      "loss: 7.466094  [93856/134204]\n",
      "loss: 6.505723  [107264/134204]\n",
      "loss: 6.119423  [120672/134204]\n",
      "loss: 7.158890  [134080/134204]\n",
      "Test Error: Avg loss: 7.099590 \n",
      "\n",
      "--- 21.38354778289795 seconds ---\n",
      "Epoch 24\n",
      "-------------------------------\n",
      "loss: 6.262507  [    0/134204]\n",
      "loss: 7.524670  [13408/134204]\n",
      "loss: 7.272670  [26816/134204]\n",
      "loss: 6.102266  [40224/134204]\n",
      "loss: 6.132875  [53632/134204]\n",
      "loss: 5.466640  [67040/134204]\n",
      "loss: 8.975285  [80448/134204]\n",
      "loss: 8.404230  [93856/134204]\n",
      "loss: 6.167351  [107264/134204]\n",
      "loss: 5.985450  [120672/134204]\n",
      "loss: 6.155147  [134080/134204]\n",
      "Test Error: Avg loss: 7.046457 \n",
      "\n",
      "--- 23.210066318511963 seconds ---\n",
      "Epoch 25\n",
      "-------------------------------\n",
      "loss: 4.830910  [    0/134204]\n",
      "loss: 5.677639  [13408/134204]\n",
      "loss: 5.834444  [26816/134204]\n",
      "loss: 5.636248  [40224/134204]\n",
      "loss: 4.354805  [53632/134204]\n",
      "loss: 5.252511  [67040/134204]\n",
      "loss: 8.485765  [80448/134204]\n",
      "loss: 5.958656  [93856/134204]\n",
      "loss: 6.437150  [107264/134204]\n",
      "loss: 5.903644  [120672/134204]\n",
      "loss: 5.194810  [134080/134204]\n",
      "Test Error: Avg loss: 6.978127 \n",
      "\n",
      "--- 24.940152168273926 seconds ---\n",
      "Epoch 26\n",
      "-------------------------------\n",
      "loss: 8.638928  [    0/134204]\n",
      "loss: 6.743003  [13408/134204]\n",
      "loss: 6.105270  [26816/134204]\n",
      "loss: 6.142464  [40224/134204]\n",
      "loss: 6.351202  [53632/134204]\n",
      "loss: 5.450254  [67040/134204]\n",
      "loss: 7.330767  [80448/134204]\n",
      "loss: 7.296281  [93856/134204]\n",
      "loss: 6.455979  [107264/134204]\n",
      "loss: 3.674361  [120672/134204]\n",
      "loss: 6.252888  [134080/134204]\n",
      "Test Error: Avg loss: 6.900571 \n",
      "\n",
      "--- 22.955355882644653 seconds ---\n",
      "Epoch 27\n",
      "-------------------------------\n",
      "loss: 5.429679  [    0/134204]\n",
      "loss: 5.466459  [13408/134204]\n",
      "loss: 5.081966  [26816/134204]\n",
      "loss: 5.496222  [40224/134204]\n",
      "loss: 7.083803  [53632/134204]\n",
      "loss: 5.523525  [67040/134204]\n",
      "loss: 5.313030  [80448/134204]\n",
      "loss: 6.658839  [93856/134204]\n",
      "loss: 5.958058  [107264/134204]\n",
      "loss: 6.305532  [120672/134204]\n",
      "loss: 5.825869  [134080/134204]\n",
      "Test Error: Avg loss: 6.846014 \n",
      "\n",
      "--- 23.77834415435791 seconds ---\n",
      "Epoch 28\n",
      "-------------------------------\n",
      "loss: 5.203268  [    0/134204]\n",
      "loss: 4.456619  [13408/134204]\n",
      "loss: 4.410448  [26816/134204]\n",
      "loss: 6.230904  [40224/134204]\n",
      "loss: 4.800614  [53632/134204]\n",
      "loss: 4.145574  [67040/134204]\n",
      "loss: 5.265533  [80448/134204]\n",
      "loss: 6.412537  [93856/134204]\n",
      "loss: 5.518799  [107264/134204]\n",
      "loss: 7.270235  [120672/134204]\n",
      "loss: 4.935456  [134080/134204]\n",
      "Test Error: Avg loss: 6.781019 \n",
      "\n",
      "--- 24.373531818389893 seconds ---\n",
      "Epoch 29\n",
      "-------------------------------\n",
      "loss: 9.058366  [    0/134204]\n",
      "loss: 5.072229  [13408/134204]\n",
      "loss: 4.937813  [26816/134204]\n",
      "loss: 6.716979  [40224/134204]\n",
      "loss: 5.400414  [53632/134204]\n",
      "loss: 6.891986  [67040/134204]\n",
      "loss: 4.482332  [80448/134204]\n",
      "loss: 4.230389  [93856/134204]\n",
      "loss: 6.350804  [107264/134204]\n",
      "loss: 6.595910  [120672/134204]\n",
      "loss: 6.183848  [134080/134204]\n",
      "Test Error: Avg loss: 6.714743 \n",
      "\n",
      "--- 24.754973888397217 seconds ---\n",
      "Epoch 30\n",
      "-------------------------------\n",
      "loss: 5.022377  [    0/134204]\n",
      "loss: 5.726377  [13408/134204]\n",
      "loss: 3.979442  [26816/134204]\n",
      "loss: 5.883655  [40224/134204]\n",
      "loss: 5.611791  [53632/134204]\n",
      "loss: 4.547143  [67040/134204]\n",
      "loss: 5.195101  [80448/134204]\n",
      "loss: 4.287612  [93856/134204]\n",
      "loss: 6.766153  [107264/134204]\n",
      "loss: 5.618339  [120672/134204]\n",
      "loss: 5.359219  [134080/134204]\n",
      "Test Error: Avg loss: 6.643249 \n",
      "\n",
      "--- 25.95739507675171 seconds ---\n",
      "Epoch 31\n",
      "-------------------------------\n",
      "loss: 5.259994  [    0/134204]\n",
      "loss: 5.989183  [13408/134204]\n",
      "loss: 6.580348  [26816/134204]\n",
      "loss: 6.107260  [40224/134204]\n",
      "loss: 6.888761  [53632/134204]\n",
      "loss: 4.817067  [67040/134204]\n",
      "loss: 4.600180  [80448/134204]\n",
      "loss: 5.024765  [93856/134204]\n",
      "loss: 6.585306  [107264/134204]\n",
      "loss: 4.691180  [120672/134204]\n",
      "loss: 5.939565  [134080/134204]\n",
      "Test Error: Avg loss: 6.595191 \n",
      "\n",
      "--- 23.789613962173462 seconds ---\n",
      "Epoch 32\n",
      "-------------------------------\n",
      "loss: 5.273690  [    0/134204]\n",
      "loss: 4.930855  [13408/134204]\n",
      "loss: 5.368369  [26816/134204]\n",
      "loss: 4.085733  [40224/134204]\n",
      "loss: 6.386905  [53632/134204]\n",
      "loss: 5.028759  [67040/134204]\n"
     ]
    },
    {
     "ename": "KeyboardInterrupt",
     "evalue": "",
     "output_type": "error",
     "traceback": [
      "\u001b[0;31m---------------------------------------------------------------------------\u001b[0m",
      "\u001b[0;31mKeyboardInterrupt\u001b[0m                         Traceback (most recent call last)",
      "\u001b[0;32m/var/folders/2y/kyv2hdc1433f67fbbd7zm9zr0000gn/T/ipykernel_44627/1781026790.py\u001b[0m in \u001b[0;36m<module>\u001b[0;34m\u001b[0m\n\u001b[1;32m      5\u001b[0m     \u001b[0mstart_time\u001b[0m \u001b[0;34m=\u001b[0m \u001b[0mtime\u001b[0m\u001b[0;34m.\u001b[0m\u001b[0mtime\u001b[0m\u001b[0;34m(\u001b[0m\u001b[0;34m)\u001b[0m\u001b[0;34m\u001b[0m\u001b[0;34m\u001b[0m\u001b[0m\n\u001b[1;32m      6\u001b[0m     \u001b[0mprint\u001b[0m\u001b[0;34m(\u001b[0m\u001b[0;34mf\"Epoch {epoch_n+1}\\n-------------------------------\"\u001b[0m\u001b[0;34m)\u001b[0m\u001b[0;34m\u001b[0m\u001b[0;34m\u001b[0m\u001b[0m\n\u001b[0;32m----> 7\u001b[0;31m     \u001b[0mtrain_loss\u001b[0m \u001b[0;34m=\u001b[0m \u001b[0mps_train_loop\u001b[0m\u001b[0;34m(\u001b[0m\u001b[0mps_train_dl\u001b[0m\u001b[0;34m,\u001b[0m \u001b[0mps_model\u001b[0m\u001b[0;34m,\u001b[0m \u001b[0mp_s_loss\u001b[0m\u001b[0;34m,\u001b[0m \u001b[0mps_optimizer\u001b[0m\u001b[0;34m,\u001b[0m \u001b[0mdevice\u001b[0m\u001b[0;34m)\u001b[0m\u001b[0;34m\u001b[0m\u001b[0;34m\u001b[0m\u001b[0m\n\u001b[0m\u001b[1;32m      8\u001b[0m     \u001b[0mval_loss\u001b[0m \u001b[0;34m=\u001b[0m \u001b[0mps_test_loop\u001b[0m\u001b[0;34m(\u001b[0m\u001b[0mps_val_dl\u001b[0m\u001b[0;34m,\u001b[0m \u001b[0mps_model\u001b[0m\u001b[0;34m,\u001b[0m \u001b[0mp_s_loss\u001b[0m\u001b[0;34m,\u001b[0m \u001b[0mdevice\u001b[0m\u001b[0;34m)\u001b[0m\u001b[0;34m\u001b[0m\u001b[0;34m\u001b[0m\u001b[0m\n\u001b[1;32m      9\u001b[0m     \u001b[0mprint\u001b[0m\u001b[0;34m(\u001b[0m\u001b[0;34m\"--- %s seconds ---\"\u001b[0m \u001b[0;34m%\u001b[0m \u001b[0;34m(\u001b[0m\u001b[0mtime\u001b[0m\u001b[0;34m.\u001b[0m\u001b[0mtime\u001b[0m\u001b[0;34m(\u001b[0m\u001b[0;34m)\u001b[0m \u001b[0;34m-\u001b[0m \u001b[0mstart_time\u001b[0m\u001b[0;34m)\u001b[0m\u001b[0;34m)\u001b[0m\u001b[0;34m\u001b[0m\u001b[0;34m\u001b[0m\u001b[0m\n",
      "\u001b[0;32m/var/folders/2y/kyv2hdc1433f67fbbd7zm9zr0000gn/T/ipykernel_44627/194248565.py\u001b[0m in \u001b[0;36mps_train_loop\u001b[0;34m(dataloader, model, loss_fn, optimizer, device)\u001b[0m\n\u001b[1;32m     13\u001b[0m         \u001b[0;31m# Backpropagation\u001b[0m\u001b[0;34m\u001b[0m\u001b[0;34m\u001b[0m\u001b[0;34m\u001b[0m\u001b[0m\n\u001b[1;32m     14\u001b[0m         \u001b[0moptimizer\u001b[0m\u001b[0;34m.\u001b[0m\u001b[0mzero_grad\u001b[0m\u001b[0;34m(\u001b[0m\u001b[0;34m)\u001b[0m\u001b[0;34m\u001b[0m\u001b[0;34m\u001b[0m\u001b[0m\n\u001b[0;32m---> 15\u001b[0;31m         \u001b[0mloss\u001b[0m\u001b[0;34m.\u001b[0m\u001b[0mbackward\u001b[0m\u001b[0;34m(\u001b[0m\u001b[0;34m)\u001b[0m\u001b[0;34m\u001b[0m\u001b[0;34m\u001b[0m\u001b[0m\n\u001b[0m\u001b[1;32m     16\u001b[0m         \u001b[0moptimizer\u001b[0m\u001b[0;34m.\u001b[0m\u001b[0mstep\u001b[0m\u001b[0;34m(\u001b[0m\u001b[0;34m)\u001b[0m\u001b[0;34m\u001b[0m\u001b[0;34m\u001b[0m\u001b[0m\n\u001b[1;32m     17\u001b[0m \u001b[0;34m\u001b[0m\u001b[0m\n",
      "\u001b[0;32m~/opt/anaconda3/envs/dl_env/lib/python3.8/site-packages/torch/_tensor.py\u001b[0m in \u001b[0;36mbackward\u001b[0;34m(self, gradient, retain_graph, create_graph, inputs)\u001b[0m\n\u001b[1;32m    305\u001b[0m                 \u001b[0mcreate_graph\u001b[0m\u001b[0;34m=\u001b[0m\u001b[0mcreate_graph\u001b[0m\u001b[0;34m,\u001b[0m\u001b[0;34m\u001b[0m\u001b[0;34m\u001b[0m\u001b[0m\n\u001b[1;32m    306\u001b[0m                 inputs=inputs)\n\u001b[0;32m--> 307\u001b[0;31m         \u001b[0mtorch\u001b[0m\u001b[0;34m.\u001b[0m\u001b[0mautograd\u001b[0m\u001b[0;34m.\u001b[0m\u001b[0mbackward\u001b[0m\u001b[0;34m(\u001b[0m\u001b[0mself\u001b[0m\u001b[0;34m,\u001b[0m \u001b[0mgradient\u001b[0m\u001b[0;34m,\u001b[0m \u001b[0mretain_graph\u001b[0m\u001b[0;34m,\u001b[0m \u001b[0mcreate_graph\u001b[0m\u001b[0;34m,\u001b[0m \u001b[0minputs\u001b[0m\u001b[0;34m=\u001b[0m\u001b[0minputs\u001b[0m\u001b[0;34m)\u001b[0m\u001b[0;34m\u001b[0m\u001b[0;34m\u001b[0m\u001b[0m\n\u001b[0m\u001b[1;32m    308\u001b[0m \u001b[0;34m\u001b[0m\u001b[0m\n\u001b[1;32m    309\u001b[0m     \u001b[0;32mdef\u001b[0m \u001b[0mregister_hook\u001b[0m\u001b[0;34m(\u001b[0m\u001b[0mself\u001b[0m\u001b[0;34m,\u001b[0m \u001b[0mhook\u001b[0m\u001b[0;34m)\u001b[0m\u001b[0;34m:\u001b[0m\u001b[0;34m\u001b[0m\u001b[0;34m\u001b[0m\u001b[0m\n",
      "\u001b[0;32m~/opt/anaconda3/envs/dl_env/lib/python3.8/site-packages/torch/autograd/__init__.py\u001b[0m in \u001b[0;36mbackward\u001b[0;34m(tensors, grad_tensors, retain_graph, create_graph, grad_variables, inputs)\u001b[0m\n\u001b[1;32m    152\u001b[0m         \u001b[0mretain_graph\u001b[0m \u001b[0;34m=\u001b[0m \u001b[0mcreate_graph\u001b[0m\u001b[0;34m\u001b[0m\u001b[0;34m\u001b[0m\u001b[0m\n\u001b[1;32m    153\u001b[0m \u001b[0;34m\u001b[0m\u001b[0m\n\u001b[0;32m--> 154\u001b[0;31m     Variable._execution_engine.run_backward(\n\u001b[0m\u001b[1;32m    155\u001b[0m         \u001b[0mtensors\u001b[0m\u001b[0;34m,\u001b[0m \u001b[0mgrad_tensors_\u001b[0m\u001b[0;34m,\u001b[0m \u001b[0mretain_graph\u001b[0m\u001b[0;34m,\u001b[0m \u001b[0mcreate_graph\u001b[0m\u001b[0;34m,\u001b[0m \u001b[0minputs\u001b[0m\u001b[0;34m,\u001b[0m\u001b[0;34m\u001b[0m\u001b[0;34m\u001b[0m\u001b[0m\n\u001b[1;32m    156\u001b[0m         allow_unreachable=True, accumulate_grad=True)  # allow_unreachable flag\n",
      "\u001b[0;31mKeyboardInterrupt\u001b[0m: "
     ]
    }
   ],
   "source": [
    "start_epoch = 0\n",
    "end_epoch = 100\n",
    "\n",
    "for epoch_n in range(start_epoch, end_epoch):\n",
    "    start_time = time.time()\n",
    "    print(f\"Epoch {epoch_n+1}\\n-------------------------------\")\n",
    "    train_loss = ps_train_loop(ps_train_dl, ps_model, p_s_loss, ps_optimizer, device)\n",
    "    val_loss = ps_test_loop(ps_val_dl, ps_model, p_s_loss, device)\n",
    "    print(\"--- %s seconds ---\" % (time.time() - start_time))\n",
    "    \n",
    "    ps_loss_d['epoch'].append(epoch_n)\n",
    "    ps_loss_d['train'].append(train_loss)\n",
    "    ps_loss_d['val'].append(val_loss)\n",
    "    if epoch_n % 3 == 0:\n",
    "        torch.save(ps_model.state_dict(), ps_save_path)\n",
    "        pd.DataFrame(ps_loss_d).to_csv(ps_loss_save_path, index=False)\n",
    "torch.save(ps_model.state_dict(), ps_save_path)\n",
    "pd.DataFrame(ps_loss_d).to_csv(ps_loss_save_path, index=False)"
   ]
  },
  {
   "cell_type": "code",
   "execution_count": 333,
   "metadata": {},
   "outputs": [],
   "source": [
    "torch.save(ps_model.state_dict(), ps_save_path)"
   ]
  },
  {
   "cell_type": "code",
   "execution_count": 334,
   "metadata": {},
   "outputs": [
    {
     "data": {
      "text/plain": [
       "[Text(0.5, 0, 'Época'), Text(0, 0.5, 'Loss')]"
      ]
     },
     "execution_count": 334,
     "metadata": {},
     "output_type": "execute_result"
    },
    {
     "data": {
      "image/png": "[encoded data removed]",
      "text/plain": [
       "<Figure size 432x288 with 1 Axes>"
      ]
     },
     "metadata": {
      "needs_background": "light"
     },
     "output_type": "display_data"
    }
   ],
   "source": [
    "import seaborn as sns\n",
    "ps_model_loss = pd.DataFrame(ps_loss_d)\n",
    "aux_df = pd.DataFrame(index=ps_model_loss.index)\n",
    "aux_df['Época'] = ps_model_loss['epoch']\n",
    "aux_df['Treino'] = ps_model_loss['train']\n",
    "aux_df['Validação'] = ps_model_loss['val']\n",
    "aux_df = aux_df.set_index('Época')\n",
    "ax = sns.lineplot(data=aux_df, dashes=False)\n",
    "ax.set(xlabel='Época', ylabel='Loss')"
   ]
  },
  {
   "cell_type": "code",
   "execution_count": 289,
   "metadata": {},
   "outputs": [
    {
     "data": {
      "text/plain": [
       "<All keys matched successfully>"
      ]
     },
     "execution_count": 289,
     "metadata": {},
     "output_type": "execute_result"
    }
   ],
   "source": [
    "loaded_ps_model = P_S_Network(len(user_d)+1, len(item_d)+1, 299)\n",
    "loaded_ps_model.load_state_dict(torch.load(ps_save_path))"
   ]
  },
  {
   "cell_type": "markdown",
   "metadata": {},
   "source": [
    "# A FAZER\n",
    "\n",
    "Pegar o dataset MIND SMALL\n",
    "\n",
    "- Checar se as listas de impressao sao geralmente escolhidas do inicio\n",
    "- Modificar modelo P_S.forward para receber beta como entrada. Ou criar um outro forward que pode ser usado com beta.\n",
    "- Documentar rapidamente as entradas e saidas. E checar a classe Dataset.\n",
    "- Implementar P_R\n",
    "    - Ter um método que recebe tau, para a política gaussiana\n",
    "- Treinar\n",
    "\n",
    "\n",
    "Reduzir o tamanho das imp_logs, opções:\n",
    "- Retirar todas que maiores que 5.\n",
    "- Truncar as listas em tamanho 5, retirando as que não possuem S nos 5 primeiros\n",
    "- Pegar os itens escolhidos e selecionar aleatoriamente mais outros para inteirar 5. Aleatorizar a ordem.\n",
    "- Dividir a lista em menores, o que pode significar reutilizar o S várias vezes.\n",
    "\n",
    "The negative samples are selected from the whole item set or the impression list. When optimizing 𝑝𝑹 and 𝑝𝑺 , we empirically set the learning rate as 0.001, and the user/item embedding sizes are both tunned in {16, 32, 64, 128, 256, 512}. The length of the impression list (i.e., |𝑹|) is set as 5, and the size of 𝑺 (i.e., 𝑘) is determined in {1, 2, 3}. The Gaussian policy is implemented as a two-layers fully- connected neural network, where the hidden dimension is searched in {16, 32, 64}.\n"
   ]
  },
  {
   "cell_type": "code",
   "execution_count": 342,
   "metadata": {},
   "outputs": [
    {
     "data": {
      "text/plain": [
       "2.833041312195225"
      ]
     },
     "execution_count": 342,
     "metadata": {},
     "output_type": "execute_result"
    }
   ],
   "source": [
    "# Dos usuarios em validacao, quantas vezes aparecem no treino?\n",
    "train_df['UserID'].value_counts().mean()"
   ]
  },
  {
   "cell_type": "code",
   "execution_count": 351,
   "metadata": {},
   "outputs": [
    {
     "data": {
      "text/plain": [
       "<AxesSubplot:ylabel='Frequency'>"
      ]
     },
     "execution_count": 351,
     "metadata": {},
     "output_type": "execute_result"
    },
    {
     "data": {
      "image/png": "[encoded data removed]",
      "text/plain": [
       "<Figure size 432x288 with 1 Axes>"
      ]
     },
     "metadata": {
      "needs_background": "light"
     },
     "output_type": "display_data"
    }
   ],
   "source": [
    "# Do\n",
    "aux_df = train_df['UserID'].value_counts()\n",
    "aux_df[aux_df<30].plot.hist(bins=30)"
   ]
  },
  {
   "cell_type": "code",
   "execution_count": 362,
   "metadata": {},
   "outputs": [
    {
     "data": {
      "text/plain": [
       "253.00232781741815"
      ]
     },
     "execution_count": 362,
     "metadata": {},
     "output_type": "execute_result"
    }
   ],
   "source": [
    "aux_df = pd.Series(\" \".join(train_df['R']).split()).value_counts()\n",
    "aux_df.mean()"
   ]
  },
  {
   "cell_type": "code",
   "execution_count": 371,
   "metadata": {},
   "outputs": [
    {
     "data": {
      "text/plain": [
       "<AxesSubplot:ylabel='Frequency'>"
      ]
     },
     "execution_count": 371,
     "metadata": {},
     "output_type": "execute_result"
    },
    {
     "data": {
      "image/png": "[encoded data removed]",
      "text/plain": [
       "<Figure size 432x288 with 1 Axes>"
      ]
     },
     "metadata": {
      "needs_background": "light"
     },
     "output_type": "display_data"
    }
   ],
   "source": [
    "aux_df.plot.hist(bins=100)"
   ]
  },
  {
   "cell_type": "code",
   "execution_count": 374,
   "metadata": {},
   "outputs": [
    {
     "data": {
      "text/plain": [
       "<AxesSubplot:ylabel='Frequency'>"
      ]
     },
     "execution_count": 374,
     "metadata": {},
     "output_type": "execute_result"
    },
    {
     "data": {
      "image/png": "[encoded data removed]",
      "text/plain": [
       "<Figure size 432x288 with 1 Axes>"
      ]
     },
     "metadata": {
      "needs_background": "light"
     },
     "output_type": "display_data"
    }
   ],
   "source": [
    "aux_df[aux_df < 100].plot.hist()"
   ]
  },
  {
   "cell_type": "code",
   "execution_count": 378,
   "metadata": {},
   "outputs": [
    {
     "data": {
      "text/plain": [
       "5.0"
      ]
     },
     "execution_count": 378,
     "metadata": {},
     "output_type": "execute_result"
    }
   ],
   "source": [
    "aux_df[aux_df < 100].median()"
   ]
  },
  {
   "cell_type": "code",
   "execution_count": 379,
   "metadata": {},
   "outputs": [
    {
     "data": {
      "text/plain": [
       "6.0"
      ]
     },
     "execution_count": 379,
     "metadata": {},
     "output_type": "execute_result"
    }
   ],
   "source": [
    "aux_df.median()"
   ]
  },
  {
   "cell_type": "code",
   "execution_count": 382,
   "metadata": {},
   "outputs": [],
   "source": [
    "def pr_test_loop_scores(dataloader, model, loss_fn, device):\n",
    "    size = len(dataloader.dataset)\n",
    "    num_batches = len(dataloader)\n",
    "    test_loss, correct = 0, 0\n",
    "    \n",
    "    pos_score_l = []\n",
    "    neg_score_l = []\n",
    "\n",
    "    with torch.no_grad():\n",
    "        for u, pos_r, pos_r_mask, neg_r, neg_r_mask in dataloader:\n",
    "            u, pos_r, pos_r_mask, neg_r, neg_r_mask = u.to(device), pos_r.to(device), pos_r_mask.to(device), neg_r.to(device), neg_r_mask.to(device)\n",
    "            batch_sz = u.size(0)\n",
    "            pos_max_len = pos_r.size(1)\n",
    "            neg_max_len = neg_r.size(1)\n",
    "        \n",
    "            pos_alpha = torch.randn(batch_sz, pos_max_len).to(device)\n",
    "            pos_scores = model(u, pos_r, pos_r_mask, pos_alpha)\n",
    "            pos_score_l.append(pos_scores.data)\n",
    "        \n",
    "            neg_alpha = torch.randn(batch_sz, neg_max_len).to(device)\n",
    "            neg_scores = model(u, neg_r, neg_r_mask, neg_alpha)\n",
    "            neg_score_l.append(neg_scores.data)\n",
    "            \n",
    "            test_loss += loss_fn(pos_scores, neg_scores).item() / batch_sz\n",
    "\n",
    "    test_loss /= num_batches\n",
    "    print(f\"Test Error: Avg loss: {test_loss:>8f} \\n\")\n",
    "    return pos_score_l, neg_score_l"
   ]
  },
  {
   "cell_type": "code",
   "execution_count": 383,
   "metadata": {},
   "outputs": [
    {
     "name": "stdout",
     "output_type": "stream",
     "text": [
      "Test Error: Avg loss: 7.295546 \n",
      "\n"
     ]
    }
   ],
   "source": [
    "pos_score_l, neg_score_l = pr_test_loop_scores(pr_val_dl, pr_model, p_r_loss, device)"
   ]
  },
  {
   "cell_type": "code",
   "execution_count": 436,
   "metadata": {},
   "outputs": [],
   "source": [
    "import random\n",
    "class P_Re_Dataset(Dataset):\n",
    "    def __init__(self, mind_ds):\n",
    "        \"\"\"\n",
    "        Negative sampling\n",
    "        mind_ds: MIND_Dataset\n",
    "        \"\"\"\n",
    "        super().__init__()\n",
    "        self.mind_ds = mind_ds\n",
    "        self.item_set = set(mind_ds.item_d.values())\n",
    "        \n",
    "        df_d = {'u':[], 'pos_i':[], 'neg_i':[]}\n",
    "        for i in range(len(mind_ds)):\n",
    "            u = mind_ds[i][0]\n",
    "            pos_r = mind_ds[i][1]\n",
    "            neg_r = random.sample(self.item_set - set(pos_r), len(pos_r))\n",
    "            for pos_i, neg_i in zip(pos_r, neg_r):\n",
    "                df_d['u'].append(u)\n",
    "                df_d['pos_i'].append(pos_i)\n",
    "                df_d['neg_i'].append(neg_i)\n",
    "                \n",
    "        self.df = pd.DataFrame(df_d)\n",
    "    \n",
    "    def __getitem__(self, idx):\n",
    "        return self.df['u'].iloc[idx], self.df['pos_i'].iloc[idx], self.df['neg_i'].iloc[idx]\n",
    "    \n",
    "    def __len__(self):\n",
    "        return len(self.df)"
   ]
  },
  {
   "cell_type": "code",
   "execution_count": 437,
   "metadata": {},
   "outputs": [],
   "source": [
    "class P_Re_Network(nn.Module):\n",
    "    def __init__(self, n_users, n_itens, emb_dim=32):\n",
    "        super(P_Re_Network, self).__init__()\n",
    "        self.user_emb = nn.Embedding(num_embeddings=n_users, embedding_dim=emb_dim, padding_idx=0)\n",
    "        self.item_emb = nn.Embedding(num_embeddings=n_itens, embedding_dim=emb_dim, padding_idx=0)\n",
    "        self.w = nn.Parameter(torch.randn(n_itens))\n",
    "        \n",
    "    def forward(self, u, i, alpha):\n",
    "        \"\"\"\n",
    "        Entrada:\n",
    "            u: Indice do usuário\n",
    "                torch.LongTensor(batch_sz)\n",
    "            i: Indice do item\n",
    "                torch.LongTensor(batch_sz)\n",
    "            alpha: Variavel exogena correspondente aos itens em r\n",
    "                torch.tensor(batch_sz)\n",
    "        \"\"\"\n",
    "        # Seleciona os w correspondentes aos itens em r\n",
    "        w_mul = alpha * self.w[i]\n",
    "\n",
    "        u_e = self.user_emb(u)\n",
    "        i_e = self.item_emb(i)\n",
    "        emb_sim = (u_e * i_e).sum(dim=-1)\n",
    "\n",
    "        return w_mul + emb_sim\n",
    "    \n",
    "def pre_loss_pos(pos_scores):\n",
    "    return -F.logsigmoid(pos_scores).sum()\n",
    "\n",
    "def pre_loss_neg(neg_scores):\n",
    "    eps=1e-7\n",
    "    return -torch.log(eps + 1 - torch.sigmoid(neg_scores)).sum()"
   ]
  },
  {
   "cell_type": "code",
   "execution_count": 476,
   "metadata": {},
   "outputs": [],
   "source": [
    "def pre_train_loop(dataloader, model, loss_fn, optimizer, device, max_batch):\n",
    "    agg_loss = 0.0\n",
    "    num_samples = 0\n",
    "    size = len(dataloader.dataset)\n",
    "    for batch, (u, pos_i, neg_i) in enumerate(dataloader):\n",
    "        if batch >= max_batch: break\n",
    "        \n",
    "        u, pos_i, neg_i = u.to(device), pos_i.to(device), neg_i.to(device)\n",
    "        batch_sz = u.size(0)\n",
    "        \n",
    "        pos_alpha = torch.randn(batch_sz).to(device)\n",
    "        pos_scores = model(u, pos_i, pos_alpha)\n",
    "        \n",
    "        neg_alpha = torch.randn(batch_sz).to(device)\n",
    "        neg_scores = model(u, neg_i, neg_alpha)\n",
    "        \n",
    "        loss = loss_fn(pos_scores, neg_scores)\n",
    "\n",
    "        # Backpropagation\n",
    "        optimizer.zero_grad()\n",
    "        loss.backward()\n",
    "        optimizer.step()\n",
    "        \n",
    "        agg_loss += loss.item()\n",
    "        num_samples += batch_sz\n",
    "        if batch % (max_batch//10) == 0:\n",
    "            loss, current = loss.item() / batch_sz, batch * len(u)\n",
    "            print(f\"loss: {loss:>7f}  [{current:>5d}/{size:>5d}]\")\n",
    "    return agg_loss / num_samples\n",
    "\n",
    "def pre_test_loop(dataloader, model, loss_fn, device, max_batch):\n",
    "    size = len(dataloader.dataset)\n",
    "    num_samples = 0\n",
    "    test_loss, correct = 0, 0\n",
    "\n",
    "    with torch.no_grad():\n",
    "        for batch, (u, pos_i, neg_i) in enumerate(dataloader):\n",
    "            if batch >= max_batch: break\n",
    "            u, pos_i, neg_i = u.to(device), pos_i.to(device), neg_i.to(device)\n",
    "            batch_sz = u.size(0)\n",
    "        \n",
    "            pos_alpha = torch.randn(batch_sz).to(device)\n",
    "            pos_scores = model(u, pos_i, pos_alpha)\n",
    "        \n",
    "            neg_alpha = torch.randn(batch_sz).to(device)\n",
    "            neg_scores = model(u, neg_i, neg_alpha)\n",
    "        \n",
    "            loss = loss_fn(pos_scores, neg_scores)\n",
    "            \n",
    "            test_loss += loss_fn(pos_scores, neg_scores).item()\n",
    "            num_samples += batch_sz\n",
    "\n",
    "    print(f\"Test Error: Avg loss: {(test_loss/num_samples):>8f} \\n\")\n",
    "    return test_loss / num_samples"
   ]
  },
  {
   "cell_type": "code",
   "execution_count": 440,
   "metadata": {},
   "outputs": [
    {
     "name": "stdout",
     "output_type": "stream",
     "text": [
      "CPU times: user 1min 11s, sys: 1.75 s, total: 1min 13s\n",
      "Wall time: 1min 16s\n"
     ]
    }
   ],
   "source": [
    "%%time\n",
    "batch_size = 64\n",
    "\n",
    "pre_train_ds = P_Re_Dataset(ps_train_ds)\n",
    "pre_train_dl = DataLoader(pre_train_ds, batch_size=batch_size, shuffle=True)\n",
    "\n",
    "pre_val_ds = P_Re_Dataset(ps_val_ds)\n",
    "pre_val_dl = DataLoader(pre_val_ds, batch_size=batch_size, shuffle=True)"
   ]
  },
  {
   "cell_type": "code",
   "execution_count": 478,
   "metadata": {},
   "outputs": [
    {
     "name": "stdout",
     "output_type": "stream",
     "text": [
      "P_S:\n",
      "w torch.Size([19762])\n",
      "Cuda =  False\n",
      "user_emb.weight torch.Size([47372, 16])\n",
      "Cuda =  False\n",
      "item_emb.weight torch.Size([19762, 16])\n",
      "Cuda =  False\n"
     ]
    }
   ],
   "source": [
    "pre_model = P_Re_Network(len(user_d)+1, len(item_d)+1, emb_dim=16)\n",
    "pre_model = pre_model.to(device)\n",
    "# Parametros\n",
    "print('P_S:')\n",
    "for name, param in pre_model.named_parameters():\n",
    "    if param.requires_grad:\n",
    "        print(name, param.data.size())\n",
    "        print('Cuda = ', param.is_cuda)"
   ]
  },
  {
   "cell_type": "code",
   "execution_count": 479,
   "metadata": {},
   "outputs": [],
   "source": [
    "pre_save_path = 'pre_model.pth'\n",
    "pre_loss_save_path = 'pre_loss.csv'\n",
    "pre_loss_d = {'epoch': [], 'train':[], 'val':[]}\n",
    "learning_rate = 1e-3\n",
    "pre_optimizer = torch.optim.Adam(pre_model.parameters(), lr=learning_rate)"
   ]
  },
  {
   "cell_type": "code",
   "execution_count": 480,
   "metadata": {
    "scrolled": true
   },
   "outputs": [
    {
     "name": "stdout",
     "output_type": "stream",
     "text": [
      "Epoch 1\n",
      "-------------------------------\n",
      "loss: 3.938902  [    0/4999579]\n",
      "loss: 3.483798  [32000/4999579]\n",
      "loss: 3.080775  [64000/4999579]\n",
      "loss: 3.007075  [96000/4999579]\n",
      "loss: 3.057401  [128000/4999579]\n",
      "loss: 3.701620  [160000/4999579]\n",
      "loss: 2.546800  [192000/4999579]\n",
      "loss: 3.355396  [224000/4999579]\n",
      "loss: 4.221703  [256000/4999579]\n",
      "loss: 3.072453  [288000/4999579]\n",
      "Test Error: Avg loss: 3.226174 \n",
      "\n",
      "--- 63.63712811470032 seconds ---\n",
      "Epoch 2\n",
      "-------------------------------\n",
      "loss: 2.546291  [    0/4999579]\n",
      "loss: 2.879390  [32000/4999579]\n",
      "loss: 4.330765  [64000/4999579]\n",
      "loss: 2.599682  [96000/4999579]\n",
      "loss: 3.026182  [128000/4999579]\n",
      "loss: 3.558590  [160000/4999579]\n",
      "loss: 3.353308  [192000/4999579]\n",
      "loss: 2.958835  [224000/4999579]\n",
      "loss: 2.820065  [256000/4999579]\n",
      "loss: 2.962604  [288000/4999579]\n",
      "Test Error: Avg loss: 2.930450 \n",
      "\n",
      "--- 67.27114582061768 seconds ---\n",
      "Epoch 3\n",
      "-------------------------------\n",
      "loss: 3.557053  [    0/4999579]\n",
      "loss: 2.891134  [32000/4999579]\n",
      "loss: 3.006026  [64000/4999579]\n",
      "loss: 2.918220  [96000/4999579]\n",
      "loss: 3.157551  [128000/4999579]\n",
      "loss: 2.316586  [160000/4999579]\n",
      "loss: 3.334783  [192000/4999579]\n",
      "loss: 3.024789  [224000/4999579]\n",
      "loss: 2.688703  [256000/4999579]\n",
      "loss: 2.259621  [288000/4999579]\n",
      "Test Error: Avg loss: 2.697751 \n",
      "\n",
      "--- 66.36991882324219 seconds ---\n",
      "Epoch 4\n",
      "-------------------------------\n",
      "loss: 2.650088  [    0/4999579]\n",
      "loss: 2.514246  [32000/4999579]\n",
      "loss: 2.754857  [64000/4999579]\n",
      "loss: 2.343697  [96000/4999579]\n",
      "loss: 2.886952  [128000/4999579]\n",
      "loss: 2.225987  [160000/4999579]\n",
      "loss: 2.589274  [192000/4999579]\n",
      "loss: 2.127906  [224000/4999579]\n",
      "loss: 2.711792  [256000/4999579]\n",
      "loss: 2.418571  [288000/4999579]\n",
      "Test Error: Avg loss: 2.505866 \n",
      "\n",
      "--- 64.31811308860779 seconds ---\n",
      "Epoch 5\n",
      "-------------------------------\n",
      "loss: 1.986946  [    0/4999579]\n",
      "loss: 2.338436  [32000/4999579]\n",
      "loss: 2.370602  [64000/4999579]\n",
      "loss: 2.175615  [96000/4999579]\n",
      "loss: 2.252847  [128000/4999579]\n",
      "loss: 2.479092  [160000/4999579]\n",
      "loss: 2.339684  [192000/4999579]\n",
      "loss: 2.393475  [224000/4999579]\n",
      "loss: 2.288278  [256000/4999579]\n",
      "loss: 2.312840  [288000/4999579]\n",
      "Test Error: Avg loss: 2.369096 \n",
      "\n",
      "--- 68.70263314247131 seconds ---\n",
      "Epoch 6\n",
      "-------------------------------\n",
      "loss: 2.453825  [    0/4999579]\n",
      "loss: 1.999577  [32000/4999579]\n",
      "loss: 2.251538  [64000/4999579]\n",
      "loss: 1.972228  [96000/4999579]\n",
      "loss: 2.721585  [128000/4999579]\n",
      "loss: 2.137172  [160000/4999579]\n",
      "loss: 2.699451  [192000/4999579]\n",
      "loss: 2.303804  [224000/4999579]\n",
      "loss: 2.493248  [256000/4999579]\n",
      "loss: 2.050344  [288000/4999579]\n",
      "Test Error: Avg loss: 2.248296 \n",
      "\n",
      "--- 67.12764477729797 seconds ---\n",
      "Epoch 7\n",
      "-------------------------------\n",
      "loss: 2.202288  [    0/4999579]\n",
      "loss: 2.270657  [32000/4999579]\n",
      "loss: 1.947994  [64000/4999579]\n",
      "loss: 2.299056  [96000/4999579]\n",
      "loss: 2.374118  [128000/4999579]\n",
      "loss: 2.173996  [160000/4999579]\n",
      "loss: 1.929594  [192000/4999579]\n",
      "loss: 2.136215  [224000/4999579]\n",
      "loss: 1.942874  [256000/4999579]\n",
      "loss: 1.939263  [288000/4999579]\n",
      "Test Error: Avg loss: 2.156037 \n",
      "\n",
      "--- 66.34855818748474 seconds ---\n",
      "Epoch 8\n",
      "-------------------------------\n",
      "loss: 2.398566  [    0/4999579]\n",
      "loss: 2.153041  [32000/4999579]\n",
      "loss: 1.813577  [64000/4999579]\n",
      "loss: 2.202798  [96000/4999579]\n",
      "loss: 1.731158  [128000/4999579]\n",
      "loss: 2.269999  [160000/4999579]\n",
      "loss: 2.146659  [192000/4999579]\n",
      "loss: 1.617682  [224000/4999579]\n",
      "loss: 1.856348  [256000/4999579]\n",
      "loss: 1.865704  [288000/4999579]\n",
      "Test Error: Avg loss: 2.070646 \n",
      "\n",
      "--- 75.85676097869873 seconds ---\n",
      "Epoch 9\n",
      "-------------------------------\n",
      "loss: 1.832103  [    0/4999579]\n",
      "loss: 1.872578  [32000/4999579]\n",
      "loss: 1.789574  [64000/4999579]\n",
      "loss: 1.743670  [96000/4999579]\n",
      "loss: 1.942944  [128000/4999579]\n",
      "loss: 1.887917  [160000/4999579]\n",
      "loss: 1.758922  [192000/4999579]\n",
      "loss: 1.680881  [224000/4999579]\n",
      "loss: 1.943462  [256000/4999579]\n",
      "loss: 1.680058  [288000/4999579]\n",
      "Test Error: Avg loss: 1.972538 \n",
      "\n",
      "--- 67.46574473381042 seconds ---\n",
      "Epoch 10\n",
      "-------------------------------\n",
      "loss: 2.031554  [    0/4999579]\n",
      "loss: 1.548187  [32000/4999579]\n",
      "loss: 1.843683  [64000/4999579]\n",
      "loss: 1.854218  [96000/4999579]\n",
      "loss: 1.542017  [128000/4999579]\n",
      "loss: 1.664193  [160000/4999579]\n",
      "loss: 1.784778  [192000/4999579]\n",
      "loss: 1.824578  [224000/4999579]\n",
      "loss: 1.669268  [256000/4999579]\n",
      "loss: 1.976722  [288000/4999579]\n",
      "Test Error: Avg loss: 1.870176 \n",
      "\n",
      "--- 65.44043016433716 seconds ---\n",
      "Epoch 11\n",
      "-------------------------------\n",
      "loss: 1.586609  [    0/4999579]\n",
      "loss: 1.519137  [32000/4999579]\n",
      "loss: 1.685181  [64000/4999579]\n",
      "loss: 1.667045  [96000/4999579]\n",
      "loss: 1.875350  [128000/4999579]\n",
      "loss: 1.907580  [160000/4999579]\n",
      "loss: 1.734455  [192000/4999579]\n",
      "loss: 1.773829  [224000/4999579]\n",
      "loss: 1.616851  [256000/4999579]\n",
      "loss: 1.596212  [288000/4999579]\n",
      "Test Error: Avg loss: 1.751218 \n",
      "\n",
      "--- 69.97027826309204 seconds ---\n",
      "Epoch 12\n",
      "-------------------------------\n",
      "loss: 1.663916  [    0/4999579]\n",
      "loss: 1.524511  [32000/4999579]\n",
      "loss: 1.403352  [64000/4999579]\n",
      "loss: 1.259697  [96000/4999579]\n",
      "loss: 1.814042  [128000/4999579]\n",
      "loss: 1.318915  [160000/4999579]\n",
      "loss: 1.368111  [192000/4999579]\n",
      "loss: 1.396602  [224000/4999579]\n",
      "loss: 1.535506  [256000/4999579]\n",
      "loss: 1.356219  [288000/4999579]\n",
      "Test Error: Avg loss: 1.608648 \n",
      "\n",
      "--- 71.65270400047302 seconds ---\n",
      "Epoch 13\n",
      "-------------------------------\n",
      "loss: 1.491465  [    0/4999579]\n",
      "loss: 1.574157  [32000/4999579]\n",
      "loss: 1.060615  [64000/4999579]\n",
      "loss: 1.422633  [96000/4999579]\n",
      "loss: 1.254108  [128000/4999579]\n",
      "loss: 1.142583  [160000/4999579]\n",
      "loss: 1.239345  [192000/4999579]\n",
      "loss: 1.089867  [224000/4999579]\n",
      "loss: 1.580398  [256000/4999579]\n",
      "loss: 1.224926  [288000/4999579]\n",
      "Test Error: Avg loss: 1.463172 \n",
      "\n",
      "--- 69.27854323387146 seconds ---\n",
      "Epoch 14\n",
      "-------------------------------\n",
      "loss: 1.189874  [    0/4999579]\n",
      "loss: 1.221354  [32000/4999579]\n",
      "loss: 1.221493  [64000/4999579]\n",
      "loss: 1.163808  [96000/4999579]\n",
      "loss: 1.175850  [128000/4999579]\n",
      "loss: 1.289487  [160000/4999579]\n",
      "loss: 1.132056  [192000/4999579]\n",
      "loss: 1.090451  [224000/4999579]\n",
      "loss: 0.769718  [256000/4999579]\n",
      "loss: 0.972572  [288000/4999579]\n",
      "Test Error: Avg loss: 1.323460 \n",
      "\n",
      "--- 65.12088394165039 seconds ---\n",
      "Epoch 15\n",
      "-------------------------------\n",
      "loss: 1.012141  [    0/4999579]\n",
      "loss: 0.950127  [32000/4999579]\n",
      "loss: 0.818757  [64000/4999579]\n",
      "loss: 1.264162  [96000/4999579]\n",
      "loss: 1.053574  [128000/4999579]\n",
      "loss: 1.298432  [160000/4999579]\n",
      "loss: 1.259283  [192000/4999579]\n",
      "loss: 0.940008  [224000/4999579]\n",
      "loss: 1.093941  [256000/4999579]\n",
      "loss: 0.970183  [288000/4999579]\n",
      "Test Error: Avg loss: 1.192414 \n",
      "\n",
      "--- 68.61963295936584 seconds ---\n",
      "Epoch 16\n",
      "-------------------------------\n",
      "loss: 1.014399  [    0/4999579]\n",
      "loss: 1.215153  [32000/4999579]\n",
      "loss: 0.910775  [64000/4999579]\n",
      "loss: 0.796994  [96000/4999579]\n",
      "loss: 0.984600  [128000/4999579]\n",
      "loss: 1.296505  [160000/4999579]\n",
      "loss: 1.082192  [192000/4999579]\n",
      "loss: 0.845038  [224000/4999579]\n",
      "loss: 0.925489  [256000/4999579]\n",
      "loss: 1.028026  [288000/4999579]\n",
      "Test Error: Avg loss: 1.077894 \n",
      "\n",
      "--- 68.90967297554016 seconds ---\n",
      "Epoch 17\n",
      "-------------------------------\n",
      "loss: 0.902981  [    0/4999579]\n",
      "loss: 0.866003  [32000/4999579]\n",
      "loss: 0.914722  [64000/4999579]\n",
      "loss: 0.875964  [96000/4999579]\n",
      "loss: 0.629029  [128000/4999579]\n",
      "loss: 1.037297  [160000/4999579]\n",
      "loss: 0.706542  [192000/4999579]\n",
      "loss: 0.829530  [224000/4999579]\n",
      "loss: 0.758146  [256000/4999579]\n",
      "loss: 0.715611  [288000/4999579]\n",
      "Test Error: Avg loss: 0.984123 \n",
      "\n",
      "--- 64.18408226966858 seconds ---\n",
      "Epoch 18\n",
      "-------------------------------\n",
      "loss: 0.692550  [    0/4999579]\n",
      "loss: 0.902659  [32000/4999579]\n",
      "loss: 0.839964  [64000/4999579]\n",
      "loss: 1.074708  [96000/4999579]\n",
      "loss: 0.697134  [128000/4999579]\n",
      "loss: 0.531210  [160000/4999579]\n",
      "loss: 0.797557  [192000/4999579]\n",
      "loss: 0.973966  [224000/4999579]\n",
      "loss: 0.728242  [256000/4999579]\n",
      "loss: 0.701052  [288000/4999579]\n",
      "Test Error: Avg loss: 0.905769 \n",
      "\n",
      "--- 60.8923921585083 seconds ---\n",
      "Epoch 19\n",
      "-------------------------------\n",
      "loss: 0.687397  [    0/4999579]\n",
      "loss: 0.485348  [32000/4999579]\n",
      "loss: 0.721624  [64000/4999579]\n",
      "loss: 0.592787  [96000/4999579]\n",
      "loss: 0.607750  [128000/4999579]\n",
      "loss: 0.831371  [160000/4999579]\n",
      "loss: 0.622612  [192000/4999579]\n",
      "loss: 0.416789  [224000/4999579]\n",
      "loss: 0.767114  [256000/4999579]\n",
      "loss: 0.521882  [288000/4999579]\n",
      "Test Error: Avg loss: 0.840541 \n",
      "\n",
      "--- 75.68398523330688 seconds ---\n",
      "Epoch 20\n",
      "-------------------------------\n"
     ]
    },
    {
     "name": "stdout",
     "output_type": "stream",
     "text": [
      "loss: 0.677300  [    0/4999579]\n",
      "loss: 0.585319  [32000/4999579]\n",
      "loss: 0.557023  [64000/4999579]\n",
      "loss: 0.678131  [96000/4999579]\n",
      "loss: 0.821555  [128000/4999579]\n",
      "loss: 0.625015  [160000/4999579]\n",
      "loss: 0.683911  [192000/4999579]\n",
      "loss: 0.663392  [224000/4999579]\n",
      "loss: 0.376247  [256000/4999579]\n",
      "loss: 0.715403  [288000/4999579]\n",
      "Test Error: Avg loss: 0.798455 \n",
      "\n",
      "--- 68.46037197113037 seconds ---\n",
      "Epoch 21\n",
      "-------------------------------\n",
      "loss: 0.444515  [    0/4999579]\n",
      "loss: 0.388889  [32000/4999579]\n",
      "loss: 0.429311  [64000/4999579]\n",
      "loss: 0.509745  [96000/4999579]\n",
      "loss: 0.608452  [128000/4999579]\n",
      "loss: 0.565443  [160000/4999579]\n",
      "loss: 0.562500  [192000/4999579]\n",
      "loss: 0.464448  [224000/4999579]\n",
      "loss: 0.726231  [256000/4999579]\n",
      "loss: 0.545628  [288000/4999579]\n",
      "Test Error: Avg loss: 0.754171 \n",
      "\n",
      "--- 66.34579706192017 seconds ---\n",
      "Epoch 22\n",
      "-------------------------------\n",
      "loss: 1.019266  [    0/4999579]\n",
      "loss: 0.372928  [32000/4999579]\n",
      "loss: 0.501230  [64000/4999579]\n",
      "loss: 0.618015  [96000/4999579]\n",
      "loss: 0.499570  [128000/4999579]\n",
      "loss: 0.782175  [160000/4999579]\n",
      "loss: 0.466952  [192000/4999579]\n",
      "loss: 0.585119  [224000/4999579]\n",
      "loss: 0.824635  [256000/4999579]\n",
      "loss: 0.320554  [288000/4999579]\n",
      "Test Error: Avg loss: 0.725747 \n",
      "\n",
      "--- 64.15441703796387 seconds ---\n",
      "Epoch 23\n",
      "-------------------------------\n",
      "loss: 0.585141  [    0/4999579]\n",
      "loss: 0.518633  [32000/4999579]\n",
      "loss: 0.615282  [64000/4999579]\n",
      "loss: 0.656911  [96000/4999579]\n",
      "loss: 0.668235  [128000/4999579]\n",
      "loss: 0.655180  [160000/4999579]\n",
      "loss: 0.546068  [192000/4999579]\n",
      "loss: 0.367958  [224000/4999579]\n",
      "loss: 0.706230  [256000/4999579]\n",
      "loss: 0.460759  [288000/4999579]\n",
      "Test Error: Avg loss: 0.705902 \n",
      "\n",
      "--- 66.16557097434998 seconds ---\n",
      "Epoch 24\n",
      "-------------------------------\n",
      "loss: 0.422959  [    0/4999579]\n",
      "loss: 0.314175  [32000/4999579]\n",
      "loss: 0.662861  [64000/4999579]\n",
      "loss: 0.390617  [96000/4999579]\n",
      "loss: 0.550185  [128000/4999579]\n",
      "loss: 0.659000  [160000/4999579]\n",
      "loss: 0.769849  [192000/4999579]\n",
      "loss: 0.386196  [224000/4999579]\n",
      "loss: 0.523113  [256000/4999579]\n",
      "loss: 0.542545  [288000/4999579]\n",
      "Test Error: Avg loss: 0.686492 \n",
      "\n",
      "--- 68.76222896575928 seconds ---\n",
      "Epoch 25\n",
      "-------------------------------\n",
      "loss: 0.431630  [    0/4999579]\n"
     ]
    },
    {
     "ename": "KeyboardInterrupt",
     "evalue": "",
     "output_type": "error",
     "traceback": [
      "\u001b[0;31m---------------------------------------------------------------------------\u001b[0m",
      "\u001b[0;31mKeyboardInterrupt\u001b[0m                         Traceback (most recent call last)",
      "\u001b[0;32m/var/folders/2y/kyv2hdc1433f67fbbd7zm9zr0000gn/T/ipykernel_44627/90386467.py\u001b[0m in \u001b[0;36m<module>\u001b[0;34m\u001b[0m\n\u001b[1;32m      5\u001b[0m     \u001b[0mstart_time\u001b[0m \u001b[0;34m=\u001b[0m \u001b[0mtime\u001b[0m\u001b[0;34m.\u001b[0m\u001b[0mtime\u001b[0m\u001b[0;34m(\u001b[0m\u001b[0;34m)\u001b[0m\u001b[0;34m\u001b[0m\u001b[0;34m\u001b[0m\u001b[0m\n\u001b[1;32m      6\u001b[0m     \u001b[0mprint\u001b[0m\u001b[0;34m(\u001b[0m\u001b[0;34mf\"Epoch {epoch_n+1}\\n-------------------------------\"\u001b[0m\u001b[0;34m)\u001b[0m\u001b[0;34m\u001b[0m\u001b[0;34m\u001b[0m\u001b[0m\n\u001b[0;32m----> 7\u001b[0;31m     \u001b[0mtrain_loss\u001b[0m \u001b[0;34m=\u001b[0m \u001b[0mpre_train_loop\u001b[0m\u001b[0;34m(\u001b[0m\u001b[0mpre_train_dl\u001b[0m\u001b[0;34m,\u001b[0m \u001b[0mpre_model\u001b[0m\u001b[0;34m,\u001b[0m \u001b[0mp_r_loss\u001b[0m\u001b[0;34m,\u001b[0m \u001b[0mpre_optimizer\u001b[0m\u001b[0;34m,\u001b[0m \u001b[0mdevice\u001b[0m\u001b[0;34m,\u001b[0m \u001b[0;36m5000\u001b[0m\u001b[0;34m)\u001b[0m\u001b[0;34m\u001b[0m\u001b[0;34m\u001b[0m\u001b[0m\n\u001b[0m\u001b[1;32m      8\u001b[0m     \u001b[0mval_loss\u001b[0m \u001b[0;34m=\u001b[0m \u001b[0mpre_test_loop\u001b[0m\u001b[0;34m(\u001b[0m\u001b[0mpre_val_dl\u001b[0m\u001b[0;34m,\u001b[0m \u001b[0mpre_model\u001b[0m\u001b[0;34m,\u001b[0m \u001b[0mp_r_loss\u001b[0m\u001b[0;34m,\u001b[0m \u001b[0mdevice\u001b[0m\u001b[0;34m,\u001b[0m \u001b[0;36m2500\u001b[0m\u001b[0;34m)\u001b[0m\u001b[0;34m\u001b[0m\u001b[0;34m\u001b[0m\u001b[0m\n\u001b[1;32m      9\u001b[0m     \u001b[0mprint\u001b[0m\u001b[0;34m(\u001b[0m\u001b[0;34m\"--- %s seconds ---\"\u001b[0m \u001b[0;34m%\u001b[0m \u001b[0;34m(\u001b[0m\u001b[0mtime\u001b[0m\u001b[0;34m.\u001b[0m\u001b[0mtime\u001b[0m\u001b[0;34m(\u001b[0m\u001b[0;34m)\u001b[0m \u001b[0;34m-\u001b[0m \u001b[0mstart_time\u001b[0m\u001b[0;34m)\u001b[0m\u001b[0;34m)\u001b[0m\u001b[0;34m\u001b[0m\u001b[0;34m\u001b[0m\u001b[0m\n",
      "\u001b[0;32m/var/folders/2y/kyv2hdc1433f67fbbd7zm9zr0000gn/T/ipykernel_44627/2580544967.py\u001b[0m in \u001b[0;36mpre_train_loop\u001b[0;34m(dataloader, model, loss_fn, optimizer, device, max_batch)\u001b[0m\n\u001b[1;32m     20\u001b[0m         \u001b[0moptimizer\u001b[0m\u001b[0;34m.\u001b[0m\u001b[0mzero_grad\u001b[0m\u001b[0;34m(\u001b[0m\u001b[0;34m)\u001b[0m\u001b[0;34m\u001b[0m\u001b[0;34m\u001b[0m\u001b[0m\n\u001b[1;32m     21\u001b[0m         \u001b[0mloss\u001b[0m\u001b[0;34m.\u001b[0m\u001b[0mbackward\u001b[0m\u001b[0;34m(\u001b[0m\u001b[0;34m)\u001b[0m\u001b[0;34m\u001b[0m\u001b[0;34m\u001b[0m\u001b[0m\n\u001b[0;32m---> 22\u001b[0;31m         \u001b[0moptimizer\u001b[0m\u001b[0;34m.\u001b[0m\u001b[0mstep\u001b[0m\u001b[0;34m(\u001b[0m\u001b[0;34m)\u001b[0m\u001b[0;34m\u001b[0m\u001b[0;34m\u001b[0m\u001b[0m\n\u001b[0m\u001b[1;32m     23\u001b[0m \u001b[0;34m\u001b[0m\u001b[0m\n\u001b[1;32m     24\u001b[0m         \u001b[0magg_loss\u001b[0m \u001b[0;34m+=\u001b[0m \u001b[0mloss\u001b[0m\u001b[0;34m.\u001b[0m\u001b[0mitem\u001b[0m\u001b[0;34m(\u001b[0m\u001b[0;34m)\u001b[0m\u001b[0;34m\u001b[0m\u001b[0;34m\u001b[0m\u001b[0m\n",
      "\u001b[0;32m~/opt/anaconda3/envs/dl_env/lib/python3.8/site-packages/torch/optim/optimizer.py\u001b[0m in \u001b[0;36mwrapper\u001b[0;34m(*args, **kwargs)\u001b[0m\n\u001b[1;32m     86\u001b[0m                 \u001b[0mprofile_name\u001b[0m \u001b[0;34m=\u001b[0m \u001b[0;34m\"Optimizer.step#{}.step\"\u001b[0m\u001b[0;34m.\u001b[0m\u001b[0mformat\u001b[0m\u001b[0;34m(\u001b[0m\u001b[0mobj\u001b[0m\u001b[0;34m.\u001b[0m\u001b[0m__class__\u001b[0m\u001b[0;34m.\u001b[0m\u001b[0m__name__\u001b[0m\u001b[0;34m)\u001b[0m\u001b[0;34m\u001b[0m\u001b[0;34m\u001b[0m\u001b[0m\n\u001b[1;32m     87\u001b[0m                 \u001b[0;32mwith\u001b[0m \u001b[0mtorch\u001b[0m\u001b[0;34m.\u001b[0m\u001b[0mautograd\u001b[0m\u001b[0;34m.\u001b[0m\u001b[0mprofiler\u001b[0m\u001b[0;34m.\u001b[0m\u001b[0mrecord_function\u001b[0m\u001b[0;34m(\u001b[0m\u001b[0mprofile_name\u001b[0m\u001b[0;34m)\u001b[0m\u001b[0;34m:\u001b[0m\u001b[0;34m\u001b[0m\u001b[0;34m\u001b[0m\u001b[0m\n\u001b[0;32m---> 88\u001b[0;31m                     \u001b[0;32mreturn\u001b[0m \u001b[0mfunc\u001b[0m\u001b[0;34m(\u001b[0m\u001b[0;34m*\u001b[0m\u001b[0margs\u001b[0m\u001b[0;34m,\u001b[0m \u001b[0;34m**\u001b[0m\u001b[0mkwargs\u001b[0m\u001b[0;34m)\u001b[0m\u001b[0;34m\u001b[0m\u001b[0;34m\u001b[0m\u001b[0m\n\u001b[0m\u001b[1;32m     89\u001b[0m             \u001b[0;32mreturn\u001b[0m \u001b[0mwrapper\u001b[0m\u001b[0;34m\u001b[0m\u001b[0;34m\u001b[0m\u001b[0m\n\u001b[1;32m     90\u001b[0m \u001b[0;34m\u001b[0m\u001b[0m\n",
      "\u001b[0;32m~/opt/anaconda3/envs/dl_env/lib/python3.8/site-packages/torch/autograd/grad_mode.py\u001b[0m in \u001b[0;36mdecorate_context\u001b[0;34m(*args, **kwargs)\u001b[0m\n\u001b[1;32m     26\u001b[0m         \u001b[0;32mdef\u001b[0m \u001b[0mdecorate_context\u001b[0m\u001b[0;34m(\u001b[0m\u001b[0;34m*\u001b[0m\u001b[0margs\u001b[0m\u001b[0;34m,\u001b[0m \u001b[0;34m**\u001b[0m\u001b[0mkwargs\u001b[0m\u001b[0;34m)\u001b[0m\u001b[0;34m:\u001b[0m\u001b[0;34m\u001b[0m\u001b[0;34m\u001b[0m\u001b[0m\n\u001b[1;32m     27\u001b[0m             \u001b[0;32mwith\u001b[0m \u001b[0mself\u001b[0m\u001b[0;34m.\u001b[0m\u001b[0m__class__\u001b[0m\u001b[0;34m(\u001b[0m\u001b[0;34m)\u001b[0m\u001b[0;34m:\u001b[0m\u001b[0;34m\u001b[0m\u001b[0;34m\u001b[0m\u001b[0m\n\u001b[0;32m---> 28\u001b[0;31m                 \u001b[0;32mreturn\u001b[0m \u001b[0mfunc\u001b[0m\u001b[0;34m(\u001b[0m\u001b[0;34m*\u001b[0m\u001b[0margs\u001b[0m\u001b[0;34m,\u001b[0m \u001b[0;34m**\u001b[0m\u001b[0mkwargs\u001b[0m\u001b[0;34m)\u001b[0m\u001b[0;34m\u001b[0m\u001b[0;34m\u001b[0m\u001b[0m\n\u001b[0m\u001b[1;32m     29\u001b[0m         \u001b[0;32mreturn\u001b[0m \u001b[0mcast\u001b[0m\u001b[0;34m(\u001b[0m\u001b[0mF\u001b[0m\u001b[0;34m,\u001b[0m \u001b[0mdecorate_context\u001b[0m\u001b[0;34m)\u001b[0m\u001b[0;34m\u001b[0m\u001b[0;34m\u001b[0m\u001b[0m\n\u001b[1;32m     30\u001b[0m \u001b[0;34m\u001b[0m\u001b[0m\n",
      "\u001b[0;32m~/opt/anaconda3/envs/dl_env/lib/python3.8/site-packages/torch/optim/adam.py\u001b[0m in \u001b[0;36mstep\u001b[0;34m(self, closure)\u001b[0m\n\u001b[1;32m    131\u001b[0m                     \u001b[0mstate_steps\u001b[0m\u001b[0;34m.\u001b[0m\u001b[0mappend\u001b[0m\u001b[0;34m(\u001b[0m\u001b[0mstate\u001b[0m\u001b[0;34m[\u001b[0m\u001b[0;34m'step'\u001b[0m\u001b[0;34m]\u001b[0m\u001b[0;34m)\u001b[0m\u001b[0;34m\u001b[0m\u001b[0;34m\u001b[0m\u001b[0m\n\u001b[1;32m    132\u001b[0m \u001b[0;34m\u001b[0m\u001b[0m\n\u001b[0;32m--> 133\u001b[0;31m             F.adam(params_with_grad,\n\u001b[0m\u001b[1;32m    134\u001b[0m                    \u001b[0mgrads\u001b[0m\u001b[0;34m,\u001b[0m\u001b[0;34m\u001b[0m\u001b[0;34m\u001b[0m\u001b[0m\n\u001b[1;32m    135\u001b[0m                    \u001b[0mexp_avgs\u001b[0m\u001b[0;34m,\u001b[0m\u001b[0;34m\u001b[0m\u001b[0;34m\u001b[0m\u001b[0m\n",
      "\u001b[0;32m~/opt/anaconda3/envs/dl_env/lib/python3.8/site-packages/torch/optim/_functional.py\u001b[0m in \u001b[0;36madam\u001b[0;34m(params, grads, exp_avgs, exp_avg_sqs, max_exp_avg_sqs, state_steps, amsgrad, beta1, beta2, lr, weight_decay, eps)\u001b[0m\n\u001b[1;32m     84\u001b[0m \u001b[0;34m\u001b[0m\u001b[0m\n\u001b[1;32m     85\u001b[0m         \u001b[0;31m# Decay the first and second moment running average coefficient\u001b[0m\u001b[0;34m\u001b[0m\u001b[0;34m\u001b[0m\u001b[0;34m\u001b[0m\u001b[0m\n\u001b[0;32m---> 86\u001b[0;31m         \u001b[0mexp_avg\u001b[0m\u001b[0;34m.\u001b[0m\u001b[0mmul_\u001b[0m\u001b[0;34m(\u001b[0m\u001b[0mbeta1\u001b[0m\u001b[0;34m)\u001b[0m\u001b[0;34m.\u001b[0m\u001b[0madd_\u001b[0m\u001b[0;34m(\u001b[0m\u001b[0mgrad\u001b[0m\u001b[0;34m,\u001b[0m \u001b[0malpha\u001b[0m\u001b[0;34m=\u001b[0m\u001b[0;36m1\u001b[0m \u001b[0;34m-\u001b[0m \u001b[0mbeta1\u001b[0m\u001b[0;34m)\u001b[0m\u001b[0;34m\u001b[0m\u001b[0;34m\u001b[0m\u001b[0m\n\u001b[0m\u001b[1;32m     87\u001b[0m         \u001b[0mexp_avg_sq\u001b[0m\u001b[0;34m.\u001b[0m\u001b[0mmul_\u001b[0m\u001b[0;34m(\u001b[0m\u001b[0mbeta2\u001b[0m\u001b[0;34m)\u001b[0m\u001b[0;34m.\u001b[0m\u001b[0maddcmul_\u001b[0m\u001b[0;34m(\u001b[0m\u001b[0mgrad\u001b[0m\u001b[0;34m,\u001b[0m \u001b[0mgrad\u001b[0m\u001b[0;34m.\u001b[0m\u001b[0mconj\u001b[0m\u001b[0;34m(\u001b[0m\u001b[0;34m)\u001b[0m\u001b[0;34m,\u001b[0m \u001b[0mvalue\u001b[0m\u001b[0;34m=\u001b[0m\u001b[0;36m1\u001b[0m \u001b[0;34m-\u001b[0m \u001b[0mbeta2\u001b[0m\u001b[0;34m)\u001b[0m\u001b[0;34m\u001b[0m\u001b[0;34m\u001b[0m\u001b[0m\n\u001b[1;32m     88\u001b[0m         \u001b[0;32mif\u001b[0m \u001b[0mamsgrad\u001b[0m\u001b[0;34m:\u001b[0m\u001b[0;34m\u001b[0m\u001b[0;34m\u001b[0m\u001b[0m\n",
      "\u001b[0;31mKeyboardInterrupt\u001b[0m: "
     ]
    }
   ],
   "source": [
    "start_epoch = 0\n",
    "end_epoch = 100\n",
    "\n",
    "for epoch_n in range(start_epoch, end_epoch):\n",
    "    start_time = time.time()\n",
    "    print(f\"Epoch {epoch_n+1}\\n-------------------------------\")\n",
    "    train_loss = pre_train_loop(pre_train_dl, pre_model, p_r_loss, pre_optimizer, device, 5000)\n",
    "    val_loss = pre_test_loop(pre_val_dl, pre_model, p_r_loss, device, 2500)\n",
    "    print(\"--- %s seconds ---\" % (time.time() - start_time))\n",
    "    \n",
    "    pre_loss_d['epoch'].append(epoch_n)\n",
    "    pre_loss_d['train'].append(train_loss)\n",
    "    pre_loss_d['val'].append(val_loss)\n",
    "    if epoch_n % 3 == 0:\n",
    "        torch.save(pre_model.state_dict(), pre_save_path)\n",
    "        pd.DataFrame(pre_loss_d).to_csv(pre_loss_save_path, index=False)\n",
    "torch.save(pre_model.state_dict(), pre_save_path)\n",
    "pd.DataFrame(pre_loss_d).to_csv(pre_loss_save_path, index=False)"
   ]
  },
  {
   "cell_type": "code",
   "execution_count": 483,
   "metadata": {},
   "outputs": [
    {
     "data": {
      "text/plain": [
       "(0.0, 3.5)"
      ]
     },
     "execution_count": 483,
     "metadata": {},
     "output_type": "execute_result"
    },
    {
     "data": {
      "image/png": "[encoded data removed]",
      "text/plain": [
       "<Figure size 432x288 with 1 Axes>"
      ]
     },
     "metadata": {
      "needs_background": "light"
     },
     "output_type": "display_data"
    }
   ],
   "source": [
    "import seaborn as sns\n",
    "df_model_loss = pd.DataFrame(pre_loss_d)\n",
    "aux_df = pd.DataFrame(index=df_model_loss.index)\n",
    "aux_df['Época'] = df_model_loss['epoch']\n",
    "aux_df['Treino'] = df_model_loss['train']\n",
    "aux_df['Validação'] = df_model_loss['val']\n",
    "aux_df = aux_df.set_index('Época')\n",
    "ax = sns.lineplot(data=aux_df, dashes=False)\n",
    "ax.set(xlabel='Época', ylabel='Loss')\n",
    "ax.set_ylim([0.0, 3.5])"
   ]
  },
  {
   "cell_type": "markdown",
   "metadata": {},
   "source": [
    "# AUC to P_R"
   ]
  },
  {
   "cell_type": "code",
   "execution_count": 486,
   "metadata": {},
   "outputs": [],
   "source": [
    "train_rec_by_u = train_df.groupby('UserID').apply(lambda x: (\" \".join(x['R']).split()))"
   ]
  },
  {
   "cell_type": "code",
   "execution_count": 487,
   "metadata": {},
   "outputs": [],
   "source": [
    "inv_user_d = {v:k for k,v in user_d.items()}\n",
    "inv_item_d = {v:k for k,v in item_d.items()}"
   ]
  },
  {
   "cell_type": "code",
   "execution_count": null,
   "metadata": {},
   "outputs": [],
   "source": [
    "u = \n",
    "pre_model"
   ]
  },
  {
   "cell_type": "code",
   "execution_count": 494,
   "metadata": {},
   "outputs": [],
   "source": [
    "def pre_test_loop_scores(dataloader, model, loss_fn, device, max_batch):\n",
    "    size = len(dataloader.dataset)\n",
    "    num_samples = 0\n",
    "    test_loss, correct = 0, 0\n",
    "    \n",
    "    pos_score_l = []\n",
    "    neg_score_l = []\n",
    "\n",
    "    with torch.no_grad():\n",
    "        for batch, (u, pos_i, neg_i) in enumerate(dataloader):\n",
    "            if batch >= max_batch: break\n",
    "            u, pos_i, neg_i = u.to(device), pos_i.to(device), neg_i.to(device)\n",
    "            batch_sz = u.size(0)\n",
    "        \n",
    "            pos_alpha = torch.randn(batch_sz).to(device)\n",
    "            pos_scores = model(u, pos_i, pos_alpha)\n",
    "            pos_score_l += [o.item() for o in pos_scores]\n",
    "        \n",
    "            neg_alpha = torch.randn(batch_sz).to(device)\n",
    "            neg_scores = model(u, neg_i, neg_alpha)\n",
    "            neg_score_l += [o.item() for o in neg_scores]\n",
    "        \n",
    "            loss = loss_fn(pos_scores, neg_scores)\n",
    "            \n",
    "            test_loss += loss_fn(pos_scores, neg_scores).item()\n",
    "            num_samples += batch_sz\n",
    "\n",
    "    print(f\"Test Error: Avg loss: {(test_loss/num_samples):>8f} \\n\")\n",
    "    return test_loss / num_samples, pos_score_l, neg_score_l"
   ]
  },
  {
   "cell_type": "code",
   "execution_count": 500,
   "metadata": {},
   "outputs": [],
   "source": [
    "from sklearn.metrics import roc_auc_score"
   ]
  },
  {
   "cell_type": "code",
   "execution_count": 499,
   "metadata": {},
   "outputs": [
    {
     "name": "stdout",
     "output_type": "stream",
     "text": [
      "Test Error: Avg loss: 0.683373 \n",
      "\n"
     ]
    }
   ],
   "source": [
    "val_loss, pos_score_l, neg_score_l = pre_test_loop_scores(pre_val_dl, pre_model, p_r_loss, device, 1000)"
   ]
  },
  {
   "cell_type": "code",
   "execution_count": 501,
   "metadata": {},
   "outputs": [
    {
     "data": {
      "text/plain": [
       "0.9316389858398437"
      ]
     },
     "execution_count": 501,
     "metadata": {},
     "output_type": "execute_result"
    }
   ],
   "source": [
    "true_y = [1]*len(pos_score_l) + [0]*len(neg_score_l)\n",
    "pred_y = pos_score_l + neg_score_l\n",
    "roc_auc_score(true_y, pred_y)"
   ]
  },
  {
   "cell_type": "code",
   "execution_count": 502,
   "metadata": {},
   "outputs": [
    {
     "data": {
      "image/png": "[encoded data removed]",
      "text/plain": [
       "<Figure size 432x288 with 1 Axes>"
      ]
     },
     "metadata": {
      "needs_background": "light"
     },
     "output_type": "display_data"
    }
   ],
   "source": [
    "import sklearn.metrics as metrics\n",
    "# calculate the fpr and tpr for all thresholds of the classification\n",
    "fpr, tpr, threshold = metrics.roc_curve(true_y, pred_y)\n",
    "roc_auc = metrics.auc(fpr, tpr)\n",
    "\n",
    "# method I: plt\n",
    "import matplotlib.pyplot as plt\n",
    "plt.title('Receiver Operating Characteristic')\n",
    "plt.plot(fpr, tpr, 'b', label = 'AUC = %0.2f' % roc_auc)\n",
    "plt.legend(loc = 'lower right')\n",
    "plt.plot([0, 1], [0, 1],'r--')\n",
    "plt.xlim([0, 1])\n",
    "plt.ylim([0, 1])\n",
    "plt.ylabel('True Positive Rate')\n",
    "plt.xlabel('False Positive Rate')\n",
    "plt.show()"
   ]
  },
  {
   "cell_type": "code",
   "execution_count": 477,
   "metadata": {},
   "outputs": [
    {
     "name": "stdout",
     "output_type": "stream",
     "text": [
      "Test Error: Avg loss: 1.937667 \n",
      "\n",
      "CPU times: user 1.98 s, sys: 62.9 ms, total: 2.04 s\n",
      "Wall time: 2.09 s\n"
     ]
    },
    {
     "data": {
      "text/plain": [
       "1.9376668354272844"
      ]
     },
     "execution_count": 477,
     "metadata": {},
     "output_type": "execute_result"
    }
   ],
   "source": [
    "%%time\n",
    "pre_test_loop(pre_val_dl, pre_model, p_r_loss, device, 1000)"
   ]
  },
  {
   "cell_type": "code",
   "execution_count": 475,
   "metadata": {
    "scrolled": true
   },
   "outputs": [
    {
     "name": "stdout",
     "output_type": "stream",
     "text": [
      "loss: 1.773284  [    0/4999579]\n",
      "loss: 2.001065  [ 6400/4999579]\n",
      "loss: 2.072268  [12800/4999579]\n",
      "loss: 1.573009  [19200/4999579]\n",
      "loss: 1.951164  [25600/4999579]\n",
      "loss: 2.011803  [32000/4999579]\n",
      "loss: 2.151156  [38400/4999579]\n",
      "loss: 1.794920  [44800/4999579]\n",
      "loss: 1.913135  [51200/4999579]\n",
      "loss: 2.000658  [57600/4999579]\n",
      "CPU times: user 11.8 s, sys: 812 ms, total: 12.6 s\n",
      "Wall time: 7.14 s\n"
     ]
    },
    {
     "data": {
      "text/plain": [
       "1.8809014817476273"
      ]
     },
     "execution_count": 475,
     "metadata": {},
     "output_type": "execute_result"
    }
   ],
   "source": [
    "%%time\n",
    "pre_train_loop(pre_train_dl, pre_model, p_r_loss, optimizer, device, 1000)"
   ]
  },
  {
   "cell_type": "markdown",
   "metadata": {},
   "source": [
    "# P_S eficiente\n",
    "\n",
    "Tentar diminuir o tamanho das listas"
   ]
  },
  {
   "cell_type": "code",
   "execution_count": 503,
   "metadata": {},
   "outputs": [],
   "source": [
    "# aux_df = pd.Series(\" \".join(train_df['R']).split()).value_counts()\n",
    "# items_to_keep = list(aux_df[aux_df > 10].index)"
   ]
  },
  {
   "cell_type": "code",
   "execution_count": 524,
   "metadata": {},
   "outputs": [],
   "source": [
    "import random\n",
    "def reduced_r(s, r, max_len):\n",
    "    if len(r) <= max_len:\n",
    "        return r\n",
    "    red_r = s[:max_len]\n",
    "    red_r += random.sample(set(r) - set(red_r), max_len - len(red_r))\n",
    "    return red_r\n",
    "\n",
    "max_len_r = 20"
   ]
  },
  {
   "cell_type": "code",
   "execution_count": 510,
   "metadata": {},
   "outputs": [
    {
     "name": "stderr",
     "output_type": "stream",
     "text": [
      "/var/folders/2y/kyv2hdc1433f67fbbd7zm9zr0000gn/T/ipykernel_44627/1959355346.py:1: SettingWithCopyWarning: \n",
      "A value is trying to be set on a copy of a slice from a DataFrame.\n",
      "Try using .loc[row_indexer,col_indexer] = value instead\n",
      "\n",
      "See the caveats in the documentation: https://pandas.pydata.org/pandas-docs/stable/user_guide/indexing.html#returning-a-view-versus-a-copy\n",
      "  train_df['R_l'] = train_df['R'].apply(lambda x: x.split())\n"
     ]
    }
   ],
   "source": [
    "train_df['R_l'] = train_df['R'].apply(lambda x: x.split())"
   ]
  },
  {
   "cell_type": "code",
   "execution_count": 536,
   "metadata": {},
   "outputs": [
    {
     "name": "stderr",
     "output_type": "stream",
     "text": [
      "/var/folders/2y/kyv2hdc1433f67fbbd7zm9zr0000gn/T/ipykernel_44627/879762617.py:1: SettingWithCopyWarning: \n",
      "A value is trying to be set on a copy of a slice from a DataFrame.\n",
      "Try using .loc[row_indexer,col_indexer] = value instead\n",
      "\n",
      "See the caveats in the documentation: https://pandas.pydata.org/pandas-docs/stable/user_guide/indexing.html#returning-a-view-versus-a-copy\n",
      "  train_df['S_l'] = train_df['S'].apply(lambda x: x.split())\n"
     ]
    }
   ],
   "source": [
    "train_df['S_l'] = train_df['S'].apply(lambda x: x.split())"
   ]
  },
  {
   "cell_type": "code",
   "execution_count": 537,
   "metadata": {},
   "outputs": [],
   "source": [
    "reduced_s = train_df.apply(lambda x: reduced_r(x['S_l'], x['R_l'], max_len_r), axis=1)"
   ]
  },
  {
   "cell_type": "code",
   "execution_count": 547,
   "metadata": {},
   "outputs": [],
   "source": [
    "red_train_df = pd.DataFrame(index=train_df.index)\n",
    "red_train_df['UserID'] = train_df['UserID']\n",
    "red_train_df['S'] = train_df['S']\n",
    "red_train_df['R'] = reduced_s.apply(lambda x: \" \".join(x))"
   ]
  },
  {
   "cell_type": "code",
   "execution_count": 549,
   "metadata": {},
   "outputs": [],
   "source": [
    "val_df['R_l'] = val_df['R'].apply(lambda x: x.split())\n",
    "val_df['S_l'] = val_df['S'].apply(lambda x: x.split())\n",
    "reduced_s = val_df.apply(lambda x: reduced_r(x['S_l'], x['R_l'], max_len_r), axis=1)\n",
    "\n",
    "red_val_df = pd.DataFrame(index=val_df.index)\n",
    "red_val_df['UserID'] = val_df['UserID']\n",
    "red_val_df['S'] = val_df['S']\n",
    "red_val_df['R'] = reduced_s.apply(lambda x: \" \".join(x))"
   ]
  },
  {
   "cell_type": "code",
   "execution_count": 551,
   "metadata": {},
   "outputs": [],
   "source": [
    "batch_size = 32\n",
    "\n",
    "ps_train_ds = MIND_dataset(red_train_df, user_d, item_d)\n",
    "ps_train_dl = DataLoader(ps_train_ds, batch_size=batch_size, shuffle=True, collate_fn=mind_collate_fn)\n",
    "\n",
    "ps_val_ds = MIND_dataset(red_val_df, user_d, item_d)\n",
    "ps_val_dl = DataLoader(ps_val_ds, batch_size=batch_size, shuffle=True, collate_fn=mind_collate_fn)"
   ]
  },
  {
   "cell_type": "code",
   "execution_count": null,
   "metadata": {},
   "outputs": [],
   "source": []
  },
  {
   "cell_type": "code",
   "execution_count": 552,
   "metadata": {},
   "outputs": [
    {
     "name": "stdout",
     "output_type": "stream",
     "text": [
      "P_S:\n",
      "w torch.Size([1, 299])\n",
      "Cuda =  False\n",
      "user_emb.weight torch.Size([47372, 16])\n",
      "Cuda =  False\n",
      "item_emb.weight torch.Size([19762, 16])\n",
      "Cuda =  False\n"
     ]
    }
   ],
   "source": [
    "ps_model = P_S_Network(len(user_d)+1, len(item_d)+1, 299, emb_dim=16)\n",
    "ps_model = ps_model.to(device)\n",
    "# Parametros\n",
    "print('P_S:')\n",
    "for name, param in ps_model.named_parameters():\n",
    "    if param.requires_grad:\n",
    "        print(name, param.data.size())\n",
    "        print('Cuda = ', param.is_cuda)"
   ]
  },
  {
   "cell_type": "code",
   "execution_count": 553,
   "metadata": {},
   "outputs": [],
   "source": [
    "ps_save_path = 'ps_model.pth'\n",
    "ps_loss_save_path = 'ps_loss.csv'\n",
    "ps_loss_d = {'epoch': [], 'train':[], 'val':[]}\n",
    "learning_rate = 1e-3\n",
    "ps_optimizer = torch.optim.Adam(ps_model.parameters(), lr=learning_rate)"
   ]
  },
  {
   "cell_type": "code",
   "execution_count": 554,
   "metadata": {
    "scrolled": true
   },
   "outputs": [
    {
     "name": "stdout",
     "output_type": "stream",
     "text": [
      "Epoch 1\n",
      "-------------------------------\n",
      "loss: 12.429979  [    0/134204]\n",
      "loss: 10.088916  [13408/134204]\n",
      "loss: 11.553240  [26816/134204]\n",
      "loss: 12.440228  [40224/134204]\n",
      "loss: 9.916104  [53632/134204]\n",
      "loss: 6.989389  [67040/134204]\n",
      "loss: 9.649977  [80448/134204]\n",
      "loss: 8.700003  [93856/134204]\n",
      "loss: 6.901362  [107264/134204]\n",
      "loss: 9.948595  [120672/134204]\n",
      "loss: 8.022299  [134080/134204]\n",
      "Test Error: Avg loss: 9.061799 \n",
      "\n",
      "--- 42.722081899642944 seconds ---\n",
      "Epoch 2\n",
      "-------------------------------\n",
      "loss: 9.822528  [    0/134204]\n",
      "loss: 10.435058  [13408/134204]\n",
      "loss: 9.853220  [26816/134204]\n",
      "loss: 7.288701  [40224/134204]\n",
      "loss: 6.701733  [53632/134204]\n",
      "loss: 9.515727  [67040/134204]\n",
      "loss: 6.093030  [80448/134204]\n",
      "loss: 8.153770  [93856/134204]\n",
      "loss: 7.288787  [107264/134204]\n",
      "loss: 7.824926  [120672/134204]\n",
      "loss: 8.933782  [134080/134204]\n",
      "Test Error: Avg loss: 7.665591 \n",
      "\n",
      "--- 46.05034804344177 seconds ---\n",
      "Epoch 3\n",
      "-------------------------------\n",
      "loss: 11.107541  [    0/134204]\n",
      "loss: 15.305928  [13408/134204]\n",
      "loss: 4.611926  [26816/134204]\n",
      "loss: 5.701788  [40224/134204]\n",
      "loss: 4.944955  [53632/134204]\n",
      "loss: 6.517966  [67040/134204]\n",
      "loss: 5.636135  [80448/134204]\n",
      "loss: 7.883944  [93856/134204]\n",
      "loss: 4.758987  [107264/134204]\n",
      "loss: 6.020652  [120672/134204]\n",
      "loss: 9.148757  [134080/134204]\n",
      "Test Error: Avg loss: 6.797341 \n",
      "\n",
      "--- 47.4670147895813 seconds ---\n",
      "Epoch 4\n",
      "-------------------------------\n",
      "loss: 5.226205  [    0/134204]\n",
      "loss: 8.134233  [13408/134204]\n",
      "loss: 4.309269  [26816/134204]\n",
      "loss: 6.531069  [40224/134204]\n",
      "loss: 5.335009  [53632/134204]\n",
      "loss: 5.403781  [67040/134204]\n",
      "loss: 6.366660  [80448/134204]\n",
      "loss: 6.649858  [93856/134204]\n",
      "loss: 5.385043  [107264/134204]\n",
      "loss: 5.204082  [120672/134204]\n",
      "loss: 4.935156  [134080/134204]\n",
      "Test Error: Avg loss: 6.256363 \n",
      "\n",
      "--- 46.46636199951172 seconds ---\n",
      "Epoch 5\n",
      "-------------------------------\n",
      "loss: 5.351509  [    0/134204]\n",
      "loss: 4.397383  [13408/134204]\n",
      "loss: 5.555648  [26816/134204]\n",
      "loss: 5.301498  [40224/134204]\n",
      "loss: 5.357637  [53632/134204]\n",
      "loss: 5.405496  [67040/134204]\n",
      "loss: 6.191456  [80448/134204]\n",
      "loss: 4.418109  [93856/134204]\n",
      "loss: 4.750958  [107264/134204]\n",
      "loss: 5.332306  [120672/134204]\n",
      "loss: 4.733374  [134080/134204]\n",
      "Test Error: Avg loss: 5.922306 \n",
      "\n",
      "--- 47.94580793380737 seconds ---\n",
      "Epoch 6\n",
      "-------------------------------\n",
      "loss: 5.190930  [    0/134204]\n",
      "loss: 5.149556  [13408/134204]\n",
      "loss: 4.817050  [26816/134204]\n",
      "loss: 4.906201  [40224/134204]\n",
      "loss: 3.975135  [53632/134204]\n",
      "loss: 5.134981  [67040/134204]\n",
      "loss: 4.726633  [80448/134204]\n",
      "loss: 5.073856  [93856/134204]\n",
      "loss: 4.557752  [107264/134204]\n",
      "loss: 4.488878  [120672/134204]\n",
      "loss: 5.290130  [134080/134204]\n",
      "Test Error: Avg loss: 5.717224 \n",
      "\n",
      "--- 46.293816804885864 seconds ---\n",
      "Epoch 7\n",
      "-------------------------------\n",
      "loss: 4.347092  [    0/134204]\n",
      "loss: 5.141293  [13408/134204]\n",
      "loss: 4.389667  [26816/134204]\n",
      "loss: 4.626887  [40224/134204]\n",
      "loss: 4.307796  [53632/134204]\n",
      "loss: 5.576260  [67040/134204]\n",
      "loss: 4.492525  [80448/134204]\n",
      "loss: 4.140314  [93856/134204]\n",
      "loss: 4.121208  [107264/134204]\n",
      "loss: 5.293493  [120672/134204]\n",
      "loss: 3.654125  [134080/134204]\n",
      "Test Error: Avg loss: 5.594100 \n",
      "\n",
      "--- 44.017956256866455 seconds ---\n",
      "Epoch 8\n",
      "-------------------------------\n",
      "loss: 3.995436  [    0/134204]\n",
      "loss: 4.539775  [13408/134204]\n",
      "loss: 4.060416  [26816/134204]\n",
      "loss: 4.685530  [40224/134204]\n",
      "loss: 4.362281  [53632/134204]\n",
      "loss: 4.446773  [67040/134204]\n",
      "loss: 3.701935  [80448/134204]\n",
      "loss: 3.532561  [93856/134204]\n",
      "loss: 4.530725  [107264/134204]\n",
      "loss: 4.108017  [120672/134204]\n",
      "loss: 3.405343  [134080/134204]\n",
      "Test Error: Avg loss: 5.524515 \n",
      "\n",
      "--- 46.36841177940369 seconds ---\n",
      "Epoch 9\n",
      "-------------------------------\n",
      "loss: 3.676308  [    0/134204]\n",
      "loss: 3.470330  [13408/134204]\n",
      "loss: 3.433096  [26816/134204]\n",
      "loss: 3.577344  [40224/134204]\n",
      "loss: 4.381649  [53632/134204]\n",
      "loss: 4.289443  [67040/134204]\n",
      "loss: 4.551885  [80448/134204]\n",
      "loss: 3.912736  [93856/134204]\n",
      "loss: 3.319663  [107264/134204]\n",
      "loss: 4.193203  [120672/134204]\n",
      "loss: 4.609577  [134080/134204]\n",
      "Test Error: Avg loss: 5.493006 \n",
      "\n",
      "--- 45.927266120910645 seconds ---\n",
      "Epoch 10\n",
      "-------------------------------\n",
      "loss: 4.242664  [    0/134204]\n",
      "loss: 3.491951  [13408/134204]\n",
      "loss: 5.394641  [26816/134204]\n",
      "loss: 4.425739  [40224/134204]\n",
      "loss: 4.451679  [53632/134204]\n",
      "loss: 3.687447  [67040/134204]\n",
      "loss: 5.073141  [80448/134204]\n",
      "loss: 3.686878  [93856/134204]\n",
      "loss: 4.277831  [107264/134204]\n",
      "loss: 4.920310  [120672/134204]\n",
      "loss: 4.392108  [134080/134204]\n",
      "Test Error: Avg loss: 5.487095 \n",
      "\n",
      "--- 45.86866307258606 seconds ---\n",
      "Epoch 11\n",
      "-------------------------------\n",
      "loss: 4.841589  [    0/134204]\n",
      "loss: 3.526828  [13408/134204]\n",
      "loss: 3.927137  [26816/134204]\n",
      "loss: 3.370663  [40224/134204]\n",
      "loss: 3.699770  [53632/134204]\n",
      "loss: 4.003633  [67040/134204]\n",
      "loss: 4.256131  [80448/134204]\n",
      "loss: 4.077252  [93856/134204]\n",
      "loss: 4.472456  [107264/134204]\n",
      "loss: 4.588863  [120672/134204]\n",
      "loss: 3.248386  [134080/134204]\n",
      "Test Error: Avg loss: 5.502435 \n",
      "\n",
      "--- 47.718010902404785 seconds ---\n",
      "Epoch 12\n",
      "-------------------------------\n",
      "loss: 3.053660  [    0/134204]\n",
      "loss: 3.921940  [13408/134204]\n",
      "loss: 3.286885  [26816/134204]\n",
      "loss: 3.884084  [40224/134204]\n",
      "loss: 4.458404  [53632/134204]\n",
      "loss: 3.210971  [67040/134204]\n",
      "loss: 3.087261  [80448/134204]\n",
      "loss: 4.828846  [93856/134204]\n",
      "loss: 3.290837  [107264/134204]\n",
      "loss: 4.891073  [120672/134204]\n",
      "loss: 3.686525  [134080/134204]\n",
      "Test Error: Avg loss: 5.533616 \n",
      "\n",
      "--- 47.62954783439636 seconds ---\n",
      "Epoch 13\n",
      "-------------------------------\n",
      "loss: 4.379668  [    0/134204]\n",
      "loss: 3.748707  [13408/134204]\n",
      "loss: 3.688068  [26816/134204]\n",
      "loss: 4.342888  [40224/134204]\n",
      "loss: 3.139545  [53632/134204]\n",
      "loss: 3.300691  [67040/134204]\n",
      "loss: 3.498347  [80448/134204]\n",
      "loss: 4.005768  [93856/134204]\n",
      "loss: 3.530311  [107264/134204]\n",
      "loss: 3.977698  [120672/134204]\n",
      "loss: 2.885354  [134080/134204]\n",
      "Test Error: Avg loss: 5.577296 \n",
      "\n",
      "--- 46.95716404914856 seconds ---\n",
      "Epoch 14\n",
      "-------------------------------\n",
      "loss: 2.535362  [    0/134204]\n",
      "loss: 2.841264  [13408/134204]\n",
      "loss: 3.576802  [26816/134204]\n",
      "loss: 3.938875  [40224/134204]\n",
      "loss: 4.002180  [53632/134204]\n",
      "loss: 3.382573  [67040/134204]\n",
      "loss: 2.626497  [80448/134204]\n",
      "loss: 3.529269  [93856/134204]\n",
      "loss: 3.190974  [107264/134204]\n",
      "loss: 4.149366  [120672/134204]\n",
      "loss: 4.014376  [134080/134204]\n",
      "Test Error: Avg loss: 5.631165 \n",
      "\n",
      "--- 46.71240711212158 seconds ---\n",
      "Epoch 15\n",
      "-------------------------------\n",
      "loss: 3.130952  [    0/134204]\n",
      "loss: 4.960969  [13408/134204]\n",
      "loss: 2.977905  [26816/134204]\n",
      "loss: 3.314152  [40224/134204]\n",
      "loss: 3.806993  [53632/134204]\n",
      "loss: 3.904702  [67040/134204]\n",
      "loss: 3.173692  [80448/134204]\n",
      "loss: 3.005947  [93856/134204]\n",
      "loss: 3.637104  [107264/134204]\n",
      "loss: 2.732321  [120672/134204]\n",
      "loss: 3.609849  [134080/134204]\n",
      "Test Error: Avg loss: 5.693097 \n",
      "\n",
      "--- 46.24638795852661 seconds ---\n",
      "Epoch 16\n",
      "-------------------------------\n",
      "loss: 3.454079  [    0/134204]\n",
      "loss: 2.820916  [13408/134204]\n",
      "loss: 3.219845  [26816/134204]\n",
      "loss: 3.547273  [40224/134204]\n",
      "loss: 2.778210  [53632/134204]\n",
      "loss: 3.631234  [67040/134204]\n",
      "loss: 2.086534  [80448/134204]\n",
      "loss: 3.251032  [93856/134204]\n",
      "loss: 3.778137  [107264/134204]\n",
      "loss: 3.491902  [120672/134204]\n",
      "loss: 3.706279  [134080/134204]\n",
      "Test Error: Avg loss: 5.761330 \n",
      "\n",
      "--- 45.48587727546692 seconds ---\n",
      "Epoch 17\n",
      "-------------------------------\n",
      "loss: 2.998919  [    0/134204]\n",
      "loss: 2.259959  [13408/134204]\n",
      "loss: 3.231280  [26816/134204]\n",
      "loss: 3.549780  [40224/134204]\n",
      "loss: 2.622850  [53632/134204]\n",
      "loss: 3.327236  [67040/134204]\n",
      "loss: 2.645628  [80448/134204]\n",
      "loss: 3.111227  [93856/134204]\n",
      "loss: 3.265341  [107264/134204]\n",
      "loss: 3.585813  [120672/134204]\n",
      "loss: 3.972957  [134080/134204]\n",
      "Test Error: Avg loss: 5.835723 \n",
      "\n",
      "--- 46.220746994018555 seconds ---\n",
      "Epoch 18\n",
      "-------------------------------\n",
      "loss: 5.213915  [    0/134204]\n",
      "loss: 4.145413  [13408/134204]\n",
      "loss: 4.375965  [26816/134204]\n"
     ]
    },
    {
     "ename": "KeyboardInterrupt",
     "evalue": "",
     "output_type": "error",
     "traceback": [
      "\u001b[0;31m---------------------------------------------------------------------------\u001b[0m",
      "\u001b[0;31mKeyboardInterrupt\u001b[0m                         Traceback (most recent call last)",
      "\u001b[0;32m/var/folders/2y/kyv2hdc1433f67fbbd7zm9zr0000gn/T/ipykernel_44627/1781026790.py\u001b[0m in \u001b[0;36m<module>\u001b[0;34m\u001b[0m\n\u001b[1;32m      5\u001b[0m     \u001b[0mstart_time\u001b[0m \u001b[0;34m=\u001b[0m \u001b[0mtime\u001b[0m\u001b[0;34m.\u001b[0m\u001b[0mtime\u001b[0m\u001b[0;34m(\u001b[0m\u001b[0;34m)\u001b[0m\u001b[0;34m\u001b[0m\u001b[0;34m\u001b[0m\u001b[0m\n\u001b[1;32m      6\u001b[0m     \u001b[0mprint\u001b[0m\u001b[0;34m(\u001b[0m\u001b[0;34mf\"Epoch {epoch_n+1}\\n-------------------------------\"\u001b[0m\u001b[0;34m)\u001b[0m\u001b[0;34m\u001b[0m\u001b[0;34m\u001b[0m\u001b[0m\n\u001b[0;32m----> 7\u001b[0;31m     \u001b[0mtrain_loss\u001b[0m \u001b[0;34m=\u001b[0m \u001b[0mps_train_loop\u001b[0m\u001b[0;34m(\u001b[0m\u001b[0mps_train_dl\u001b[0m\u001b[0;34m,\u001b[0m \u001b[0mps_model\u001b[0m\u001b[0;34m,\u001b[0m \u001b[0mp_s_loss\u001b[0m\u001b[0;34m,\u001b[0m \u001b[0mps_optimizer\u001b[0m\u001b[0;34m,\u001b[0m \u001b[0mdevice\u001b[0m\u001b[0;34m)\u001b[0m\u001b[0;34m\u001b[0m\u001b[0;34m\u001b[0m\u001b[0m\n\u001b[0m\u001b[1;32m      8\u001b[0m     \u001b[0mval_loss\u001b[0m \u001b[0;34m=\u001b[0m \u001b[0mps_test_loop\u001b[0m\u001b[0;34m(\u001b[0m\u001b[0mps_val_dl\u001b[0m\u001b[0;34m,\u001b[0m \u001b[0mps_model\u001b[0m\u001b[0;34m,\u001b[0m \u001b[0mp_s_loss\u001b[0m\u001b[0;34m,\u001b[0m \u001b[0mdevice\u001b[0m\u001b[0;34m)\u001b[0m\u001b[0;34m\u001b[0m\u001b[0;34m\u001b[0m\u001b[0m\n\u001b[1;32m      9\u001b[0m     \u001b[0mprint\u001b[0m\u001b[0;34m(\u001b[0m\u001b[0;34m\"--- %s seconds ---\"\u001b[0m \u001b[0;34m%\u001b[0m \u001b[0;34m(\u001b[0m\u001b[0mtime\u001b[0m\u001b[0;34m.\u001b[0m\u001b[0mtime\u001b[0m\u001b[0;34m(\u001b[0m\u001b[0;34m)\u001b[0m \u001b[0;34m-\u001b[0m \u001b[0mstart_time\u001b[0m\u001b[0;34m)\u001b[0m\u001b[0;34m)\u001b[0m\u001b[0;34m\u001b[0m\u001b[0;34m\u001b[0m\u001b[0m\n",
      "\u001b[0;32m/var/folders/2y/kyv2hdc1433f67fbbd7zm9zr0000gn/T/ipykernel_44627/194248565.py\u001b[0m in \u001b[0;36mps_train_loop\u001b[0;34m(dataloader, model, loss_fn, optimizer, device)\u001b[0m\n\u001b[1;32m      8\u001b[0m         \u001b[0mmax_len\u001b[0m \u001b[0;34m=\u001b[0m \u001b[0mr\u001b[0m\u001b[0;34m.\u001b[0m\u001b[0msize\u001b[0m\u001b[0;34m(\u001b[0m\u001b[0;36m1\u001b[0m\u001b[0;34m)\u001b[0m\u001b[0;34m\u001b[0m\u001b[0;34m\u001b[0m\u001b[0m\n\u001b[1;32m      9\u001b[0m         \u001b[0mbeta\u001b[0m \u001b[0;34m=\u001b[0m \u001b[0mtorch\u001b[0m\u001b[0;34m.\u001b[0m\u001b[0mrandn\u001b[0m\u001b[0;34m(\u001b[0m\u001b[0mbatch_sz\u001b[0m\u001b[0;34m,\u001b[0m \u001b[0mmax_len\u001b[0m\u001b[0;34m)\u001b[0m\u001b[0;34m.\u001b[0m\u001b[0mto\u001b[0m\u001b[0;34m(\u001b[0m\u001b[0mdevice\u001b[0m\u001b[0;34m)\u001b[0m\u001b[0;34m\u001b[0m\u001b[0;34m\u001b[0m\u001b[0m\n\u001b[0;32m---> 10\u001b[0;31m         \u001b[0mout\u001b[0m \u001b[0;34m=\u001b[0m \u001b[0mmodel\u001b[0m\u001b[0;34m(\u001b[0m\u001b[0mu\u001b[0m\u001b[0;34m,\u001b[0m \u001b[0mr\u001b[0m\u001b[0;34m,\u001b[0m \u001b[0mr_mask\u001b[0m\u001b[0;34m,\u001b[0m \u001b[0ms\u001b[0m\u001b[0;34m,\u001b[0m \u001b[0mbeta\u001b[0m\u001b[0;34m)\u001b[0m\u001b[0;34m\u001b[0m\u001b[0;34m\u001b[0m\u001b[0m\n\u001b[0m\u001b[1;32m     11\u001b[0m         \u001b[0mloss\u001b[0m \u001b[0;34m=\u001b[0m \u001b[0mloss_fn\u001b[0m\u001b[0;34m(\u001b[0m\u001b[0mout\u001b[0m\u001b[0;34m,\u001b[0m \u001b[0ms\u001b[0m\u001b[0;34m)\u001b[0m\u001b[0;34m\u001b[0m\u001b[0;34m\u001b[0m\u001b[0m\n\u001b[1;32m     12\u001b[0m \u001b[0;34m\u001b[0m\u001b[0m\n",
      "\u001b[0;32m~/opt/anaconda3/envs/dl_env/lib/python3.8/site-packages/torch/nn/modules/module.py\u001b[0m in \u001b[0;36m_call_impl\u001b[0;34m(self, *input, **kwargs)\u001b[0m\n\u001b[1;32m   1100\u001b[0m         if not (self._backward_hooks or self._forward_hooks or self._forward_pre_hooks or _global_backward_hooks\n\u001b[1;32m   1101\u001b[0m                 or _global_forward_hooks or _global_forward_pre_hooks):\n\u001b[0;32m-> 1102\u001b[0;31m             \u001b[0;32mreturn\u001b[0m \u001b[0mforward_call\u001b[0m\u001b[0;34m(\u001b[0m\u001b[0;34m*\u001b[0m\u001b[0minput\u001b[0m\u001b[0;34m,\u001b[0m \u001b[0;34m**\u001b[0m\u001b[0mkwargs\u001b[0m\u001b[0;34m)\u001b[0m\u001b[0;34m\u001b[0m\u001b[0;34m\u001b[0m\u001b[0m\n\u001b[0m\u001b[1;32m   1103\u001b[0m         \u001b[0;31m# Do not call functions when jit is used\u001b[0m\u001b[0;34m\u001b[0m\u001b[0;34m\u001b[0m\u001b[0;34m\u001b[0m\u001b[0m\n\u001b[1;32m   1104\u001b[0m         \u001b[0mfull_backward_hooks\u001b[0m\u001b[0;34m,\u001b[0m \u001b[0mnon_full_backward_hooks\u001b[0m \u001b[0;34m=\u001b[0m \u001b[0;34m[\u001b[0m\u001b[0;34m]\u001b[0m\u001b[0;34m,\u001b[0m \u001b[0;34m[\u001b[0m\u001b[0;34m]\u001b[0m\u001b[0;34m\u001b[0m\u001b[0;34m\u001b[0m\u001b[0m\n",
      "\u001b[0;32m/var/folders/2y/kyv2hdc1433f67fbbd7zm9zr0000gn/T/ipykernel_44627/978283042.py\u001b[0m in \u001b[0;36mforward\u001b[0;34m(self, u, r, r_mask, s, beta)\u001b[0m\n\u001b[1;32m     25\u001b[0m \u001b[0;34m\u001b[0m\u001b[0m\n\u001b[1;32m     26\u001b[0m         \u001b[0mu_e\u001b[0m \u001b[0;34m=\u001b[0m \u001b[0mself\u001b[0m\u001b[0;34m.\u001b[0m\u001b[0muser_emb\u001b[0m\u001b[0;34m(\u001b[0m\u001b[0mu\u001b[0m\u001b[0;34m)\u001b[0m\u001b[0;34m\u001b[0m\u001b[0;34m\u001b[0m\u001b[0m\n\u001b[0;32m---> 27\u001b[0;31m         \u001b[0mi_e\u001b[0m \u001b[0;34m=\u001b[0m \u001b[0mself\u001b[0m\u001b[0;34m.\u001b[0m\u001b[0mitem_emb\u001b[0m\u001b[0;34m(\u001b[0m\u001b[0mr\u001b[0m\u001b[0;34m)\u001b[0m\u001b[0;34m\u001b[0m\u001b[0;34m\u001b[0m\u001b[0m\n\u001b[0m\u001b[1;32m     28\u001b[0m         \u001b[0memb_sim\u001b[0m \u001b[0;34m=\u001b[0m \u001b[0mtorch\u001b[0m\u001b[0;34m.\u001b[0m\u001b[0mbmm\u001b[0m\u001b[0;34m(\u001b[0m\u001b[0mu_e\u001b[0m\u001b[0;34m,\u001b[0m \u001b[0mi_e\u001b[0m\u001b[0;34m.\u001b[0m\u001b[0mpermute\u001b[0m\u001b[0;34m(\u001b[0m\u001b[0;36m0\u001b[0m\u001b[0;34m,\u001b[0m\u001b[0;36m2\u001b[0m\u001b[0;34m,\u001b[0m\u001b[0;36m1\u001b[0m\u001b[0;34m)\u001b[0m\u001b[0;34m)\u001b[0m\u001b[0;34m.\u001b[0m\u001b[0msqueeze\u001b[0m\u001b[0;34m(\u001b[0m\u001b[0;34m)\u001b[0m\u001b[0;34m\u001b[0m\u001b[0;34m\u001b[0m\u001b[0m\n\u001b[1;32m     29\u001b[0m \u001b[0;34m\u001b[0m\u001b[0m\n",
      "\u001b[0;32m~/opt/anaconda3/envs/dl_env/lib/python3.8/site-packages/torch/nn/modules/module.py\u001b[0m in \u001b[0;36m_call_impl\u001b[0;34m(self, *input, **kwargs)\u001b[0m\n\u001b[1;32m   1100\u001b[0m         if not (self._backward_hooks or self._forward_hooks or self._forward_pre_hooks or _global_backward_hooks\n\u001b[1;32m   1101\u001b[0m                 or _global_forward_hooks or _global_forward_pre_hooks):\n\u001b[0;32m-> 1102\u001b[0;31m             \u001b[0;32mreturn\u001b[0m \u001b[0mforward_call\u001b[0m\u001b[0;34m(\u001b[0m\u001b[0;34m*\u001b[0m\u001b[0minput\u001b[0m\u001b[0;34m,\u001b[0m \u001b[0;34m**\u001b[0m\u001b[0mkwargs\u001b[0m\u001b[0;34m)\u001b[0m\u001b[0;34m\u001b[0m\u001b[0;34m\u001b[0m\u001b[0m\n\u001b[0m\u001b[1;32m   1103\u001b[0m         \u001b[0;31m# Do not call functions when jit is used\u001b[0m\u001b[0;34m\u001b[0m\u001b[0;34m\u001b[0m\u001b[0;34m\u001b[0m\u001b[0m\n\u001b[1;32m   1104\u001b[0m         \u001b[0mfull_backward_hooks\u001b[0m\u001b[0;34m,\u001b[0m \u001b[0mnon_full_backward_hooks\u001b[0m \u001b[0;34m=\u001b[0m \u001b[0;34m[\u001b[0m\u001b[0;34m]\u001b[0m\u001b[0;34m,\u001b[0m \u001b[0;34m[\u001b[0m\u001b[0;34m]\u001b[0m\u001b[0;34m\u001b[0m\u001b[0;34m\u001b[0m\u001b[0m\n",
      "\u001b[0;32m~/opt/anaconda3/envs/dl_env/lib/python3.8/site-packages/torch/nn/modules/sparse.py\u001b[0m in \u001b[0;36mforward\u001b[0;34m(self, input)\u001b[0m\n\u001b[1;32m    156\u001b[0m \u001b[0;34m\u001b[0m\u001b[0m\n\u001b[1;32m    157\u001b[0m     \u001b[0;32mdef\u001b[0m \u001b[0mforward\u001b[0m\u001b[0;34m(\u001b[0m\u001b[0mself\u001b[0m\u001b[0;34m,\u001b[0m \u001b[0minput\u001b[0m\u001b[0;34m:\u001b[0m \u001b[0mTensor\u001b[0m\u001b[0;34m)\u001b[0m \u001b[0;34m->\u001b[0m \u001b[0mTensor\u001b[0m\u001b[0;34m:\u001b[0m\u001b[0;34m\u001b[0m\u001b[0;34m\u001b[0m\u001b[0m\n\u001b[0;32m--> 158\u001b[0;31m         return F.embedding(\n\u001b[0m\u001b[1;32m    159\u001b[0m             \u001b[0minput\u001b[0m\u001b[0;34m,\u001b[0m \u001b[0mself\u001b[0m\u001b[0;34m.\u001b[0m\u001b[0mweight\u001b[0m\u001b[0;34m,\u001b[0m \u001b[0mself\u001b[0m\u001b[0;34m.\u001b[0m\u001b[0mpadding_idx\u001b[0m\u001b[0;34m,\u001b[0m \u001b[0mself\u001b[0m\u001b[0;34m.\u001b[0m\u001b[0mmax_norm\u001b[0m\u001b[0;34m,\u001b[0m\u001b[0;34m\u001b[0m\u001b[0;34m\u001b[0m\u001b[0m\n\u001b[1;32m    160\u001b[0m             self.norm_type, self.scale_grad_by_freq, self.sparse)\n",
      "\u001b[0;32m~/opt/anaconda3/envs/dl_env/lib/python3.8/site-packages/torch/nn/functional.py\u001b[0m in \u001b[0;36membedding\u001b[0;34m(input, weight, padding_idx, max_norm, norm_type, scale_grad_by_freq, sparse)\u001b[0m\n\u001b[1;32m   2042\u001b[0m         \u001b[0;31m# remove once script supports set_grad_enabled\u001b[0m\u001b[0;34m\u001b[0m\u001b[0;34m\u001b[0m\u001b[0;34m\u001b[0m\u001b[0m\n\u001b[1;32m   2043\u001b[0m         \u001b[0m_no_grad_embedding_renorm_\u001b[0m\u001b[0;34m(\u001b[0m\u001b[0mweight\u001b[0m\u001b[0;34m,\u001b[0m \u001b[0minput\u001b[0m\u001b[0;34m,\u001b[0m \u001b[0mmax_norm\u001b[0m\u001b[0;34m,\u001b[0m \u001b[0mnorm_type\u001b[0m\u001b[0;34m)\u001b[0m\u001b[0;34m\u001b[0m\u001b[0;34m\u001b[0m\u001b[0m\n\u001b[0;32m-> 2044\u001b[0;31m     \u001b[0;32mreturn\u001b[0m \u001b[0mtorch\u001b[0m\u001b[0;34m.\u001b[0m\u001b[0membedding\u001b[0m\u001b[0;34m(\u001b[0m\u001b[0mweight\u001b[0m\u001b[0;34m,\u001b[0m \u001b[0minput\u001b[0m\u001b[0;34m,\u001b[0m \u001b[0mpadding_idx\u001b[0m\u001b[0;34m,\u001b[0m \u001b[0mscale_grad_by_freq\u001b[0m\u001b[0;34m,\u001b[0m \u001b[0msparse\u001b[0m\u001b[0;34m)\u001b[0m\u001b[0;34m\u001b[0m\u001b[0;34m\u001b[0m\u001b[0m\n\u001b[0m\u001b[1;32m   2045\u001b[0m \u001b[0;34m\u001b[0m\u001b[0m\n\u001b[1;32m   2046\u001b[0m \u001b[0;34m\u001b[0m\u001b[0m\n",
      "\u001b[0;31mKeyboardInterrupt\u001b[0m: "
     ]
    }
   ],
   "source": [
    "start_epoch = 0\n",
    "end_epoch = 100\n",
    "\n",
    "for epoch_n in range(start_epoch, end_epoch):\n",
    "    start_time = time.time()\n",
    "    print(f\"Epoch {epoch_n+1}\\n-------------------------------\")\n",
    "    train_loss = ps_train_loop(ps_train_dl, ps_model, p_s_loss, ps_optimizer, device)\n",
    "    val_loss = ps_test_loop(ps_val_dl, ps_model, p_s_loss, device)\n",
    "    print(\"--- %s seconds ---\" % (time.time() - start_time))\n",
    "    \n",
    "    ps_loss_d['epoch'].append(epoch_n)\n",
    "    ps_loss_d['train'].append(train_loss)\n",
    "    ps_loss_d['val'].append(val_loss)\n",
    "    if epoch_n % 3 == 0:\n",
    "        torch.save(ps_model.state_dict(), ps_save_path)\n",
    "        pd.DataFrame(ps_loss_d).to_csv(ps_loss_save_path, index=False)\n",
    "torch.save(ps_model.state_dict(), ps_save_path)\n",
    "pd.DataFrame(ps_loss_d).to_csv(ps_loss_save_path, index=False)"
   ]
  },
  {
   "cell_type": "code",
   "execution_count": 556,
   "metadata": {},
   "outputs": [
    {
     "data": {
      "text/plain": [
       "(0.0, 11.0)"
      ]
     },
     "execution_count": 556,
     "metadata": {},
     "output_type": "execute_result"
    },
    {
     "data": {
      "image/png": "[encoded data removed]",
      "text/plain": [
       "<Figure size 432x288 with 1 Axes>"
      ]
     },
     "metadata": {
      "needs_background": "light"
     },
     "output_type": "display_data"
    }
   ],
   "source": [
    "import seaborn as sns\n",
    "ps_model_loss = pd.DataFrame(ps_loss_d)\n",
    "aux_df = pd.DataFrame(index=ps_model_loss.index)\n",
    "aux_df['Época'] = ps_model_loss['epoch']\n",
    "aux_df['Treino'] = ps_model_loss['train']\n",
    "aux_df['Validação'] = ps_model_loss['val']\n",
    "aux_df = aux_df.set_index('Época')\n",
    "ax = sns.lineplot(data=aux_df, dashes=False)\n",
    "ax.set(xlabel='Época', ylabel='Loss')\n",
    "ax.set_ylim([0.0, 11])"
   ]
  },
  {
   "cell_type": "markdown",
   "metadata": {},
   "source": [
    "# P_S effective\n",
    "\n",
    "Classficacao binaria\n",
    "Recebe u e item e classifica como selecionar ou nao\n",
    "Pos: s\n",
    "Neg: em r mas nao em s"
   ]
  },
  {
   "cell_type": "code",
   "execution_count": 594,
   "metadata": {},
   "outputs": [],
   "source": [
    "import random\n",
    "class P_Se_Dataset(Dataset):\n",
    "    def __init__(self, df, user_d, item_d):\n",
    "        \"\"\"\n",
    "        Recebe um DataFrame com as colunas ['UserID', 'R', 'S']\n",
    "        UserID: ids de usuario\n",
    "        R: listas de ids de itens recomendados a U\n",
    "        S: listas de ids de itens de R escolhidos por U\n",
    "        \n",
    "        user_d: dicionario que mapeia de id de usuário para numero inteiro, sendo que 0 é PAD\n",
    "        item_d: dicionario que mapeia de id de item para numero inteiro, sendo que 0 é PAD\n",
    "        \"\"\"\n",
    "        super().__init__()\n",
    "        # Transformar os codigos de item e usuario em indices inteiros. 0 eh PADDING\n",
    "        self.user_d = user_d\n",
    "        self.item_d = item_d\n",
    "        \n",
    "        r_ser = df.groupby('UserID').apply(lambda x: \" \".join(x['R']).split())\n",
    "        s_ser = df.groupby('UserID').apply(lambda x: \" \".join(x['S']).split())\n",
    "        \n",
    "        aux_df = pd.DataFrame(index=r_ser.index)\n",
    "        aux_df['R'] = r_ser\n",
    "        aux_df['S'] = s_ser\n",
    "        aux_df['Neg'] = aux_df.apply(lambda x: set(x['R']) - set(x['S']), axis=1)\n",
    "        \n",
    "        aux_df['u'] = aux_df.apply(lambda x: user_d[x.name], axis=1)\n",
    "        aux_df['pos'] = aux_df['S'].apply(lambda x: [item_d[i] for i in x])\n",
    "        aux_df['neg'] = aux_df['Neg'].apply(lambda x: [item_d[i] for i in x])\n",
    "        \n",
    "        df_d = {'u':[], 'i':[], 'y':[]}    \n",
    "        for row in aux_df.iterrows():\n",
    "            row = row[1]\n",
    "            u = row['u']\n",
    "            for i in row['pos']:\n",
    "                df_d['u'].append(u)\n",
    "                df_d['i'].append(i)\n",
    "                df_d['y'].append(1)\n",
    "            for i in row['neg']:\n",
    "                df_d['u'].append(u)\n",
    "                df_d['i'].append(i)\n",
    "                df_d['y'].append(0)\n",
    "        self.df = pd.DataFrame(df_d)\n",
    "    \n",
    "    def __getitem__(self, idx):\n",
    "        return self.df['u'].iloc[idx], self.df['i'].iloc[idx], self.df['y'].iloc[idx]\n",
    "    \n",
    "    def __len__(self):\n",
    "        return len(self.df)"
   ]
  },
  {
   "cell_type": "code",
   "execution_count": 608,
   "metadata": {},
   "outputs": [],
   "source": [
    "def pse_train_loop(dataloader, model, loss_fn, optimizer, device, max_batch):\n",
    "    agg_loss = 0.0\n",
    "    num_samples = 0\n",
    "    size = len(dataloader.dataset)\n",
    "    for batch, (u, it, y) in enumerate(dataloader):\n",
    "        if batch >= max_batch: break\n",
    "        \n",
    "        u, it, y = u.to(device), it.to(device), y.to(device)\n",
    "        batch_sz = u.size(0)\n",
    "        \n",
    "        beta = torch.randn(batch_sz).to(device)\n",
    "        out = model(u, it, beta)\n",
    "        loss = loss_fn(out, y.float())\n",
    "\n",
    "        # Backpropagation\n",
    "        optimizer.zero_grad()\n",
    "        loss.backward()\n",
    "        optimizer.step()\n",
    "        \n",
    "        agg_loss += loss.item()\n",
    "        num_samples += batch_sz\n",
    "        if batch % (max_batch//10) == 0:\n",
    "            loss, current = loss.item() / batch_sz, batch * len(u)\n",
    "            print(f\"loss: {loss:>7f}  [{current:>5d}/{size:>5d}]\")\n",
    "    return agg_loss / num_samples\n",
    "\n",
    "def pse_test_loop(dataloader, model, loss_fn, device, max_batch):\n",
    "    size = len(dataloader.dataset)\n",
    "    num_samples = 0\n",
    "    test_loss, correct = 0, 0\n",
    "\n",
    "    with torch.no_grad():\n",
    "        for batch, (u, it, y) in enumerate(dataloader):\n",
    "            if batch >= max_batch: break\n",
    "            u, it, y = u.to(device), it.to(device), y.to(device)\n",
    "            batch_sz = u.size(0)\n",
    "        \n",
    "            beta = torch.randn(batch_sz).to(device)\n",
    "            out = model(u, it, beta)\n",
    "            \n",
    "            test_loss += loss_fn(out, y.float()).item()\n",
    "            num_samples += batch_sz\n",
    "\n",
    "    print(f\"Test Error: Avg loss: {(test_loss/num_samples):>8f} \\n\")\n",
    "    return test_loss / num_samples"
   ]
  },
  {
   "cell_type": "code",
   "execution_count": 611,
   "metadata": {},
   "outputs": [
    {
     "name": "stdout",
     "output_type": "stream",
     "text": [
      "CPU times: user 15.7 s, sys: 882 ms, total: 16.6 s\n",
      "Wall time: 17.2 s\n"
     ]
    }
   ],
   "source": [
    "%%time\n",
    "batch_size = 32\n",
    "pse_train_ds = P_Se_Dataset(train_df, user_d, item_d)\n",
    "pse_train_dl = DataLoader(pse_train_ds, batch_size=batch_size, shuffle=True)\n",
    "\n",
    "pse_val_ds = P_Se_Dataset(val_df, user_d, item_d)\n",
    "pse_val_dl = DataLoader(pse_val_ds, batch_size=batch_size, shuffle=True)"
   ]
  },
  {
   "cell_type": "code",
   "execution_count": 618,
   "metadata": {},
   "outputs": [
    {
     "name": "stdout",
     "output_type": "stream",
     "text": [
      "PSE:\n",
      "w torch.Size([19762])\n",
      "Cuda =  False\n",
      "user_emb.weight torch.Size([47372, 16])\n",
      "Cuda =  False\n",
      "item_emb.weight torch.Size([19762, 16])\n",
      "Cuda =  False\n"
     ]
    }
   ],
   "source": [
    "pse_model = P_Re_Network(len(user_d)+1, len(item_d)+1, emb_dim=16)\n",
    "pse_model = pse_model.to(device)\n",
    "# Parametros\n",
    "print('PSE:')\n",
    "for name, param in pse_model.named_parameters():\n",
    "    if param.requires_grad:\n",
    "        print(name, param.data.size())\n",
    "        print('Cuda = ', param.is_cuda)"
   ]
  },
  {
   "cell_type": "code",
   "execution_count": 619,
   "metadata": {},
   "outputs": [],
   "source": [
    "pse_save_path = 'pse_model.pth'\n",
    "pse_loss_save_path = 'pse_loss.csv'\n",
    "pse_loss_d = {'epoch': [], 'train':[], 'val':[]}\n",
    "learning_rate = 1e-3\n",
    "pse_optimizer = torch.optim.Adam(pse_model.parameters(), lr=learning_rate)\n",
    "\n",
    "pse_loss = nn.BCEWithLogitsLoss(reduction='sum', pos_weight=torch.tensor([20.54]))"
   ]
  },
  {
   "cell_type": "code",
   "execution_count": 622,
   "metadata": {
    "scrolled": true
   },
   "outputs": [
    {
     "name": "stdout",
     "output_type": "stream",
     "text": [
      "Epoch 31\n",
      "-------------------------------\n",
      "loss: 1.127685  [    0/4352788]\n",
      "loss: 2.698513  [16000/4352788]\n",
      "loss: 2.273998  [32000/4352788]\n",
      "loss: 0.730098  [48000/4352788]\n",
      "loss: 0.639140  [64000/4352788]\n",
      "loss: 0.351657  [80000/4352788]\n",
      "loss: 1.095030  [96000/4352788]\n",
      "loss: 0.376414  [112000/4352788]\n",
      "loss: 4.033424  [128000/4352788]\n",
      "loss: 1.031061  [144000/4352788]\n",
      "Test Error: Avg loss: 1.604960 \n",
      "\n",
      "--- 56.72748303413391 seconds ---\n",
      "Epoch 32\n",
      "-------------------------------\n",
      "loss: 2.794420  [    0/4352788]\n",
      "loss: 0.326243  [16000/4352788]\n",
      "loss: 0.394947  [32000/4352788]\n",
      "loss: 4.481590  [48000/4352788]\n",
      "loss: 0.735965  [64000/4352788]\n",
      "loss: 0.549798  [80000/4352788]\n",
      "loss: 1.321179  [96000/4352788]\n",
      "loss: 3.640697  [112000/4352788]\n",
      "loss: 0.694832  [128000/4352788]\n",
      "loss: 0.525276  [144000/4352788]\n",
      "Test Error: Avg loss: 1.500061 \n",
      "\n",
      "--- 54.04053020477295 seconds ---\n",
      "Epoch 33\n",
      "-------------------------------\n",
      "loss: 1.194293  [    0/4352788]\n",
      "loss: 1.451229  [16000/4352788]\n",
      "loss: 1.024484  [32000/4352788]\n",
      "loss: 0.433318  [48000/4352788]\n",
      "loss: 0.371206  [64000/4352788]\n",
      "loss: 0.920315  [80000/4352788]\n",
      "loss: 3.221814  [96000/4352788]\n",
      "loss: 0.812734  [112000/4352788]\n",
      "loss: 1.833662  [128000/4352788]\n",
      "loss: 2.496358  [144000/4352788]\n",
      "Test Error: Avg loss: 1.588520 \n",
      "\n",
      "--- 56.6447069644928 seconds ---\n",
      "Epoch 34\n",
      "-------------------------------\n",
      "loss: 2.221021  [    0/4352788]\n",
      "loss: 2.178586  [16000/4352788]\n",
      "loss: 0.715878  [32000/4352788]\n",
      "loss: 0.944823  [48000/4352788]\n",
      "loss: 2.141294  [64000/4352788]\n",
      "loss: 1.212098  [80000/4352788]\n",
      "loss: 2.500444  [96000/4352788]\n",
      "loss: 0.650061  [112000/4352788]\n",
      "loss: 2.418317  [128000/4352788]\n",
      "loss: 3.189527  [144000/4352788]\n",
      "Test Error: Avg loss: 1.579539 \n",
      "\n",
      "--- 56.320826053619385 seconds ---\n",
      "Epoch 35\n",
      "-------------------------------\n",
      "loss: 0.223503  [    0/4352788]\n",
      "loss: 5.930278  [16000/4352788]\n",
      "loss: 0.726525  [32000/4352788]\n",
      "loss: 4.595997  [48000/4352788]\n",
      "loss: 4.342996  [64000/4352788]\n",
      "loss: 0.343911  [80000/4352788]\n",
      "loss: 2.599309  [96000/4352788]\n",
      "loss: 0.430627  [112000/4352788]\n",
      "loss: 3.201572  [128000/4352788]\n",
      "loss: 4.014837  [144000/4352788]\n",
      "Test Error: Avg loss: 1.654011 \n",
      "\n",
      "--- 55.68958497047424 seconds ---\n",
      "Epoch 36\n",
      "-------------------------------\n",
      "loss: 0.854173  [    0/4352788]\n",
      "loss: 0.908815  [16000/4352788]\n",
      "loss: 0.223187  [32000/4352788]\n",
      "loss: 0.255539  [48000/4352788]\n",
      "loss: 0.278934  [64000/4352788]\n",
      "loss: 1.622792  [80000/4352788]\n",
      "loss: 1.096845  [96000/4352788]\n",
      "loss: 0.956441  [112000/4352788]\n",
      "loss: 0.413351  [128000/4352788]\n",
      "loss: 6.196630  [144000/4352788]\n",
      "Test Error: Avg loss: 1.732952 \n",
      "\n",
      "--- 58.05726385116577 seconds ---\n",
      "Epoch 37\n",
      "-------------------------------\n",
      "loss: 1.259933  [    0/4352788]\n",
      "loss: 7.727647  [16000/4352788]\n",
      "loss: 5.117939  [32000/4352788]\n",
      "loss: 5.952921  [48000/4352788]\n",
      "loss: 7.439932  [64000/4352788]\n",
      "loss: 0.653401  [80000/4352788]\n",
      "loss: 1.833752  [96000/4352788]\n",
      "loss: 0.518373  [112000/4352788]\n",
      "loss: 1.818661  [128000/4352788]\n",
      "loss: 0.858292  [144000/4352788]\n",
      "Test Error: Avg loss: 1.671507 \n",
      "\n",
      "--- 57.111583948135376 seconds ---\n",
      "Epoch 38\n",
      "-------------------------------\n",
      "loss: 0.848518  [    0/4352788]\n",
      "loss: 1.023275  [16000/4352788]\n",
      "loss: 1.025465  [32000/4352788]\n"
     ]
    },
    {
     "ename": "KeyboardInterrupt",
     "evalue": "",
     "output_type": "error",
     "traceback": [
      "\u001b[0;31m---------------------------------------------------------------------------\u001b[0m",
      "\u001b[0;31mKeyboardInterrupt\u001b[0m                         Traceback (most recent call last)",
      "\u001b[0;32m/var/folders/2y/kyv2hdc1433f67fbbd7zm9zr0000gn/T/ipykernel_44627/3209037029.py\u001b[0m in \u001b[0;36m<module>\u001b[0;34m\u001b[0m\n\u001b[1;32m      5\u001b[0m     \u001b[0mstart_time\u001b[0m \u001b[0;34m=\u001b[0m \u001b[0mtime\u001b[0m\u001b[0;34m.\u001b[0m\u001b[0mtime\u001b[0m\u001b[0;34m(\u001b[0m\u001b[0;34m)\u001b[0m\u001b[0;34m\u001b[0m\u001b[0;34m\u001b[0m\u001b[0m\n\u001b[1;32m      6\u001b[0m     \u001b[0mprint\u001b[0m\u001b[0;34m(\u001b[0m\u001b[0;34mf\"Epoch {epoch_n+1}\\n-------------------------------\"\u001b[0m\u001b[0;34m)\u001b[0m\u001b[0;34m\u001b[0m\u001b[0;34m\u001b[0m\u001b[0m\n\u001b[0;32m----> 7\u001b[0;31m     \u001b[0mtrain_loss\u001b[0m \u001b[0;34m=\u001b[0m \u001b[0mpse_train_loop\u001b[0m\u001b[0;34m(\u001b[0m\u001b[0mpse_train_dl\u001b[0m\u001b[0;34m,\u001b[0m \u001b[0mpse_model\u001b[0m\u001b[0;34m,\u001b[0m \u001b[0mpse_loss\u001b[0m\u001b[0;34m,\u001b[0m \u001b[0mpse_optimizer\u001b[0m\u001b[0;34m,\u001b[0m \u001b[0mdevice\u001b[0m\u001b[0;34m,\u001b[0m \u001b[0;36m5000\u001b[0m\u001b[0;34m)\u001b[0m\u001b[0;34m\u001b[0m\u001b[0;34m\u001b[0m\u001b[0m\n\u001b[0m\u001b[1;32m      8\u001b[0m     \u001b[0mval_loss\u001b[0m \u001b[0;34m=\u001b[0m \u001b[0mpse_test_loop\u001b[0m\u001b[0;34m(\u001b[0m\u001b[0mpse_val_dl\u001b[0m\u001b[0;34m,\u001b[0m \u001b[0mpse_model\u001b[0m\u001b[0;34m,\u001b[0m \u001b[0mpse_loss\u001b[0m\u001b[0;34m,\u001b[0m \u001b[0mdevice\u001b[0m\u001b[0;34m,\u001b[0m \u001b[0;36m500\u001b[0m\u001b[0;34m)\u001b[0m\u001b[0;34m\u001b[0m\u001b[0;34m\u001b[0m\u001b[0m\n\u001b[1;32m      9\u001b[0m     \u001b[0mprint\u001b[0m\u001b[0;34m(\u001b[0m\u001b[0;34m\"--- %s seconds ---\"\u001b[0m \u001b[0;34m%\u001b[0m \u001b[0;34m(\u001b[0m\u001b[0mtime\u001b[0m\u001b[0;34m.\u001b[0m\u001b[0mtime\u001b[0m\u001b[0;34m(\u001b[0m\u001b[0;34m)\u001b[0m \u001b[0;34m-\u001b[0m \u001b[0mstart_time\u001b[0m\u001b[0;34m)\u001b[0m\u001b[0;34m)\u001b[0m\u001b[0;34m\u001b[0m\u001b[0;34m\u001b[0m\u001b[0m\n",
      "\u001b[0;32m/var/folders/2y/kyv2hdc1433f67fbbd7zm9zr0000gn/T/ipykernel_44627/3546623439.py\u001b[0m in \u001b[0;36mpse_train_loop\u001b[0;34m(dataloader, model, loss_fn, optimizer, device, max_batch)\u001b[0m\n\u001b[1;32m      3\u001b[0m     \u001b[0mnum_samples\u001b[0m \u001b[0;34m=\u001b[0m \u001b[0;36m0\u001b[0m\u001b[0;34m\u001b[0m\u001b[0;34m\u001b[0m\u001b[0m\n\u001b[1;32m      4\u001b[0m     \u001b[0msize\u001b[0m \u001b[0;34m=\u001b[0m \u001b[0mlen\u001b[0m\u001b[0;34m(\u001b[0m\u001b[0mdataloader\u001b[0m\u001b[0;34m.\u001b[0m\u001b[0mdataset\u001b[0m\u001b[0;34m)\u001b[0m\u001b[0;34m\u001b[0m\u001b[0;34m\u001b[0m\u001b[0m\n\u001b[0;32m----> 5\u001b[0;31m     \u001b[0;32mfor\u001b[0m \u001b[0mbatch\u001b[0m\u001b[0;34m,\u001b[0m \u001b[0;34m(\u001b[0m\u001b[0mu\u001b[0m\u001b[0;34m,\u001b[0m \u001b[0mit\u001b[0m\u001b[0;34m,\u001b[0m \u001b[0my\u001b[0m\u001b[0;34m)\u001b[0m \u001b[0;32min\u001b[0m \u001b[0menumerate\u001b[0m\u001b[0;34m(\u001b[0m\u001b[0mdataloader\u001b[0m\u001b[0;34m)\u001b[0m\u001b[0;34m:\u001b[0m\u001b[0;34m\u001b[0m\u001b[0;34m\u001b[0m\u001b[0m\n\u001b[0m\u001b[1;32m      6\u001b[0m         \u001b[0;32mif\u001b[0m \u001b[0mbatch\u001b[0m \u001b[0;34m>=\u001b[0m \u001b[0mmax_batch\u001b[0m\u001b[0;34m:\u001b[0m \u001b[0;32mbreak\u001b[0m\u001b[0;34m\u001b[0m\u001b[0;34m\u001b[0m\u001b[0m\n\u001b[1;32m      7\u001b[0m \u001b[0;34m\u001b[0m\u001b[0m\n",
      "\u001b[0;32m~/opt/anaconda3/envs/dl_env/lib/python3.8/site-packages/torch/utils/data/dataloader.py\u001b[0m in \u001b[0;36m__next__\u001b[0;34m(self)\u001b[0m\n\u001b[1;32m    519\u001b[0m             \u001b[0;32mif\u001b[0m \u001b[0mself\u001b[0m\u001b[0;34m.\u001b[0m\u001b[0m_sampler_iter\u001b[0m \u001b[0;32mis\u001b[0m \u001b[0;32mNone\u001b[0m\u001b[0;34m:\u001b[0m\u001b[0;34m\u001b[0m\u001b[0;34m\u001b[0m\u001b[0m\n\u001b[1;32m    520\u001b[0m                 \u001b[0mself\u001b[0m\u001b[0;34m.\u001b[0m\u001b[0m_reset\u001b[0m\u001b[0;34m(\u001b[0m\u001b[0;34m)\u001b[0m\u001b[0;34m\u001b[0m\u001b[0;34m\u001b[0m\u001b[0m\n\u001b[0;32m--> 521\u001b[0;31m             \u001b[0mdata\u001b[0m \u001b[0;34m=\u001b[0m \u001b[0mself\u001b[0m\u001b[0;34m.\u001b[0m\u001b[0m_next_data\u001b[0m\u001b[0;34m(\u001b[0m\u001b[0;34m)\u001b[0m\u001b[0;34m\u001b[0m\u001b[0;34m\u001b[0m\u001b[0m\n\u001b[0m\u001b[1;32m    522\u001b[0m             \u001b[0mself\u001b[0m\u001b[0;34m.\u001b[0m\u001b[0m_num_yielded\u001b[0m \u001b[0;34m+=\u001b[0m \u001b[0;36m1\u001b[0m\u001b[0;34m\u001b[0m\u001b[0;34m\u001b[0m\u001b[0m\n\u001b[1;32m    523\u001b[0m             \u001b[0;32mif\u001b[0m \u001b[0mself\u001b[0m\u001b[0;34m.\u001b[0m\u001b[0m_dataset_kind\u001b[0m \u001b[0;34m==\u001b[0m \u001b[0m_DatasetKind\u001b[0m\u001b[0;34m.\u001b[0m\u001b[0mIterable\u001b[0m \u001b[0;32mand\u001b[0m\u001b[0;31m \u001b[0m\u001b[0;31m\\\u001b[0m\u001b[0;34m\u001b[0m\u001b[0;34m\u001b[0m\u001b[0m\n",
      "\u001b[0;32m~/opt/anaconda3/envs/dl_env/lib/python3.8/site-packages/torch/utils/data/dataloader.py\u001b[0m in \u001b[0;36m_next_data\u001b[0;34m(self)\u001b[0m\n\u001b[1;32m    559\u001b[0m     \u001b[0;32mdef\u001b[0m \u001b[0m_next_data\u001b[0m\u001b[0;34m(\u001b[0m\u001b[0mself\u001b[0m\u001b[0;34m)\u001b[0m\u001b[0;34m:\u001b[0m\u001b[0;34m\u001b[0m\u001b[0;34m\u001b[0m\u001b[0m\n\u001b[1;32m    560\u001b[0m         \u001b[0mindex\u001b[0m \u001b[0;34m=\u001b[0m \u001b[0mself\u001b[0m\u001b[0;34m.\u001b[0m\u001b[0m_next_index\u001b[0m\u001b[0;34m(\u001b[0m\u001b[0;34m)\u001b[0m  \u001b[0;31m# may raise StopIteration\u001b[0m\u001b[0;34m\u001b[0m\u001b[0;34m\u001b[0m\u001b[0m\n\u001b[0;32m--> 561\u001b[0;31m         \u001b[0mdata\u001b[0m \u001b[0;34m=\u001b[0m \u001b[0mself\u001b[0m\u001b[0;34m.\u001b[0m\u001b[0m_dataset_fetcher\u001b[0m\u001b[0;34m.\u001b[0m\u001b[0mfetch\u001b[0m\u001b[0;34m(\u001b[0m\u001b[0mindex\u001b[0m\u001b[0;34m)\u001b[0m  \u001b[0;31m# may raise StopIteration\u001b[0m\u001b[0;34m\u001b[0m\u001b[0;34m\u001b[0m\u001b[0m\n\u001b[0m\u001b[1;32m    562\u001b[0m         \u001b[0;32mif\u001b[0m \u001b[0mself\u001b[0m\u001b[0;34m.\u001b[0m\u001b[0m_pin_memory\u001b[0m\u001b[0;34m:\u001b[0m\u001b[0;34m\u001b[0m\u001b[0;34m\u001b[0m\u001b[0m\n\u001b[1;32m    563\u001b[0m             \u001b[0mdata\u001b[0m \u001b[0;34m=\u001b[0m \u001b[0m_utils\u001b[0m\u001b[0;34m.\u001b[0m\u001b[0mpin_memory\u001b[0m\u001b[0;34m.\u001b[0m\u001b[0mpin_memory\u001b[0m\u001b[0;34m(\u001b[0m\u001b[0mdata\u001b[0m\u001b[0;34m)\u001b[0m\u001b[0;34m\u001b[0m\u001b[0;34m\u001b[0m\u001b[0m\n",
      "\u001b[0;32m~/opt/anaconda3/envs/dl_env/lib/python3.8/site-packages/torch/utils/data/_utils/fetch.py\u001b[0m in \u001b[0;36mfetch\u001b[0;34m(self, possibly_batched_index)\u001b[0m\n\u001b[1;32m     47\u001b[0m     \u001b[0;32mdef\u001b[0m \u001b[0mfetch\u001b[0m\u001b[0;34m(\u001b[0m\u001b[0mself\u001b[0m\u001b[0;34m,\u001b[0m \u001b[0mpossibly_batched_index\u001b[0m\u001b[0;34m)\u001b[0m\u001b[0;34m:\u001b[0m\u001b[0;34m\u001b[0m\u001b[0;34m\u001b[0m\u001b[0m\n\u001b[1;32m     48\u001b[0m         \u001b[0;32mif\u001b[0m \u001b[0mself\u001b[0m\u001b[0;34m.\u001b[0m\u001b[0mauto_collation\u001b[0m\u001b[0;34m:\u001b[0m\u001b[0;34m\u001b[0m\u001b[0;34m\u001b[0m\u001b[0m\n\u001b[0;32m---> 49\u001b[0;31m             \u001b[0mdata\u001b[0m \u001b[0;34m=\u001b[0m \u001b[0;34m[\u001b[0m\u001b[0mself\u001b[0m\u001b[0;34m.\u001b[0m\u001b[0mdataset\u001b[0m\u001b[0;34m[\u001b[0m\u001b[0midx\u001b[0m\u001b[0;34m]\u001b[0m \u001b[0;32mfor\u001b[0m \u001b[0midx\u001b[0m \u001b[0;32min\u001b[0m \u001b[0mpossibly_batched_index\u001b[0m\u001b[0;34m]\u001b[0m\u001b[0;34m\u001b[0m\u001b[0;34m\u001b[0m\u001b[0m\n\u001b[0m\u001b[1;32m     50\u001b[0m         \u001b[0;32melse\u001b[0m\u001b[0;34m:\u001b[0m\u001b[0;34m\u001b[0m\u001b[0;34m\u001b[0m\u001b[0m\n\u001b[1;32m     51\u001b[0m             \u001b[0mdata\u001b[0m \u001b[0;34m=\u001b[0m \u001b[0mself\u001b[0m\u001b[0;34m.\u001b[0m\u001b[0mdataset\u001b[0m\u001b[0;34m[\u001b[0m\u001b[0mpossibly_batched_index\u001b[0m\u001b[0;34m]\u001b[0m\u001b[0;34m\u001b[0m\u001b[0;34m\u001b[0m\u001b[0m\n",
      "\u001b[0;32m~/opt/anaconda3/envs/dl_env/lib/python3.8/site-packages/torch/utils/data/_utils/fetch.py\u001b[0m in \u001b[0;36m<listcomp>\u001b[0;34m(.0)\u001b[0m\n\u001b[1;32m     47\u001b[0m     \u001b[0;32mdef\u001b[0m \u001b[0mfetch\u001b[0m\u001b[0;34m(\u001b[0m\u001b[0mself\u001b[0m\u001b[0;34m,\u001b[0m \u001b[0mpossibly_batched_index\u001b[0m\u001b[0;34m)\u001b[0m\u001b[0;34m:\u001b[0m\u001b[0;34m\u001b[0m\u001b[0;34m\u001b[0m\u001b[0m\n\u001b[1;32m     48\u001b[0m         \u001b[0;32mif\u001b[0m \u001b[0mself\u001b[0m\u001b[0;34m.\u001b[0m\u001b[0mauto_collation\u001b[0m\u001b[0;34m:\u001b[0m\u001b[0;34m\u001b[0m\u001b[0;34m\u001b[0m\u001b[0m\n\u001b[0;32m---> 49\u001b[0;31m             \u001b[0mdata\u001b[0m \u001b[0;34m=\u001b[0m \u001b[0;34m[\u001b[0m\u001b[0mself\u001b[0m\u001b[0;34m.\u001b[0m\u001b[0mdataset\u001b[0m\u001b[0;34m[\u001b[0m\u001b[0midx\u001b[0m\u001b[0;34m]\u001b[0m \u001b[0;32mfor\u001b[0m \u001b[0midx\u001b[0m \u001b[0;32min\u001b[0m \u001b[0mpossibly_batched_index\u001b[0m\u001b[0;34m]\u001b[0m\u001b[0;34m\u001b[0m\u001b[0;34m\u001b[0m\u001b[0m\n\u001b[0m\u001b[1;32m     50\u001b[0m         \u001b[0;32melse\u001b[0m\u001b[0;34m:\u001b[0m\u001b[0;34m\u001b[0m\u001b[0;34m\u001b[0m\u001b[0m\n\u001b[1;32m     51\u001b[0m             \u001b[0mdata\u001b[0m \u001b[0;34m=\u001b[0m \u001b[0mself\u001b[0m\u001b[0;34m.\u001b[0m\u001b[0mdataset\u001b[0m\u001b[0;34m[\u001b[0m\u001b[0mpossibly_batched_index\u001b[0m\u001b[0;34m]\u001b[0m\u001b[0;34m\u001b[0m\u001b[0;34m\u001b[0m\u001b[0m\n",
      "\u001b[0;32m/var/folders/2y/kyv2hdc1433f67fbbd7zm9zr0000gn/T/ipykernel_44627/695594562.py\u001b[0m in \u001b[0;36m__getitem__\u001b[0;34m(self, idx)\u001b[0m\n\u001b[1;32m     43\u001b[0m \u001b[0;34m\u001b[0m\u001b[0m\n\u001b[1;32m     44\u001b[0m     \u001b[0;32mdef\u001b[0m \u001b[0m__getitem__\u001b[0m\u001b[0;34m(\u001b[0m\u001b[0mself\u001b[0m\u001b[0;34m,\u001b[0m \u001b[0midx\u001b[0m\u001b[0;34m)\u001b[0m\u001b[0;34m:\u001b[0m\u001b[0;34m\u001b[0m\u001b[0;34m\u001b[0m\u001b[0m\n\u001b[0;32m---> 45\u001b[0;31m         \u001b[0;32mreturn\u001b[0m \u001b[0mself\u001b[0m\u001b[0;34m.\u001b[0m\u001b[0mdf\u001b[0m\u001b[0;34m[\u001b[0m\u001b[0;34m'u'\u001b[0m\u001b[0;34m]\u001b[0m\u001b[0;34m.\u001b[0m\u001b[0miloc\u001b[0m\u001b[0;34m[\u001b[0m\u001b[0midx\u001b[0m\u001b[0;34m]\u001b[0m\u001b[0;34m,\u001b[0m \u001b[0mself\u001b[0m\u001b[0;34m.\u001b[0m\u001b[0mdf\u001b[0m\u001b[0;34m[\u001b[0m\u001b[0;34m'i'\u001b[0m\u001b[0;34m]\u001b[0m\u001b[0;34m.\u001b[0m\u001b[0miloc\u001b[0m\u001b[0;34m[\u001b[0m\u001b[0midx\u001b[0m\u001b[0;34m]\u001b[0m\u001b[0;34m,\u001b[0m \u001b[0mself\u001b[0m\u001b[0;34m.\u001b[0m\u001b[0mdf\u001b[0m\u001b[0;34m[\u001b[0m\u001b[0;34m'y'\u001b[0m\u001b[0;34m]\u001b[0m\u001b[0;34m.\u001b[0m\u001b[0miloc\u001b[0m\u001b[0;34m[\u001b[0m\u001b[0midx\u001b[0m\u001b[0;34m]\u001b[0m\u001b[0;34m\u001b[0m\u001b[0;34m\u001b[0m\u001b[0m\n\u001b[0m\u001b[1;32m     46\u001b[0m \u001b[0;34m\u001b[0m\u001b[0m\n\u001b[1;32m     47\u001b[0m     \u001b[0;32mdef\u001b[0m \u001b[0m__len__\u001b[0m\u001b[0;34m(\u001b[0m\u001b[0mself\u001b[0m\u001b[0;34m)\u001b[0m\u001b[0;34m:\u001b[0m\u001b[0;34m\u001b[0m\u001b[0;34m\u001b[0m\u001b[0m\n",
      "\u001b[0;32m~/opt/anaconda3/envs/dl_env/lib/python3.8/site-packages/pandas/core/frame.py\u001b[0m in \u001b[0;36m__getitem__\u001b[0;34m(self, key)\u001b[0m\n\u001b[1;32m   3469\u001b[0m             \u001b[0;31m# is_iterator to exclude generator e.g. test_getitem_listlike\u001b[0m\u001b[0;34m\u001b[0m\u001b[0;34m\u001b[0m\u001b[0;34m\u001b[0m\u001b[0m\n\u001b[1;32m   3470\u001b[0m             \u001b[0;31m# shortcut if the key is in columns\u001b[0m\u001b[0;34m\u001b[0m\u001b[0;34m\u001b[0m\u001b[0;34m\u001b[0m\u001b[0m\n\u001b[0;32m-> 3471\u001b[0;31m             \u001b[0;32mif\u001b[0m \u001b[0mself\u001b[0m\u001b[0;34m.\u001b[0m\u001b[0mcolumns\u001b[0m\u001b[0;34m.\u001b[0m\u001b[0mis_unique\u001b[0m \u001b[0;32mand\u001b[0m \u001b[0mkey\u001b[0m \u001b[0;32min\u001b[0m \u001b[0mself\u001b[0m\u001b[0;34m.\u001b[0m\u001b[0mcolumns\u001b[0m\u001b[0;34m:\u001b[0m\u001b[0;34m\u001b[0m\u001b[0;34m\u001b[0m\u001b[0m\n\u001b[0m\u001b[1;32m   3472\u001b[0m                 \u001b[0;32mif\u001b[0m \u001b[0misinstance\u001b[0m\u001b[0;34m(\u001b[0m\u001b[0mself\u001b[0m\u001b[0;34m.\u001b[0m\u001b[0mcolumns\u001b[0m\u001b[0;34m,\u001b[0m \u001b[0mMultiIndex\u001b[0m\u001b[0;34m)\u001b[0m\u001b[0;34m:\u001b[0m\u001b[0;34m\u001b[0m\u001b[0;34m\u001b[0m\u001b[0m\n\u001b[1;32m   3473\u001b[0m                     \u001b[0;32mreturn\u001b[0m \u001b[0mself\u001b[0m\u001b[0;34m.\u001b[0m\u001b[0m_getitem_multilevel\u001b[0m\u001b[0;34m(\u001b[0m\u001b[0mkey\u001b[0m\u001b[0;34m)\u001b[0m\u001b[0;34m\u001b[0m\u001b[0;34m\u001b[0m\u001b[0m\n",
      "\u001b[0;31mKeyboardInterrupt\u001b[0m: "
     ]
    }
   ],
   "source": [
    "start_epoch = 30\n",
    "end_epoch = 100\n",
    "\n",
    "for epoch_n in range(start_epoch, end_epoch):\n",
    "    start_time = time.time()\n",
    "    print(f\"Epoch {epoch_n+1}\\n-------------------------------\")\n",
    "    train_loss = pse_train_loop(pse_train_dl, pse_model, pse_loss, pse_optimizer, device, 5000)\n",
    "    val_loss = pse_test_loop(pse_val_dl, pse_model, pse_loss, device, 500)\n",
    "    print(\"--- %s seconds ---\" % (time.time() - start_time))\n",
    "    \n",
    "    pse_loss_d['epoch'].append(epoch_n)\n",
    "    pse_loss_d['train'].append(train_loss)\n",
    "    pse_loss_d['val'].append(val_loss)\n",
    "    if epoch_n % 3 == 0:\n",
    "        torch.save(pse_model.state_dict(), pse_save_path)\n",
    "        pd.DataFrame(pse_loss_d).to_csv(pse_loss_save_path, index=False)\n",
    "torch.save(pse_model.state_dict(), pse_save_path)\n",
    "pd.DataFrame(pse_loss_d).to_csv(pse_loss_save_path, index=False)"
   ]
  },
  {
   "cell_type": "markdown",
   "metadata": {},
   "source": [
    "Avaliacao P_S"
   ]
  },
  {
   "cell_type": "code",
   "execution_count": 623,
   "metadata": {},
   "outputs": [
    {
     "data": {
      "text/plain": [
       "(0.0, 3.5)"
      ]
     },
     "execution_count": 623,
     "metadata": {},
     "output_type": "execute_result"
    },
    {
     "data": {
      "image/png": "[encoded data removed]",
      "text/plain": [
       "<Figure size 432x288 with 1 Axes>"
      ]
     },
     "metadata": {
      "needs_background": "light"
     },
     "output_type": "display_data"
    }
   ],
   "source": [
    "import seaborn as sns\n",
    "df_model_loss = pd.DataFrame(pse_loss_d)\n",
    "aux_df = pd.DataFrame(index=df_model_loss.index)\n",
    "aux_df['Época'] = df_model_loss['epoch']\n",
    "aux_df['Treino'] = df_model_loss['train']\n",
    "aux_df['Validação'] = df_model_loss['val']\n",
    "aux_df = aux_df.set_index('Época')\n",
    "ax = sns.lineplot(data=aux_df, dashes=False)\n",
    "ax.set(xlabel='Época', ylabel='Loss')\n",
    "ax.set_ylim([0.0, 3.5])"
   ]
  },
  {
   "cell_type": "code",
   "execution_count": 615,
   "metadata": {},
   "outputs": [],
   "source": [
    "def pse_test_loop_scores(dataloader, model, loss_fn, device, max_batch):\n",
    "    size = len(dataloader.dataset)\n",
    "    num_samples = 0\n",
    "    test_loss, correct = 0, 0\n",
    "    score_l = []\n",
    "    y_l = []\n",
    "\n",
    "    with torch.no_grad():\n",
    "        for batch, (u, it, y) in enumerate(dataloader):\n",
    "            if batch >= max_batch: break\n",
    "            u, it, y = u.to(device), it.to(device), y.to(device)\n",
    "            batch_sz = u.size(0)\n",
    "        \n",
    "            beta = torch.randn(batch_sz).to(device)\n",
    "            out = model(u, it, beta)\n",
    "            \n",
    "            score_l += [o.item() for o in out]\n",
    "            y_l += [o.item() for o in y]\n",
    "            \n",
    "            test_loss += loss_fn(out, y.float()).item()\n",
    "            num_samples += batch_sz\n",
    "\n",
    "    print(f\"Test Error: Avg loss: {(test_loss/num_samples):>8f} \\n\")\n",
    "    return test_loss / num_samples, score_l, y_l"
   ]
  },
  {
   "cell_type": "code",
   "execution_count": 621,
   "metadata": {},
   "outputs": [
    {
     "name": "stdout",
     "output_type": "stream",
     "text": [
      "Test Error: Avg loss: 1.588334 \n",
      "\n"
     ]
    },
    {
     "data": {
      "text/plain": [
       "0.6112007417207855"
      ]
     },
     "execution_count": 621,
     "metadata": {},
     "output_type": "execute_result"
    }
   ],
   "source": [
    "val_loss, score_l, y_l = pse_test_loop_scores(pse_val_dl, pse_model, pse_loss, device, 1000)\n",
    "true_y = y_l\n",
    "pred_y = score_l\n",
    "roc_auc_score(true_y, pred_y)"
   ]
  },
  {
   "cell_type": "code",
   "execution_count": 616,
   "metadata": {},
   "outputs": [
    {
     "name": "stdout",
     "output_type": "stream",
     "text": [
      "Test Error: Avg loss: 0.010116 \n",
      "\n"
     ]
    },
    {
     "data": {
      "text/plain": [
       "0.6400414442865919"
      ]
     },
     "execution_count": 616,
     "metadata": {},
     "output_type": "execute_result"
    }
   ],
   "source": [
    "val_loss, score_l, y_l = pse_test_loop_scores(pse_val_dl, pse_model, pse_loss, device, 1000)\n",
    "true_y = y_l\n",
    "pred_y = score_l\n",
    "roc_auc_score(true_y, pred_y)"
   ]
  },
  {
   "cell_type": "code",
   "execution_count": 617,
   "metadata": {},
   "outputs": [
    {
     "data": {
      "image/png": "[encoded data removed]",
      "text/plain": [
       "<Figure size 432x288 with 1 Axes>"
      ]
     },
     "metadata": {
      "needs_background": "light"
     },
     "output_type": "display_data"
    }
   ],
   "source": [
    "import sklearn.metrics as metrics\n",
    "# calculate the fpr and tpr for all thresholds of the classification\n",
    "fpr, tpr, threshold = metrics.roc_curve(true_y, pred_y)\n",
    "roc_auc = metrics.auc(fpr, tpr)\n",
    "\n",
    "# method I: plt\n",
    "import matplotlib.pyplot as plt\n",
    "plt.title('Receiver Operating Characteristic')\n",
    "plt.plot(fpr, tpr, 'b', label = 'AUC = %0.2f' % roc_auc)\n",
    "plt.legend(loc = 'lower right')\n",
    "plt.plot([0, 1], [0, 1],'r--')\n",
    "plt.xlim([0, 1])\n",
    "plt.ylim([0, 1])\n",
    "plt.ylabel('True Positive Rate')\n",
    "plt.xlabel('False Positive Rate')\n",
    "plt.show()"
   ]
  },
  {
   "cell_type": "code",
   "execution_count": 591,
   "metadata": {},
   "outputs": [],
   "source": [
    "tst_df = pd.DataFrame(df_d)"
   ]
  },
  {
   "cell_type": "code",
   "execution_count": 592,
   "metadata": {},
   "outputs": [
    {
     "data": {
      "text/plain": [
       "0    4150785\n",
       "1     202003\n",
       "Name: y, dtype: int64"
      ]
     },
     "execution_count": 592,
     "metadata": {},
     "output_type": "execute_result"
    }
   ],
   "source": [
    "tst_df['y'].value_counts()"
   ]
  },
  {
   "cell_type": "code",
   "execution_count": null,
   "metadata": {},
   "outputs": [],
   "source": [
    "4150785 / 202003 #20.54813542373133"
   ]
  }
 ],
 "metadata": {
  "colab": {
   "provenance": []
  },
  "gpuClass": "standard",
  "kernelspec": {
   "display_name": "Python 3 (ipykernel)",
   "language": "python",
   "name": "python3"
  },
  "language_info": {
   "codemirror_mode": {
    "name": "ipython",
    "version": 3
   },
   "file_extension": ".py",
   "mimetype": "text/x-python",
   "name": "python",
   "nbconvert_exporter": "python",
   "pygments_lexer": "ipython3",
   "version": "3.8.12"
  }
 },
 "nbformat": 4,
 "nbformat_minor": 1
}
